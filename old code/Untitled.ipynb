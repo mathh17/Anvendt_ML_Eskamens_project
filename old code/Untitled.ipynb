{
 "cells": [
  {
   "cell_type": "code",
   "execution_count": null,
   "id": "3a4961ee-4196-4016-bbbe-dc54e2d1f9a6",
   "metadata": {},
   "outputs": [],
   "source": [
    "import pandas as pd"
   ]
  },
  {
   "cell_type": "code",
   "execution_count": null,
   "id": "738259b5-e6c4-4d6c-819d-0502e5c6ac30",
   "metadata": {},
   "outputs": [],
   "source": [
    "df = pd.read_csv('D:\\DS807_exam\\Kaggle_data\\DIDA_12000_String_Digit_Labels.csv', \n",
    "                 header = None, \n",
    "                 names=[\"index\", \"string\"])\n",
    "                 \n",
    "               "
   ]
  },
  {
   "cell_type": "code",
   "execution_count": null,
   "id": "9886e360-e2b5-403f-9948-4bb990a3fea5",
   "metadata": {},
   "outputs": [],
   "source": [
    "df = df.astype(str)\n",
    "df"
   ]
  }
 ],
 "metadata": {
  "kernelspec": {
   "display_name": "Python 3 (ipykernel)",
   "language": "python",
   "name": "python3"
  },
  "language_info": {
   "codemirror_mode": {
    "name": "ipython",
    "version": 3
   },
   "file_extension": ".py",
   "mimetype": "text/x-python",
   "name": "python",
   "nbconvert_exporter": "python",
   "pygments_lexer": "ipython3",
   "version": "3.9.7"
  }
 },
 "nbformat": 4,
 "nbformat_minor": 5
}
