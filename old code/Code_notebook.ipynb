{
 "cells": [
  {
   "cell_type": "code",
   "execution_count": 1,
   "id": "9b8fa685",
   "metadata": {},
   "outputs": [
    {
     "name": "stderr",
     "output_type": "stream",
     "text": [
      "'conda' is not recognized as an internal or external command,\n",
      "operable program or batch file.\n"
     ]
    }
   ],
   "source": [
    "!conda activate asl"
   ]
  },
  {
   "cell_type": "markdown",
   "id": "3216d5e9",
   "metadata": {},
   "source": [
    "# Exam DS807"
   ]
  },
  {
   "cell_type": "markdown",
   "id": "1b7b7fa5",
   "metadata": {
    "tags": []
   },
   "source": [
    "## Preparation of data"
   ]
  },
  {
   "cell_type": "markdown",
   "id": "0ee899e2",
   "metadata": {
    "tags": []
   },
   "source": [
    "### Labeling Data and converting images to array values"
   ]
  },
  {
   "cell_type": "code",
   "execution_count": 2,
   "id": "fc9955f4",
   "metadata": {
    "tags": []
   },
   "outputs": [
    {
     "ename": "AttributeError",
     "evalue": "module 'keras.utils.generic_utils' has no attribute 'populate_dict_with_module_objects'",
     "output_type": "error",
     "traceback": [
      "\u001b[1;31m---------------------------------------------------------------------------\u001b[0m",
      "\u001b[1;31mAttributeError\u001b[0m                            Traceback (most recent call last)",
      "\u001b[1;32m~\\AppData\\Local\\Temp/ipykernel_7560/2864029997.py\u001b[0m in \u001b[0;36m<module>\u001b[1;34m\u001b[0m\n\u001b[0;32m      3\u001b[0m \u001b[1;32mimport\u001b[0m \u001b[0mnumpy\u001b[0m \u001b[1;32mas\u001b[0m \u001b[0mnp\u001b[0m\u001b[1;33m\u001b[0m\u001b[1;33m\u001b[0m\u001b[0m\n\u001b[0;32m      4\u001b[0m \u001b[1;32mimport\u001b[0m \u001b[0mos\u001b[0m\u001b[1;33m\u001b[0m\u001b[1;33m\u001b[0m\u001b[0m\n\u001b[1;32m----> 5\u001b[1;33m \u001b[1;32mfrom\u001b[0m \u001b[0mtensorflow\u001b[0m\u001b[1;33m.\u001b[0m\u001b[0mkeras\u001b[0m\u001b[1;33m.\u001b[0m\u001b[0mpreprocessing\u001b[0m\u001b[1;33m.\u001b[0m\u001b[0mimage\u001b[0m \u001b[1;32mimport\u001b[0m \u001b[0mload_img\u001b[0m\u001b[1;33m\u001b[0m\u001b[1;33m\u001b[0m\u001b[0m\n\u001b[0m\u001b[0;32m      6\u001b[0m \u001b[1;32mfrom\u001b[0m \u001b[0mtensorflow\u001b[0m\u001b[1;33m.\u001b[0m\u001b[0mkeras\u001b[0m\u001b[1;33m.\u001b[0m\u001b[0mpreprocessing\u001b[0m\u001b[1;33m.\u001b[0m\u001b[0mimage\u001b[0m \u001b[1;32mimport\u001b[0m \u001b[0mimg_to_array\u001b[0m\u001b[1;33m\u001b[0m\u001b[1;33m\u001b[0m\u001b[0m\n\u001b[0;32m      7\u001b[0m \u001b[1;32mfrom\u001b[0m \u001b[0mnumpy\u001b[0m \u001b[1;32mimport\u001b[0m \u001b[0masarray\u001b[0m\u001b[1;33m\u001b[0m\u001b[1;33m\u001b[0m\u001b[0m\n",
      "\u001b[1;32m~\\anaconda3\\envs\\aml\\lib\\site-packages\\keras\\api\\_v2\\keras\\__init__.py\u001b[0m in \u001b[0;36m<module>\u001b[1;34m\u001b[0m\n\u001b[0;32m      8\u001b[0m \u001b[1;32mimport\u001b[0m \u001b[0msys\u001b[0m \u001b[1;32mas\u001b[0m \u001b[0m_sys\u001b[0m\u001b[1;33m\u001b[0m\u001b[1;33m\u001b[0m\u001b[0m\n\u001b[0;32m      9\u001b[0m \u001b[1;33m\u001b[0m\u001b[0m\n\u001b[1;32m---> 10\u001b[1;33m \u001b[1;32mfrom\u001b[0m \u001b[0mkeras\u001b[0m \u001b[1;32mimport\u001b[0m \u001b[0m__version__\u001b[0m\u001b[1;33m\u001b[0m\u001b[1;33m\u001b[0m\u001b[0m\n\u001b[0m\u001b[0;32m     11\u001b[0m \u001b[1;32mfrom\u001b[0m \u001b[0mkeras\u001b[0m\u001b[1;33m.\u001b[0m\u001b[0mapi\u001b[0m\u001b[1;33m.\u001b[0m\u001b[0m_v2\u001b[0m\u001b[1;33m.\u001b[0m\u001b[0mkeras\u001b[0m \u001b[1;32mimport\u001b[0m \u001b[0m__internal__\u001b[0m\u001b[1;33m\u001b[0m\u001b[1;33m\u001b[0m\u001b[0m\n\u001b[0;32m     12\u001b[0m \u001b[1;32mfrom\u001b[0m \u001b[0mkeras\u001b[0m\u001b[1;33m.\u001b[0m\u001b[0mapi\u001b[0m\u001b[1;33m.\u001b[0m\u001b[0m_v2\u001b[0m\u001b[1;33m.\u001b[0m\u001b[0mkeras\u001b[0m \u001b[1;32mimport\u001b[0m \u001b[0mactivations\u001b[0m\u001b[1;33m\u001b[0m\u001b[1;33m\u001b[0m\u001b[0m\n",
      "\u001b[1;32m~\\anaconda3\\envs\\aml\\lib\\site-packages\\keras\\__init__.py\u001b[0m in \u001b[0;36m<module>\u001b[1;34m\u001b[0m\n\u001b[0;32m      1\u001b[0m \u001b[1;32mfrom\u001b[0m \u001b[0m__future__\u001b[0m \u001b[1;32mimport\u001b[0m \u001b[0mabsolute_import\u001b[0m\u001b[1;33m\u001b[0m\u001b[1;33m\u001b[0m\u001b[0m\n\u001b[0;32m      2\u001b[0m \u001b[1;33m\u001b[0m\u001b[0m\n\u001b[1;32m----> 3\u001b[1;33m \u001b[1;32mfrom\u001b[0m \u001b[1;33m.\u001b[0m \u001b[1;32mimport\u001b[0m \u001b[0mutils\u001b[0m\u001b[1;33m\u001b[0m\u001b[1;33m\u001b[0m\u001b[0m\n\u001b[0m\u001b[0;32m      4\u001b[0m \u001b[1;32mfrom\u001b[0m \u001b[1;33m.\u001b[0m \u001b[1;32mimport\u001b[0m \u001b[0mactivations\u001b[0m\u001b[1;33m\u001b[0m\u001b[1;33m\u001b[0m\u001b[0m\n\u001b[0;32m      5\u001b[0m \u001b[1;32mfrom\u001b[0m \u001b[1;33m.\u001b[0m \u001b[1;32mimport\u001b[0m \u001b[0mapplications\u001b[0m\u001b[1;33m\u001b[0m\u001b[1;33m\u001b[0m\u001b[0m\n",
      "\u001b[1;32m~\\anaconda3\\envs\\aml\\lib\\site-packages\\keras\\utils\\__init__.py\u001b[0m in \u001b[0;36m<module>\u001b[1;34m\u001b[0m\n\u001b[0;32m     24\u001b[0m \u001b[1;32mfrom\u001b[0m \u001b[1;33m.\u001b[0m\u001b[0mlayer_utils\u001b[0m \u001b[1;32mimport\u001b[0m \u001b[0mget_source_inputs\u001b[0m\u001b[1;33m\u001b[0m\u001b[1;33m\u001b[0m\u001b[0m\n\u001b[0;32m     25\u001b[0m \u001b[1;32mfrom\u001b[0m \u001b[1;33m.\u001b[0m\u001b[0mlayer_utils\u001b[0m \u001b[1;32mimport\u001b[0m \u001b[0mprint_summary\u001b[0m\u001b[1;33m\u001b[0m\u001b[1;33m\u001b[0m\u001b[0m\n\u001b[1;32m---> 26\u001b[1;33m \u001b[1;32mfrom\u001b[0m \u001b[1;33m.\u001b[0m\u001b[0mvis_utils\u001b[0m \u001b[1;32mimport\u001b[0m \u001b[0mmodel_to_dot\u001b[0m\u001b[1;33m\u001b[0m\u001b[1;33m\u001b[0m\u001b[0m\n\u001b[0m\u001b[0;32m     27\u001b[0m \u001b[1;32mfrom\u001b[0m \u001b[1;33m.\u001b[0m\u001b[0mvis_utils\u001b[0m \u001b[1;32mimport\u001b[0m \u001b[0mplot_model\u001b[0m\u001b[1;33m\u001b[0m\u001b[1;33m\u001b[0m\u001b[0m\n\u001b[0;32m     28\u001b[0m \u001b[1;32mfrom\u001b[0m \u001b[1;33m.\u001b[0m\u001b[0mnp_utils\u001b[0m \u001b[1;32mimport\u001b[0m \u001b[0mto_categorical\u001b[0m\u001b[1;33m\u001b[0m\u001b[1;33m\u001b[0m\u001b[0m\n",
      "\u001b[1;32m~\\anaconda3\\envs\\aml\\lib\\site-packages\\keras\\utils\\vis_utils.py\u001b[0m in \u001b[0;36m<module>\u001b[1;34m\u001b[0m\n\u001b[0;32m      5\u001b[0m \u001b[1;33m\u001b[0m\u001b[0m\n\u001b[0;32m      6\u001b[0m \u001b[1;32mimport\u001b[0m \u001b[0mos\u001b[0m\u001b[1;33m\u001b[0m\u001b[1;33m\u001b[0m\u001b[0m\n\u001b[1;32m----> 7\u001b[1;33m \u001b[1;32mfrom\u001b[0m \u001b[1;33m.\u001b[0m\u001b[1;33m.\u001b[0m\u001b[0mmodels\u001b[0m \u001b[1;32mimport\u001b[0m \u001b[0mModel\u001b[0m\u001b[1;33m\u001b[0m\u001b[1;33m\u001b[0m\u001b[0m\n\u001b[0m\u001b[0;32m      8\u001b[0m \u001b[1;32mfrom\u001b[0m \u001b[1;33m.\u001b[0m\u001b[1;33m.\u001b[0m\u001b[0mlayers\u001b[0m\u001b[1;33m.\u001b[0m\u001b[0mwrappers\u001b[0m \u001b[1;32mimport\u001b[0m \u001b[0mWrapper\u001b[0m\u001b[1;33m\u001b[0m\u001b[1;33m\u001b[0m\u001b[0m\n\u001b[0;32m      9\u001b[0m \u001b[1;33m\u001b[0m\u001b[0m\n",
      "\u001b[1;32m~\\anaconda3\\envs\\aml\\lib\\site-packages\\keras\\models.py\u001b[0m in \u001b[0;36m<module>\u001b[1;34m\u001b[0m\n\u001b[0;32m      8\u001b[0m \u001b[1;32mfrom\u001b[0m \u001b[1;33m.\u001b[0m\u001b[0mutils\u001b[0m\u001b[1;33m.\u001b[0m\u001b[0mgeneric_utils\u001b[0m \u001b[1;32mimport\u001b[0m \u001b[0mhas_arg\u001b[0m\u001b[1;33m\u001b[0m\u001b[1;33m\u001b[0m\u001b[0m\n\u001b[0;32m      9\u001b[0m \u001b[1;32mfrom\u001b[0m \u001b[1;33m.\u001b[0m\u001b[0mutils\u001b[0m\u001b[1;33m.\u001b[0m\u001b[0mgeneric_utils\u001b[0m \u001b[1;32mimport\u001b[0m \u001b[0mto_list\u001b[0m\u001b[1;33m\u001b[0m\u001b[1;33m\u001b[0m\u001b[0m\n\u001b[1;32m---> 10\u001b[1;33m \u001b[1;32mfrom\u001b[0m \u001b[1;33m.\u001b[0m\u001b[0mengine\u001b[0m\u001b[1;33m.\u001b[0m\u001b[0minput_layer\u001b[0m \u001b[1;32mimport\u001b[0m \u001b[0mInput\u001b[0m\u001b[1;33m\u001b[0m\u001b[1;33m\u001b[0m\u001b[0m\n\u001b[0m\u001b[0;32m     11\u001b[0m \u001b[1;32mfrom\u001b[0m \u001b[1;33m.\u001b[0m\u001b[0mengine\u001b[0m\u001b[1;33m.\u001b[0m\u001b[0minput_layer\u001b[0m \u001b[1;32mimport\u001b[0m \u001b[0mInputLayer\u001b[0m\u001b[1;33m\u001b[0m\u001b[1;33m\u001b[0m\u001b[0m\n\u001b[0;32m     12\u001b[0m \u001b[1;32mfrom\u001b[0m \u001b[1;33m.\u001b[0m\u001b[0mengine\u001b[0m\u001b[1;33m.\u001b[0m\u001b[0mtraining\u001b[0m \u001b[1;32mimport\u001b[0m \u001b[0mModel\u001b[0m\u001b[1;33m\u001b[0m\u001b[1;33m\u001b[0m\u001b[0m\n",
      "\u001b[1;32m~\\anaconda3\\envs\\aml\\lib\\site-packages\\keras\\engine\\__init__.py\u001b[0m in \u001b[0;36m<module>\u001b[1;34m\u001b[0m\n\u001b[0;32m      1\u001b[0m \u001b[1;31m# note: `Node` is an internal class,\u001b[0m\u001b[1;33m\u001b[0m\u001b[1;33m\u001b[0m\u001b[1;33m\u001b[0m\u001b[0m\n\u001b[0;32m      2\u001b[0m \u001b[1;31m# it isn't meant to be used by Keras users.\u001b[0m\u001b[1;33m\u001b[0m\u001b[1;33m\u001b[0m\u001b[1;33m\u001b[0m\u001b[0m\n\u001b[1;32m----> 3\u001b[1;33m \u001b[1;32mfrom\u001b[0m \u001b[1;33m.\u001b[0m\u001b[0minput_layer\u001b[0m \u001b[1;32mimport\u001b[0m \u001b[0mInput\u001b[0m\u001b[1;33m\u001b[0m\u001b[1;33m\u001b[0m\u001b[0m\n\u001b[0m\u001b[0;32m      4\u001b[0m \u001b[1;32mfrom\u001b[0m \u001b[1;33m.\u001b[0m\u001b[0minput_layer\u001b[0m \u001b[1;32mimport\u001b[0m \u001b[0mInputLayer\u001b[0m\u001b[1;33m\u001b[0m\u001b[1;33m\u001b[0m\u001b[0m\n\u001b[0;32m      5\u001b[0m \u001b[1;32mfrom\u001b[0m \u001b[1;33m.\u001b[0m\u001b[0mbase_layer\u001b[0m \u001b[1;32mimport\u001b[0m \u001b[0mInputSpec\u001b[0m\u001b[1;33m\u001b[0m\u001b[1;33m\u001b[0m\u001b[0m\n",
      "\u001b[1;32m~\\anaconda3\\envs\\aml\\lib\\site-packages\\keras\\engine\\input_layer.py\u001b[0m in \u001b[0;36m<module>\u001b[1;34m\u001b[0m\n\u001b[0;32m      5\u001b[0m \u001b[1;32mfrom\u001b[0m \u001b[0m__future__\u001b[0m \u001b[1;32mimport\u001b[0m \u001b[0mdivision\u001b[0m\u001b[1;33m\u001b[0m\u001b[1;33m\u001b[0m\u001b[0m\n\u001b[0;32m      6\u001b[0m \u001b[1;33m\u001b[0m\u001b[0m\n\u001b[1;32m----> 7\u001b[1;33m \u001b[1;32mfrom\u001b[0m \u001b[1;33m.\u001b[0m\u001b[0mbase_layer\u001b[0m \u001b[1;32mimport\u001b[0m \u001b[0mLayer\u001b[0m\u001b[1;33m\u001b[0m\u001b[1;33m\u001b[0m\u001b[0m\n\u001b[0m\u001b[0;32m      8\u001b[0m \u001b[1;32mfrom\u001b[0m \u001b[1;33m.\u001b[0m\u001b[0mbase_layer\u001b[0m \u001b[1;32mimport\u001b[0m \u001b[0mNode\u001b[0m\u001b[1;33m\u001b[0m\u001b[1;33m\u001b[0m\u001b[0m\n\u001b[0;32m      9\u001b[0m \u001b[1;32mfrom\u001b[0m \u001b[1;33m.\u001b[0m\u001b[1;33m.\u001b[0m \u001b[1;32mimport\u001b[0m \u001b[0mbackend\u001b[0m \u001b[1;32mas\u001b[0m \u001b[0mK\u001b[0m\u001b[1;33m\u001b[0m\u001b[1;33m\u001b[0m\u001b[0m\n",
      "\u001b[1;32m~\\anaconda3\\envs\\aml\\lib\\site-packages\\keras\\engine\\base_layer.py\u001b[0m in \u001b[0;36m<module>\u001b[1;34m\u001b[0m\n\u001b[0;32m     10\u001b[0m \u001b[1;33m\u001b[0m\u001b[0m\n\u001b[0;32m     11\u001b[0m \u001b[1;32mfrom\u001b[0m \u001b[1;33m.\u001b[0m\u001b[1;33m.\u001b[0m \u001b[1;32mimport\u001b[0m \u001b[0mbackend\u001b[0m \u001b[1;32mas\u001b[0m \u001b[0mK\u001b[0m\u001b[1;33m\u001b[0m\u001b[1;33m\u001b[0m\u001b[0m\n\u001b[1;32m---> 12\u001b[1;33m \u001b[1;32mfrom\u001b[0m \u001b[1;33m.\u001b[0m\u001b[1;33m.\u001b[0m \u001b[1;32mimport\u001b[0m \u001b[0minitializers\u001b[0m\u001b[1;33m\u001b[0m\u001b[1;33m\u001b[0m\u001b[0m\n\u001b[0m\u001b[0;32m     13\u001b[0m \u001b[1;32mfrom\u001b[0m \u001b[1;33m.\u001b[0m\u001b[1;33m.\u001b[0m\u001b[0mutils\u001b[0m\u001b[1;33m.\u001b[0m\u001b[0mlayer_utils\u001b[0m \u001b[1;32mimport\u001b[0m \u001b[0mcount_params\u001b[0m\u001b[1;33m\u001b[0m\u001b[1;33m\u001b[0m\u001b[0m\n\u001b[0;32m     14\u001b[0m \u001b[1;32mfrom\u001b[0m \u001b[1;33m.\u001b[0m\u001b[1;33m.\u001b[0m\u001b[0mutils\u001b[0m\u001b[1;33m.\u001b[0m\u001b[0mgeneric_utils\u001b[0m \u001b[1;32mimport\u001b[0m \u001b[0mhas_arg\u001b[0m\u001b[1;33m\u001b[0m\u001b[1;33m\u001b[0m\u001b[0m\n",
      "\u001b[1;32m~\\anaconda3\\envs\\aml\\lib\\site-packages\\keras\\initializers\\__init__.py\u001b[0m in \u001b[0;36m<module>\u001b[1;34m\u001b[0m\n\u001b[0;32m    122\u001b[0m \u001b[1;31m# from ALL_OBJECTS. We make no guarantees as to whether these objects will\u001b[0m\u001b[1;33m\u001b[0m\u001b[1;33m\u001b[0m\u001b[1;33m\u001b[0m\u001b[0m\n\u001b[0;32m    123\u001b[0m \u001b[1;31m# using their correct version.\u001b[0m\u001b[1;33m\u001b[0m\u001b[1;33m\u001b[0m\u001b[1;33m\u001b[0m\u001b[0m\n\u001b[1;32m--> 124\u001b[1;33m \u001b[0mpopulate_deserializable_objects\u001b[0m\u001b[1;33m(\u001b[0m\u001b[1;33m)\u001b[0m\u001b[1;33m\u001b[0m\u001b[1;33m\u001b[0m\u001b[0m\n\u001b[0m\u001b[0;32m    125\u001b[0m \u001b[0mglobals\u001b[0m\u001b[1;33m(\u001b[0m\u001b[1;33m)\u001b[0m\u001b[1;33m.\u001b[0m\u001b[0mupdate\u001b[0m\u001b[1;33m(\u001b[0m\u001b[0mLOCAL\u001b[0m\u001b[1;33m.\u001b[0m\u001b[0mALL_OBJECTS\u001b[0m\u001b[1;33m)\u001b[0m\u001b[1;33m\u001b[0m\u001b[1;33m\u001b[0m\u001b[0m\n\u001b[0;32m    126\u001b[0m \u001b[1;33m\u001b[0m\u001b[0m\n",
      "\u001b[1;32m~\\anaconda3\\envs\\aml\\lib\\site-packages\\keras\\initializers\\__init__.py\u001b[0m in \u001b[0;36mpopulate_deserializable_objects\u001b[1;34m()\u001b[0m\n\u001b[0;32m     80\u001b[0m     \u001b[0mv2_objs\u001b[0m \u001b[1;33m=\u001b[0m \u001b[1;33m{\u001b[0m\u001b[1;33m}\u001b[0m\u001b[1;33m\u001b[0m\u001b[1;33m\u001b[0m\u001b[0m\n\u001b[0;32m     81\u001b[0m     \u001b[0mbase_cls\u001b[0m \u001b[1;33m=\u001b[0m \u001b[0minitializers_v2\u001b[0m\u001b[1;33m.\u001b[0m\u001b[0mInitializer\u001b[0m\u001b[1;33m\u001b[0m\u001b[1;33m\u001b[0m\u001b[0m\n\u001b[1;32m---> 82\u001b[1;33m     generic_utils.populate_dict_with_module_objects(\n\u001b[0m\u001b[0;32m     83\u001b[0m         \u001b[0mv2_objs\u001b[0m\u001b[1;33m,\u001b[0m\u001b[1;33m\u001b[0m\u001b[1;33m\u001b[0m\u001b[0m\n\u001b[0;32m     84\u001b[0m         \u001b[1;33m[\u001b[0m\u001b[0minitializers_v2\u001b[0m\u001b[1;33m]\u001b[0m\u001b[1;33m,\u001b[0m\u001b[1;33m\u001b[0m\u001b[1;33m\u001b[0m\u001b[0m\n",
      "\u001b[1;31mAttributeError\u001b[0m: module 'keras.utils.generic_utils' has no attribute 'populate_dict_with_module_objects'"
     ]
    }
   ],
   "source": [
    "#import packages for labelling and converting imagery data\n",
    "import pandas as pd\n",
    "import numpy as np\n",
    "import os\n",
    "from tensorflow.keras.preprocessing.image import load_img\n",
    "from tensorflow.keras.preprocessing.image import img_to_array\n",
    "from numpy import asarray\n",
    "from sklearn import svm\n",
    "from sklearn.metrics import accuracy_score\n",
    "from catboost import CatBoostClassifier"
   ]
  },
  {
   "cell_type": "code",
   "execution_count": null,
   "id": "546e20b7-8691-4fee-b8fd-8abeb6d9c958",
   "metadata": {},
   "outputs": [],
   "source": [
    "!pip install tensorflow --upgrade\n"
   ]
  },
  {
   "cell_type": "code",
   "execution_count": 7,
   "id": "2b259525",
   "metadata": {
    "tags": []
   },
   "outputs": [],
   "source": [
    "##############\n",
    "# Func for creating 1D image arrays\n",
    "\n",
    "def load_image_function(path):\n",
    "    images = [] # empty list placeholder\n",
    "    labels = [] # empty list placeholder\n",
    "    container = [] # container to validate correct labels\n",
    "    for filename in os.listdir(path):\n",
    "        container.append(filename) # add filename to container     \n",
    "        CCDY_img = load_img(path + f'/{filename}', target_size = (56, 106),\n",
    "        color_mode=\"grayscale\")                  \n",
    "        CCDY_img = img_to_array(CCDY_img)\n",
    "        images.append(CCDY_img) # append the photo to the images. The images list contains a list of arrays       \n",
    "    return asarray(images), container; # not interested in list of arrays, but array containing lists. Asarray does this. Returns three arrays\n"
   ]
  },
  {
   "cell_type": "code",
   "execution_count": 8,
   "id": "91759201",
   "metadata": {
    "tags": []
   },
   "outputs": [],
   "source": [
    "################\n",
    "# Func for creating df with classes and 3d img arrays\n",
    "\n",
    "def load_img_data ():\n",
    "    # Start: creatign classes ons string_digits\n",
    "    # load string digits\n",
    "\n",
    "    #os.chdir(path_string_digits)\n",
    "\n",
    "    string_digits = pd.read_csv('DIDA_12000_String_Digit_Labels.csv', \n",
    "                 header = None, \n",
    "                 names=[\"index\", \"string\"])\n",
    "    # create empty class columns\n",
    "    string_digits['CC'] = 0\n",
    "    string_digits['D'] = 0\n",
    "    string_digits['Y'] = 0\n",
    "    string_digits = string_digits.astype(str)\n",
    "    # Iterate string digits and append classes\n",
    "    for i, row in string_digits.iterrows():\n",
    "        if len(row['string']) != 4:\n",
    "            row['CC'] = '1'\n",
    "            row['D'] = '10'\n",
    "            row['Y'] = '10'\n",
    "        else:\n",
    "            row['D'] = row['string'][2]\n",
    "            row['Y'] = row['string'][3]\n",
    "            if row['string'][0:2] == '18':\n",
    "                row['CC']='0'\n",
    "            else:\n",
    "                row['CC']='1'\n",
    "    # End of class labeling on string_digits.\n",
    "    #\n",
    "    # Start: create img_df containing scaled images as 1D tensors\n",
    "    # Convert imagery to 1D arrays with tagged file names\n",
    "\n",
    "    #os.chdir(path_images)\n",
    "    image_array, filename = load_image_function('DIDA_12000_String_Digit_Images/DIDA_1')\n",
    "\n",
    "    # and convert to a img_df\n",
    "    img_df = pd.DataFrame({'filename': filename, 'img_value': list(image_array)}, \n",
    "                          columns=['filename', 'img_value'])\n",
    "    # Create proper index value in img_df to allow merge on string_digits\n",
    "    img_df['index'] = img_df['filename']\n",
    "    for i, row in img_df.iterrows():\n",
    "        row['index'] = str(img_df['index'][i]).split('.')[0]\n",
    "    img_df\n",
    "    # End of creating img_df\n",
    "    #\n",
    "    # Start: merge img_df with string_digits\n",
    "    # match index type on dataframes to merge\n",
    "    string_digits['index'] = string_digits['index'].astype(int)\n",
    "    img_df['index'] = img_df['index'].astype(int)\n",
    "    # Merge dataframes\n",
    "    df_img_classes = string_digits.merge(img_df)\n",
    "    # Rearrange order of dataframe\n",
    "    df_img_classes = df_img_classes.reindex(columns= ['index', 'string', 'CC', 'D', 'Y', 'img_value', 'filename'])\n",
    "    # End og merging data frames\n",
    "    return df_img_classes\n"
   ]
  },
  {
   "cell_type": "code",
   "execution_count": 9,
   "id": "4c4b5305",
   "metadata": {
    "tags": []
   },
   "outputs": [
    {
     "data": {
      "text/html": [
       "<div>\n",
       "<style scoped>\n",
       "    .dataframe tbody tr th:only-of-type {\n",
       "        vertical-align: middle;\n",
       "    }\n",
       "\n",
       "    .dataframe tbody tr th {\n",
       "        vertical-align: top;\n",
       "    }\n",
       "\n",
       "    .dataframe thead th {\n",
       "        text-align: right;\n",
       "    }\n",
       "</style>\n",
       "<table border=\"1\" class=\"dataframe\">\n",
       "  <thead>\n",
       "    <tr style=\"text-align: right;\">\n",
       "      <th></th>\n",
       "      <th>index</th>\n",
       "      <th>string</th>\n",
       "      <th>CC</th>\n",
       "      <th>D</th>\n",
       "      <th>Y</th>\n",
       "      <th>img_value</th>\n",
       "      <th>filename</th>\n",
       "    </tr>\n",
       "  </thead>\n",
       "  <tbody>\n",
       "    <tr>\n",
       "      <th>0</th>\n",
       "      <td>6926</td>\n",
       "      <td>1828</td>\n",
       "      <td>0</td>\n",
       "      <td>2</td>\n",
       "      <td>8</td>\n",
       "      <td>[[[119.0], [123.0], [116.0], [124.0], [123.0],...</td>\n",
       "      <td>6926.jpg</td>\n",
       "    </tr>\n",
       "    <tr>\n",
       "      <th>1</th>\n",
       "      <td>926</td>\n",
       "      <td>1838</td>\n",
       "      <td>0</td>\n",
       "      <td>3</td>\n",
       "      <td>8</td>\n",
       "      <td>[[[108.0], [110.0], [113.0], [112.0], [110.0],...</td>\n",
       "      <td>926.jpg</td>\n",
       "    </tr>\n",
       "    <tr>\n",
       "      <th>2</th>\n",
       "      <td>2428</td>\n",
       "      <td>1818</td>\n",
       "      <td>0</td>\n",
       "      <td>1</td>\n",
       "      <td>8</td>\n",
       "      <td>[[[127.0], [124.0], [126.0], [125.0], [128.0],...</td>\n",
       "      <td>2428.jpg</td>\n",
       "    </tr>\n",
       "    <tr>\n",
       "      <th>3</th>\n",
       "      <td>710</td>\n",
       "      <td>1800</td>\n",
       "      <td>0</td>\n",
       "      <td>0</td>\n",
       "      <td>0</td>\n",
       "      <td>[[[140.0], [138.0], [140.0], [141.0], [137.0],...</td>\n",
       "      <td>710.jpg</td>\n",
       "    </tr>\n",
       "    <tr>\n",
       "      <th>4</th>\n",
       "      <td>6470</td>\n",
       "      <td>1839</td>\n",
       "      <td>0</td>\n",
       "      <td>3</td>\n",
       "      <td>9</td>\n",
       "      <td>[[[137.0], [138.0], [139.0], [134.0], [136.0],...</td>\n",
       "      <td>6470.jpg</td>\n",
       "    </tr>\n",
       "    <tr>\n",
       "      <th>...</th>\n",
       "      <td>...</td>\n",
       "      <td>...</td>\n",
       "      <td>...</td>\n",
       "      <td>...</td>\n",
       "      <td>...</td>\n",
       "      <td>...</td>\n",
       "      <td>...</td>\n",
       "    </tr>\n",
       "    <tr>\n",
       "      <th>11995</th>\n",
       "      <td>10150</td>\n",
       "      <td>1806</td>\n",
       "      <td>0</td>\n",
       "      <td>0</td>\n",
       "      <td>6</td>\n",
       "      <td>[[[165.0], [164.0], [163.0], [162.0], [163.0],...</td>\n",
       "      <td>10150.jpg</td>\n",
       "    </tr>\n",
       "    <tr>\n",
       "      <th>11996</th>\n",
       "      <td>4300</td>\n",
       "      <td>1825</td>\n",
       "      <td>0</td>\n",
       "      <td>2</td>\n",
       "      <td>5</td>\n",
       "      <td>[[[218.0], [218.0], [218.0], [220.0], [220.0],...</td>\n",
       "      <td>4300.jpg</td>\n",
       "    </tr>\n",
       "    <tr>\n",
       "      <th>11997</th>\n",
       "      <td>8296</td>\n",
       "      <td>1807</td>\n",
       "      <td>0</td>\n",
       "      <td>0</td>\n",
       "      <td>7</td>\n",
       "      <td>[[[159.0], [160.0], [161.0], [161.0], [162.0],...</td>\n",
       "      <td>8296.jpg</td>\n",
       "    </tr>\n",
       "    <tr>\n",
       "      <th>11998</th>\n",
       "      <td>4930</td>\n",
       "      <td>1819</td>\n",
       "      <td>0</td>\n",
       "      <td>0</td>\n",
       "      <td>1</td>\n",
       "      <td>9</td>\n",
       "      <td>[[[172.0], [169.0], [169.0], [172.0], [179.0],...</td>\n",
       "      <td>4930.jpg</td>\n",
       "    </tr>\n",
       "    <tr>\n",
       "      <th>11999</th>\n",
       "      <td>3360</td>\n",
       "      <td>1806</td>\n",
       "      <td>0</td>\n",
       "      <td>0</td>\n",
       "      <td>6</td>\n",
       "      <td>[[[141.0], [142.0], [142.0], [141.0], [140.0],...</td>\n",
       "      <td>3360.jpg</td>\n",
       "    </tr>\n",
       "  </tbody>\n",
       "</table>\n",
       "<p>12000 rows × 7 columns</p>\n",
       "</div>"
      ],
      "text/plain": [
       "       index string CC  D  Y  \\\n",
       "0       6926   1828  0  2  8   \n",
       "1        926   1838  0  3  8   \n",
       "2       2428   1818  0  1  8   \n",
       "3        710   1800  0  0  0   \n",
       "4       6470   1839  0  3  9   \n",
       "...      ...    ... .. .. ..   \n",
       "11995  10150   1806  0  0  6   \n",
       "11996   4300   1825  0  2  5   \n",
       "11997   8296   1807  0  0  7   \n",
       "11998   4930   1819  0  1  9   \n",
       "11999   3360   1806  0  0  6   \n",
       "\n",
       "                                               img_value   filename  \n",
       "0      [[[119.0], [123.0], [116.0], [124.0], [123.0],...   6926.jpg  \n",
       "1      [[[108.0], [110.0], [113.0], [112.0], [110.0],...    926.jpg  \n",
       "2      [[[127.0], [124.0], [126.0], [125.0], [128.0],...   2428.jpg  \n",
       "3      [[[140.0], [138.0], [140.0], [141.0], [137.0],...    710.jpg  \n",
       "4      [[[137.0], [138.0], [139.0], [134.0], [136.0],...   6470.jpg  \n",
       "...                                                  ...        ...  \n",
       "11995  [[[165.0], [164.0], [163.0], [162.0], [163.0],...  10150.jpg  \n",
       "11996  [[[218.0], [218.0], [218.0], [220.0], [220.0],...   4300.jpg  \n",
       "11997  [[[159.0], [160.0], [161.0], [161.0], [162.0],...   8296.jpg  \n",
       "11998  [[[172.0], [169.0], [169.0], [172.0], [179.0],...   4930.jpg  \n",
       "11999  [[[141.0], [142.0], [142.0], [141.0], [140.0],...   3360.jpg  \n",
       "\n",
       "[12000 rows x 7 columns]"
      ]
     },
     "execution_count": 9,
     "metadata": {},
     "output_type": "execute_result"
    }
   ],
   "source": [
    "#load data and shuffle them around\n",
    "df = load_img_data()\n",
    "df = df.sample(frac=1).reset_index(drop=True)\n",
    "df"
   ]
  },
  {
   "cell_type": "markdown",
   "id": "0a3c05e5",
   "metadata": {
    "tags": []
   },
   "source": [
    "### Defining fixed train, test and valdiation sets."
   ]
  },
  {
   "cell_type": "code",
   "execution_count": 10,
   "id": "322b7a4f",
   "metadata": {},
   "outputs": [],
   "source": [
    "df = df.drop(columns=['index','string','filename'])"
   ]
  },
  {
   "cell_type": "markdown",
   "id": "2f10fa62",
   "metadata": {
    "tags": []
   },
   "source": [
    "### Split train, val, test"
   ]
  },
  {
   "cell_type": "markdown",
   "id": "3ded130e",
   "metadata": {
    "tags": []
   },
   "source": [
    "#### Subsetting df"
   ]
  },
  {
   "cell_type": "code",
   "execution_count": 11,
   "id": "3014bfe8",
   "metadata": {
    "tags": []
   },
   "outputs": [],
   "source": [
    "x_train = df.loc[0:7679]\n",
    "x_val = df.loc[7680:9599]\n",
    "x_test = df.loc[9600:11999]"
   ]
  },
  {
   "cell_type": "markdown",
   "id": "8e905350",
   "metadata": {
    "tags": []
   },
   "source": [
    "#### Creating labels"
   ]
  },
  {
   "cell_type": "code",
   "execution_count": 12,
   "id": "ec9cccfe",
   "metadata": {
    "tags": []
   },
   "outputs": [],
   "source": [
    "#### training labels ###\n",
    "Y_train = x_train['Y']\n",
    "Y_train = Y_train.astype(np.uint8)\n",
    "D_train = x_train['D']\n",
    "D_train = D_train.astype(np.uint8)\n",
    "CC_train = x_train['CC']\n",
    "CC_train = CC_train.astype(np.uint8)\n",
    "\n",
    "#### validation labels ###\n",
    "Y_val = x_val['Y']\n",
    "Y_val = Y_val.astype(np.uint8)\n",
    "D_val = x_val['D']\n",
    "D_val = D_val.astype(np.uint8)\n",
    "CC_val = x_val['CC']\n",
    "CC_val = CC_val.astype(np.uint8)\n",
    "\n",
    "#### test labels ###\n",
    "Y_test = x_test['Y']\n",
    "Y_test = Y_test.astype(np.uint8)\n",
    "D_test = x_test['D']\n",
    "D_test = D_test.astype(np.uint8)\n",
    "CC_test = x_test['CC']\n",
    "CC_test = CC_test.astype(np.uint8)\n"
   ]
  },
  {
   "cell_type": "markdown",
   "id": "fbb48277",
   "metadata": {
    "tags": []
   },
   "source": [
    "#### Creating image values"
   ]
  },
  {
   "cell_type": "code",
   "execution_count": 13,
   "id": "7e455451",
   "metadata": {
    "tags": []
   },
   "outputs": [],
   "source": [
    "# train\n",
    "values = np.zeros(shape=(len(x_train),56,106,1))\n",
    "i = 0\n",
    "j = 0\n",
    "while i < len(x_train):\n",
    "    values[i] = x_train['img_value'][j]\n",
    "    i += 1\n",
    "    j+=1\n",
    "x_train = values/255\n",
    "\n",
    "# val\n",
    "values = np.zeros(shape=(len(x_val),56,106,1))\n",
    "i = 0\n",
    "j = 7680\n",
    "while i < len(x_val):\n",
    "    values[i] = x_val['img_value'][j]\n",
    "    i += 1\n",
    "    j+=1\n",
    "x_val = values/255\n",
    "\n",
    "# test\n",
    "values = np.zeros(shape=(len(x_test),56,106,1))\n",
    "i = 0\n",
    "j = 9600\n",
    "while i < len(x_test):\n",
    "    values[i] = x_test['img_value'][j]\n",
    "    i += 1\n",
    "    j+=1\n",
    "x_test = values/255\n"
   ]
  },
  {
   "cell_type": "markdown",
   "id": "95f9926f",
   "metadata": {
    "tags": []
   },
   "source": [
    "## Question 1"
   ]
  },
  {
   "cell_type": "markdown",
   "id": "55b1fc10",
   "metadata": {
    "tags": []
   },
   "source": [
    "### 1.2 Non-deeplearning CC-D-Y models"
   ]
  },
  {
   "cell_type": "code",
   "execution_count": 14,
   "id": "0e4760fc",
   "metadata": {},
   "outputs": [],
   "source": [
    "x_train_flat = x_train.reshape((len(x_train), -1))\n",
    "x_val_flat = x_val.reshape((len(x_val), -1))\n",
    "x_test_flat = x_test.reshape((len(x_test), -1))"
   ]
  },
  {
   "cell_type": "code",
   "execution_count": 24,
   "id": "ede4b281",
   "metadata": {},
   "outputs": [],
   "source": [
    "def score_calc(model,y_test,x_test):\n",
    "    score = 0.0\n",
    "    preds = model.predict(x_test)\n",
    "    i = 0\n",
    "    for row in y_test:\n",
    "        if str(row) == str(preds[i][0]):\n",
    "            score = score + (1/3)\n",
    "        i= i + 1\n",
    "    return score"
   ]
  },
  {
   "cell_type": "markdown",
   "id": "485c441a",
   "metadata": {
    "tags": []
   },
   "source": [
    "#### SVM, modelCC"
   ]
  },
  {
   "cell_type": "code",
   "execution_count": 15,
   "id": "ffa2957b",
   "metadata": {},
   "outputs": [
    {
     "name": "stdout",
     "output_type": "stream",
     "text": [
      "[0.9614583333333333, 'linear', 1, 'scale', 'ovr', None]\n",
      "[0.9614583333333333, 'linear', 1, 'scale', 'ovo', None]\n",
      "[0.9614583333333333, 'linear', 1, 'auto', 'ovr', None]\n",
      "[0.9614583333333333, 'linear', 1, 'auto', 'ovo', None]\n",
      "[0.9609375, 'linear', 2, 'scale', 'ovr', None]\n",
      "[0.9609375, 'linear', 2, 'scale', 'ovo', None]\n",
      "[0.9609375, 'linear', 2, 'auto', 'ovr', None]\n",
      "[0.9609375, 'linear', 2, 'auto', 'ovo', None]\n",
      "[0.9609375, 'linear', 3, 'scale', 'ovr', None]\n",
      "[0.9609375, 'linear', 3, 'scale', 'ovo', None]\n",
      "[0.9609375, 'linear', 3, 'auto', 'ovr', None]\n",
      "[0.9609375, 'linear', 3, 'auto', 'ovo', None]\n",
      "[0.9651041666666667, 'poly', 1, 'scale', 'ovr', None]\n",
      "[0.9651041666666667, 'poly', 1, 'scale', 'ovo', None]\n",
      "[0.9625, 'poly', 1, 'auto', 'ovr', None]\n",
      "[0.9625, 'poly', 1, 'auto', 'ovo', None]\n",
      "[0.9661458333333334, 'poly', 1, 'scale', 'ovr', None]\n",
      "[0.9661458333333334, 'poly', 1, 'scale', 'ovo', None]\n",
      "[0.9625, 'poly', 1, 'auto', 'ovr', None]\n",
      "[0.9625, 'poly', 1, 'auto', 'ovo', None]\n",
      "[0.9609375, 'poly', 1, 'scale', 'ovr', None]\n",
      "[0.9609375, 'poly', 1, 'scale', 'ovo', None]\n",
      "[0.9625, 'poly', 1, 'auto', 'ovr', None]\n",
      "[0.9625, 'poly', 1, 'auto', 'ovo', None]\n",
      "[0.9604166666666667, 'poly', 1, 'scale', 'ovr', None]\n",
      "[0.9604166666666667, 'poly', 1, 'scale', 'ovo', None]\n",
      "[0.9625, 'poly', 1, 'auto', 'ovr', None]\n",
      "[0.9625, 'poly', 1, 'auto', 'ovo', None]\n",
      "[0.96875, 'poly', 2, 'scale', 'ovr', None]\n",
      "[0.96875, 'poly', 2, 'scale', 'ovo', None]\n",
      "[0.9625, 'poly', 2, 'auto', 'ovr', None]\n",
      "[0.9625, 'poly', 2, 'auto', 'ovo', None]\n",
      "[0.965625, 'poly', 2, 'scale', 'ovr', None]\n",
      "[0.965625, 'poly', 2, 'scale', 'ovo', None]\n",
      "[0.9625, 'poly', 2, 'auto', 'ovr', None]\n",
      "[0.9625, 'poly', 2, 'auto', 'ovo', None]\n",
      "[0.9609375, 'poly', 2, 'scale', 'ovr', None]\n",
      "[0.9609375, 'poly', 2, 'scale', 'ovo', None]\n",
      "[0.9625, 'poly', 2, 'auto', 'ovr', None]\n",
      "[0.9625, 'poly', 2, 'auto', 'ovo', None]\n",
      "[0.9604166666666667, 'poly', 2, 'scale', 'ovr', None]\n",
      "[0.9604166666666667, 'poly', 2, 'scale', 'ovo', None]\n",
      "[0.9625, 'poly', 2, 'auto', 'ovr', None]\n",
      "[0.9625, 'poly', 2, 'auto', 'ovo', None]\n",
      "[0.9708333333333333, 'poly', 3, 'scale', 'ovr', None]\n",
      "[0.9708333333333333, 'poly', 3, 'scale', 'ovo', None]\n",
      "[0.9625, 'poly', 3, 'auto', 'ovr', None]\n",
      "[0.9625, 'poly', 3, 'auto', 'ovo', None]\n",
      "[0.9640625, 'poly', 3, 'scale', 'ovr', None]\n",
      "[0.9640625, 'poly', 3, 'scale', 'ovo', None]\n",
      "[0.9625, 'poly', 3, 'auto', 'ovr', None]\n",
      "[0.9625, 'poly', 3, 'auto', 'ovo', None]\n",
      "[0.9609375, 'poly', 3, 'scale', 'ovr', None]\n",
      "[0.9609375, 'poly', 3, 'scale', 'ovo', None]\n",
      "[0.9625, 'poly', 3, 'auto', 'ovr', None]\n",
      "[0.9625, 'poly', 3, 'auto', 'ovo', None]\n",
      "[0.9604166666666667, 'poly', 3, 'scale', 'ovr', None]\n",
      "[0.9604166666666667, 'poly', 3, 'scale', 'ovo', None]\n",
      "[0.9625, 'poly', 3, 'auto', 'ovr', None]\n",
      "[0.9625, 'poly', 3, 'auto', 'ovo', None]\n",
      "[0.9666666666666667, 'rbf', 1, 'scale', 'ovr', None]\n",
      "[0.9666666666666667, 'rbf', 1, 'scale', 'ovo', None]\n",
      "[0.9625, 'rbf', 1, 'auto', 'ovr', None]\n",
      "[0.9625, 'rbf', 1, 'auto', 'ovo', None]\n",
      "[0.971875, 'rbf', 2, 'scale', 'ovr', None]\n",
      "[0.971875, 'rbf', 2, 'scale', 'ovo', None]\n",
      "[0.9625, 'rbf', 2, 'auto', 'ovr', None]\n",
      "[0.9625, 'rbf', 2, 'auto', 'ovo', None]\n",
      "[0.9729166666666667, 'rbf', 3, 'scale', 'ovr', None]\n",
      "[0.9729166666666667, 'rbf', 3, 'scale', 'ovo', None]\n",
      "[0.9625, 'rbf', 3, 'auto', 'ovr', None]\n",
      "[0.9625, 'rbf', 3, 'auto', 'ovo', None]\n",
      "[0.9625, 'sigmoid', 1, 'scale', 'ovr', None]\n",
      "[0.9625, 'sigmoid', 1, 'scale', 'ovo', None]\n",
      "[0.9625, 'sigmoid', 1, 'auto', 'ovr', None]\n",
      "[0.9625, 'sigmoid', 1, 'auto', 'ovo', None]\n",
      "[0.9625, 'sigmoid', 2, 'scale', 'ovr', None]\n",
      "[0.9625, 'sigmoid', 2, 'scale', 'ovo', None]\n",
      "[0.9625, 'sigmoid', 2, 'auto', 'ovr', None]\n",
      "[0.9625, 'sigmoid', 2, 'auto', 'ovo', None]\n",
      "[0.9625, 'sigmoid', 3, 'scale', 'ovr', None]\n",
      "[0.9625, 'sigmoid', 3, 'scale', 'ovo', None]\n",
      "[0.9625, 'sigmoid', 3, 'auto', 'ovr', None]\n",
      "[0.9625, 'sigmoid', 3, 'auto', 'ovo', None]\n"
     ]
    },
    {
     "data": {
      "text/html": [
       "<div>\n",
       "<style scoped>\n",
       "    .dataframe tbody tr th:only-of-type {\n",
       "        vertical-align: middle;\n",
       "    }\n",
       "\n",
       "    .dataframe tbody tr th {\n",
       "        vertical-align: top;\n",
       "    }\n",
       "\n",
       "    .dataframe thead th {\n",
       "        text-align: right;\n",
       "    }\n",
       "</style>\n",
       "<table border=\"1\" class=\"dataframe\">\n",
       "  <thead>\n",
       "    <tr style=\"text-align: right;\">\n",
       "      <th></th>\n",
       "      <th>Accuracy</th>\n",
       "      <th>Kernel</th>\n",
       "      <th>C</th>\n",
       "      <th>Gamma</th>\n",
       "      <th>Decision</th>\n",
       "      <th>Degree</th>\n",
       "    </tr>\n",
       "  </thead>\n",
       "  <tbody>\n",
       "    <tr>\n",
       "      <th>0</th>\n",
       "      <td>0.961458</td>\n",
       "      <td>linear</td>\n",
       "      <td>1</td>\n",
       "      <td>scale</td>\n",
       "      <td>ovr</td>\n",
       "      <td>NaN</td>\n",
       "    </tr>\n",
       "    <tr>\n",
       "      <th>1</th>\n",
       "      <td>0.961458</td>\n",
       "      <td>linear</td>\n",
       "      <td>1</td>\n",
       "      <td>scale</td>\n",
       "      <td>ovo</td>\n",
       "      <td>NaN</td>\n",
       "    </tr>\n",
       "    <tr>\n",
       "      <th>2</th>\n",
       "      <td>0.961458</td>\n",
       "      <td>linear</td>\n",
       "      <td>1</td>\n",
       "      <td>auto</td>\n",
       "      <td>ovr</td>\n",
       "      <td>NaN</td>\n",
       "    </tr>\n",
       "    <tr>\n",
       "      <th>3</th>\n",
       "      <td>0.961458</td>\n",
       "      <td>linear</td>\n",
       "      <td>1</td>\n",
       "      <td>auto</td>\n",
       "      <td>ovo</td>\n",
       "      <td>NaN</td>\n",
       "    </tr>\n",
       "    <tr>\n",
       "      <th>4</th>\n",
       "      <td>0.960938</td>\n",
       "      <td>linear</td>\n",
       "      <td>2</td>\n",
       "      <td>scale</td>\n",
       "      <td>ovr</td>\n",
       "      <td>NaN</td>\n",
       "    </tr>\n",
       "    <tr>\n",
       "      <th>...</th>\n",
       "      <td>...</td>\n",
       "      <td>...</td>\n",
       "      <td>...</td>\n",
       "      <td>...</td>\n",
       "      <td>...</td>\n",
       "      <td>...</td>\n",
       "    </tr>\n",
       "    <tr>\n",
       "      <th>79</th>\n",
       "      <td>0.962500</td>\n",
       "      <td>sigmoid</td>\n",
       "      <td>2</td>\n",
       "      <td>auto</td>\n",
       "      <td>ovo</td>\n",
       "      <td>NaN</td>\n",
       "    </tr>\n",
       "    <tr>\n",
       "      <th>80</th>\n",
       "      <td>0.962500</td>\n",
       "      <td>sigmoid</td>\n",
       "      <td>3</td>\n",
       "      <td>scale</td>\n",
       "      <td>ovr</td>\n",
       "      <td>NaN</td>\n",
       "    </tr>\n",
       "    <tr>\n",
       "      <th>81</th>\n",
       "      <td>0.962500</td>\n",
       "      <td>sigmoid</td>\n",
       "      <td>3</td>\n",
       "      <td>scale</td>\n",
       "      <td>ovo</td>\n",
       "      <td>NaN</td>\n",
       "    </tr>\n",
       "    <tr>\n",
       "      <th>82</th>\n",
       "      <td>0.962500</td>\n",
       "      <td>sigmoid</td>\n",
       "      <td>3</td>\n",
       "      <td>auto</td>\n",
       "      <td>ovr</td>\n",
       "      <td>NaN</td>\n",
       "    </tr>\n",
       "    <tr>\n",
       "      <th>83</th>\n",
       "      <td>0.962500</td>\n",
       "      <td>sigmoid</td>\n",
       "      <td>3</td>\n",
       "      <td>auto</td>\n",
       "      <td>ovo</td>\n",
       "      <td>NaN</td>\n",
       "    </tr>\n",
       "  </tbody>\n",
       "</table>\n",
       "<p>84 rows × 6 columns</p>\n",
       "</div>"
      ],
      "text/plain": [
       "    Accuracy   Kernel  C  Gamma Decision  Degree\n",
       "0   0.961458   linear  1  scale      ovr     NaN\n",
       "1   0.961458   linear  1  scale      ovo     NaN\n",
       "2   0.961458   linear  1   auto      ovr     NaN\n",
       "3   0.961458   linear  1   auto      ovo     NaN\n",
       "4   0.960938   linear  2  scale      ovr     NaN\n",
       "..       ...      ... ..    ...      ...     ...\n",
       "79  0.962500  sigmoid  2   auto      ovo     NaN\n",
       "80  0.962500  sigmoid  3  scale      ovr     NaN\n",
       "81  0.962500  sigmoid  3  scale      ovo     NaN\n",
       "82  0.962500  sigmoid  3   auto      ovr     NaN\n",
       "83  0.962500  sigmoid  3   auto      ovo     NaN\n",
       "\n",
       "[84 rows x 6 columns]"
      ]
     },
     "execution_count": 15,
     "metadata": {},
     "output_type": "execute_result"
    }
   ],
   "source": [
    "kernels = ['linear', 'poly', 'rbf', 'sigmoid']\n",
    "Cs = [1,2,3]\n",
    "Ds = [1,2,3,4]\n",
    "gammas = ['scale','auto']\n",
    "decisions = ['ovr', 'ovo']\n",
    "results = []\n",
    "\n",
    "for kernel in kernels:\n",
    "        if kernel == 'poly':\n",
    "            for C in Cs:\n",
    "                for D in Ds:\n",
    "                    for gamma in gammas:\n",
    "                        for decision in decisions:\n",
    "                            svm_current = svm.SVC(kernel=kernel, \n",
    "                                                    degree=D,\n",
    "                                                    C =C,\n",
    "                                                    gamma = gamma,\n",
    "                                                    random_state = 2022,\n",
    "                                                    decision_function_shape = decision)\n",
    "                            svm_current.fit(x_train_flat, CC_train)\n",
    "                            val_hat = svm_current.predict(x_val_flat)\n",
    "                            accuracy = accuracy_score(val_hat, CC_val)\n",
    "                            #\n",
    "                            results.append([accuracy, kernel, C, gamma, decision, D])\n",
    "                            print([accuracy, kernel, C, gamma, decision, None])\n",
    "        else:\n",
    "            for C in Cs:\n",
    "                for gamma in gammas:\n",
    "                    for decision in decisions:\n",
    "                        svm_current = svm.SVC(kernel=kernel,\n",
    "                                              C=C,\n",
    "                                              gamma = gamma,\n",
    "                                              decision_function_shape = decision,\n",
    "                                              random_state = 2022)\n",
    "                        svm_current.fit(x_train_flat, CC_train)\n",
    "                        val_hat = svm_current.predict(x_val_flat)\n",
    "                        accuracy = accuracy_score(val_hat, CC_val)\n",
    "                        #\n",
    "                        results.append([accuracy, kernel, C, gamma, decision, None])\n",
    "                        print([accuracy, kernel, C, gamma, decision, None])\n",
    "\n",
    "results = pd.DataFrame(results)\n",
    "results.columns = ['Accuracy', 'Kernel','C', 'Gamma', 'Decision', 'Degree']\n",
    "results\n",
    "\n",
    "#model = svm.SVC()\n",
    "#model.fit(x_train_flat, CC_train)\n",
    "#val_hat = model.predict(x_val_flat)\n",
    "#accuracy = accuracy_score(val_hat, CC_val)*100\n",
    "#accuracy"
   ]
  },
  {
   "cell_type": "code",
   "execution_count": 17,
   "id": "8a70c826-32df-4dc7-80b1-75c7b8457361",
   "metadata": {},
   "outputs": [
    {
     "data": {
      "text/plain": [
       "96.25"
      ]
     },
     "execution_count": 17,
     "metadata": {},
     "output_type": "execute_result"
    }
   ],
   "source": [
    "accuracy_done = accuracy_score(val_hat, CC_val)*100\n",
    "accuracy_done"
   ]
  },
  {
   "cell_type": "code",
   "execution_count": 19,
   "id": "906635af-e7c2-405e-9c4f-b7d0dd3ca137",
   "metadata": {},
   "outputs": [
    {
     "name": "stdout",
     "output_type": "stream",
     "text": [
      "    Accuracy Kernel  C  Gamma Decision  Degree\n",
      "68  0.972917    rbf  3  scale      ovr     NaN\n",
      "69  0.972917    rbf  3  scale      ovo     NaN\n"
     ]
    }
   ],
   "source": [
    "print(str(results[results['Accuracy'] == results['Accuracy'].max()]))"
   ]
  },
  {
   "cell_type": "code",
   "execution_count": 22,
   "id": "bcedd1a2-e3a4-4dd6-a0fb-d01485d50fce",
   "metadata": {},
   "outputs": [
    {
     "data": {
      "text/plain": [
       "0.9979166666666667"
      ]
     },
     "execution_count": 22,
     "metadata": {},
     "output_type": "execute_result"
    }
   ],
   "source": [
    "svm_final = svm.SVC(kernel='rbf',\n",
    "                      C=3,\n",
    "                      gamma = 'scale',\n",
    "                      decision_function_shape = 'ovr',\n",
    "                      random_state = 2022)\n",
    "svm_final.fit(np.concatenate((x_train_flat, x_val_flat), axis=0), np.concatenate((CC_train, CC_val), axis=0))\n",
    "val_hat = svm_final.predict(x_val_flat)\n",
    "accuracy = accuracy_score(val_hat, CC_val)\n",
    "accuracy"
   ]
  },
  {
   "cell_type": "markdown",
   "id": "6397f1be",
   "metadata": {
    "tags": []
   },
   "source": [
    "#### Catboost, modelD"
   ]
  },
  {
   "cell_type": "code",
   "execution_count": 16,
   "id": "a9b4932c",
   "metadata": {},
   "outputs": [
    {
     "name": "stdout",
     "output_type": "stream",
     "text": [
      "0:\tlearn: 2.2887629\ttotal: 136ms\tremaining: 13.5s\n",
      "50:\tlearn: 1.8662520\ttotal: 4.91s\tremaining: 4.72s\n",
      "99:\tlearn: 1.6777988\ttotal: 9.37s\tremaining: 0us\n",
      "[0.396875, 0.01, 100, 4]\n",
      "0:\tlearn: 2.2886103\ttotal: 330ms\tremaining: 32.7s\n",
      "50:\tlearn: 1.8515984\ttotal: 16.2s\tremaining: 15.6s\n",
      "99:\tlearn: 1.6450200\ttotal: 31.7s\tremaining: 0us\n",
      "[0.44114583333333335, 0.01, 100, 6]\n",
      "0:\tlearn: 2.1705851\ttotal: 115ms\tremaining: 11.3s\n",
      "50:\tlearn: 1.3272531\ttotal: 4.69s\tremaining: 4.51s\n",
      "99:\tlearn: 1.1892576\ttotal: 9.17s\tremaining: 0us\n",
      "[0.5171875, 0.1, 100, 4]\n",
      "0:\tlearn: 2.1687604\ttotal: 328ms\tremaining: 32.5s\n",
      "50:\tlearn: 1.2001364\ttotal: 16.6s\tremaining: 16s\n",
      "99:\tlearn: 1.0085116\ttotal: 32.4s\tremaining: 0us\n",
      "[0.5536458333333333, 0.1, 100, 6]\n",
      "0:\tlearn: 2.2887634\ttotal: 116ms\tremaining: 23s\n",
      "50:\tlearn: 1.8662523\ttotal: 4.79s\tremaining: 14s\n",
      "100:\tlearn: 1.6750856\ttotal: 9.27s\tremaining: 9.08s\n",
      "150:\tlearn: 1.5682842\ttotal: 13.3s\tremaining: 4.33s\n",
      "199:\tlearn: 1.5017392\ttotal: 17.6s\tremaining: 0us\n",
      "[0.4395833333333333, 0.01, 200, 4]\n",
      "0:\tlearn: 2.2886103\ttotal: 283ms\tremaining: 56.3s\n",
      "50:\tlearn: 1.8515985\ttotal: 14.1s\tremaining: 41.2s\n",
      "100:\tlearn: 1.6420564\ttotal: 28.1s\tremaining: 27.5s\n",
      "150:\tlearn: 1.5181227\ttotal: 42.1s\tremaining: 13.6s\n",
      "199:\tlearn: 1.4345968\ttotal: 56s\tremaining: 0us\n",
      "[0.5041666666666667, 0.01, 200, 6]\n",
      "0:\tlearn: 2.1705851\ttotal: 104ms\tremaining: 20.7s\n",
      "50:\tlearn: 1.3272531\ttotal: 4.17s\tremaining: 12.2s\n",
      "100:\tlearn: 1.1876480\ttotal: 8.12s\tremaining: 7.96s\n",
      "150:\tlearn: 1.0815834\ttotal: 12s\tremaining: 3.9s\n",
      "199:\tlearn: 0.9949005\ttotal: 15.8s\tremaining: 0us\n",
      "[0.5494791666666666, 0.1, 200, 4]\n",
      "0:\tlearn: 2.1687602\ttotal: 281ms\tremaining: 55.9s\n",
      "50:\tlearn: 1.2001363\ttotal: 13.9s\tremaining: 40.7s\n",
      "100:\tlearn: 1.0046029\ttotal: 27.3s\tremaining: 26.8s\n",
      "150:\tlearn: 0.8669083\ttotal: 40.5s\tremaining: 13.1s\n",
      "199:\tlearn: 0.7571209\ttotal: 53.3s\tremaining: 0us\n",
      "[0.5854166666666667, 0.1, 200, 6]\n",
      "0:\tlearn: 2.2887632\ttotal: 101ms\tremaining: 50.2s\n",
      "50:\tlearn: 1.8662523\ttotal: 4.07s\tremaining: 35.8s\n",
      "100:\tlearn: 1.6750857\ttotal: 8.03s\tremaining: 31.7s\n",
      "150:\tlearn: 1.5682840\ttotal: 12s\tremaining: 27.8s\n",
      "200:\tlearn: 1.5006535\ttotal: 16s\tremaining: 23.8s\n",
      "250:\tlearn: 1.4544815\ttotal: 20s\tremaining: 19.9s\n",
      "300:\tlearn: 1.4190783\ttotal: 24s\tremaining: 15.9s\n",
      "350:\tlearn: 1.3907672\ttotal: 28s\tremaining: 11.9s\n",
      "400:\tlearn: 1.3665231\ttotal: 32s\tremaining: 7.89s\n",
      "450:\tlearn: 1.3449716\ttotal: 35.9s\tremaining: 3.9s\n",
      "499:\tlearn: 1.3274111\ttotal: 39.8s\tremaining: 0us\n",
      "[0.5057291666666667, 0.01, 500, 4]\n",
      "0:\tlearn: 2.2886106\ttotal: 292ms\tremaining: 2m 25s\n",
      "50:\tlearn: 1.8515984\ttotal: 13.9s\tremaining: 2m 2s\n",
      "100:\tlearn: 1.6420567\ttotal: 27.4s\tremaining: 1m 48s\n",
      "150:\tlearn: 1.5181229\ttotal: 41.3s\tremaining: 1m 35s\n",
      "200:\tlearn: 1.4333029\ttotal: 55s\tremaining: 1m 21s\n",
      "250:\tlearn: 1.3721158\ttotal: 1m 9s\tremaining: 1m 8s\n",
      "300:\tlearn: 1.3240788\ttotal: 1m 23s\tremaining: 54.9s\n",
      "350:\tlearn: 1.2839793\ttotal: 1m 37s\tremaining: 41.2s\n",
      "400:\tlearn: 1.2515505\ttotal: 1m 50s\tremaining: 27.3s\n",
      "450:\tlearn: 1.2226114\ttotal: 2m 4s\tremaining: 13.5s\n",
      "499:\tlearn: 1.1964094\ttotal: 2m 17s\tremaining: 0us\n",
      "[0.5536458333333333, 0.01, 500, 6]\n",
      "0:\tlearn: 2.1705851\ttotal: 99.4ms\tremaining: 49.6s\n",
      "50:\tlearn: 1.3272533\ttotal: 4.04s\tremaining: 35.6s\n",
      "100:\tlearn: 1.1876478\ttotal: 7.96s\tremaining: 31.5s\n",
      "150:\tlearn: 1.0815834\ttotal: 11.8s\tremaining: 27.4s\n",
      "200:\tlearn: 0.9933717\ttotal: 15.7s\tremaining: 23.4s\n",
      "250:\tlearn: 0.9257139\ttotal: 19.6s\tremaining: 19.4s\n",
      "300:\tlearn: 0.8651268\ttotal: 23.4s\tremaining: 15.5s\n",
      "350:\tlearn: 0.8082417\ttotal: 27.5s\tremaining: 11.7s\n",
      "400:\tlearn: 0.7640357\ttotal: 31.4s\tremaining: 7.76s\n",
      "450:\tlearn: 0.7215193\ttotal: 35.3s\tremaining: 3.84s\n",
      "499:\tlearn: 0.6852338\ttotal: 39.1s\tremaining: 0us\n",
      "[0.59375, 0.1, 500, 4]\n",
      "0:\tlearn: 2.1687604\ttotal: 289ms\tremaining: 2m 24s\n",
      "50:\tlearn: 1.2001364\ttotal: 14s\tremaining: 2m 2s\n",
      "100:\tlearn: 1.0046030\ttotal: 27.7s\tremaining: 1m 49s\n",
      "150:\tlearn: 0.8669083\ttotal: 41.1s\tremaining: 1m 34s\n",
      "200:\tlearn: 0.7563420\ttotal: 54.1s\tremaining: 1m 20s\n",
      "250:\tlearn: 0.6705923\ttotal: 1m 7s\tremaining: 1m 6s\n",
      "300:\tlearn: 0.6043176\ttotal: 1m 20s\tremaining: 53s\n",
      "350:\tlearn: 0.5444080\ttotal: 1m 32s\tremaining: 39.4s\n",
      "400:\tlearn: 0.4939878\ttotal: 1m 45s\tremaining: 26s\n",
      "450:\tlearn: 0.4500450\ttotal: 1m 57s\tremaining: 12.8s\n",
      "499:\tlearn: 0.4112119\ttotal: 2m 10s\tremaining: 0us\n",
      "[0.6276041666666666, 0.1, 500, 6]\n"
     ]
    },
    {
     "data": {
      "text/html": [
       "<div>\n",
       "<style scoped>\n",
       "    .dataframe tbody tr th:only-of-type {\n",
       "        vertical-align: middle;\n",
       "    }\n",
       "\n",
       "    .dataframe tbody tr th {\n",
       "        vertical-align: top;\n",
       "    }\n",
       "\n",
       "    .dataframe thead th {\n",
       "        text-align: right;\n",
       "    }\n",
       "</style>\n",
       "<table border=\"1\" class=\"dataframe\">\n",
       "  <thead>\n",
       "    <tr style=\"text-align: right;\">\n",
       "      <th></th>\n",
       "      <th>accuracy</th>\n",
       "      <th>learning_rate</th>\n",
       "      <th>n_estimators</th>\n",
       "      <th>depth</th>\n",
       "    </tr>\n",
       "  </thead>\n",
       "  <tbody>\n",
       "    <tr>\n",
       "      <th>11</th>\n",
       "      <td>0.627604</td>\n",
       "      <td>0.10</td>\n",
       "      <td>500</td>\n",
       "      <td>6</td>\n",
       "    </tr>\n",
       "    <tr>\n",
       "      <th>10</th>\n",
       "      <td>0.593750</td>\n",
       "      <td>0.10</td>\n",
       "      <td>500</td>\n",
       "      <td>4</td>\n",
       "    </tr>\n",
       "    <tr>\n",
       "      <th>7</th>\n",
       "      <td>0.585417</td>\n",
       "      <td>0.10</td>\n",
       "      <td>200</td>\n",
       "      <td>6</td>\n",
       "    </tr>\n",
       "    <tr>\n",
       "      <th>3</th>\n",
       "      <td>0.553646</td>\n",
       "      <td>0.10</td>\n",
       "      <td>100</td>\n",
       "      <td>6</td>\n",
       "    </tr>\n",
       "    <tr>\n",
       "      <th>9</th>\n",
       "      <td>0.553646</td>\n",
       "      <td>0.01</td>\n",
       "      <td>500</td>\n",
       "      <td>6</td>\n",
       "    </tr>\n",
       "    <tr>\n",
       "      <th>6</th>\n",
       "      <td>0.549479</td>\n",
       "      <td>0.10</td>\n",
       "      <td>200</td>\n",
       "      <td>4</td>\n",
       "    </tr>\n",
       "    <tr>\n",
       "      <th>2</th>\n",
       "      <td>0.517188</td>\n",
       "      <td>0.10</td>\n",
       "      <td>100</td>\n",
       "      <td>4</td>\n",
       "    </tr>\n",
       "    <tr>\n",
       "      <th>8</th>\n",
       "      <td>0.505729</td>\n",
       "      <td>0.01</td>\n",
       "      <td>500</td>\n",
       "      <td>4</td>\n",
       "    </tr>\n",
       "    <tr>\n",
       "      <th>5</th>\n",
       "      <td>0.504167</td>\n",
       "      <td>0.01</td>\n",
       "      <td>200</td>\n",
       "      <td>6</td>\n",
       "    </tr>\n",
       "    <tr>\n",
       "      <th>1</th>\n",
       "      <td>0.441146</td>\n",
       "      <td>0.01</td>\n",
       "      <td>100</td>\n",
       "      <td>6</td>\n",
       "    </tr>\n",
       "    <tr>\n",
       "      <th>4</th>\n",
       "      <td>0.439583</td>\n",
       "      <td>0.01</td>\n",
       "      <td>200</td>\n",
       "      <td>4</td>\n",
       "    </tr>\n",
       "    <tr>\n",
       "      <th>0</th>\n",
       "      <td>0.396875</td>\n",
       "      <td>0.01</td>\n",
       "      <td>100</td>\n",
       "      <td>4</td>\n",
       "    </tr>\n",
       "  </tbody>\n",
       "</table>\n",
       "</div>"
      ],
      "text/plain": [
       "    accuracy  learning_rate  n_estimators  depth\n",
       "11  0.627604           0.10           500      6\n",
       "10  0.593750           0.10           500      4\n",
       "7   0.585417           0.10           200      6\n",
       "3   0.553646           0.10           100      6\n",
       "9   0.553646           0.01           500      6\n",
       "6   0.549479           0.10           200      4\n",
       "2   0.517188           0.10           100      4\n",
       "8   0.505729           0.01           500      4\n",
       "5   0.504167           0.01           200      6\n",
       "1   0.441146           0.01           100      6\n",
       "4   0.439583           0.01           200      4\n",
       "0   0.396875           0.01           100      4"
      ]
     },
     "execution_count": 16,
     "metadata": {},
     "output_type": "execute_result"
    }
   ],
   "source": [
    "results_catboost_D = []\n",
    "n_iterations = [100,200,500]\n",
    "lr = [0.01,0.1]\n",
    "n_depth = [4,6]\n",
    "loss_f = 'MultiClass'\n",
    "\n",
    "for iters in n_iterations:\n",
    "    for ls in lr:\n",
    "        for depths in n_depth:\n",
    "            model_D = CatBoostClassifier(iterations=iters,\n",
    "                                        learning_rate=ls,\n",
    "                                        depth=depths,\n",
    "                                        loss_function=loss_f,\n",
    "                                        task_type=\"GPU\",\n",
    "                                        devices='0:1')\n",
    "\n",
    "            model_D.fit(x_train_flat, D_train, verbose=50)\n",
    "            acc = model_D.score(x_val_flat,D_val)\n",
    "            # the results from the different hyperparameters are then stored so we can get the best one\n",
    "            results_catboost_D.append([acc,ls,iters, depths])\n",
    "            print([acc,ls,iters, depths])\n",
    "results_df_catboost_D = pd.DataFrame(results_catboost_D)\n",
    "results_df_catboost_D.columns=['accuracy',\"learning_rate\",\"n_estimators\", \"depth\"]\n",
    "#prints the results from best to worst in regards to accuracy, listting the hyperparameters for the result\n",
    "results_df_catboost_D = results_df_catboost_D.sort_values('accuracy', ascending=False)\n",
    "results_df_catboost_D\n"
   ]
  },
  {
   "cell_type": "code",
   "execution_count": 17,
   "id": "84a59dff",
   "metadata": {},
   "outputs": [],
   "source": [
    "results_df_catboost_D.to_csv('Catboost_results_DECADE')"
   ]
  },
  {
   "cell_type": "code",
   "execution_count": 18,
   "id": "3b2f61e8",
   "metadata": {},
   "outputs": [
    {
     "data": {
      "text/plain": [
       "0.6420833333333333"
      ]
     },
     "execution_count": 18,
     "metadata": {},
     "output_type": "execute_result"
    }
   ],
   "source": [
    "test_acc = model_D.score(x_test_flat,D_test)\n",
    "test_acc"
   ]
  },
  {
   "cell_type": "code",
   "execution_count": 25,
   "id": "1021b564",
   "metadata": {},
   "outputs": [
    {
     "data": {
      "text/plain": [
       "513.6666666666551"
      ]
     },
     "execution_count": 25,
     "metadata": {},
     "output_type": "execute_result"
    }
   ],
   "source": [
    "test_Score = score_calc(model_D,D_test,x_test_flat)\n",
    "test_Score"
   ]
  },
  {
   "cell_type": "markdown",
   "id": "7111960d",
   "metadata": {
    "tags": []
   },
   "source": [
    "#### Catboost, modelY"
   ]
  },
  {
   "cell_type": "code",
   "execution_count": 15,
   "id": "5ca4f3ad",
   "metadata": {},
   "outputs": [
    {
     "name": "stdout",
     "output_type": "stream",
     "text": [
      "0:\tlearn: 2.3600619\ttotal: 396ms\tremaining: 3m 17s\n",
      "50:\tlearn: 1.7120842\ttotal: 18.4s\tremaining: 2m 42s\n",
      "100:\tlearn: 1.4128335\ttotal: 36.3s\tremaining: 2m 23s\n",
      "150:\tlearn: 1.2094868\ttotal: 53s\tremaining: 2m 2s\n",
      "200:\tlearn: 1.0706529\ttotal: 1m 9s\tremaining: 1m 43s\n",
      "250:\tlearn: 0.9751101\ttotal: 1m 24s\tremaining: 1m 24s\n",
      "300:\tlearn: 0.8843965\ttotal: 1m 40s\tremaining: 1m 6s\n",
      "350:\tlearn: 0.8116300\ttotal: 1m 55s\tremaining: 49.2s\n",
      "400:\tlearn: 0.7521682\ttotal: 2m 10s\tremaining: 32.3s\n",
      "450:\tlearn: 0.7016064\ttotal: 2m 25s\tremaining: 15.9s\n",
      "499:\tlearn: 0.6563481\ttotal: 2m 40s\tremaining: 0us\n"
     ]
    },
    {
     "data": {
      "text/html": [
       "<div>\n",
       "<style scoped>\n",
       "    .dataframe tbody tr th:only-of-type {\n",
       "        vertical-align: middle;\n",
       "    }\n",
       "\n",
       "    .dataframe tbody tr th {\n",
       "        vertical-align: top;\n",
       "    }\n",
       "\n",
       "    .dataframe thead th {\n",
       "        text-align: right;\n",
       "    }\n",
       "</style>\n",
       "<table border=\"1\" class=\"dataframe\">\n",
       "  <thead>\n",
       "    <tr style=\"text-align: right;\">\n",
       "      <th></th>\n",
       "      <th>accuracy</th>\n",
       "      <th>learning_rate</th>\n",
       "      <th>n_estimators</th>\n",
       "      <th>depth</th>\n",
       "    </tr>\n",
       "  </thead>\n",
       "  <tbody>\n",
       "    <tr>\n",
       "      <th>0</th>\n",
       "      <td>0.547396</td>\n",
       "      <td>0.1</td>\n",
       "      <td>500</td>\n",
       "      <td>6</td>\n",
       "    </tr>\n",
       "  </tbody>\n",
       "</table>\n",
       "</div>"
      ],
      "text/plain": [
       "   accuracy  learning_rate  n_estimators  depth\n",
       "0  0.547396            0.1           500      6"
      ]
     },
     "execution_count": 19,
     "metadata": {},
     "output_type": "execute_result"
    }
   ],
   "source": [
    "results_cat_Y = []\n",
    "n_iterations = [500]#,200,100]\n",
    "lr = [0.1]#,0.01]\n",
    "n_depth = [6]#,4]\n",
    "loss_f = 'MultiClass'\n",
    "\n",
    "for iters in n_iterations:\n",
    "    for ls in lr:\n",
    "        for depths in n_depth:\n",
    "            model_Y = CatBoostClassifier(iterations=iters,\n",
    "                                        learning_rate=ls,\n",
    "                                        depth=depths,\n",
    "                                        loss_function=loss_f,\n",
    "                                        task_type=\"GPU\",\n",
    "                                        devices='0:1')\n",
    "\n",
    "            model_Y.fit(x_train_flat, Y_train, verbose=50)\n",
    "            acc = model_Y.score(x_val_flat,Y_val)\n",
    "            # the results from the different hyperparameters are then stored so we can get the best one\n",
    "            results_cat_Y.append([acc,ls,iters, depths])\n",
    "results_df_cat_Y = pd.DataFrame(results_cat_Y)\n",
    "results_df_cat_Y.columns=['accuracy',\"learning_rate\",\"n_estimators\", \"depth\"]\n",
    "#prints the results from best to worst in regards to accuracy, listting the hyperparameters for the result\n",
    "results_df_cat_Y = results_df_cat_Y.sort_values('accuracy', ascending=False)\n",
    "results_df_cat_Y"
   ]
  },
  {
   "cell_type": "code",
   "execution_count": 19,
   "id": "e614d157",
   "metadata": {},
   "outputs": [],
   "source": [
    "results_df_cat_Y.to_csv('Catboost_results_YEAR')"
   ]
  },
  {
   "cell_type": "markdown",
   "id": "e1e6e31f",
   "metadata": {
    "tags": []
   },
   "source": [
    "test_acc = model_Y.score(x_test_flat,Y_test)\n",
    "test_acc"
   ]
  },
  {
   "cell_type": "code",
   "execution_count": 2,
   "id": "b2b2233b",
   "metadata": {
    "collapsed": true,
    "jupyter": {
     "outputs_hidden": true
    },
    "tags": []
   },
   "outputs": [
    {
     "data": {
      "text/plain": [
       "443.3333333333256"
      ]
     },
     "execution_count": 26,
     "metadata": {},
     "output_type": "execute_result"
    }
   ],
   "source": [
    "test_Score = score_calc(model_Y,Y_test,x_test_flat)\n",
    "test_Score"
   ]
  },
  {
   "cell_type": "markdown",
   "id": "ca80b6c6",
   "metadata": {
    "tags": []
   },
   "source": [
    "## Question 2"
   ]
  },
  {
   "cell_type": "markdown",
   "id": "34bd87c3",
   "metadata": {
    "jp-MarkdownHeadingCollapsed": true,
    "tags": []
   },
   "source": [
    "### 2.2.A Construct a CNN"
   ]
  },
  {
   "cell_type": "code",
   "execution_count": null,
   "id": "ede1e40f",
   "metadata": {},
   "outputs": [],
   "source": []
  },
  {
   "cell_type": "markdown",
   "id": "94a29044",
   "metadata": {
    "jp-MarkdownHeadingCollapsed": true,
    "tags": []
   },
   "source": [
    "### 2.2.B Regularization"
   ]
  },
  {
   "cell_type": "code",
   "execution_count": null,
   "id": "e97f1375",
   "metadata": {},
   "outputs": [],
   "source": []
  },
  {
   "cell_type": "markdown",
   "id": "f500322a",
   "metadata": {
    "jp-MarkdownHeadingCollapsed": true,
    "tags": []
   },
   "source": [
    "### 2.2.C Augmentation"
   ]
  },
  {
   "cell_type": "code",
   "execution_count": null,
   "id": "f11e36cd",
   "metadata": {},
   "outputs": [],
   "source": []
  },
  {
   "cell_type": "markdown",
   "id": "7867ed75",
   "metadata": {
    "jp-MarkdownHeadingCollapsed": true,
    "tags": []
   },
   "source": [
    "### 2.2.D Transfer learning"
   ]
  },
  {
   "cell_type": "code",
   "execution_count": null,
   "id": "9e1501fe",
   "metadata": {},
   "outputs": [],
   "source": []
  },
  {
   "cell_type": "markdown",
   "id": "f897e18b",
   "metadata": {
    "jp-MarkdownHeadingCollapsed": true,
    "tags": []
   },
   "source": [
    "## 2.3 Prefered CNN model"
   ]
  },
  {
   "cell_type": "code",
   "execution_count": null,
   "id": "6c3e89f3",
   "metadata": {},
   "outputs": [],
   "source": []
  },
  {
   "cell_type": "markdown",
   "id": "63436d55",
   "metadata": {},
   "source": [
    "## Question 3"
   ]
  },
  {
   "cell_type": "markdown",
   "id": "6534b9e2",
   "metadata": {
    "jp-MarkdownHeadingCollapsed": true,
    "tags": []
   },
   "source": [
    "### 3.1 Visualization of activation maps"
   ]
  },
  {
   "cell_type": "code",
   "execution_count": null,
   "id": "48752c5c",
   "metadata": {},
   "outputs": [],
   "source": []
  },
  {
   "cell_type": "markdown",
   "id": "517a2519",
   "metadata": {
    "jp-MarkdownHeadingCollapsed": true,
    "tags": []
   },
   "source": [
    "### 3.2 Investigating model performance"
   ]
  },
  {
   "cell_type": "code",
   "execution_count": null,
   "id": "b062249d",
   "metadata": {},
   "outputs": [],
   "source": []
  }
 ],
 "metadata": {
  "kernelspec": {
   "display_name": "Python 3 (ipykernel)",
   "language": "python",
   "name": "python3"
  },
  "language_info": {
   "codemirror_mode": {
    "name": "ipython",
    "version": 3
   },
   "file_extension": ".py",
   "mimetype": "text/x-python",
   "name": "python",
   "nbconvert_exporter": "python",
   "pygments_lexer": "ipython3",
   "version": "3.7.11"
  }
 },
 "nbformat": 4,
 "nbformat_minor": 5
}
