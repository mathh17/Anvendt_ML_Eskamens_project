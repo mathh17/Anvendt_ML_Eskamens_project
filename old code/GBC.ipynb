{
 "cells": [
  {
   "cell_type": "code",
   "execution_count": 1,
   "id": "12d1bf84-b567-45ab-85d3-4a6a86b070a0",
   "metadata": {},
   "outputs": [],
   "source": [
    "import data_loader as dl\n",
    "import pandas as pd\n",
    "import numpy as np\n",
    "from catboost import CatBoostClassifier\n",
    "from sklearn import ensemble"
   ]
  },
  {
   "cell_type": "code",
   "execution_count": 2,
   "id": "09b95f4b-7ea2-42ca-a0eb-0f2f0c187cd9",
   "metadata": {},
   "outputs": [
    {
     "data": {
      "text/html": [
       "<div>\n",
       "<style scoped>\n",
       "    .dataframe tbody tr th:only-of-type {\n",
       "        vertical-align: middle;\n",
       "    }\n",
       "\n",
       "    .dataframe tbody tr th {\n",
       "        vertical-align: top;\n",
       "    }\n",
       "\n",
       "    .dataframe thead th {\n",
       "        text-align: right;\n",
       "    }\n",
       "</style>\n",
       "<table border=\"1\" class=\"dataframe\">\n",
       "  <thead>\n",
       "    <tr style=\"text-align: right;\">\n",
       "      <th></th>\n",
       "      <th>index</th>\n",
       "      <th>string</th>\n",
       "      <th>CC</th>\n",
       "      <th>D</th>\n",
       "      <th>Y</th>\n",
       "      <th>gray_value</th>\n",
       "      <th>filename</th>\n",
       "    </tr>\n",
       "  </thead>\n",
       "  <tbody>\n",
       "    <tr>\n",
       "      <th>0</th>\n",
       "      <td>1</td>\n",
       "      <td>1836</td>\n",
       "      <td>0</td>\n",
       "      <td>3</td>\n",
       "      <td>6</td>\n",
       "      <td>[[[166.0], [167.0], [166.0], [162.0], [164.0],...</td>\n",
       "      <td>1.jpg</td>\n",
       "    </tr>\n",
       "    <tr>\n",
       "      <th>1</th>\n",
       "      <td>2</td>\n",
       "      <td>1836</td>\n",
       "      <td>0</td>\n",
       "      <td>3</td>\n",
       "      <td>6</td>\n",
       "      <td>[[[169.0], [168.0], [169.0], [170.0], [166.0],...</td>\n",
       "      <td>2.jpg</td>\n",
       "    </tr>\n",
       "    <tr>\n",
       "      <th>2</th>\n",
       "      <td>3</td>\n",
       "      <td>1840</td>\n",
       "      <td>0</td>\n",
       "      <td>4</td>\n",
       "      <td>0</td>\n",
       "      <td>[[[167.0], [169.0], [169.0], [166.0], [165.0],...</td>\n",
       "      <td>3.jpg</td>\n",
       "    </tr>\n",
       "    <tr>\n",
       "      <th>3</th>\n",
       "      <td>4</td>\n",
       "      <td>1840</td>\n",
       "      <td>0</td>\n",
       "      <td>4</td>\n",
       "      <td>0</td>\n",
       "      <td>[[[167.0], [165.0], [165.0], [165.0], [163.0],...</td>\n",
       "      <td>4.jpg</td>\n",
       "    </tr>\n",
       "    <tr>\n",
       "      <th>4</th>\n",
       "      <td>5</td>\n",
       "      <td>1823</td>\n",
       "      <td>0</td>\n",
       "      <td>2</td>\n",
       "      <td>3</td>\n",
       "      <td>[[[62.0], [45.0], [45.0], [37.0], [40.0], [33....</td>\n",
       "      <td>5.jpg</td>\n",
       "    </tr>\n",
       "    <tr>\n",
       "      <th>...</th>\n",
       "      <td>...</td>\n",
       "      <td>...</td>\n",
       "      <td>...</td>\n",
       "      <td>...</td>\n",
       "      <td>...</td>\n",
       "      <td>...</td>\n",
       "      <td>...</td>\n",
       "    </tr>\n",
       "    <tr>\n",
       "      <th>11995</th>\n",
       "      <td>11996</td>\n",
       "      <td>1808</td>\n",
       "      <td>0</td>\n",
       "      <td>0</td>\n",
       "      <td>8</td>\n",
       "      <td>[[[88.0], [62.0], [60.0], [68.0], [61.0], [101...</td>\n",
       "      <td>11996.jpg</td>\n",
       "    </tr>\n",
       "    <tr>\n",
       "      <th>11996</th>\n",
       "      <td>11997</td>\n",
       "      <td>1809</td>\n",
       "      <td>0</td>\n",
       "      <td>0</td>\n",
       "      <td>9</td>\n",
       "      <td>[[[173.0], [171.0], [173.0], [175.0], [174.0],...</td>\n",
       "      <td>11997.jpg</td>\n",
       "    </tr>\n",
       "    <tr>\n",
       "      <th>11997</th>\n",
       "      <td>11998</td>\n",
       "      <td>1840</td>\n",
       "      <td>0</td>\n",
       "      <td>4</td>\n",
       "      <td>0</td>\n",
       "      <td>[[[189.0], [189.0], [189.0], [189.0], [189.0],...</td>\n",
       "      <td>11998.jpg</td>\n",
       "    </tr>\n",
       "    <tr>\n",
       "      <th>11998</th>\n",
       "      <td>11999</td>\n",
       "      <td>1840</td>\n",
       "      <td>0</td>\n",
       "      <td>4</td>\n",
       "      <td>0</td>\n",
       "      <td>[[[191.0], [192.0], [192.0], [192.0], [193.0],...</td>\n",
       "      <td>11999.jpg</td>\n",
       "    </tr>\n",
       "    <tr>\n",
       "      <th>11999</th>\n",
       "      <td>12000</td>\n",
       "      <td>1810</td>\n",
       "      <td>0</td>\n",
       "      <td>1</td>\n",
       "      <td>0</td>\n",
       "      <td>[[[175.0], [177.0], [177.0], [175.0], [174.0],...</td>\n",
       "      <td>12000.jpg</td>\n",
       "    </tr>\n",
       "  </tbody>\n",
       "</table>\n",
       "<p>12000 rows × 7 columns</p>\n",
       "</div>"
      ],
      "text/plain": [
       "       index string CC  D  Y  \\\n",
       "0          1   1836  0  3  6   \n",
       "1          2   1836  0  3  6   \n",
       "2          3   1840  0  4  0   \n",
       "3          4   1840  0  4  0   \n",
       "4          5   1823  0  2  3   \n",
       "...      ...    ... .. .. ..   \n",
       "11995  11996   1808  0  0  8   \n",
       "11996  11997   1809  0  0  9   \n",
       "11997  11998   1840  0  4  0   \n",
       "11998  11999   1840  0  4  0   \n",
       "11999  12000   1810  0  1  0   \n",
       "\n",
       "                                              gray_value   filename  \n",
       "0      [[[166.0], [167.0], [166.0], [162.0], [164.0],...      1.jpg  \n",
       "1      [[[169.0], [168.0], [169.0], [170.0], [166.0],...      2.jpg  \n",
       "2      [[[167.0], [169.0], [169.0], [166.0], [165.0],...      3.jpg  \n",
       "3      [[[167.0], [165.0], [165.0], [165.0], [163.0],...      4.jpg  \n",
       "4      [[[62.0], [45.0], [45.0], [37.0], [40.0], [33....      5.jpg  \n",
       "...                                                  ...        ...  \n",
       "11995  [[[88.0], [62.0], [60.0], [68.0], [61.0], [101...  11996.jpg  \n",
       "11996  [[[173.0], [171.0], [173.0], [175.0], [174.0],...  11997.jpg  \n",
       "11997  [[[189.0], [189.0], [189.0], [189.0], [189.0],...  11998.jpg  \n",
       "11998  [[[191.0], [192.0], [192.0], [192.0], [193.0],...  11999.jpg  \n",
       "11999  [[[175.0], [177.0], [177.0], [175.0], [174.0],...  12000.jpg  \n",
       "\n",
       "[12000 rows x 7 columns]"
      ]
     },
     "execution_count": 2,
     "metadata": {},
     "output_type": "execute_result"
    }
   ],
   "source": [
    "df = dl.load_1d_grays()\n",
    "df"
   ]
  },
  {
   "cell_type": "code",
   "execution_count": 3,
   "id": "13da7c55-00c8-48e9-811f-db5c992a74d7",
   "metadata": {},
   "outputs": [
    {
     "data": {
      "text/plain": [
       "(56, 106, 1)"
      ]
     },
     "execution_count": 3,
     "metadata": {},
     "output_type": "execute_result"
    }
   ],
   "source": [
    "df['gray_value'][0].shape"
   ]
  },
  {
   "cell_type": "code",
   "execution_count": 4,
   "id": "748638a7-668c-4f2c-941d-4219ca85ab5e",
   "metadata": {},
   "outputs": [
    {
     "data": {
      "text/plain": [
       "(12000, 56, 106)"
      ]
     },
     "execution_count": 4,
     "metadata": {},
     "output_type": "execute_result"
    }
   ],
   "source": [
    "\n",
    "arr = np.zeros(shape=(12000,56,106))\n",
    "i = 0\n",
    "while i < 12000:\n",
    "    arr[i] = np.squeeze(df['gray_value'][i])\n",
    "    i += 1\n",
    "arr.shape\n"
   ]
  },
  {
   "cell_type": "code",
   "execution_count": 5,
   "id": "d7012933-2278-470c-8715-5ac15657743a",
   "metadata": {},
   "outputs": [
    {
     "data": {
      "text/plain": [
       "(12000, 5936)"
      ]
     },
     "execution_count": 5,
     "metadata": {},
     "output_type": "execute_result"
    }
   ],
   "source": [
    "n_samples = len(arr)\n",
    "x_values = arr.reshape((n_samples, -1))\n",
    "x_values.shape"
   ]
  },
  {
   "cell_type": "code",
   "execution_count": 43,
   "id": "325ef609-b1c4-4c79-a591-b43dc2047377",
   "metadata": {},
   "outputs": [
    {
     "name": "stdout",
     "output_type": "stream",
     "text": [
      "(7680, 5936) (1920, 5936) (2400, 5936)\n"
     ]
    }
   ],
   "source": [
    "from sklearn.model_selection import train_test_split\n",
    "y_values = df['D']\n",
    "x_train, x_test, y_train, y_test = train_test_split(x_values, y_values, test_size=0.2, random_state=2022)\n",
    "x_train, x_val, y_train, y_val = train_test_split(x_train, y_train, test_size=0.2, random_state=2022)\n",
    "print(x_train.shape, x_val.shape, x_test.shape)\n"
   ]
  },
  {
   "cell_type": "code",
   "execution_count": 34,
   "id": "a9403030-d655-4384-af89-340025786a5d",
   "metadata": {},
   "outputs": [
    {
     "name": "stdout",
     "output_type": "stream",
     "text": [
      "0:\tlearn: 2.1000270\ttotal: 345ms\tremaining: 3.11s\n",
      "9:\tlearn: 1.7137404\ttotal: 2.6s\tremaining: 0us\n"
     ]
    },
    {
     "data": {
      "text/html": [
       "<div>\n",
       "<style scoped>\n",
       "    .dataframe tbody tr th:only-of-type {\n",
       "        vertical-align: middle;\n",
       "    }\n",
       "\n",
       "    .dataframe tbody tr th {\n",
       "        vertical-align: top;\n",
       "    }\n",
       "\n",
       "    .dataframe thead th {\n",
       "        text-align: right;\n",
       "    }\n",
       "</style>\n",
       "<table border=\"1\" class=\"dataframe\">\n",
       "  <thead>\n",
       "    <tr style=\"text-align: right;\">\n",
       "      <th></th>\n",
       "      <th>accuracy</th>\n",
       "      <th>learning_rate</th>\n",
       "      <th>n_estimators</th>\n",
       "      <th>depth</th>\n",
       "    </tr>\n",
       "  </thead>\n",
       "  <tbody>\n",
       "    <tr>\n",
       "      <th>0</th>\n",
       "      <td>0.261458</td>\n",
       "      <td>0.1</td>\n",
       "      <td>10</td>\n",
       "      <td>2</td>\n",
       "    </tr>\n",
       "  </tbody>\n",
       "</table>\n",
       "</div>"
      ],
      "text/plain": [
       "   accuracy  learning_rate  n_estimators  depth\n",
       "0  0.261458            0.1            10      2"
      ]
     },
     "execution_count": 34,
     "metadata": {},
     "output_type": "execute_result"
    }
   ],
   "source": [
    "\n",
    "results = []\n",
    "n_iterations = [100,200,500]\n",
    "lr = [0.1,0.01]\n",
    "n_depth = [2,4]\n",
    "loss_f = 'MultiClass'\n",
    "\n",
    "for iters in n_iterations:\n",
    "    for ls in lr:\n",
    "        for depths in n_depth:\n",
    "            model = CatBoostClassifier(iterations=iters,\n",
    "                                        learning_rate=ls,\n",
    "                                        depth=depths,\n",
    "                                        loss_function=loss_f)\n",
    "\n",
    "            model.fit(x_train, y_train, verbose=50)\n",
    "            acc = model.score(x_val,y_val)\n",
    "            # the results from the different hyperparameters are then stored so we can get the best one\n",
    "            results.append([acc,ls,iters, depths])\n",
    "results_df = pd.DataFrame(results)\n",
    "results_df.columns=['accuracy',\"learning_rate\",\"n_estimators\", \"depth\"]\n",
    "#prints the results from best to worst in regards to accuracy, listting the hyperparameters for the result\n",
    "results_df = results_df.sort_values('accuracy', ascending=False)\n",
    "results_df"
   ]
  },
  {
   "cell_type": "code",
   "execution_count": 19,
   "id": "54bdd7a6",
   "metadata": {},
   "outputs": [
    {
     "data": {
      "text/plain": [
       "0.3570833333333333"
      ]
     },
     "execution_count": 19,
     "metadata": {},
     "output_type": "execute_result"
    }
   ],
   "source": [
    "test_acc = model.score(x_test,y_test)\n",
    "test_acc"
   ]
  },
  {
   "cell_type": "code",
   "execution_count": 18,
   "id": "1f283293",
   "metadata": {},
   "outputs": [],
   "source": [
    "results_df.to_csv('Catboost_results_YEAR')"
   ]
  },
  {
   "cell_type": "code",
   "execution_count": 74,
   "id": "3584a9df",
   "metadata": {},
   "outputs": [
    {
     "data": {
      "text/plain": [
       "234.00000000000227"
      ]
     },
     "execution_count": 74,
     "metadata": {},
     "output_type": "execute_result"
    }
   ],
   "source": [
    "def score_calc(model):\n",
    "    score = 0.0\n",
    "    preds = model.predict(x_test)\n",
    "    i = 0\n",
    "    for row in y_test:\n",
    "        if str(row) == str(preds[i][0]):\n",
    "            score = score + (1/3)\n",
    "        i= i + 1\n",
    "    return score\n",
    "\n",
    "test_score = score_calc()\n",
    "test_score"
   ]
  },
  {
   "cell_type": "code",
   "execution_count": 73,
   "id": "053c9326",
   "metadata": {},
   "outputs": [
    {
     "data": {
      "text/plain": [
       "234.00000000000227"
      ]
     },
     "execution_count": 73,
     "metadata": {},
     "output_type": "execute_result"
    }
   ],
   "source": [
    "test_score"
   ]
  }
 ],
 "metadata": {
  "kernelspec": {
   "display_name": "Python 3 (ipykernel)",
   "language": "python",
   "name": "python3"
  },
  "language_info": {
   "codemirror_mode": {
    "name": "ipython",
    "version": 3
   },
   "file_extension": ".py",
   "mimetype": "text/x-python",
   "name": "python",
   "nbconvert_exporter": "python",
   "pygments_lexer": "ipython3",
   "version": "3.9.2"
  }
 },
 "nbformat": 4,
 "nbformat_minor": 5
}
