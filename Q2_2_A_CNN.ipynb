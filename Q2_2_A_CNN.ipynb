{
 "cells": [
  {
   "cell_type": "code",
   "execution_count": 1,
   "id": "06939c0e-37e6-44e1-a66c-60cb7ecb74cf",
   "metadata": {},
   "outputs": [],
   "source": [
    "!conda activate DS807"
   ]
  },
  {
   "cell_type": "markdown",
   "id": "4ee9de01-3554-4c05-bf4a-fe6a8706aee3",
   "metadata": {
    "jp-MarkdownHeadingCollapsed": true,
    "tags": []
   },
   "source": [
    "## Preparation of data"
   ]
  },
  {
   "cell_type": "markdown",
   "id": "48e65734-6c33-44b6-beb5-2c40fb3134a6",
   "metadata": {
    "jp-MarkdownHeadingCollapsed": true,
    "tags": []
   },
   "source": [
    "### Labeling Data and converting images to array values"
   ]
  },
  {
   "cell_type": "code",
   "execution_count": 2,
   "id": "7a9af147-f4ef-4f1d-b711-ba5ecd5dce9d",
   "metadata": {
    "tags": []
   },
   "outputs": [],
   "source": [
    "#import packages for labelling and converting imagery data\n",
    "import pandas as pd\n",
    "import numpy as np\n",
    "import os\n",
    "from keras.preprocessing.image import load_img\n",
    "from keras.preprocessing.image import img_to_array\n",
    "from numpy import asarray"
   ]
  },
  {
   "cell_type": "code",
   "execution_count": 3,
   "id": "ce53313c-06be-4031-8b0f-9cbff59c593f",
   "metadata": {
    "tags": []
   },
   "outputs": [],
   "source": [
    "##############\n",
    "# Func for creating 1D image arrays\n",
    "\n",
    "def load_image_function(path, question):\n",
    "\n",
    "    images = [] # empty list placeholder\n",
    "    labels = [] # empty list placeholder\n",
    "    container = [] # container to validate correct labels\n",
    "\n",
    "    for filename in os.listdir(path):\n",
    "        container.append(filename) # add filename to container\n",
    "        if question == 'q1':\n",
    "            CCDY_img = load_img(path + f'/{filename}', target_size = (56, 106),\n",
    "            color_mode=\"grayscale\")                  \n",
    "            CCDY_img = img_to_array(CCDY_img)\n",
    "            images.append(CCDY_img) # append the photo to the images. The images list contains a list of arrays       \n",
    "        else:\n",
    "            CCDY_img = load_img(path + f'/{filename}', target_size = (56, 106))        \n",
    "            CCDY_img = img_to_array(CCDY_img)\n",
    "            images.append(CCDY_img) # append the photo to the images. The images list contains a list of arrays    \n",
    "\n",
    "    return asarray(images), container; # not interested in list of arrays, but array containing lists. Asarray does this. Returns three arrays"
   ]
  },
  {
   "cell_type": "code",
   "execution_count": 4,
   "id": "d1f189d7-dea8-42fc-b657-f7f76d8ec3ba",
   "metadata": {
    "tags": []
   },
   "outputs": [],
   "source": [
    "################\n",
    "# Func for creating df with classes and 3d img arrays\n",
    "\n",
    "def load_img_data (question):\n",
    "    # Start: creatign classes ons string_digits\n",
    "    # load string digits\n",
    "\n",
    "    #os.chdir(path_string_digits)\n",
    "\n",
    "    string_digits = pd.read_csv('DIDA_12000_String_Digit_Labels.csv', \n",
    "                 header = None, \n",
    "                 names=[\"index\", \"string\"])\n",
    "    # create empty class columns\n",
    "    string_digits['CC'] = 0\n",
    "    string_digits['D'] = 0\n",
    "    string_digits['Y'] = 0\n",
    "    string_digits = string_digits.astype(str)\n",
    "    # Iterate string digits and append classes\n",
    "    for i, row in string_digits.iterrows():\n",
    "        if len(row['string']) != 4:\n",
    "            row['CC'] = '1'\n",
    "            row['D'] = '10'\n",
    "            row['Y'] = '10'\n",
    "        else:\n",
    "            row['D'] = row['string'][2]\n",
    "            row['Y'] = row['string'][3]\n",
    "            if row['string'][0:2] == '18':\n",
    "                row['CC']='0'\n",
    "            else:\n",
    "                row['CC']='1'\n",
    "    # End of class labeling on string_digits.\n",
    "    #\n",
    "    # Start: create img_df containing scaled images as 1D tensors\n",
    "    # Convert imagery to 1D arrays with tagged file names\n",
    "\n",
    "    #os.chdir(path_images)\n",
    "    image_array, filename = load_image_function('DIDA_12000_String_Digit_Images/DIDA_1', question)\n",
    "\n",
    "    # and convert to a img_df\n",
    "    img_df = pd.DataFrame({'filename': filename, 'img_value': list(image_array)}, \n",
    "                          columns=['filename', 'img_value'])\n",
    "    # Create proper index value in img_df to allow merge on string_digits\n",
    "    img_df['index'] = img_df['filename']\n",
    "    for i, row in img_df.iterrows():\n",
    "        row['index'] = str(img_df['index'][i]).split('.')[0]\n",
    "    img_df\n",
    "    # End of creating img_df\n",
    "    #\n",
    "    # Start: merge img_df with string_digits\n",
    "    # match index type on dataframes to merge\n",
    "    string_digits['index'] = string_digits['index'].astype(int)\n",
    "    img_df['index'] = img_df['index'].astype(int)\n",
    "    # Merge dataframes\n",
    "    df_img_classes = string_digits.merge(img_df)\n",
    "    # Rearrange order of dataframe\n",
    "    df_img_classes = df_img_classes.reindex(columns= ['index', 'string', 'CC', 'D', 'Y', 'img_value', 'filename'])\n",
    "    # End og merging data frames\n",
    "    return df_img_classes\n"
   ]
  },
  {
   "cell_type": "code",
   "execution_count": 5,
   "id": "bd255699-6853-4096-8f40-026773eef552",
   "metadata": {
    "tags": []
   },
   "outputs": [
    {
     "data": {
      "text/plain": [
       "(56, 106, 1)"
      ]
     },
     "execution_count": 5,
     "metadata": {},
     "output_type": "execute_result"
    }
   ],
   "source": [
    "df_q1 = load_img_data('q1')\n",
    "df_q1['img_value'][0].shape"
   ]
  },
  {
   "cell_type": "code",
   "execution_count": 6,
   "id": "2c885c1f-c34e-4ada-8852-941756831cf1",
   "metadata": {
    "tags": []
   },
   "outputs": [
    {
     "data": {
      "text/plain": [
       "(56, 106, 3)"
      ]
     },
     "execution_count": 6,
     "metadata": {},
     "output_type": "execute_result"
    }
   ],
   "source": [
    "df_q2 = load_img_data('q2')\n",
    "df_q2['img_value'][0].shape"
   ]
  },
  {
   "cell_type": "markdown",
   "id": "656841aa-03b6-4821-bae3-accc52950fc2",
   "metadata": {
    "jp-MarkdownHeadingCollapsed": true,
    "tags": []
   },
   "source": [
    "### Defining fixed train, test and valdiation sets."
   ]
  },
  {
   "cell_type": "code",
   "execution_count": 7,
   "id": "563b0f2c-d505-4611-b920-ceb8837aa44c",
   "metadata": {},
   "outputs": [],
   "source": [
    "df_q1 = df_q1.drop(columns=['index','string','filename'])\n",
    "\n",
    "df_q2 = df_q2.drop(columns=['index','string','filename'])\n"
   ]
  },
  {
   "cell_type": "markdown",
   "id": "b43e15e8-7ea0-4a55-a38b-a22908f6ecc3",
   "metadata": {
    "tags": []
   },
   "source": [
    "### Split train, val, test"
   ]
  },
  {
   "cell_type": "markdown",
   "id": "fdab1c24-666f-42a7-b77e-c347667d25d2",
   "metadata": {
    "tags": []
   },
   "source": [
    "#### Subsetting df"
   ]
  },
  {
   "cell_type": "code",
   "execution_count": 8,
   "id": "e1fd5b11-a306-4dce-a0bc-f8aa4d0f0c4b",
   "metadata": {
    "jupyter": {
     "source_hidden": true
    },
    "tags": []
   },
   "outputs": [],
   "source": [
    "gray_train = df_q1.loc[0:7679]\n",
    "gray_val = df_q1.loc[7680:9599]\n",
    "gray_test = df_q1.loc[9600:11999]\n",
    "rgb_train = df_q1.loc[0:7679]\n",
    "rgb_val = df_q1.loc[7680:9599]\n",
    "rgb_test = df_q1.loc[9600:11999]\n"
   ]
  },
  {
   "cell_type": "markdown",
   "id": "f80d51cf-feee-42ce-af43-8408f0d9b92e",
   "metadata": {
    "tags": []
   },
   "source": [
    "#### Creating labels"
   ]
  },
  {
   "cell_type": "code",
   "execution_count": 9,
   "id": "9a4d8e67-6e8a-4f16-9532-ef4d9ab67beb",
   "metadata": {
    "jupyter": {
     "source_hidden": true
    },
    "tags": []
   },
   "outputs": [],
   "source": [
    "#### training labels ###\n",
    "gray_Y_train = gray_train['Y']\n",
    "gray_Y_train = gray_Y_train.astype(np.uint8)\n",
    "gray_D_train = gray_train['D']\n",
    "gray_D_train = gray_D_train.astype(np.uint8)\n",
    "gray_CC_train = gray_train['CC']\n",
    "gray_CC_train = gray_CC_train.astype(np.uint8)\n",
    "\n",
    "rgb_Y_train = rgb_train['Y']\n",
    "rgb_Y_train = rgb_Y_train.astype(np.uint8)\n",
    "rgb_D_train = rgb_train['D']\n",
    "rgb_D_train = rgb_D_train.astype(np.uint8)\n",
    "rgb_CC_train = rgb_train['CC']\n",
    "rgb_CC_train = rgb_CC_train.astype(np.uint8)\n",
    "\n",
    "#### validation labels ###\n",
    "gray_Y_val = gray_val['Y']\n",
    "gray_Y_val = gray_Y_val.astype(np.uint8)\n",
    "gray_D_val = gray_val['D']\n",
    "gray_D_val = gray_D_val.astype(np.uint8)\n",
    "gray_CC_val = gray_val['CC']\n",
    "gray_CC_val = gray_CC_val.astype(np.uint8)\n",
    "\n",
    "rgb_Y_val = rgb_val['Y']\n",
    "rgb_Y_val = rgb_Y_val.astype(np.uint8)\n",
    "rgb_D_val = rgb_val['D']\n",
    "rgb_D_val = rgb_D_val.astype(np.uint8)\n",
    "rgb_CC_val = rgb_val['CC']\n",
    "rgb_CC_val = rgb_CC_val.astype(np.uint8)\n",
    "\n",
    "#### test labels ###\n",
    "gray_Y_test = gray_test['Y']\n",
    "gray_Y_test = gray_Y_test.astype(np.uint8)\n",
    "gray_D_test = gray_test['D']\n",
    "gray_D_test = gray_D_test.astype(np.uint8) ###############\n",
    "gray_CC_test = gray_test['CC']\n",
    "gray_CC_test = gray_CC_test.astype(np.uint8)\n",
    "\n",
    "rgb_Y_test = rgb_test['Y']\n",
    "rgb_Y_test = rgb_Y_test.astype(np.uint8)\n",
    "rgb_D_test = rgb_test['D']\n",
    "rgb_D_test = rgb_D_test.astype(np.uint8)\n",
    "rgb_CC_test = rgb_test['CC']\n",
    "rgb_CC_test = rgb_CC_test.astype(np.uint8)"
   ]
  },
  {
   "cell_type": "markdown",
   "id": "2ccb0af3-612d-4e70-a335-65e3aaf3bdeb",
   "metadata": {
    "tags": []
   },
   "source": [
    "#### Creating image values"
   ]
  },
  {
   "cell_type": "code",
   "execution_count": 10,
   "id": "34427caa-e5f7-4f8b-afb3-aacfc9e64c2f",
   "metadata": {
    "jupyter": {
     "source_hidden": true
    },
    "tags": []
   },
   "outputs": [],
   "source": [
    "#### gray values ####\n",
    "#gray train\n",
    "values = np.zeros(shape=(len(gray_train),56,106,1))\n",
    "i = 0\n",
    "j = 0\n",
    "while i < len(gray_train):\n",
    "    values[i] = gray_train['img_value'][j]\n",
    "    i += 1\n",
    "    j+=1\n",
    "gray_train = values\n",
    "\n",
    "#gray val\n",
    "values = np.zeros(shape=(len(gray_val),56,106,1))\n",
    "i = 0\n",
    "j = 7680\n",
    "while i < len(gray_val):\n",
    "    values[i] = gray_val['img_value'][j]\n",
    "    i += 1\n",
    "    j+=1\n",
    "gray_val = values  \n",
    "\n",
    "#gray test\n",
    "values = np.zeros(shape=(len(gray_test),56,106,1))\n",
    "i = 0\n",
    "j = 9600\n",
    "while i < len(gray_test):\n",
    "    values[i] = gray_test['img_value'][j]\n",
    "    i += 1\n",
    "    j+=1\n",
    "gray_test = values     \n",
    "\n",
    "\n",
    "#### RGB values ####\n",
    "#gray train\n",
    "values = np.zeros(shape=(len(rgb_train),56,106,3))\n",
    "i = 0\n",
    "j = 0\n",
    "while i < len(rgb_train):\n",
    "    values[i] = rgb_train['img_value'][j]\n",
    "    i += 1\n",
    "    j+=1\n",
    "rgb_train = values\n",
    "\n",
    "#gray val\n",
    "values = np.zeros(shape=(len(rgb_val),56,106,3))\n",
    "i = 0\n",
    "j = 7680\n",
    "while i < len(rgb_val):\n",
    "    values[i] = rgb_val['img_value'][j]\n",
    "    i += 1\n",
    "    j+=1\n",
    "rgb_val = values  \n",
    "\n",
    "#gray test\n",
    "values = np.zeros(shape=(len(rgb_test),56,106,3))\n",
    "i = 0\n",
    "j = 9600\n",
    "while i < len(rgb_test):\n",
    "    values[i] = rgb_test['img_value'][j]\n",
    "    i += 1\n",
    "    j+=1\n",
    "rgb_test = values     \n",
    "\n"
   ]
  },
  {
   "cell_type": "markdown",
   "id": "65113862-ace2-4ba0-a815-014141361c9c",
   "metadata": {
    "tags": []
   },
   "source": [
    "## Data names:"
   ]
  },
  {
   "cell_type": "markdown",
   "id": "74ae3fc4-03da-44b8-91a4-ce12aaabdfe4",
   "metadata": {
    "jupyter": {
     "source_hidden": true
    },
    "tags": []
   },
   "source": [
    "For all values, normaly **x_train**, x_val etc you call:\n",
    "\n",
    ">gray_val ..etc\n",
    "\n",
    ">rgb_val ..etc\n",
    "\n",
    "For all labels, normaly **y_train**, y_val etc you call:\n",
    "\n",
    ">gray_D_val ..etc\n",
    "\n",
    ">rgb_CC_val ..etc\n"
   ]
  },
  {
   "cell_type": "code",
   "execution_count": 11,
   "id": "0184d3fd-a54b-48a7-a868-9914d5c9e19d",
   "metadata": {},
   "outputs": [],
   "source": [
    "gray_val = gray_val/255\n",
    "gray_train = gray_train/255\n",
    "gray_test = gray_test/255\n",
    "rgb_val = rgb_val/255\n",
    "rgb_train = rgb_train/255\n",
    "rgb_test = rgb_test/255"
   ]
  },
  {
   "cell_type": "markdown",
   "id": "92973f2c-f526-46aa-8962-77c2d998200f",
   "metadata": {
    "tags": []
   },
   "source": [
    "## Question 2.2, a base CNN model"
   ]
  },
  {
   "cell_type": "code",
   "execution_count": 12,
   "id": "2677bf9a-6055-4474-9bd6-9789f5e2187f",
   "metadata": {},
   "outputs": [],
   "source": [
    "import tensorflow as tf\n",
    "import data_loader as dl\n",
    "import numpy as np\n",
    "from numpy.random import seed\n",
    "import matplotlib.pyplot as plt"
   ]
  },
  {
   "cell_type": "markdown",
   "id": "0385d807-e10e-4a8b-92e1-4ab4fe346509",
   "metadata": {
    "tags": []
   },
   "source": [
    "### ModelCC - gray"
   ]
  },
  {
   "cell_type": "code",
   "execution_count": 19,
   "id": "f24f2882-5a1f-4405-8b32-cfa9cbe3b3ff",
   "metadata": {
    "tags": []
   },
   "outputs": [],
   "source": [
    "modelCC = tf.keras.models.Sequential([\n",
    "    tf.keras.layers.Conv2D(filters=32, kernel_size=(3, 3), activation='relu', input_shape=(56, 106, 1)),\n",
    "    tf.keras.layers.Conv2D(filters=64, kernel_size=(3, 3), activation='relu'),\n",
    "    tf.keras.layers.Conv2D(filters=128, kernel_size=(3, 3), activation='relu'),\n",
    "    tf.keras.layers.Conv2D(filters=256, kernel_size=(3, 3), activation='relu'),\n",
    "    tf.keras.layers.Flatten(),\n",
    "    tf.keras.layers.Dense(64, activation='relu'),\n",
    "    tf.keras.layers.Dense(1, activation='sigmoid'),\n",
    "    ])\n",
    "\n",
    "modelCC.compile(\n",
    "    optimizer='adam',\n",
    "    loss= 'binary_crossentropy',\n",
    "    metrics=['accuracy'],\n",
    "    ) \n",
    "\n",
    "#model_CC.summary()"
   ]
  },
  {
   "cell_type": "code",
   "execution_count": 20,
   "id": "f69a27b3-7106-4d99-9a72-d6f2d68906fe",
   "metadata": {
    "tags": []
   },
   "outputs": [
    {
     "name": "stdout",
     "output_type": "stream",
     "text": [
      "Epoch 1/10\n",
      "240/240 [==============================] - 7s 28ms/step - loss: 0.2513 - accuracy: 0.9773 - val_loss: 0.2481 - val_accuracy: 0.9469\n",
      "Epoch 2/10\n",
      "240/240 [==============================] - 6s 27ms/step - loss: 0.0854 - accuracy: 0.9845 - val_loss: 0.2305 - val_accuracy: 0.9469\n",
      "Epoch 3/10\n",
      "240/240 [==============================] - 6s 27ms/step - loss: 0.0690 - accuracy: 0.9845 - val_loss: 0.2500 - val_accuracy: 0.9469\n",
      "Epoch 4/10\n",
      "240/240 [==============================] - 6s 27ms/step - loss: 0.0463 - accuracy: 0.9845 - val_loss: 0.1839 - val_accuracy: 0.9469\n",
      "Epoch 5/10\n",
      "240/240 [==============================] - 6s 27ms/step - loss: 0.0362 - accuracy: 0.9906 - val_loss: 0.2754 - val_accuracy: 0.9531\n",
      "Epoch 6/10\n",
      "240/240 [==============================] - 6s 27ms/step - loss: 0.0297 - accuracy: 0.9918 - val_loss: 0.3590 - val_accuracy: 0.9495\n",
      "Epoch 7/10\n",
      "240/240 [==============================] - 6s 27ms/step - loss: 0.0249 - accuracy: 0.9924 - val_loss: 0.2936 - val_accuracy: 0.9521\n",
      "Epoch 8/10\n",
      "240/240 [==============================] - 6s 27ms/step - loss: 0.0191 - accuracy: 0.9948 - val_loss: 0.5071 - val_accuracy: 0.9500\n",
      "Epoch 9/10\n",
      "240/240 [==============================] - 6s 27ms/step - loss: 0.0117 - accuracy: 0.9969 - val_loss: 0.5781 - val_accuracy: 0.9495\n",
      "Epoch 10/10\n",
      "240/240 [==============================] - 6s 27ms/step - loss: 0.0078 - accuracy: 0.9971 - val_loss: 0.8875 - val_accuracy: 0.9542\n"
     ]
    },
    {
     "data": {
      "image/png": "[encoded data removed]",
      "text/plain": [
       "<Figure size 960x288 with 2 Axes>"
      ]
     },
     "metadata": {
      "needs_background": "light"
     },
     "output_type": "display_data"
    }
   ],
   "source": [
    "history = modelCC.fit(gray_train, gray_CC_train, validation_data=(gray_val, gray_CC_val), epochs=10, verbose=1)\n",
    "\n",
    "fig = plt.figure(figsize=plt.figaspect(0.3))\n",
    "\n",
    "ax = fig.add_subplot(1, 2, 1)\n",
    "ax.plot(history.history['loss'], label='Training loss')\n",
    "ax.plot(history.history['val_loss'], label='Val loss')\n",
    "plt.xlabel('Epoch')\n",
    "plt.ylabel('Loss')\n",
    "plt.legend()\n",
    "plt.title('Loss, Class CC')\n",
    "\n",
    "ax = fig.add_subplot(1, 2, 2)\n",
    "ax.plot(history.history['accuracy'], label='Training accuracy')\n",
    "ax.plot(history.history['val_accuracy'], label='Val accuracy')\n",
    "plt.xlabel('Epoch')\n",
    "plt.ylabel('Accuracy')\n",
    "plt.legend()\n",
    "plt.title('Accuracy, Class CC')\n",
    "\n",
    "plt.show()"
   ]
  },
  {
   "cell_type": "markdown",
   "id": "e31753a8-a6c2-419e-8b89-0a3840e035b2",
   "metadata": {
    "tags": []
   },
   "source": [
    "### ModelY - gray"
   ]
  },
  {
   "cell_type": "code",
   "execution_count": 15,
   "id": "70938d38-0349-4d88-bab1-ad019fbf23f7",
   "metadata": {},
   "outputs": [],
   "source": [
    "modelY = tf.keras.models.Sequential([\n",
    "    tf.keras.layers.Conv2D(filters=32, kernel_size=(3, 3), activation='relu', input_shape=(56, 106, 1)),\n",
    "    tf.keras.layers.Conv2D(filters=64, kernel_size=(3, 3), activation='relu'),\n",
    "    tf.keras.layers.Conv2D(filters=128, kernel_size=(3, 3), activation='relu'),\n",
    "    tf.keras.layers.Conv2D(filters=256, kernel_size=(3, 3), activation='relu'),\n",
    "    tf.keras.layers.Flatten(),\n",
    "    tf.keras.layers.Dense(64, activation='relu'),\n",
    "    tf.keras.layers.Dense(11, activation='softmax'),\n",
    "    ])\n",
    "\n",
    "modelY.compile(\n",
    "    optimizer='adam',\n",
    "    loss= 'sparse_categorical_crossentropy',\n",
    "    metrics=['accuracy'],\n",
    "    ) \n",
    "\n",
    "#model_multiclass.summary()"
   ]
  },
  {
   "cell_type": "code",
   "execution_count": 16,
   "id": "9b6c15f3-77b7-43e6-8295-9b8535c371d8",
   "metadata": {
    "tags": []
   },
   "outputs": [
    {
     "name": "stdout",
     "output_type": "stream",
     "text": [
      "Epoch 1/10\n",
      "240/240 [==============================] - 7s 27ms/step - loss: 2.2992 - accuracy: 0.1797 - val_loss: 2.1100 - val_accuracy: 0.3464\n",
      "Epoch 2/10\n",
      "240/240 [==============================] - 6s 26ms/step - loss: 1.7229 - accuracy: 0.4503 - val_loss: 1.7949 - val_accuracy: 0.4786\n",
      "Epoch 3/10\n",
      "240/240 [==============================] - 6s 26ms/step - loss: 1.2213 - accuracy: 0.6134 - val_loss: 1.5175 - val_accuracy: 0.5724\n",
      "Epoch 4/10\n",
      "240/240 [==============================] - 6s 26ms/step - loss: 0.6839 - accuracy: 0.7836 - val_loss: 1.5514 - val_accuracy: 0.5995\n",
      "Epoch 5/10\n",
      "240/240 [==============================] - 6s 26ms/step - loss: 0.2535 - accuracy: 0.9189 - val_loss: 2.1758 - val_accuracy: 0.5896\n",
      "Epoch 6/10\n",
      "240/240 [==============================] - 6s 26ms/step - loss: 0.0660 - accuracy: 0.9807 - val_loss: 3.2161 - val_accuracy: 0.5719\n",
      "Epoch 7/10\n",
      "240/240 [==============================] - 6s 26ms/step - loss: 0.0333 - accuracy: 0.9917 - val_loss: 4.3908 - val_accuracy: 0.5891\n",
      "Epoch 8/10\n",
      "240/240 [==============================] - 6s 26ms/step - loss: 0.0238 - accuracy: 0.9928 - val_loss: 4.7625 - val_accuracy: 0.5766\n",
      "Epoch 9/10\n",
      "240/240 [==============================] - 6s 26ms/step - loss: 0.0454 - accuracy: 0.9849 - val_loss: 4.0198 - val_accuracy: 0.5682\n",
      "Epoch 10/10\n",
      "240/240 [==============================] - 6s 26ms/step - loss: 0.0416 - accuracy: 0.9885 - val_loss: 3.8518 - val_accuracy: 0.5724\n"
     ]
    },
    {
     "data": {
      "image/png": "[encoded data removed]",
      "text/plain": [
       "<Figure size 960x288 with 2 Axes>"
      ]
     },
     "metadata": {
      "needs_background": "light"
     },
     "output_type": "display_data"
    }
   ],
   "source": [
    "history = modelY.fit(gray_train, gray_Y_train, validation_data=(gray_val, gray_Y_val), epochs=10, verbose=1)\n",
    "\n",
    "fig = plt.figure(figsize=plt.figaspect(0.3))\n",
    "\n",
    "ax = fig.add_subplot(1, 2, 1)\n",
    "ax.plot(history.history['loss'], label='Training loss')\n",
    "ax.plot(history.history['val_loss'], label='Val loss')\n",
    "plt.xlabel('Epoch')\n",
    "plt.ylabel('Loss')\n",
    "plt.legend()\n",
    "plt.title('Loss, Class Y')\n",
    "\n",
    "ax = fig.add_subplot(1, 2, 2)\n",
    "ax.plot(history.history['accuracy'], label='Training accuracy')\n",
    "ax.plot(history.history['val_accuracy'], label='Val accuracy')\n",
    "plt.xlabel('Epoch')\n",
    "plt.ylabel('Accuracy')\n",
    "plt.legend()\n",
    "plt.title('Accuracy, Class Y')\n",
    "\n",
    "plt.show()"
   ]
  },
  {
   "cell_type": "markdown",
   "id": "d5d23de1-84d6-4084-9dea-51d8f59699c9",
   "metadata": {
    "tags": []
   },
   "source": [
    "### ModelD - gray"
   ]
  },
  {
   "cell_type": "code",
   "execution_count": 23,
   "id": "027366e2-be0d-4c53-9cd6-694e9af1d76f",
   "metadata": {},
   "outputs": [],
   "source": [
    "modelD = tf.keras.models.Sequential([\n",
    "    tf.keras.layers.Conv2D(filters=32, kernel_size=(3, 3), activation='relu', input_shape=(56, 106, 1)),\n",
    "    tf.keras.layers.Conv2D(filters=64, kernel_size=(3, 3), activation='relu'),\n",
    "    tf.keras.layers.Conv2D(filters=128, kernel_size=(3, 3), activation='relu'),\n",
    "    tf.keras.layers.Conv2D(filters=256, kernel_size=(3, 3), activation='relu'),\n",
    "    tf.keras.layers.Flatten(),\n",
    "    tf.keras.layers.Dense(64, activation='relu'),\n",
    "    tf.keras.layers.Dense(11, activation='softmax'),\n",
    "    ])\n",
    "\n",
    "modelD.compile(\n",
    "    optimizer='adam',\n",
    "    loss= 'sparse_categorical_crossentropy',\n",
    "    metrics=['accuracy'],\n",
    "    ) \n",
    "\n",
    "#model_multiclass.summary()"
   ]
  },
  {
   "cell_type": "code",
   "execution_count": 24,
   "id": "30a0e9da-8955-492c-acd9-14b254b8cf7a",
   "metadata": {
    "tags": []
   },
   "outputs": [
    {
     "name": "stdout",
     "output_type": "stream",
     "text": [
      "Epoch 1/10\n",
      "240/240 [==============================] - 7s 27ms/step - loss: 1.6196 - accuracy: 0.2486 - val_loss: 1.6091 - val_accuracy: 0.3156\n",
      "Epoch 2/10\n",
      "240/240 [==============================] - 6s 26ms/step - loss: 1.5538 - accuracy: 0.2566 - val_loss: 1.5495 - val_accuracy: 0.3615\n",
      "Epoch 3/10\n",
      "240/240 [==============================] - 6s 26ms/step - loss: 1.2132 - accuracy: 0.5249 - val_loss: 1.2831 - val_accuracy: 0.5536\n",
      "Epoch 4/10\n",
      "240/240 [==============================] - 6s 26ms/step - loss: 0.7640 - accuracy: 0.7230 - val_loss: 1.0557 - val_accuracy: 0.6797\n",
      "Epoch 5/10\n",
      "240/240 [==============================] - 6s 26ms/step - loss: 0.3632 - accuracy: 0.8681 - val_loss: 1.4770 - val_accuracy: 0.6719\n",
      "Epoch 6/10\n",
      "240/240 [==============================] - 6s 27ms/step - loss: 0.1365 - accuracy: 0.9559 - val_loss: 2.2072 - val_accuracy: 0.6698\n",
      "Epoch 7/10\n",
      "240/240 [==============================] - 6s 27ms/step - loss: 0.0461 - accuracy: 0.9865 - val_loss: 2.6134 - val_accuracy: 0.6771\n",
      "Epoch 8/10\n",
      "240/240 [==============================] - 6s 27ms/step - loss: 0.0180 - accuracy: 0.9953 - val_loss: 3.1851 - val_accuracy: 0.6792\n",
      "Epoch 9/10\n",
      "240/240 [==============================] - 6s 27ms/step - loss: 0.0067 - accuracy: 0.9986 - val_loss: 3.8051 - val_accuracy: 0.6703\n",
      "Epoch 10/10\n",
      "240/240 [==============================] - 6s 27ms/step - loss: 0.0048 - accuracy: 0.9990 - val_loss: 4.1448 - val_accuracy: 0.6760\n"
     ]
    },
    {
     "data": {
      "image/png": "[encoded data removed]",
      "text/plain": [
       "<Figure size 960x288 with 2 Axes>"
      ]
     },
     "metadata": {
      "needs_background": "light"
     },
     "output_type": "display_data"
    }
   ],
   "source": [
    "history = modelD.fit(gray_train, gray_D_train, validation_data=(gray_val, gray_D_val), epochs=10, verbose=1)\n",
    "\n",
    "fig = plt.figure(figsize=plt.figaspect(0.3))\n",
    "\n",
    "ax = fig.add_subplot(1, 2, 1)\n",
    "ax.plot(history.history['loss'], label='Training loss')\n",
    "ax.plot(history.history['val_loss'], label='Val loss')\n",
    "plt.xlabel('Epoch')\n",
    "plt.ylabel('Loss')\n",
    "plt.legend()\n",
    "plt.title('Loss, Class D')\n",
    "\n",
    "ax = fig.add_subplot(1, 2, 2)\n",
    "ax.plot(history.history['accuracy'], label='Training accuracy')\n",
    "ax.plot(history.history['val_accuracy'], label='Val accuracy')\n",
    "plt.xlabel('Epoch')\n",
    "plt.ylabel('Accuracy')\n",
    "plt.legend()\n",
    "plt.title('Accuracy, Class D')\n",
    "\n",
    "plt.show()"
   ]
  }
 ],
 "metadata": {
  "kernelspec": {
   "display_name": "Python 3 (ipykernel)",
   "language": "python",
   "name": "python3"
  },
  "language_info": {
   "codemirror_mode": {
    "name": "ipython",
    "version": 3
   },
   "file_extension": ".py",
   "mimetype": "text/x-python",
   "name": "python",
   "nbconvert_exporter": "python",
   "pygments_lexer": "ipython3",
   "version": "3.9.7"
  }
 },
 "nbformat": 4,
 "nbformat_minor": 5
}
