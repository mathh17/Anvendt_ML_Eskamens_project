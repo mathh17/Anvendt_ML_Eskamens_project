{
 "cells": [
  {
   "cell_type": "code",
   "execution_count": 1,
   "id": "06939c0e-37e6-44e1-a66c-60cb7ecb74cf",
   "metadata": {},
   "outputs": [],
   "source": [
    "!conda activate DS807"
   ]
  },
  {
   "cell_type": "markdown",
   "id": "2a267541-170b-44d9-85fe-a2a2dade246f",
   "metadata": {
    "tags": []
   },
   "source": [
    "## Preparation of data"
   ]
  },
  {
   "cell_type": "markdown",
   "id": "f8282020-cea5-470c-b010-5a697a6c3910",
   "metadata": {
    "tags": []
   },
   "source": [
    "### Labeling Data and converting images to array values"
   ]
  },
  {
   "cell_type": "code",
   "execution_count": 2,
   "id": "e1be78a2-56f3-4e91-8e3c-fe80005f9456",
   "metadata": {
    "tags": []
   },
   "outputs": [],
   "source": [
    "#import packages for labelling and converting imagery data\n",
    "import pandas as pd\n",
    "import numpy as np\n",
    "import os\n",
    "from keras.preprocessing.image import load_img\n",
    "from keras.preprocessing.image import img_to_array\n",
    "from numpy import asarray\n"
   ]
  },
  {
   "cell_type": "code",
   "execution_count": 3,
   "id": "bb077232-04e3-4927-a2df-8a7bb47b7e4e",
   "metadata": {
    "tags": []
   },
   "outputs": [],
   "source": [
    "##############\n",
    "# Func for creating 1D image arrays\n",
    "\n",
    "def load_image_function(path):\n",
    "    images = [] # empty list placeholder\n",
    "    labels = [] # empty list placeholder\n",
    "    container = [] # container to validate correct labels\n",
    "    for filename in os.listdir(path):\n",
    "        container.append(filename) # add filename to container     \n",
    "        CCDY_img = load_img(path + f'/{filename}', target_size = (56, 106),\n",
    "        color_mode=\"grayscale\")                  \n",
    "        CCDY_img = img_to_array(CCDY_img)\n",
    "        images.append(CCDY_img) # append the photo to the images. The images list contains a list of arrays       \n",
    "    return asarray(images), container; # not interested in list of arrays, but array containing lists. Asarray does this. Returns three arrays\n"
   ]
  },
  {
   "cell_type": "code",
   "execution_count": 4,
   "id": "0dba79a2-5531-452f-b322-8bf71445ebf5",
   "metadata": {
    "tags": []
   },
   "outputs": [],
   "source": [
    "################\n",
    "# Func for creating df with classes and 3d img arrays\n",
    "\n",
    "def load_img_data ():\n",
    "    # Start: creatign classes ons string_digits\n",
    "    # load string digits\n",
    "\n",
    "    #os.chdir(path_string_digits)\n",
    "\n",
    "    string_digits = pd.read_csv('DIDA_12000_String_Digit_Labels.csv', \n",
    "                 header = None, \n",
    "                 names=[\"index\", \"string\"])\n",
    "    # create empty class columns\n",
    "    string_digits['CC'] = 0\n",
    "    string_digits['D'] = 0\n",
    "    string_digits['Y'] = 0\n",
    "    string_digits = string_digits.astype(str)\n",
    "    # Iterate string digits and append classes\n",
    "    for i, row in string_digits.iterrows():\n",
    "        if len(row['string']) != 4:\n",
    "            row['CC'] = '1'\n",
    "            row['D'] = '10'\n",
    "            row['Y'] = '10'\n",
    "        else:\n",
    "            row['D'] = row['string'][2]\n",
    "            row['Y'] = row['string'][3]\n",
    "            if row['string'][0:2] == '18':\n",
    "                row['CC']='0'\n",
    "            else:\n",
    "                row['CC']='1'\n",
    "    # End of class labeling on string_digits.\n",
    "    #\n",
    "    # Start: create img_df containing scaled images as 1D tensors\n",
    "    # Convert imagery to 1D arrays with tagged file names\n",
    "\n",
    "    #os.chdir(path_images)\n",
    "    image_array, filename = load_image_function('DIDA_12000_String_Digit_Images/DIDA_1')\n",
    "\n",
    "    # and convert to a img_df\n",
    "    img_df = pd.DataFrame({'filename': filename, 'img_value': list(image_array)}, \n",
    "                          columns=['filename', 'img_value'])\n",
    "    # Create proper index value in img_df to allow merge on string_digits\n",
    "    img_df['index'] = img_df['filename']\n",
    "    for i, row in img_df.iterrows():\n",
    "        row['index'] = str(img_df['index'][i]).split('.')[0]\n",
    "    img_df\n",
    "    # End of creating img_df\n",
    "    #\n",
    "    # Start: merge img_df with string_digits\n",
    "    # match index type on dataframes to merge\n",
    "    string_digits['index'] = string_digits['index'].astype(int)\n",
    "    img_df['index'] = img_df['index'].astype(int)\n",
    "    # Merge dataframes\n",
    "    df_img_classes = string_digits.merge(img_df)\n",
    "    # Rearrange order of dataframe\n",
    "    df_img_classes = df_img_classes.reindex(columns= ['index', 'string', 'CC', 'D', 'Y', 'img_value', 'filename'])\n",
    "    # End og merging data frames\n",
    "    return df_img_classes\n"
   ]
  },
  {
   "cell_type": "code",
   "execution_count": 5,
   "id": "c29043f4-cf98-4722-a5c7-f7c00267f8d1",
   "metadata": {
    "tags": []
   },
   "outputs": [
    {
     "data": {
      "text/html": [
       "<div>\n",
       "<style scoped>\n",
       "    .dataframe tbody tr th:only-of-type {\n",
       "        vertical-align: middle;\n",
       "    }\n",
       "\n",
       "    .dataframe tbody tr th {\n",
       "        vertical-align: top;\n",
       "    }\n",
       "\n",
       "    .dataframe thead th {\n",
       "        text-align: right;\n",
       "    }\n",
       "</style>\n",
       "<table border=\"1\" class=\"dataframe\">\n",
       "  <thead>\n",
       "    <tr style=\"text-align: right;\">\n",
       "      <th></th>\n",
       "      <th>index</th>\n",
       "      <th>string</th>\n",
       "      <th>CC</th>\n",
       "      <th>D</th>\n",
       "      <th>Y</th>\n",
       "      <th>img_value</th>\n",
       "      <th>filename</th>\n",
       "    </tr>\n",
       "  </thead>\n",
       "  <tbody>\n",
       "    <tr>\n",
       "      <th>0</th>\n",
       "      <td>561</td>\n",
       "      <td>26</td>\n",
       "      <td>1</td>\n",
       "      <td>10</td>\n",
       "      <td>10</td>\n",
       "      <td>[[[188.0], [188.0], [188.0], [188.0], [188.0],...</td>\n",
       "      <td>561.jpg</td>\n",
       "    </tr>\n",
       "    <tr>\n",
       "      <th>1</th>\n",
       "      <td>10856</td>\n",
       "      <td>27</td>\n",
       "      <td>1</td>\n",
       "      <td>10</td>\n",
       "      <td>10</td>\n",
       "      <td>[[[114.0], [162.0], [162.0], [166.0], [164.0],...</td>\n",
       "      <td>10856.jpg</td>\n",
       "    </tr>\n",
       "    <tr>\n",
       "      <th>2</th>\n",
       "      <td>8237</td>\n",
       "      <td>1829</td>\n",
       "      <td>0</td>\n",
       "      <td>2</td>\n",
       "      <td>9</td>\n",
       "      <td>[[[182.0], [115.0], [195.0], [186.0], [182.0],...</td>\n",
       "      <td>8237.jpg</td>\n",
       "    </tr>\n",
       "    <tr>\n",
       "      <th>3</th>\n",
       "      <td>10312</td>\n",
       "      <td>1807</td>\n",
       "      <td>0</td>\n",
       "      <td>0</td>\n",
       "      <td>7</td>\n",
       "      <td>[[[161.0], [161.0], [160.0], [159.0], [161.0],...</td>\n",
       "      <td>10312.jpg</td>\n",
       "    </tr>\n",
       "    <tr>\n",
       "      <th>4</th>\n",
       "      <td>6661</td>\n",
       "      <td>1831</td>\n",
       "      <td>0</td>\n",
       "      <td>3</td>\n",
       "      <td>1</td>\n",
       "      <td>[[[131.0], [132.0], [131.0], [132.0], [132.0],...</td>\n",
       "      <td>6661.jpg</td>\n",
       "    </tr>\n",
       "    <tr>\n",
       "      <th>...</th>\n",
       "      <td>...</td>\n",
       "      <td>...</td>\n",
       "      <td>...</td>\n",
       "      <td>...</td>\n",
       "      <td>...</td>\n",
       "      <td>...</td>\n",
       "      <td>...</td>\n",
       "    </tr>\n",
       "    <tr>\n",
       "      <th>11995</th>\n",
       "      <td>10108</td>\n",
       "      <td>1799</td>\n",
       "      <td>1</td>\n",
       "      <td>9</td>\n",
       "      <td>9</td>\n",
       "      <td>[[[170.0], [171.0], [170.0], [172.0], [168.0],...</td>\n",
       "      <td>10108.jpg</td>\n",
       "    </tr>\n",
       "    <tr>\n",
       "      <th>11996</th>\n",
       "      <td>10933</td>\n",
       "      <td>1815</td>\n",
       "      <td>0</td>\n",
       "      <td>1</td>\n",
       "      <td>5</td>\n",
       "      <td>[[[168.0], [168.0], [168.0], [168.0], [166.0],...</td>\n",
       "      <td>10933.jpg</td>\n",
       "    </tr>\n",
       "    <tr>\n",
       "      <th>11997</th>\n",
       "      <td>9099</td>\n",
       "      <td>1805</td>\n",
       "      <td>0</td>\n",
       "      <td>0</td>\n",
       "      <td>5</td>\n",
       "      <td>[[[176.0], [176.0], [176.0], [176.0], [176.0],...</td>\n",
       "      <td>9099.jpg</td>\n",
       "    </tr>\n",
       "    <tr>\n",
       "      <th>11998</th>\n",
       "      <td>7074</td>\n",
       "      <td>1836</td>\n",
       "      <td>0</td>\n",
       "      <td>3</td>\n",
       "      <td>6</td>\n",
       "      <td>[[[145.0], [145.0], [144.0], [143.0], [145.0],...</td>\n",
       "      <td>7074.jpg</td>\n",
       "    </tr>\n",
       "    <tr>\n",
       "      <th>11999</th>\n",
       "      <td>11464</td>\n",
       "      <td>1802</td>\n",
       "      <td>0</td>\n",
       "      <td>0</td>\n",
       "      <td>2</td>\n",
       "      <td>[[[169.0], [160.0], [160.0], [161.0], [160.0],...</td>\n",
       "      <td>11464.jpg</td>\n",
       "    </tr>\n",
       "  </tbody>\n",
       "</table>\n",
       "<p>12000 rows × 7 columns</p>\n",
       "</div>"
      ],
      "text/plain": [
       "       index string CC   D   Y  \\\n",
       "0        561     26  1  10  10   \n",
       "1      10856     27  1  10  10   \n",
       "2       8237   1829  0   2   9   \n",
       "3      10312   1807  0   0   7   \n",
       "4       6661   1831  0   3   1   \n",
       "...      ...    ... ..  ..  ..   \n",
       "11995  10108   1799  1   9   9   \n",
       "11996  10933   1815  0   1   5   \n",
       "11997   9099   1805  0   0   5   \n",
       "11998   7074   1836  0   3   6   \n",
       "11999  11464   1802  0   0   2   \n",
       "\n",
       "                                               img_value   filename  \n",
       "0      [[[188.0], [188.0], [188.0], [188.0], [188.0],...    561.jpg  \n",
       "1      [[[114.0], [162.0], [162.0], [166.0], [164.0],...  10856.jpg  \n",
       "2      [[[182.0], [115.0], [195.0], [186.0], [182.0],...   8237.jpg  \n",
       "3      [[[161.0], [161.0], [160.0], [159.0], [161.0],...  10312.jpg  \n",
       "4      [[[131.0], [132.0], [131.0], [132.0], [132.0],...   6661.jpg  \n",
       "...                                                  ...        ...  \n",
       "11995  [[[170.0], [171.0], [170.0], [172.0], [168.0],...  10108.jpg  \n",
       "11996  [[[168.0], [168.0], [168.0], [168.0], [166.0],...  10933.jpg  \n",
       "11997  [[[176.0], [176.0], [176.0], [176.0], [176.0],...   9099.jpg  \n",
       "11998  [[[145.0], [145.0], [144.0], [143.0], [145.0],...   7074.jpg  \n",
       "11999  [[[169.0], [160.0], [160.0], [161.0], [160.0],...  11464.jpg  \n",
       "\n",
       "[12000 rows x 7 columns]"
      ]
     },
     "execution_count": 5,
     "metadata": {},
     "output_type": "execute_result"
    }
   ],
   "source": [
    "#load data and shuffle them around\n",
    "df = load_img_data()\n",
    "df = df.sample(frac=1).reset_index(drop=True)\n",
    "df"
   ]
  },
  {
   "cell_type": "markdown",
   "id": "21f6d9d3-ba33-4932-a5a5-5f6226b89223",
   "metadata": {
    "tags": []
   },
   "source": [
    "### Defining fixed train, test and valdiation sets."
   ]
  },
  {
   "cell_type": "code",
   "execution_count": 6,
   "id": "206a242b-32c5-43e0-8aa6-e5623514850c",
   "metadata": {},
   "outputs": [],
   "source": [
    "df = df.drop(columns=['index','string','filename'])"
   ]
  },
  {
   "cell_type": "markdown",
   "id": "e3ffe32b-dbc7-4f8a-92bc-508dddadc10e",
   "metadata": {
    "tags": []
   },
   "source": [
    "### Split train, val, test"
   ]
  },
  {
   "cell_type": "markdown",
   "id": "581c41bd-84b1-4e90-8a73-6a7a0e3bf424",
   "metadata": {
    "tags": []
   },
   "source": [
    "#### Subsetting df"
   ]
  },
  {
   "cell_type": "code",
   "execution_count": 7,
   "id": "34a07b0e-9e85-40a6-8180-c4d44db617b4",
   "metadata": {
    "tags": []
   },
   "outputs": [],
   "source": [
    "x_train = df.loc[0:7679]\n",
    "x_val = df.loc[7680:9599]\n",
    "x_test = df.loc[9600:11999]"
   ]
  },
  {
   "cell_type": "markdown",
   "id": "70a6b9d7-453d-4ff7-aa67-ff5b3209f195",
   "metadata": {
    "tags": []
   },
   "source": [
    "#### Creating labels"
   ]
  },
  {
   "cell_type": "code",
   "execution_count": 8,
   "id": "c287f35a-01a5-4a73-a49f-922eb41cabc8",
   "metadata": {
    "tags": []
   },
   "outputs": [],
   "source": [
    "#### training labels ###\n",
    "Y_train = x_train['Y']\n",
    "Y_train = Y_train.astype(np.uint8)\n",
    "D_train = x_train['D']\n",
    "D_train = D_train.astype(np.uint8)\n",
    "CC_train = x_train['CC']\n",
    "CC_train = CC_train.astype(np.uint8)\n",
    "\n",
    "#### validation labels ###\n",
    "Y_val = x_val['Y']\n",
    "Y_val = Y_val.astype(np.uint8)\n",
    "D_val = x_val['D']\n",
    "D_val = D_val.astype(np.uint8)\n",
    "CC_val = x_val['CC']\n",
    "CC_val = CC_val.astype(np.uint8)\n",
    "\n",
    "#### test labels ###\n",
    "Y_test = x_test['Y']\n",
    "Y_test = Y_test.astype(np.uint8)\n",
    "D_test = x_test['D']\n",
    "D_test = D_test.astype(np.uint8)\n",
    "CC_test = x_test['CC']\n",
    "CC_test = CC_test.astype(np.uint8)\n"
   ]
  },
  {
   "cell_type": "markdown",
   "id": "43201e8d-e3a6-421f-834d-c25f3f690ea3",
   "metadata": {
    "tags": []
   },
   "source": [
    "#### Creating image values"
   ]
  },
  {
   "cell_type": "code",
   "execution_count": 9,
   "id": "d613b833-6162-411f-920b-d9504a4022f8",
   "metadata": {
    "tags": []
   },
   "outputs": [],
   "source": [
    "# train\n",
    "values = np.zeros(shape=(len(x_train),56,106,1))\n",
    "i = 0\n",
    "j = 0\n",
    "while i < len(x_train):\n",
    "    values[i] = x_train['img_value'][j]\n",
    "    i += 1\n",
    "    j+=1\n",
    "x_train = values/255\n",
    "\n",
    "# val\n",
    "values = np.zeros(shape=(len(x_val),56,106,1))\n",
    "i = 0\n",
    "j = 7680\n",
    "while i < len(x_val):\n",
    "    values[i] = x_val['img_value'][j]\n",
    "    i += 1\n",
    "    j+=1\n",
    "x_val = values/255\n",
    "\n",
    "# test\n",
    "values = np.zeros(shape=(len(x_test),56,106,1))\n",
    "i = 0\n",
    "j = 9600\n",
    "while i < len(x_test):\n",
    "    values[i] = x_test['img_value'][j]\n",
    "    i += 1\n",
    "    j+=1\n",
    "x_test = values/255\n"
   ]
  },
  {
   "cell_type": "markdown",
   "id": "92973f2c-f526-46aa-8962-77c2d998200f",
   "metadata": {
    "tags": []
   },
   "source": [
    "## Question 2.2, a base CNN model"
   ]
  },
  {
   "cell_type": "code",
   "execution_count": 10,
   "id": "2677bf9a-6055-4474-9bd6-9789f5e2187f",
   "metadata": {},
   "outputs": [],
   "source": [
    "import tensorflow as tf\n",
    "import data_loader as dl\n",
    "import numpy as np\n",
    "from numpy.random import seed\n",
    "import matplotlib.pyplot as plt"
   ]
  },
  {
   "cell_type": "markdown",
   "id": "46d0e57b-0045-4c70-8e63-3eaf50839bd2",
   "metadata": {
    "tags": []
   },
   "source": [
    "### VGG4 architecture"
   ]
  },
  {
   "cell_type": "code",
   "execution_count": 14,
   "id": "93a36073-6ad4-4663-a5f9-7266e760b24e",
   "metadata": {
    "tags": []
   },
   "outputs": [
    {
     "name": "stdout",
     "output_type": "stream",
     "text": [
      "Model: \"sequential_2\"\n",
      "_________________________________________________________________\n",
      "Layer (type)                 Output Shape              Param #   \n",
      "=================================================================\n",
      "conv2d_8 (Conv2D)            (None, 54, 104, 32)       320       \n",
      "_________________________________________________________________\n",
      "max_pooling2d_8 (MaxPooling2 (None, 27, 52, 32)        0         \n",
      "_________________________________________________________________\n",
      "conv2d_9 (Conv2D)            (None, 25, 50, 64)        18496     \n",
      "_________________________________________________________________\n",
      "max_pooling2d_9 (MaxPooling2 (None, 12, 25, 64)        0         \n",
      "_________________________________________________________________\n",
      "conv2d_10 (Conv2D)           (None, 10, 23, 128)       73856     \n",
      "_________________________________________________________________\n",
      "max_pooling2d_10 (MaxPooling (None, 5, 11, 128)        0         \n",
      "_________________________________________________________________\n",
      "conv2d_11 (Conv2D)           (None, 3, 9, 256)         295168    \n",
      "_________________________________________________________________\n",
      "max_pooling2d_11 (MaxPooling (None, 1, 4, 256)         0         \n",
      "_________________________________________________________________\n",
      "flatten_2 (Flatten)          (None, 1024)              0         \n",
      "_________________________________________________________________\n",
      "dense_4 (Dense)              (None, 64)                65600     \n",
      "_________________________________________________________________\n",
      "dense_5 (Dense)              (None, 1)                 65        \n",
      "=================================================================\n",
      "Total params: 453,505\n",
      "Trainable params: 453,505\n",
      "Non-trainable params: 0\n",
      "_________________________________________________________________\n"
     ]
    }
   ],
   "source": [
    "VGG4_binary = tf.keras.models.Sequential([\n",
    "    # Block 1\n",
    "    tf.keras.layers.Conv2D(filters=32, kernel_size=(3, 3), activation='relu', input_shape=(56, 106, 1)),\n",
    "    tf.keras.layers.MaxPooling2D(pool_size=(2, 2)),\n",
    "    # Block 2\n",
    "    tf.keras.layers.Conv2D(filters=64, kernel_size=(3, 3), activation='relu'),\n",
    "    tf.keras.layers.MaxPooling2D(pool_size=(2, 2)),\n",
    "    # Block 3\n",
    "    tf.keras.layers.Conv2D(filters=128, kernel_size=(3, 3), activation='relu'),\n",
    "    tf.keras.layers.MaxPooling2D(pool_size=(2, 2)),\n",
    "    # Block 4\n",
    "    tf.keras.layers.Conv2D(filters=256, kernel_size=(3, 3), activation='relu'),\n",
    "    tf.keras.layers.MaxPooling2D(pool_size=(2, 2)),\n",
    "    # Flattening\n",
    "    tf.keras.layers.Flatten(),\n",
    "    tf.keras.layers.Dense(64, activation='relu'),\n",
    "    tf.keras.layers.Dense(1, activation='sigmoid'),\n",
    "    ])\n",
    "\n",
    "VGG4_binary.compile(\n",
    "    optimizer='adam',\n",
    "    loss= 'binary_crossentropy',\n",
    "    metrics=['accuracy'],\n",
    "    ) \n",
    "\n",
    "VGG4_binary.summary()"
   ]
  },
  {
   "cell_type": "markdown",
   "id": "0385d807-e10e-4a8b-92e1-4ab4fe346509",
   "metadata": {
    "tags": []
   },
   "source": [
    "### ModelCC"
   ]
  },
  {
   "cell_type": "code",
   "execution_count": 11,
   "id": "f24f2882-5a1f-4405-8b32-cfa9cbe3b3ff",
   "metadata": {
    "tags": []
   },
   "outputs": [],
   "source": [
    "modelCC = tf.keras.models.Sequential([\n",
    "    tf.keras.layers.Conv2D(filters=32, kernel_size=(3, 3), activation='relu', input_shape=(56, 106, 1)),\n",
    "    tf.keras.layers.MaxPooling2D(pool_size=(2, 2)),\n",
    "    tf.keras.layers.Conv2D(filters=64, kernel_size=(3, 3), activation='relu'),\n",
    "    tf.keras.layers.MaxPooling2D(pool_size=(2, 2)),\n",
    "    tf.keras.layers.Conv2D(filters=128, kernel_size=(3, 3), activation='relu'),\n",
    "    tf.keras.layers.MaxPooling2D(pool_size=(2, 2)),\n",
    "    tf.keras.layers.Conv2D(filters=256, kernel_size=(3, 3), activation='relu'),\n",
    "    tf.keras.layers.MaxPooling2D(pool_size=(2, 2)),\n",
    "    tf.keras.layers.Flatten(),\n",
    "    tf.keras.layers.Dense(64, activation='relu'),\n",
    "    tf.keras.layers.Dense(1, activation='sigmoid'),\n",
    "    ])\n",
    "\n",
    "modelCC.compile(\n",
    "    optimizer='adam',\n",
    "    loss= 'binary_crossentropy',\n",
    "    metrics=['accuracy'],\n",
    "    ) \n"
   ]
  },
  {
   "cell_type": "code",
   "execution_count": 24,
   "id": "f69a27b3-7106-4d99-9a72-d6f2d68906fe",
   "metadata": {
    "tags": []
   },
   "outputs": [
    {
     "data": {
      "image/png": "[encoded data removed]",
      "text/plain": [
       "<Figure size 960x288 with 2 Axes>"
      ]
     },
     "metadata": {
      "needs_background": "light"
     },
     "output_type": "display_data"
    }
   ],
   "source": [
    "history = modelCC.fit(x_train, CC_train, validation_data=(x_val, CC_val), epochs=20, verbose=0)\n",
    "\n",
    "fig = plt.figure(figsize=plt.figaspect(0.3))\n",
    "\n",
    "ax = fig.add_subplot(1, 2, 1)\n",
    "ax.plot(history.history['loss'], label='Training loss')\n",
    "ax.plot(history.history['val_loss'], label='Val loss')\n",
    "plt.xlabel('Epoch')\n",
    "plt.ylabel('Loss')\n",
    "plt.legend()\n",
    "plt.title('Loss, CC VGG4')\n",
    "\n",
    "ax = fig.add_subplot(1, 2, 2)\n",
    "ax.plot(history.history['accuracy'], label='Training accuracy')\n",
    "ax.plot(history.history['val_accuracy'], label='Val accuracy')\n",
    "plt.xlabel('Epoch')\n",
    "plt.ylabel('Accuracy')\n",
    "plt.legend()\n",
    "plt.title('Accuracy, CC VGG4')\n",
    "\n",
    "plt.show()"
   ]
  },
  {
   "cell_type": "code",
   "execution_count": 25,
   "id": "b314f62c-e2e8-4376-a9c5-d4f448952cc5",
   "metadata": {},
   "outputs": [
    {
     "name": "stdout",
     "output_type": "stream",
     "text": [
      "1/1 [==============================] - 0s 114ms/step - loss: 0.0695 - accuracy: 0.9896\n"
     ]
    },
    {
     "data": {
      "text/plain": [
       "[0.06946999579668045, 0.9895833134651184]"
      ]
     },
     "execution_count": 25,
     "metadata": {},
     "output_type": "execute_result"
    }
   ],
   "source": [
    "modelCC.evaluate(x_val, CC_val, batch_size = len(CC_val))"
   ]
  },
  {
   "cell_type": "markdown",
   "id": "e31753a8-a6c2-419e-8b89-0a3840e035b2",
   "metadata": {
    "tags": []
   },
   "source": [
    "### ModelY"
   ]
  },
  {
   "cell_type": "code",
   "execution_count": 12,
   "id": "70938d38-0349-4d88-bab1-ad019fbf23f7",
   "metadata": {
    "tags": []
   },
   "outputs": [],
   "source": [
    "modelY = tf.keras.models.Sequential([\n",
    "    tf.keras.layers.Conv2D(filters=32, kernel_size=(3, 3), activation='relu', input_shape=(56, 106, 1)),\n",
    "    tf.keras.layers.MaxPooling2D(pool_size=(2, 2)),\n",
    "    tf.keras.layers.Conv2D(filters=64, kernel_size=(3, 3), activation='relu'),\n",
    "    tf.keras.layers.MaxPooling2D(pool_size=(2, 2)),\n",
    "    tf.keras.layers.Conv2D(filters=128, kernel_size=(3, 3), activation='relu'),\n",
    "    tf.keras.layers.MaxPooling2D(pool_size=(2, 2)),\n",
    "    tf.keras.layers.Conv2D(filters=256, kernel_size=(3, 3), activation='relu'),\n",
    "    tf.keras.layers.MaxPooling2D(pool_size=(2, 2)),\n",
    "    tf.keras.layers.Flatten(),\n",
    "    tf.keras.layers.Dense(64, activation='relu'),\n",
    "    tf.keras.layers.Dense(11, activation='softmax'),\n",
    "    ])\n",
    "\n",
    "modelY.compile(\n",
    "    optimizer='adam',\n",
    "    loss= 'sparse_categorical_crossentropy',\n",
    "    metrics=['accuracy'],\n",
    "    ) \n"
   ]
  },
  {
   "cell_type": "code",
   "execution_count": 27,
   "id": "9b6c15f3-77b7-43e6-8295-9b8535c371d8",
   "metadata": {
    "tags": []
   },
   "outputs": [
    {
     "data": {
      "image/png": "[encoded data removed]",
      "text/plain": [
       "<Figure size 960x288 with 2 Axes>"
      ]
     },
     "metadata": {
      "needs_background": "light"
     },
     "output_type": "display_data"
    }
   ],
   "source": [
    "history = modelY.fit(x_train, Y_train, validation_data=(x_val, Y_val), epochs=20, verbose=0)\n",
    "\n",
    "fig = plt.figure(figsize=plt.figaspect(0.3))\n",
    "\n",
    "ax = fig.add_subplot(1, 2, 1)\n",
    "ax.plot(history.history['loss'], label='Training loss')\n",
    "ax.plot(history.history['val_loss'], label='Val loss')\n",
    "plt.xlabel('Epoch')\n",
    "plt.ylabel('Loss')\n",
    "plt.legend()\n",
    "plt.title('Loss, Y VGG4')\n",
    "\n",
    "ax = fig.add_subplot(1, 2, 2)\n",
    "ax.plot(history.history['accuracy'], label='Training accuracy')\n",
    "ax.plot(history.history['val_accuracy'], label='Val accuracy')\n",
    "plt.xlabel('Epoch')\n",
    "plt.ylabel('Accuracy')\n",
    "plt.legend()\n",
    "plt.title('Accuracy, Y VGG4')\n",
    "\n",
    "plt.show()"
   ]
  },
  {
   "cell_type": "code",
   "execution_count": 28,
   "id": "d1ab1b51-3033-43fc-b2fa-4459e86ee7e6",
   "metadata": {},
   "outputs": [
    {
     "name": "stdout",
     "output_type": "stream",
     "text": [
      "1/1 [==============================] - 0s 115ms/step - loss: 1.0501 - accuracy: 0.8687\n"
     ]
    },
    {
     "data": {
      "text/plain": [
       "[1.0501494407653809, 0.8687499761581421]"
      ]
     },
     "execution_count": 28,
     "metadata": {},
     "output_type": "execute_result"
    }
   ],
   "source": [
    "modelY.evaluate(x_val, Y_val, batch_size = len(Y_val))"
   ]
  },
  {
   "cell_type": "markdown",
   "id": "d5d23de1-84d6-4084-9dea-51d8f59699c9",
   "metadata": {
    "tags": []
   },
   "source": [
    "### ModelD"
   ]
  },
  {
   "cell_type": "code",
   "execution_count": 14,
   "id": "027366e2-be0d-4c53-9cd6-694e9af1d76f",
   "metadata": {
    "tags": []
   },
   "outputs": [],
   "source": [
    "modelD = tf.keras.models.Sequential([\n",
    "    tf.keras.layers.Conv2D(filters=32, kernel_size=(3, 3), activation='relu', input_shape=(56, 106, 1)),\n",
    "    tf.keras.layers.MaxPooling2D(pool_size=(2, 2)),\n",
    "    tf.keras.layers.Conv2D(filters=64, kernel_size=(3, 3), activation='relu'),\n",
    "    tf.keras.layers.MaxPooling2D(pool_size=(2, 2)),\n",
    "    tf.keras.layers.Conv2D(filters=128, kernel_size=(3, 3), activation='relu'),\n",
    "    tf.keras.layers.MaxPooling2D(pool_size=(2, 2)),\n",
    "    tf.keras.layers.Conv2D(filters=256, kernel_size=(3, 3), activation='relu'),\n",
    "    tf.keras.layers.MaxPooling2D(pool_size=(2, 2)),\n",
    "    tf.keras.layers.Flatten(),\n",
    "    tf.keras.layers.Dense(64, activation='relu'),\n",
    "    tf.keras.layers.Dense(11, activation='softmax'),\n",
    "    ])\n",
    "\n",
    "modelD.compile(\n",
    "    optimizer='adam',\n",
    "    loss= 'sparse_categorical_crossentropy',\n",
    "    metrics=['accuracy'],\n",
    "    ) \n"
   ]
  },
  {
   "cell_type": "code",
   "execution_count": 15,
   "id": "30a0e9da-8955-492c-acd9-14b254b8cf7a",
   "metadata": {
    "tags": []
   },
   "outputs": [
    {
     "data": {
      "image/png": "[encoded data removed]",
      "text/plain": [
       "<Figure size 960x288 with 2 Axes>"
      ]
     },
     "metadata": {
      "needs_background": "light"
     },
     "output_type": "display_data"
    }
   ],
   "source": [
    "history = modelD.fit(x_train, D_train, validation_data=(x_val, D_val), epochs=20, verbose=0)\n",
    "\n",
    "fig = plt.figure(figsize=plt.figaspect(0.3))\n",
    "\n",
    "ax = fig.add_subplot(1, 2, 1)\n",
    "ax.plot(history.history['loss'], label='Training loss')\n",
    "ax.plot(history.history['val_loss'], label='Val loss')\n",
    "plt.xlabel('Epoch')\n",
    "plt.ylabel('Loss')\n",
    "plt.legend()\n",
    "plt.title('Loss, D VGG4')\n",
    "\n",
    "ax = fig.add_subplot(1, 2, 2)\n",
    "ax.plot(history.history['accuracy'], label='Training accuracy')\n",
    "ax.plot(history.history['val_accuracy'], label='Val accuracy')\n",
    "plt.xlabel('Epoch')\n",
    "plt.ylabel('Accuracy')\n",
    "plt.legend()\n",
    "plt.title('Accuracy, Class D')\n",
    "\n",
    "plt.show()"
   ]
  },
  {
   "cell_type": "code",
   "execution_count": 16,
   "id": "412857af-1ee1-44cf-91df-7fc0b9e09e59",
   "metadata": {},
   "outputs": [
    {
     "name": "stdout",
     "output_type": "stream",
     "text": [
      "1/1 [==============================] - 1s 913ms/step - loss: 0.4655 - accuracy: 0.9385\n"
     ]
    },
    {
     "data": {
      "text/plain": [
       "[0.46549665927886963, 0.9385416507720947]"
      ]
     },
     "execution_count": 16,
     "metadata": {},
     "output_type": "execute_result"
    }
   ],
   "source": [
    "modelD.evaluate(x_val, D_val, batch_size = len(D_val))"
   ]
  }
 ],
 "metadata": {
  "kernelspec": {
   "display_name": "Python 3 (ipykernel)",
   "language": "python",
   "name": "python3"
  },
  "language_info": {
   "codemirror_mode": {
    "name": "ipython",
    "version": 3
   },
   "file_extension": ".py",
   "mimetype": "text/x-python",
   "name": "python",
   "nbconvert_exporter": "python",
   "pygments_lexer": "ipython3",
   "version": "3.9.7"
  }
 },
 "nbformat": 4,
 "nbformat_minor": 5
}
