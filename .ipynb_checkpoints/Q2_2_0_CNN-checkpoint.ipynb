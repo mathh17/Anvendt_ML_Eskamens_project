{
 "cells": [
  {
   "cell_type": "code",
   "execution_count": 1,
   "id": "9d1a81fc-dff3-4e2b-8a92-bb866bb36d19",
   "metadata": {},
   "outputs": [],
   "source": [
    "!conda activate DS807"
   ]
  },
  {
   "cell_type": "code",
   "execution_count": 2,
   "id": "b65478fd-f7e6-42ba-afde-65985da6f0c8",
   "metadata": {},
   "outputs": [],
   "source": [
    "import tensorflow as tf\n",
    "import data_loader as dl\n",
    "import numpy as np\n",
    "from numpy.random import seed\n",
    "import matplotlib.pyplot as plt"
   ]
  },
  {
   "cell_type": "code",
   "execution_count": 3,
   "id": "8b9a7360-1a42-403f-804d-33f6ed05c6e0",
   "metadata": {},
   "outputs": [
    {
     "data": {
      "text/html": [
       "<div>\n",
       "<style scoped>\n",
       "    .dataframe tbody tr th:only-of-type {\n",
       "        vertical-align: middle;\n",
       "    }\n",
       "\n",
       "    .dataframe tbody tr th {\n",
       "        vertical-align: top;\n",
       "    }\n",
       "\n",
       "    .dataframe thead th {\n",
       "        text-align: right;\n",
       "    }\n",
       "</style>\n",
       "<table border=\"1\" class=\"dataframe\">\n",
       "  <thead>\n",
       "    <tr style=\"text-align: right;\">\n",
       "      <th></th>\n",
       "      <th>index</th>\n",
       "      <th>string</th>\n",
       "      <th>CC</th>\n",
       "      <th>D</th>\n",
       "      <th>Y</th>\n",
       "      <th>gray_value</th>\n",
       "      <th>filename</th>\n",
       "    </tr>\n",
       "  </thead>\n",
       "  <tbody>\n",
       "    <tr>\n",
       "      <th>0</th>\n",
       "      <td>1</td>\n",
       "      <td>1836</td>\n",
       "      <td>0</td>\n",
       "      <td>3</td>\n",
       "      <td>6</td>\n",
       "      <td>[[[166.0], [167.0], [166.0], [162.0], [164.0],...</td>\n",
       "      <td>1.jpg</td>\n",
       "    </tr>\n",
       "    <tr>\n",
       "      <th>1</th>\n",
       "      <td>2</td>\n",
       "      <td>1836</td>\n",
       "      <td>0</td>\n",
       "      <td>3</td>\n",
       "      <td>6</td>\n",
       "      <td>[[[169.0], [168.0], [169.0], [170.0], [166.0],...</td>\n",
       "      <td>2.jpg</td>\n",
       "    </tr>\n",
       "    <tr>\n",
       "      <th>2</th>\n",
       "      <td>3</td>\n",
       "      <td>1840</td>\n",
       "      <td>0</td>\n",
       "      <td>4</td>\n",
       "      <td>0</td>\n",
       "      <td>[[[167.0], [169.0], [169.0], [166.0], [165.0],...</td>\n",
       "      <td>3.jpg</td>\n",
       "    </tr>\n",
       "    <tr>\n",
       "      <th>3</th>\n",
       "      <td>4</td>\n",
       "      <td>1840</td>\n",
       "      <td>0</td>\n",
       "      <td>4</td>\n",
       "      <td>0</td>\n",
       "      <td>[[[167.0], [165.0], [165.0], [165.0], [163.0],...</td>\n",
       "      <td>4.jpg</td>\n",
       "    </tr>\n",
       "    <tr>\n",
       "      <th>4</th>\n",
       "      <td>5</td>\n",
       "      <td>1823</td>\n",
       "      <td>0</td>\n",
       "      <td>2</td>\n",
       "      <td>3</td>\n",
       "      <td>[[[62.0], [45.0], [45.0], [37.0], [40.0], [33....</td>\n",
       "      <td>5.jpg</td>\n",
       "    </tr>\n",
       "    <tr>\n",
       "      <th>...</th>\n",
       "      <td>...</td>\n",
       "      <td>...</td>\n",
       "      <td>...</td>\n",
       "      <td>...</td>\n",
       "      <td>...</td>\n",
       "      <td>...</td>\n",
       "      <td>...</td>\n",
       "    </tr>\n",
       "    <tr>\n",
       "      <th>11995</th>\n",
       "      <td>11996</td>\n",
       "      <td>1808</td>\n",
       "      <td>0</td>\n",
       "      <td>0</td>\n",
       "      <td>8</td>\n",
       "      <td>[[[88.0], [62.0], [60.0], [68.0], [61.0], [101...</td>\n",
       "      <td>11996.jpg</td>\n",
       "    </tr>\n",
       "    <tr>\n",
       "      <th>11996</th>\n",
       "      <td>11997</td>\n",
       "      <td>1809</td>\n",
       "      <td>0</td>\n",
       "      <td>0</td>\n",
       "      <td>9</td>\n",
       "      <td>[[[173.0], [171.0], [173.0], [175.0], [174.0],...</td>\n",
       "      <td>11997.jpg</td>\n",
       "    </tr>\n",
       "    <tr>\n",
       "      <th>11997</th>\n",
       "      <td>11998</td>\n",
       "      <td>1840</td>\n",
       "      <td>0</td>\n",
       "      <td>4</td>\n",
       "      <td>0</td>\n",
       "      <td>[[[189.0], [189.0], [189.0], [189.0], [189.0],...</td>\n",
       "      <td>11998.jpg</td>\n",
       "    </tr>\n",
       "    <tr>\n",
       "      <th>11998</th>\n",
       "      <td>11999</td>\n",
       "      <td>1840</td>\n",
       "      <td>0</td>\n",
       "      <td>4</td>\n",
       "      <td>0</td>\n",
       "      <td>[[[191.0], [192.0], [192.0], [192.0], [193.0],...</td>\n",
       "      <td>11999.jpg</td>\n",
       "    </tr>\n",
       "    <tr>\n",
       "      <th>11999</th>\n",
       "      <td>12000</td>\n",
       "      <td>1810</td>\n",
       "      <td>0</td>\n",
       "      <td>1</td>\n",
       "      <td>0</td>\n",
       "      <td>[[[175.0], [177.0], [177.0], [175.0], [174.0],...</td>\n",
       "      <td>12000.jpg</td>\n",
       "    </tr>\n",
       "  </tbody>\n",
       "</table>\n",
       "<p>12000 rows × 7 columns</p>\n",
       "</div>"
      ],
      "text/plain": [
       "       index string CC  D  Y  \\\n",
       "0          1   1836  0  3  6   \n",
       "1          2   1836  0  3  6   \n",
       "2          3   1840  0  4  0   \n",
       "3          4   1840  0  4  0   \n",
       "4          5   1823  0  2  3   \n",
       "...      ...    ... .. .. ..   \n",
       "11995  11996   1808  0  0  8   \n",
       "11996  11997   1809  0  0  9   \n",
       "11997  11998   1840  0  4  0   \n",
       "11998  11999   1840  0  4  0   \n",
       "11999  12000   1810  0  1  0   \n",
       "\n",
       "                                              gray_value   filename  \n",
       "0      [[[166.0], [167.0], [166.0], [162.0], [164.0],...      1.jpg  \n",
       "1      [[[169.0], [168.0], [169.0], [170.0], [166.0],...      2.jpg  \n",
       "2      [[[167.0], [169.0], [169.0], [166.0], [165.0],...      3.jpg  \n",
       "3      [[[167.0], [165.0], [165.0], [165.0], [163.0],...      4.jpg  \n",
       "4      [[[62.0], [45.0], [45.0], [37.0], [40.0], [33....      5.jpg  \n",
       "...                                                  ...        ...  \n",
       "11995  [[[88.0], [62.0], [60.0], [68.0], [61.0], [101...  11996.jpg  \n",
       "11996  [[[173.0], [171.0], [173.0], [175.0], [174.0],...  11997.jpg  \n",
       "11997  [[[189.0], [189.0], [189.0], [189.0], [189.0],...  11998.jpg  \n",
       "11998  [[[191.0], [192.0], [192.0], [192.0], [193.0],...  11999.jpg  \n",
       "11999  [[[175.0], [177.0], [177.0], [175.0], [174.0],...  12000.jpg  \n",
       "\n",
       "[12000 rows x 7 columns]"
      ]
     },
     "execution_count": 3,
     "metadata": {},
     "output_type": "execute_result"
    }
   ],
   "source": [
    "df = dl.load_1d_grays()\n",
    "df"
   ]
  },
  {
   "cell_type": "code",
   "execution_count": 4,
   "id": "6a49c216-5269-4e92-8d1c-959717917439",
   "metadata": {},
   "outputs": [
    {
     "data": {
      "text/plain": [
       "(12000, 56, 106, 1)"
      ]
     },
     "execution_count": 4,
     "metadata": {},
     "output_type": "execute_result"
    }
   ],
   "source": [
    "arr = np.zeros(shape=(12000,56,106,1))\n",
    "i = 0\n",
    "while i < 12000:\n",
    "    arr[i] = df['gray_value'][i]\n",
    "    i += 1\n",
    "arr.shape"
   ]
  },
  {
   "cell_type": "code",
   "execution_count": 5,
   "id": "07e8df3d-ae42-4167-9693-6585ec50b9cb",
   "metadata": {},
   "outputs": [],
   "source": [
    "x_values = arr/255\n",
    "cc_values = df['CC'].astype(np.uint8)\n",
    "d_values = df['D'].astype(np.uint8)\n",
    "y_values = df['Y'].astype(np.uint8)"
   ]
  },
  {
   "cell_type": "code",
   "execution_count": 6,
   "id": "3958aa2d-ea0e-4841-87a0-1700afb86694",
   "metadata": {},
   "outputs": [
    {
     "name": "stdout",
     "output_type": "stream",
     "text": [
      "(7680, 56, 106, 1) (1920, 56, 106, 1) (2400, 56, 106, 1)\n"
     ]
    }
   ],
   "source": [
    "from sklearn.model_selection import train_test_split\n",
    "#D\n",
    "xD_train, xD_test, yD_train, yD_test = train_test_split(x_values, d_values, test_size=0.2, random_state=2022)\n",
    "xD_train, xD_val, yD_train, yD_val = train_test_split(xD_train, yD_train, test_size=0.2, random_state=2022)\n",
    "print(xD_train.shape, xD_val.shape, xD_test.shape)"
   ]
  },
  {
   "cell_type": "code",
   "execution_count": 11,
   "id": "5a6e644e-0864-4690-9920-926f8f8186d6",
   "metadata": {},
   "outputs": [],
   "source": [
    "models = tf.keras.models.Sequential([\n",
    "    tf.keras.layers.Conv2D(filters=32, kernel_size=(3, 3), activation='relu', input_shape=(56, 106, 1)),\n",
    "    #tf.keras.layers.MaxPooling2D(pool_size=(2, 2)),\n",
    "    tf.keras.layers.Conv2D(filters=64, kernel_size=(3, 3), activation='relu'),\n",
    "    tf.keras.layers.MaxPooling2D(pool_size=(2, 2)),\n",
    "    tf.keras.layers.Conv2D(filters=32, kernel_size=(3, 3), activation='relu'),\n",
    "    tf.keras.layers.MaxPooling2D(pool_size=(2, 2)),\n",
    "    tf.keras.layers.Flatten(), # flatten before fully connected part\n",
    "    tf.keras.layers.Dense(64, activation='relu'),\n",
    "    tf.keras.layers.Dense(11, activation='softmax'),\n",
    "    ])\n",
    "\n",
    "models.compile(\n",
    "    optimizer='adam',\n",
    "    loss= 'sparse_categorical_crossentropy',\n",
    "    metrics=['accuracy'],\n",
    "    )\n",
    "#models.summary()"
   ]
  },
  {
   "cell_type": "code",
   "execution_count": null,
   "id": "57f8e9f1-6fd7-4d0e-bc8c-e49b3eb1c2e9",
   "metadata": {},
   "outputs": [],
   "source": [
    "#seed(100) #set fixed random seed from numpy\n",
    "history = models.fit(xD_train, yD_train, validation_data=(xD_val, yD_val), epochs=30, verbose=0)\n",
    "\n",
    "plt.plot(history.history['accuracy'], label = 'Train')\n",
    "plt.plot(history.history['val_accuracy'], label = 'Val')\n",
    "plt.xlabel('Epoch')\n",
    "plt.ylabel('Accuracy')\n",
    "plt.legend()"
   ]
  }
 ],
 "metadata": {
  "kernelspec": {
   "display_name": "Python 3 (ipykernel)",
   "language": "python",
   "name": "python3"
  },
  "language_info": {
   "codemirror_mode": {
    "name": "ipython",
    "version": 3
   },
   "file_extension": ".py",
   "mimetype": "text/x-python",
   "name": "python",
   "nbconvert_exporter": "python",
   "pygments_lexer": "ipython3",
   "version": "3.9.7"
  }
 },
 "nbformat": 4,
 "nbformat_minor": 5
}
