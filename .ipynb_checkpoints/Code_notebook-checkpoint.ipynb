{
 "cells": [
  {
   "cell_type": "code",
   "execution_count": 1,
   "id": "3df11f8a-3e08-452b-968e-964914597450",
   "metadata": {},
   "outputs": [],
   "source": [
    "!conda activate DS807"
   ]
  },
  {
   "cell_type": "markdown",
   "id": "8e8d9e3d-61a7-47e6-9ea1-0eb5963793c2",
   "metadata": {},
   "source": [
    "# Exam DS807"
   ]
  },
  {
   "cell_type": "markdown",
   "id": "ee8c8b10-14af-4e31-b704-641e3e440e34",
   "metadata": {
    "jp-MarkdownHeadingCollapsed": true,
    "tags": []
   },
   "source": [
    "## Preparation of data"
   ]
  },
  {
   "cell_type": "markdown",
   "id": "adaf350d-379a-4f71-816b-f7713c92c6ac",
   "metadata": {
    "jp-MarkdownHeadingCollapsed": true,
    "tags": []
   },
   "source": [
    "### Labeling Data and converting images to array values"
   ]
  },
  {
   "cell_type": "code",
   "execution_count": 2,
   "id": "f1c827c2-ddba-4711-84b0-2507327afedd",
   "metadata": {
    "tags": []
   },
   "outputs": [],
   "source": [
    "#import packages for labelling and converting imagery data\n",
    "import pandas as pd\n",
    "import numpy as np\n",
    "import os\n",
    "from keras.preprocessing.image import load_img\n",
    "from keras.preprocessing.image import img_to_array\n",
    "from numpy import asarray"
   ]
  },
  {
   "cell_type": "code",
   "execution_count": 3,
   "id": "c6b5a19b-97c1-45bd-af74-9f9f2e1845fe",
   "metadata": {
    "tags": []
   },
   "outputs": [],
   "source": [
    "##############\n",
    "# Func for creating 1D image arrays\n",
    "\n",
    "def load_image_function(path, question):\n",
    "\n",
    "    images = [] # empty list placeholder\n",
    "    labels = [] # empty list placeholder\n",
    "    container = [] # container to validate correct labels\n",
    "\n",
    "    for filename in os.listdir(path):\n",
    "        container.append(filename) # add filename to container\n",
    "        if question == 'q1':\n",
    "            CCDY_img = load_img(path + f'/{filename}', target_size = (56, 106),\n",
    "            color_mode=\"grayscale\")                  \n",
    "            CCDY_img = img_to_array(CCDY_img)\n",
    "            images.append(CCDY_img) # append the photo to the images. The images list contains a list of arrays       \n",
    "        else:\n",
    "            CCDY_img = load_img(path + f'/{filename}', target_size = (56, 106))        \n",
    "            CCDY_img = img_to_array(CCDY_img)\n",
    "            images.append(CCDY_img) # append the photo to the images. The images list contains a list of arrays    \n",
    "\n",
    "    return asarray(images), container; # not interested in list of arrays, but array containing lists. Asarray does this. Returns three arrays"
   ]
  },
  {
   "cell_type": "code",
   "execution_count": 4,
   "id": "7bfc80fe-d95a-4ce5-bcb8-615dc5a4a856",
   "metadata": {
    "tags": []
   },
   "outputs": [],
   "source": [
    "################\n",
    "# Func for creating df with classes and 3d img arrays\n",
    "\n",
    "def load_img_data (question):\n",
    "    # Start: creatign classes ons string_digits\n",
    "    # load string digits\n",
    "\n",
    "    #os.chdir(path_string_digits)\n",
    "\n",
    "    string_digits = pd.read_csv('DIDA_12000_String_Digit_Labels.csv', \n",
    "                 header = None, \n",
    "                 names=[\"index\", \"string\"])\n",
    "    # create empty class columns\n",
    "    string_digits['CC'] = 0\n",
    "    string_digits['D'] = 0\n",
    "    string_digits['Y'] = 0\n",
    "    string_digits = string_digits.astype(str)\n",
    "    # Iterate string digits and append classes\n",
    "    for i, row in string_digits.iterrows():\n",
    "        if len(row['string']) != 4:\n",
    "            row['CC'] = '1'\n",
    "            row['D'] = '10'\n",
    "            row['Y'] = '10'\n",
    "        else:\n",
    "            row['D'] = row['string'][2]\n",
    "            row['Y'] = row['string'][3]\n",
    "            if row['string'][0:2] == '18':\n",
    "                row['CC']='0'\n",
    "            else:\n",
    "                row['CC']='1'\n",
    "    # End of class labeling on string_digits.\n",
    "    #\n",
    "    # Start: create img_df containing scaled images as 1D tensors\n",
    "    # Convert imagery to 1D arrays with tagged file names\n",
    "\n",
    "    #os.chdir(path_images)\n",
    "    image_array, filename = load_image_function('DIDA_12000_String_Digit_Images/DIDA_1', question)\n",
    "\n",
    "    # and convert to a img_df\n",
    "    img_df = pd.DataFrame({'filename': filename, 'img_value': list(image_array)}, \n",
    "                          columns=['filename', 'img_value'])\n",
    "    # Create proper index value in img_df to allow merge on string_digits\n",
    "    img_df['index'] = img_df['filename']\n",
    "    for i, row in img_df.iterrows():\n",
    "        row['index'] = str(img_df['index'][i]).split('.')[0]\n",
    "    img_df\n",
    "    # End of creating img_df\n",
    "    #\n",
    "    # Start: merge img_df with string_digits\n",
    "    # match index type on dataframes to merge\n",
    "    string_digits['index'] = string_digits['index'].astype(int)\n",
    "    img_df['index'] = img_df['index'].astype(int)\n",
    "    # Merge dataframes\n",
    "    df_img_classes = string_digits.merge(img_df)\n",
    "    # Rearrange order of dataframe\n",
    "    df_img_classes = df_img_classes.reindex(columns= ['index', 'string', 'CC', 'D', 'Y', 'img_value', 'filename'])\n",
    "    # End og merging data frames\n",
    "    return df_img_classes\n"
   ]
  },
  {
   "cell_type": "code",
   "execution_count": 5,
   "id": "d9419d21-94d2-4302-8a39-811ac9cfaa1b",
   "metadata": {
    "tags": []
   },
   "outputs": [
    {
     "data": {
      "text/plain": [
       "(56, 106, 1)"
      ]
     },
     "execution_count": 5,
     "metadata": {},
     "output_type": "execute_result"
    }
   ],
   "source": [
    "df_q1 = load_img_data('q1')\n",
    "df_q1['img_value'][0].shape"
   ]
  },
  {
   "cell_type": "code",
   "execution_count": 6,
   "id": "8aafcf9a-8a64-430c-9366-dcf6ab9e0a8d",
   "metadata": {
    "tags": []
   },
   "outputs": [
    {
     "data": {
      "text/plain": [
       "(56, 106, 3)"
      ]
     },
     "execution_count": 6,
     "metadata": {},
     "output_type": "execute_result"
    }
   ],
   "source": [
    "df_q2 = load_img_data('q2')\n",
    "df_q2['img_value'][0].shape"
   ]
  },
  {
   "cell_type": "markdown",
   "id": "8269a831-a006-4ee1-9978-d58664603598",
   "metadata": {
    "jp-MarkdownHeadingCollapsed": true,
    "tags": []
   },
   "source": [
    "### Defining fixed train, test and valdiation sets."
   ]
  },
  {
   "cell_type": "code",
   "execution_count": 7,
   "id": "caeaf849-69c9-410d-b4af-da60db0240bd",
   "metadata": {},
   "outputs": [],
   "source": [
    "df_q1 = df_q1.drop(columns=['index','string','filename'])\n",
    "\n",
    "df_q2 = df_q2.drop(columns=['index','string','filename'])\n"
   ]
  },
  {
   "cell_type": "markdown",
   "id": "9a8364d2-8dbe-4949-a064-9fbbbd97b7fd",
   "metadata": {
    "tags": []
   },
   "source": [
    "### Split train, val, test"
   ]
  },
  {
   "cell_type": "markdown",
   "id": "391e17fa-29c4-43ce-b59f-9d9ed6b2f37d",
   "metadata": {
    "tags": []
   },
   "source": [
    "#### Subsetting df"
   ]
  },
  {
   "cell_type": "code",
   "execution_count": 9,
   "id": "4454d3be-b453-4ad9-903c-4070e7f165f6",
   "metadata": {
    "jupyter": {
     "source_hidden": true
    },
    "tags": []
   },
   "outputs": [],
   "source": [
    "gray_train = df_q1.loc[0:7679]\n",
    "gray_val = df_q1.loc[7680:9599]\n",
    "gray_test = df_q1.loc[9600:11999]\n",
    "rgb_train = df_q1.loc[0:7679]\n",
    "rgb_val = df_q1.loc[7680:9599]\n",
    "rgb_test = df_q1.loc[9600:11999]\n"
   ]
  },
  {
   "cell_type": "markdown",
   "id": "2ca7f408-90f9-4035-8b12-bb224bba7d15",
   "metadata": {
    "tags": []
   },
   "source": [
    "#### Creating labels"
   ]
  },
  {
   "cell_type": "code",
   "execution_count": 13,
   "id": "724602f6-2572-4c6d-b521-431cebc025d0",
   "metadata": {
    "jupyter": {
     "source_hidden": true
    },
    "tags": []
   },
   "outputs": [],
   "source": [
    "#### training labels ###\n",
    "gray_Y_train = gray_train['Y']\n",
    "gray_Y_train = gray_Y_train.astype(np.uint8)\n",
    "gray_D_train = gray_train['D']\n",
    "gray_D_train = gray_D_train.astype(np.uint8)\n",
    "gray_CC_train = gray_train['CC']\n",
    "gray_CC_train = gray_CC_train.astype(np.uint8)\n",
    "\n",
    "rgb_Y_train = rgb_train['Y']\n",
    "rgb_Y_train = rgb_Y_train.astype(np.uint8)\n",
    "rgb_D_train = rgb_train['D']\n",
    "rgb_D_train = rgb_D_train.astype(np.uint8)\n",
    "rgb_CC_train = rgb_train['CC']\n",
    "rgb_CC_train = rgb_CC_train.astype(np.uint8)\n",
    "\n",
    "#### validation labels ###\n",
    "gray_Y_val = gray_val['Y']\n",
    "gray_Y_val = gray_Y_val.astype(np.uint8)\n",
    "gray_D_val = gray_val['D']\n",
    "gray_D_val = gray_D_val.astype(np.uint8)\n",
    "gray_CC_val = gray_val['CC']\n",
    "gray_CC_val = gray_CC_val.astype(np.uint8)\n",
    "\n",
    "rgb_Y_val = rgb_val['Y']\n",
    "rgb_Y_val = rgb_Y_val.astype(np.uint8)\n",
    "rgb_D_val = rgb_val['D']\n",
    "rgb_D_val = rgb_D_val.astype(np.uint8)\n",
    "rgb_CC_val = rgb_val['CC']\n",
    "rgb_CC_val = rgb_CC_val.astype(np.uint8)\n",
    "\n",
    "#### test labels ###\n",
    "gray_Y_test = gray_test['Y']\n",
    "gray_Y_test = gray_Y_test.astype(np.uint8)\n",
    "gray_D_test = gray_test['D']\n",
    "gray_D_test = gray_D_test.astype(np.uint8) ###############\n",
    "gray_CC_test = gray_test['CC']\n",
    "gray_CC_test = gray_CC_test.astype(np.uint8)\n",
    "\n",
    "rgb_Y_test = rgb_test['Y']\n",
    "rgb_Y_test = rgb_Y_test.astype(np.uint8)\n",
    "rgb_D_test = rgb_test['D']\n",
    "rgb_D_test = rgb_D_test.astype(np.uint8)\n",
    "rgb_CC_test = rgb_test['CC']\n",
    "rgb_CC_test = rgb_CC_test.astype(np.uint8)"
   ]
  },
  {
   "cell_type": "markdown",
   "id": "90128b8b-bcf6-4d0f-bbd1-1a06f0f103b4",
   "metadata": {
    "tags": []
   },
   "source": [
    "#### Creating image values"
   ]
  },
  {
   "cell_type": "code",
   "execution_count": 14,
   "id": "e21e34da-6aed-43f8-bd3f-d1012e45f816",
   "metadata": {
    "jupyter": {
     "source_hidden": true
    },
    "tags": []
   },
   "outputs": [],
   "source": [
    "#### gray values ####\n",
    "#gray train\n",
    "values = np.zeros(shape=(len(gray_train),56,106,1))\n",
    "i = 0\n",
    "j = 0\n",
    "while i < len(gray_train):\n",
    "    values[i] = gray_train['img_value'][j]\n",
    "    i += 1\n",
    "    j+=1\n",
    "gray_train = values\n",
    "\n",
    "#gray val\n",
    "values = np.zeros(shape=(len(gray_val),56,106,1))\n",
    "i = 0\n",
    "j = 7680\n",
    "while i < len(gray_val):\n",
    "    values[i] = gray_val['img_value'][j]\n",
    "    i += 1\n",
    "    j+=1\n",
    "gray_val = values  \n",
    "\n",
    "#gray test\n",
    "values = np.zeros(shape=(len(gray_test),56,106,1))\n",
    "i = 0\n",
    "j = 9600\n",
    "while i < len(gray_test):\n",
    "    values[i] = gray_test['img_value'][j]\n",
    "    i += 1\n",
    "    j+=1\n",
    "gray_test = values     \n",
    "\n",
    "\n",
    "#### RGB values ####\n",
    "#gray train\n",
    "values = np.zeros(shape=(len(rgb_train),56,106,3))\n",
    "i = 0\n",
    "j = 0\n",
    "while i < len(rgb_train):\n",
    "    values[i] = rgb_train['img_value'][j]\n",
    "    i += 1\n",
    "    j+=1\n",
    "rgb_train = values\n",
    "\n",
    "#gray val\n",
    "values = np.zeros(shape=(len(rgb_val),56,106,3))\n",
    "i = 0\n",
    "j = 7680\n",
    "while i < len(rgb_val):\n",
    "    values[i] = rgb_val['img_value'][j]\n",
    "    i += 1\n",
    "    j+=1\n",
    "rgb_val = values  \n",
    "\n",
    "#gray test\n",
    "values = np.zeros(shape=(len(rgb_test),56,106,3))\n",
    "i = 0\n",
    "j = 9600\n",
    "while i < len(rgb_test):\n",
    "    values[i] = rgb_test['img_value'][j]\n",
    "    i += 1\n",
    "    j+=1\n",
    "rgb_test = values     \n",
    "\n"
   ]
  },
  {
   "cell_type": "markdown",
   "id": "a54bbd72-099d-4d5f-b2d0-210537450d82",
   "metadata": {
    "tags": []
   },
   "source": [
    "### Data names:\n",
    "\n"
   ]
  },
  {
   "cell_type": "markdown",
   "id": "f67b6db8-30bc-4a16-a924-586c2e7c583e",
   "metadata": {
    "tags": []
   },
   "source": [
    "For all values, normaly **x_train**, x_val etc you call:\n",
    "\n",
    ">gray_val ..etc\n",
    "\n",
    ">rgb_val ..etc\n",
    "\n",
    "For all labels, normaly **y_train**, y_val etc you call:\n",
    "\n",
    ">gray_D_val ..etc\n",
    "\n",
    ">rgb_CC_val ..etc"
   ]
  },
  {
   "cell_type": "markdown",
   "id": "1847cb26-159e-417e-8771-19d4820db2ca",
   "metadata": {
    "tags": []
   },
   "source": [
    "## Question 1"
   ]
  },
  {
   "cell_type": "markdown",
   "id": "72ffe876-3587-4a1b-8ad2-66d589bd786e",
   "metadata": {
    "tags": []
   },
   "source": [
    "### 1.2 Non-deeplearning CC-D-Y models"
   ]
  },
  {
   "cell_type": "markdown",
   "id": "9158e647-c374-41c5-96ab-91bfc1923005",
   "metadata": {
    "jp-MarkdownHeadingCollapsed": true,
    "tags": []
   },
   "source": [
    "#### SVM, modelCC"
   ]
  },
  {
   "cell_type": "code",
   "execution_count": null,
   "id": "b2ab901c-5460-4230-a495-531c6abce647",
   "metadata": {},
   "outputs": [],
   "source": []
  },
  {
   "cell_type": "markdown",
   "id": "b2c818ea-6f89-4b25-9805-20270a36d348",
   "metadata": {
    "jp-MarkdownHeadingCollapsed": true,
    "tags": []
   },
   "source": [
    "#### Catboost, modelD"
   ]
  },
  {
   "cell_type": "code",
   "execution_count": null,
   "id": "03182f98-5737-4850-a1a6-007191718a34",
   "metadata": {},
   "outputs": [],
   "source": []
  },
  {
   "cell_type": "markdown",
   "id": "5a151740-f1ab-48f7-84ae-c1f4c28a5f3a",
   "metadata": {
    "jp-MarkdownHeadingCollapsed": true,
    "tags": []
   },
   "source": [
    "#### Catboost, modelY"
   ]
  },
  {
   "cell_type": "code",
   "execution_count": null,
   "id": "aa9e539e-87db-4295-ba45-2fc49b2c9730",
   "metadata": {},
   "outputs": [],
   "source": []
  },
  {
   "cell_type": "markdown",
   "id": "e933ecf8-3f85-434b-b142-f4ba47c2cfd1",
   "metadata": {
    "tags": []
   },
   "source": [
    "## Question 2"
   ]
  },
  {
   "cell_type": "code",
   "execution_count": 2,
   "id": "89af2c8c-93d6-4ade-9f6b-7af3268a667e",
   "metadata": {
    "collapsed": true,
    "jupyter": {
     "outputs_hidden": true
    },
    "tags": []
   },
   "outputs": [
    {
     "ename": "NameError",
     "evalue": "name 'gray_val' is not defined",
     "output_type": "error",
     "traceback": [
      "\u001b[1;31m---------------------------------------------------------------------------\u001b[0m",
      "\u001b[1;31mNameError\u001b[0m                                 Traceback (most recent call last)",
      "\u001b[1;32m~\\AppData\\Local\\Temp/ipykernel_18480/704480091.py\u001b[0m in \u001b[0;36m<module>\u001b[1;34m\u001b[0m\n\u001b[0;32m      1\u001b[0m \u001b[1;31m#Normalization of gray values\u001b[0m\u001b[1;33m\u001b[0m\u001b[1;33m\u001b[0m\u001b[0m\n\u001b[1;32m----> 2\u001b[1;33m \u001b[0mgray_val\u001b[0m \u001b[1;33m=\u001b[0m \u001b[0mgray_val\u001b[0m\u001b[1;33m/\u001b[0m\u001b[1;36m255\u001b[0m\u001b[1;33m\u001b[0m\u001b[1;33m\u001b[0m\u001b[0m\n\u001b[0m\u001b[0;32m      3\u001b[0m \u001b[0mgray_train\u001b[0m \u001b[1;33m=\u001b[0m \u001b[0mgray_train\u001b[0m\u001b[1;33m/\u001b[0m\u001b[1;36m255\u001b[0m\u001b[1;33m\u001b[0m\u001b[1;33m\u001b[0m\u001b[0m\n\u001b[0;32m      4\u001b[0m \u001b[0mgray_test\u001b[0m \u001b[1;33m=\u001b[0m \u001b[0mgray_test\u001b[0m\u001b[1;33m/\u001b[0m\u001b[1;36m255\u001b[0m\u001b[1;33m\u001b[0m\u001b[1;33m\u001b[0m\u001b[0m\n\u001b[0;32m      5\u001b[0m \u001b[0mrgb_val\u001b[0m \u001b[1;33m=\u001b[0m \u001b[0mrgb_val\u001b[0m\u001b[1;33m/\u001b[0m\u001b[1;36m255\u001b[0m\u001b[1;33m\u001b[0m\u001b[1;33m\u001b[0m\u001b[0m\n",
      "\u001b[1;31mNameError\u001b[0m: name 'gray_val' is not defined"
     ]
    }
   ],
   "source": [
    "#Normalization of gray values\n",
    "gray_val = gray_val/255\n",
    "gray_train = gray_train/255\n",
    "gray_test = gray_test/255\n",
    "rgb_val = rgb_val/255\n",
    "rgb_train = rgb_train/255\n",
    "rgb_test = rgb_test/255"
   ]
  },
  {
   "cell_type": "markdown",
   "id": "51e849d9-a2d0-4f01-908a-28dee63f3fba",
   "metadata": {
    "jp-MarkdownHeadingCollapsed": true,
    "tags": []
   },
   "source": [
    "### 2.2.A Construct a CNN"
   ]
  },
  {
   "cell_type": "code",
   "execution_count": null,
   "id": "345ade69-8817-438c-9d5c-9af02f5db92d",
   "metadata": {},
   "outputs": [],
   "source": []
  },
  {
   "cell_type": "markdown",
   "id": "3adb83e2-2c78-4c51-a7aa-964ee012dfa8",
   "metadata": {
    "jp-MarkdownHeadingCollapsed": true,
    "tags": []
   },
   "source": [
    "### 2.2.B Regularization"
   ]
  },
  {
   "cell_type": "code",
   "execution_count": null,
   "id": "729059ed-9f1f-466d-af65-a819e2e2b93c",
   "metadata": {},
   "outputs": [],
   "source": []
  },
  {
   "cell_type": "markdown",
   "id": "10eb525d-8287-4b6e-8c59-8d1fa0574353",
   "metadata": {
    "jp-MarkdownHeadingCollapsed": true,
    "tags": []
   },
   "source": [
    "### 2.2.C Augmentation"
   ]
  },
  {
   "cell_type": "code",
   "execution_count": null,
   "id": "12b9202e-8c6e-4a19-a50a-acf7c5918af9",
   "metadata": {},
   "outputs": [],
   "source": []
  },
  {
   "cell_type": "markdown",
   "id": "a2300a9a-b22f-40fc-b0cc-3d96d985c309",
   "metadata": {
    "jp-MarkdownHeadingCollapsed": true,
    "tags": []
   },
   "source": [
    "### 2.2.D Transfer learning"
   ]
  },
  {
   "cell_type": "code",
   "execution_count": null,
   "id": "054f0a9f-99a8-490f-ae66-4038d398799d",
   "metadata": {},
   "outputs": [],
   "source": []
  },
  {
   "cell_type": "markdown",
   "id": "c221f510-b619-4ae5-87a0-a686ccb616b5",
   "metadata": {
    "jp-MarkdownHeadingCollapsed": true,
    "tags": []
   },
   "source": [
    "## 2.3 Prefered CNN model"
   ]
  },
  {
   "cell_type": "code",
   "execution_count": null,
   "id": "9a1408dc-8cf4-4ef0-830b-d751a87882d3",
   "metadata": {},
   "outputs": [],
   "source": []
  },
  {
   "cell_type": "markdown",
   "id": "82f34617-65b3-4af3-bc30-0b932ede90d1",
   "metadata": {},
   "source": [
    "## Question 3"
   ]
  },
  {
   "cell_type": "markdown",
   "id": "c5616cce-9418-4764-87f0-388bf44aba07",
   "metadata": {
    "jp-MarkdownHeadingCollapsed": true,
    "tags": []
   },
   "source": [
    "### 3.1 Visualization of activation maps"
   ]
  },
  {
   "cell_type": "code",
   "execution_count": null,
   "id": "f4e4747c-b66a-41b3-9b37-105277ca94e3",
   "metadata": {},
   "outputs": [],
   "source": []
  },
  {
   "cell_type": "markdown",
   "id": "cc589a9b-aab0-4012-9896-512259eb7bb3",
   "metadata": {
    "jp-MarkdownHeadingCollapsed": true,
    "tags": []
   },
   "source": [
    "### 3.2 Investigating model performance"
   ]
  },
  {
   "cell_type": "code",
   "execution_count": null,
   "id": "447262e2-434c-44c3-aad0-cae6f589c6ef",
   "metadata": {},
   "outputs": [],
   "source": []
  }
 ],
 "metadata": {
  "kernelspec": {
   "display_name": "Python 3 (ipykernel)",
   "language": "python",
   "name": "python3"
  },
  "language_info": {
   "codemirror_mode": {
    "name": "ipython",
    "version": 3
   },
   "file_extension": ".py",
   "mimetype": "text/x-python",
   "name": "python",
   "nbconvert_exporter": "python",
   "pygments_lexer": "ipython3",
   "version": "3.9.7"
  }
 },
 "nbformat": 4,
 "nbformat_minor": 5
}
