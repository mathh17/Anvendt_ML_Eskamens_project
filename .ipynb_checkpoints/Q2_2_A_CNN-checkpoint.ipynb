{
 "cells": [
  {
   "cell_type": "code",
   "execution_count": 1,
   "id": "06939c0e-37e6-44e1-a66c-60cb7ecb74cf",
   "metadata": {},
   "outputs": [],
   "source": [
    "!conda activate DS807"
   ]
  },
  {
   "cell_type": "markdown",
   "id": "2a267541-170b-44d9-85fe-a2a2dade246f",
   "metadata": {
    "jp-MarkdownHeadingCollapsed": true,
    "tags": []
   },
   "source": [
    "## Preparation of data"
   ]
  },
  {
   "cell_type": "markdown",
   "id": "f8282020-cea5-470c-b010-5a697a6c3910",
   "metadata": {
    "tags": []
   },
   "source": [
    "### Labeling Data and converting images to array values"
   ]
  },
  {
   "cell_type": "code",
   "execution_count": 2,
   "id": "e1be78a2-56f3-4e91-8e3c-fe80005f9456",
   "metadata": {
    "tags": []
   },
   "outputs": [],
   "source": [
    "#import packages for labelling and converting imagery data\n",
    "import pandas as pd\n",
    "import numpy as np\n",
    "import os\n",
    "from keras.preprocessing.image import load_img\n",
    "from keras.preprocessing.image import img_to_array\n",
    "from numpy import asarray\n"
   ]
  },
  {
   "cell_type": "code",
   "execution_count": 3,
   "id": "bb077232-04e3-4927-a2df-8a7bb47b7e4e",
   "metadata": {
    "tags": []
   },
   "outputs": [],
   "source": [
    "##############\n",
    "# Func for creating 1D image arrays\n",
    "\n",
    "def load_image_function(path):\n",
    "    images = [] # empty list placeholder\n",
    "    labels = [] # empty list placeholder\n",
    "    container = [] # container to validate correct labels\n",
    "    for filename in os.listdir(path):\n",
    "        container.append(filename) # add filename to container     \n",
    "        CCDY_img = load_img(path + f'/{filename}', target_size = (56, 106),\n",
    "        color_mode=\"grayscale\")                  \n",
    "        CCDY_img = img_to_array(CCDY_img)\n",
    "        images.append(CCDY_img) # append the photo to the images. The images list contains a list of arrays       \n",
    "    return asarray(images), container; # not interested in list of arrays, but array containing lists. Asarray does this. Returns three arrays\n"
   ]
  },
  {
   "cell_type": "code",
   "execution_count": 4,
   "id": "0dba79a2-5531-452f-b322-8bf71445ebf5",
   "metadata": {
    "tags": []
   },
   "outputs": [],
   "source": [
    "################\n",
    "# Func for creating df with classes and 3d img arrays\n",
    "\n",
    "def load_img_data ():\n",
    "    # Start: creatign classes ons string_digits\n",
    "    # load string digits\n",
    "\n",
    "    #os.chdir(path_string_digits)\n",
    "\n",
    "    string_digits = pd.read_csv('DIDA_12000_String_Digit_Labels.csv', \n",
    "                 header = None, \n",
    "                 names=[\"index\", \"string\"])\n",
    "    # create empty class columns\n",
    "    string_digits['CC'] = 0\n",
    "    string_digits['D'] = 0\n",
    "    string_digits['Y'] = 0\n",
    "    string_digits = string_digits.astype(str)\n",
    "    # Iterate string digits and append classes\n",
    "    for i, row in string_digits.iterrows():\n",
    "        if len(row['string']) != 4:\n",
    "            row['CC'] = '1'\n",
    "            row['D'] = '10'\n",
    "            row['Y'] = '10'\n",
    "        else:\n",
    "            row['D'] = row['string'][2]\n",
    "            row['Y'] = row['string'][3]\n",
    "            if row['string'][0:2] == '18':\n",
    "                row['CC']='0'\n",
    "            else:\n",
    "                row['CC']='1'\n",
    "    # End of class labeling on string_digits.\n",
    "    #\n",
    "    # Start: create img_df containing scaled images as 1D tensors\n",
    "    # Convert imagery to 1D arrays with tagged file names\n",
    "\n",
    "    #os.chdir(path_images)\n",
    "    image_array, filename = load_image_function('DIDA_12000_String_Digit_Images/DIDA_1')\n",
    "\n",
    "    # and convert to a img_df\n",
    "    img_df = pd.DataFrame({'filename': filename, 'img_value': list(image_array)}, \n",
    "                          columns=['filename', 'img_value'])\n",
    "    # Create proper index value in img_df to allow merge on string_digits\n",
    "    img_df['index'] = img_df['filename']\n",
    "    for i, row in img_df.iterrows():\n",
    "        row['index'] = str(img_df['index'][i]).split('.')[0]\n",
    "    img_df\n",
    "    # End of creating img_df\n",
    "    #\n",
    "    # Start: merge img_df with string_digits\n",
    "    # match index type on dataframes to merge\n",
    "    string_digits['index'] = string_digits['index'].astype(int)\n",
    "    img_df['index'] = img_df['index'].astype(int)\n",
    "    # Merge dataframes\n",
    "    df_img_classes = string_digits.merge(img_df)\n",
    "    # Rearrange order of dataframe\n",
    "    df_img_classes = df_img_classes.reindex(columns= ['index', 'string', 'CC', 'D', 'Y', 'img_value', 'filename'])\n",
    "    # End og merging data frames\n",
    "    return df_img_classes\n"
   ]
  },
  {
   "cell_type": "code",
   "execution_count": 5,
   "id": "c29043f4-cf98-4722-a5c7-f7c00267f8d1",
   "metadata": {
    "tags": []
   },
   "outputs": [
    {
     "data": {
      "text/html": [
       "<div>\n",
       "<style scoped>\n",
       "    .dataframe tbody tr th:only-of-type {\n",
       "        vertical-align: middle;\n",
       "    }\n",
       "\n",
       "    .dataframe tbody tr th {\n",
       "        vertical-align: top;\n",
       "    }\n",
       "\n",
       "    .dataframe thead th {\n",
       "        text-align: right;\n",
       "    }\n",
       "</style>\n",
       "<table border=\"1\" class=\"dataframe\">\n",
       "  <thead>\n",
       "    <tr style=\"text-align: right;\">\n",
       "      <th></th>\n",
       "      <th>index</th>\n",
       "      <th>string</th>\n",
       "      <th>CC</th>\n",
       "      <th>D</th>\n",
       "      <th>Y</th>\n",
       "      <th>img_value</th>\n",
       "      <th>filename</th>\n",
       "    </tr>\n",
       "  </thead>\n",
       "  <tbody>\n",
       "    <tr>\n",
       "      <th>0</th>\n",
       "      <td>11951</td>\n",
       "      <td>1823</td>\n",
       "      <td>0</td>\n",
       "      <td>2</td>\n",
       "      <td>3</td>\n",
       "      <td>[[[175.0], [174.0], [174.0], [174.0], [174.0],...</td>\n",
       "      <td>11951.jpg</td>\n",
       "    </tr>\n",
       "    <tr>\n",
       "      <th>1</th>\n",
       "      <td>9913</td>\n",
       "      <td>1806</td>\n",
       "      <td>0</td>\n",
       "      <td>0</td>\n",
       "      <td>6</td>\n",
       "      <td>[[[112.0], [104.0], [119.0], [113.0], [114.0],...</td>\n",
       "      <td>9913.jpg</td>\n",
       "    </tr>\n",
       "    <tr>\n",
       "      <th>2</th>\n",
       "      <td>11828</td>\n",
       "      <td>1810</td>\n",
       "      <td>0</td>\n",
       "      <td>1</td>\n",
       "      <td>0</td>\n",
       "      <td>[[[170.0], [172.0], [173.0], [177.0], [176.0],...</td>\n",
       "      <td>11828.jpg</td>\n",
       "    </tr>\n",
       "    <tr>\n",
       "      <th>3</th>\n",
       "      <td>6477</td>\n",
       "      <td>1839</td>\n",
       "      <td>0</td>\n",
       "      <td>3</td>\n",
       "      <td>9</td>\n",
       "      <td>[[[137.0], [136.0], [137.0], [136.0], [136.0],...</td>\n",
       "      <td>6477.jpg</td>\n",
       "    </tr>\n",
       "    <tr>\n",
       "      <th>4</th>\n",
       "      <td>2461</td>\n",
       "      <td>1820</td>\n",
       "      <td>0</td>\n",
       "      <td>2</td>\n",
       "      <td>0</td>\n",
       "      <td>[[[122.0], [123.0], [122.0], [120.0], [120.0],...</td>\n",
       "      <td>2461.jpg</td>\n",
       "    </tr>\n",
       "    <tr>\n",
       "      <th>...</th>\n",
       "      <td>...</td>\n",
       "      <td>...</td>\n",
       "      <td>...</td>\n",
       "      <td>...</td>\n",
       "      <td>...</td>\n",
       "      <td>...</td>\n",
       "      <td>...</td>\n",
       "    </tr>\n",
       "    <tr>\n",
       "      <th>11995</th>\n",
       "      <td>4534</td>\n",
       "      <td>1819</td>\n",
       "      <td>0</td>\n",
       "      <td>1</td>\n",
       "      <td>9</td>\n",
       "      <td>[[[189.0], [189.0], [190.0], [191.0], [189.0],...</td>\n",
       "      <td>4534.jpg</td>\n",
       "    </tr>\n",
       "    <tr>\n",
       "      <th>11996</th>\n",
       "      <td>10986</td>\n",
       "      <td>1817</td>\n",
       "      <td>0</td>\n",
       "      <td>1</td>\n",
       "      <td>7</td>\n",
       "      <td>[[[164.0], [165.0], [163.0], [162.0], [164.0],...</td>\n",
       "      <td>10986.jpg</td>\n",
       "    </tr>\n",
       "    <tr>\n",
       "      <th>11997</th>\n",
       "      <td>6867</td>\n",
       "      <td>1806</td>\n",
       "      <td>0</td>\n",
       "      <td>0</td>\n",
       "      <td>6</td>\n",
       "      <td>[[[124.0], [124.0], [123.0], [122.0], [124.0],...</td>\n",
       "      <td>6867.jpg</td>\n",
       "    </tr>\n",
       "    <tr>\n",
       "      <th>11998</th>\n",
       "      <td>7396</td>\n",
       "      <td>1813</td>\n",
       "      <td>0</td>\n",
       "      <td>1</td>\n",
       "      <td>3</td>\n",
       "      <td>[[[181.0], [181.0], [182.0], [182.0], [182.0],...</td>\n",
       "      <td>7396.jpg</td>\n",
       "    </tr>\n",
       "    <tr>\n",
       "      <th>11999</th>\n",
       "      <td>5577</td>\n",
       "      <td>1803</td>\n",
       "      <td>0</td>\n",
       "      <td>0</td>\n",
       "      <td>3</td>\n",
       "      <td>[[[131.0], [126.0], [127.0], [128.0], [126.0],...</td>\n",
       "      <td>5577.jpg</td>\n",
       "    </tr>\n",
       "  </tbody>\n",
       "</table>\n",
       "<p>12000 rows × 7 columns</p>\n",
       "</div>"
      ],
      "text/plain": [
       "       index string CC  D  Y  \\\n",
       "0      11951   1823  0  2  3   \n",
       "1       9913   1806  0  0  6   \n",
       "2      11828   1810  0  1  0   \n",
       "3       6477   1839  0  3  9   \n",
       "4       2461   1820  0  2  0   \n",
       "...      ...    ... .. .. ..   \n",
       "11995   4534   1819  0  1  9   \n",
       "11996  10986   1817  0  1  7   \n",
       "11997   6867   1806  0  0  6   \n",
       "11998   7396   1813  0  1  3   \n",
       "11999   5577   1803  0  0  3   \n",
       "\n",
       "                                               img_value   filename  \n",
       "0      [[[175.0], [174.0], [174.0], [174.0], [174.0],...  11951.jpg  \n",
       "1      [[[112.0], [104.0], [119.0], [113.0], [114.0],...   9913.jpg  \n",
       "2      [[[170.0], [172.0], [173.0], [177.0], [176.0],...  11828.jpg  \n",
       "3      [[[137.0], [136.0], [137.0], [136.0], [136.0],...   6477.jpg  \n",
       "4      [[[122.0], [123.0], [122.0], [120.0], [120.0],...   2461.jpg  \n",
       "...                                                  ...        ...  \n",
       "11995  [[[189.0], [189.0], [190.0], [191.0], [189.0],...   4534.jpg  \n",
       "11996  [[[164.0], [165.0], [163.0], [162.0], [164.0],...  10986.jpg  \n",
       "11997  [[[124.0], [124.0], [123.0], [122.0], [124.0],...   6867.jpg  \n",
       "11998  [[[181.0], [181.0], [182.0], [182.0], [182.0],...   7396.jpg  \n",
       "11999  [[[131.0], [126.0], [127.0], [128.0], [126.0],...   5577.jpg  \n",
       "\n",
       "[12000 rows x 7 columns]"
      ]
     },
     "execution_count": 5,
     "metadata": {},
     "output_type": "execute_result"
    }
   ],
   "source": [
    "#load data and shuffle them around\n",
    "df = load_img_data()\n",
    "df = df.sample(frac=1).reset_index(drop=True)\n",
    "df"
   ]
  },
  {
   "cell_type": "markdown",
   "id": "21f6d9d3-ba33-4932-a5a5-5f6226b89223",
   "metadata": {
    "tags": []
   },
   "source": [
    "### Defining fixed train, test and valdiation sets."
   ]
  },
  {
   "cell_type": "code",
   "execution_count": 6,
   "id": "206a242b-32c5-43e0-8aa6-e5623514850c",
   "metadata": {},
   "outputs": [],
   "source": [
    "df = df.drop(columns=['index','string','filename'])"
   ]
  },
  {
   "cell_type": "markdown",
   "id": "e3ffe32b-dbc7-4f8a-92bc-508dddadc10e",
   "metadata": {
    "tags": []
   },
   "source": [
    "### Split train, val, test"
   ]
  },
  {
   "cell_type": "markdown",
   "id": "581c41bd-84b1-4e90-8a73-6a7a0e3bf424",
   "metadata": {
    "tags": []
   },
   "source": [
    "#### Subsetting df"
   ]
  },
  {
   "cell_type": "code",
   "execution_count": 7,
   "id": "34a07b0e-9e85-40a6-8180-c4d44db617b4",
   "metadata": {
    "tags": []
   },
   "outputs": [],
   "source": [
    "x_train = df.loc[0:7679]\n",
    "x_val = df.loc[7680:9599]\n",
    "x_test = df.loc[9600:11999]"
   ]
  },
  {
   "cell_type": "markdown",
   "id": "70a6b9d7-453d-4ff7-aa67-ff5b3209f195",
   "metadata": {
    "tags": []
   },
   "source": [
    "#### Creating labels"
   ]
  },
  {
   "cell_type": "code",
   "execution_count": 8,
   "id": "c287f35a-01a5-4a73-a49f-922eb41cabc8",
   "metadata": {
    "tags": []
   },
   "outputs": [],
   "source": [
    "#### training labels ###\n",
    "Y_train = x_train['Y']\n",
    "Y_train = Y_train.astype(np.uint8)\n",
    "D_train = x_train['D']\n",
    "D_train = D_train.astype(np.uint8)\n",
    "CC_train = x_train['CC']\n",
    "CC_train = CC_train.astype(np.uint8)\n",
    "\n",
    "#### validation labels ###\n",
    "Y_val = x_val['Y']\n",
    "Y_val = Y_val.astype(np.uint8)\n",
    "D_val = x_val['D']\n",
    "D_val = D_val.astype(np.uint8)\n",
    "CC_val = x_val['CC']\n",
    "CC_val = CC_val.astype(np.uint8)\n",
    "\n",
    "#### test labels ###\n",
    "Y_test = x_test['Y']\n",
    "Y_test = Y_test.astype(np.uint8)\n",
    "D_test = x_test['D']\n",
    "D_test = D_test.astype(np.uint8)\n",
    "CC_test = x_test['CC']\n",
    "CC_test = CC_test.astype(np.uint8)\n"
   ]
  },
  {
   "cell_type": "markdown",
   "id": "43201e8d-e3a6-421f-834d-c25f3f690ea3",
   "metadata": {
    "tags": []
   },
   "source": [
    "#### Creating image values"
   ]
  },
  {
   "cell_type": "code",
   "execution_count": 9,
   "id": "d613b833-6162-411f-920b-d9504a4022f8",
   "metadata": {
    "tags": []
   },
   "outputs": [],
   "source": [
    "# train\n",
    "values = np.zeros(shape=(len(x_train),56,106,1))\n",
    "i = 0\n",
    "j = 0\n",
    "while i < len(x_train):\n",
    "    values[i] = x_train['img_value'][j]\n",
    "    i += 1\n",
    "    j+=1\n",
    "x_train = values/255\n",
    "\n",
    "# val\n",
    "values = np.zeros(shape=(len(x_val),56,106,1))\n",
    "i = 0\n",
    "j = 7680\n",
    "while i < len(x_val):\n",
    "    values[i] = x_val['img_value'][j]\n",
    "    i += 1\n",
    "    j+=1\n",
    "x_val = values/255\n",
    "\n",
    "# test\n",
    "values = np.zeros(shape=(len(x_test),56,106,1))\n",
    "i = 0\n",
    "j = 9600\n",
    "while i < len(x_test):\n",
    "    values[i] = x_test['img_value'][j]\n",
    "    i += 1\n",
    "    j+=1\n",
    "x_test = values/255\n"
   ]
  },
  {
   "cell_type": "markdown",
   "id": "92973f2c-f526-46aa-8962-77c2d998200f",
   "metadata": {
    "tags": []
   },
   "source": [
    "## Question 2.2, a base CNN model"
   ]
  },
  {
   "cell_type": "code",
   "execution_count": 10,
   "id": "2677bf9a-6055-4474-9bd6-9789f5e2187f",
   "metadata": {},
   "outputs": [],
   "source": [
    "import tensorflow as tf\n",
    "import data_loader as dl\n",
    "import numpy as np\n",
    "from numpy.random import seed\n",
    "import matplotlib.pyplot as plt"
   ]
  },
  {
   "cell_type": "markdown",
   "id": "0385d807-e10e-4a8b-92e1-4ab4fe346509",
   "metadata": {
    "tags": []
   },
   "source": [
    "### ModelCC - gray"
   ]
  },
  {
   "cell_type": "code",
   "execution_count": 11,
   "id": "f24f2882-5a1f-4405-8b32-cfa9cbe3b3ff",
   "metadata": {
    "tags": []
   },
   "outputs": [],
   "source": [
    "modelCC = tf.keras.models.Sequential([\n",
    "    tf.keras.layers.Conv2D(filters=32, kernel_size=(3, 3), activation='relu', input_shape=(56, 106, 1)),\n",
    "    tf.keras.layers.MaxPooling2D(pool_size=(2, 2)),\n",
    "    tf.keras.layers.Conv2D(filters=64, kernel_size=(3, 3), activation='relu'),\n",
    "    tf.keras.layers.MaxPooling2D(pool_size=(2, 2)),\n",
    "    tf.keras.layers.Conv2D(filters=128, kernel_size=(3, 3), activation='relu'),\n",
    "    tf.keras.layers.MaxPooling2D(pool_size=(2, 2)),\n",
    "    tf.keras.layers.Conv2D(filters=256, kernel_size=(3, 3), activation='relu'),\n",
    "    tf.keras.layers.MaxPooling2D(pool_size=(2, 2)),\n",
    "    tf.keras.layers.Flatten(),\n",
    "    tf.keras.layers.Dense(64, activation='relu'),\n",
    "    tf.keras.layers.Dense(1, activation='sigmoid'),\n",
    "    ])\n",
    "\n",
    "modelCC.compile(\n",
    "    optimizer='adam',\n",
    "    loss= 'binary_crossentropy',\n",
    "    metrics=['accuracy'],\n",
    "    ) \n",
    "\n",
    "#model_CC.summary()"
   ]
  },
  {
   "cell_type": "code",
   "execution_count": 12,
   "id": "f69a27b3-7106-4d99-9a72-d6f2d68906fe",
   "metadata": {
    "tags": []
   },
   "outputs": [
    {
     "name": "stdout",
     "output_type": "stream",
     "text": [
      "Epoch 1/20\n",
      "240/240 [==============================] - 3s 5ms/step - loss: 0.1662 - accuracy: 0.9658 - val_loss: 0.1654 - val_accuracy: 0.9615\n",
      "Epoch 2/20\n",
      "240/240 [==============================] - 1s 4ms/step - loss: 0.1358 - accuracy: 0.9697 - val_loss: 0.1487 - val_accuracy: 0.9615\n",
      "Epoch 3/20\n",
      "240/240 [==============================] - 1s 4ms/step - loss: 0.1069 - accuracy: 0.9693 - val_loss: 0.0974 - val_accuracy: 0.9688\n",
      "Epoch 4/20\n",
      "240/240 [==============================] - 1s 4ms/step - loss: 0.0778 - accuracy: 0.9772 - val_loss: 0.0804 - val_accuracy: 0.9745\n",
      "Epoch 5/20\n",
      "240/240 [==============================] - 1s 4ms/step - loss: 0.0601 - accuracy: 0.9819 - val_loss: 0.0670 - val_accuracy: 0.9776\n",
      "Epoch 6/20\n",
      "240/240 [==============================] - 1s 4ms/step - loss: 0.0473 - accuracy: 0.9849 - val_loss: 0.0607 - val_accuracy: 0.9828\n",
      "Epoch 7/20\n",
      "240/240 [==============================] - 1s 4ms/step - loss: 0.0358 - accuracy: 0.9874 - val_loss: 0.0484 - val_accuracy: 0.9865\n",
      "Epoch 8/20\n",
      "240/240 [==============================] - 1s 4ms/step - loss: 0.0286 - accuracy: 0.9909 - val_loss: 0.0381 - val_accuracy: 0.9854\n",
      "Epoch 9/20\n",
      "240/240 [==============================] - 1s 4ms/step - loss: 0.0205 - accuracy: 0.9937 - val_loss: 0.0617 - val_accuracy: 0.9802\n",
      "Epoch 10/20\n",
      "240/240 [==============================] - 1s 4ms/step - loss: 0.0110 - accuracy: 0.9969 - val_loss: 0.0415 - val_accuracy: 0.9865\n",
      "Epoch 11/20\n",
      "240/240 [==============================] - 1s 4ms/step - loss: 0.0128 - accuracy: 0.9960 - val_loss: 0.0646 - val_accuracy: 0.9823\n",
      "Epoch 12/20\n",
      "240/240 [==============================] - 1s 4ms/step - loss: 0.0058 - accuracy: 0.9983 - val_loss: 0.0695 - val_accuracy: 0.9854\n",
      "Epoch 13/20\n",
      "240/240 [==============================] - 1s 4ms/step - loss: 0.0039 - accuracy: 0.9986 - val_loss: 0.0384 - val_accuracy: 0.9896\n",
      "Epoch 14/20\n",
      "240/240 [==============================] - 1s 4ms/step - loss: 5.7602e-04 - accuracy: 1.0000 - val_loss: 0.0443 - val_accuracy: 0.9891\n",
      "Epoch 15/20\n",
      "240/240 [==============================] - 1s 4ms/step - loss: 1.3953e-04 - accuracy: 1.0000 - val_loss: 0.0519 - val_accuracy: 0.9901\n",
      "Epoch 16/20\n",
      "240/240 [==============================] - 1s 4ms/step - loss: 7.0416e-05 - accuracy: 1.0000 - val_loss: 0.0548 - val_accuracy: 0.9901\n",
      "Epoch 17/20\n",
      "240/240 [==============================] - 1s 4ms/step - loss: 4.4734e-05 - accuracy: 1.0000 - val_loss: 0.0571 - val_accuracy: 0.9896\n",
      "Epoch 18/20\n",
      "240/240 [==============================] - 1s 4ms/step - loss: 3.0237e-05 - accuracy: 1.0000 - val_loss: 0.0598 - val_accuracy: 0.9896\n",
      "Epoch 19/20\n",
      "240/240 [==============================] - 1s 5ms/step - loss: 2.3142e-05 - accuracy: 1.0000 - val_loss: 0.0617 - val_accuracy: 0.9896\n",
      "Epoch 20/20\n",
      "240/240 [==============================] - 1s 5ms/step - loss: 1.7641e-05 - accuracy: 1.0000 - val_loss: 0.0635 - val_accuracy: 0.9896\n"
     ]
    },
    {
     "data": {
      "image/png": "[encoded data removed]",
      "text/plain": [
       "<Figure size 960x288 with 2 Axes>"
      ]
     },
     "metadata": {
      "needs_background": "light"
     },
     "output_type": "display_data"
    }
   ],
   "source": [
    "history = modelCC.fit(x_train, CC_train, validation_data=(x_val, CC_val), epochs=20, verbose=1)\n",
    "\n",
    "fig = plt.figure(figsize=plt.figaspect(0.3))\n",
    "\n",
    "ax = fig.add_subplot(1, 2, 1)\n",
    "ax.plot(history.history['loss'], label='Training loss')\n",
    "ax.plot(history.history['val_loss'], label='Val loss')\n",
    "plt.xlabel('Epoch')\n",
    "plt.ylabel('Loss')\n",
    "plt.legend()\n",
    "plt.title('Loss, Class CC')\n",
    "\n",
    "ax = fig.add_subplot(1, 2, 2)\n",
    "ax.plot(history.history['accuracy'], label='Training accuracy')\n",
    "ax.plot(history.history['val_accuracy'], label='Val accuracy')\n",
    "plt.xlabel('Epoch')\n",
    "plt.ylabel('Accuracy')\n",
    "plt.legend()\n",
    "plt.title('Accuracy, Class CC')\n",
    "\n",
    "plt.show()"
   ]
  },
  {
   "cell_type": "markdown",
   "id": "e31753a8-a6c2-419e-8b89-0a3840e035b2",
   "metadata": {
    "tags": []
   },
   "source": [
    "### ModelY - gray"
   ]
  },
  {
   "cell_type": "code",
   "execution_count": 13,
   "id": "70938d38-0349-4d88-bab1-ad019fbf23f7",
   "metadata": {},
   "outputs": [],
   "source": [
    "modelY = tf.keras.models.Sequential([\n",
    "    tf.keras.layers.Conv2D(filters=32, kernel_size=(3, 3), activation='relu', input_shape=(56, 106, 1)),\n",
    "    tf.keras.layers.MaxPooling2D(pool_size=(2, 2)),\n",
    "    tf.keras.layers.Conv2D(filters=64, kernel_size=(3, 3), activation='relu'),\n",
    "    tf.keras.layers.MaxPooling2D(pool_size=(2, 2)),\n",
    "    tf.keras.layers.Conv2D(filters=128, kernel_size=(3, 3), activation='relu'),\n",
    "    tf.keras.layers.MaxPooling2D(pool_size=(2, 2)),\n",
    "    tf.keras.layers.Conv2D(filters=256, kernel_size=(3, 3), activation='relu'),\n",
    "    tf.keras.layers.MaxPooling2D(pool_size=(2, 2)),\n",
    "    tf.keras.layers.Flatten(),\n",
    "    tf.keras.layers.Dense(64, activation='relu'),\n",
    "    tf.keras.layers.Dense(11, activation='softmax'),\n",
    "    ])\n",
    "\n",
    "modelY.compile(\n",
    "    optimizer='adam',\n",
    "    loss= 'sparse_categorical_crossentropy',\n",
    "    metrics=['accuracy'],\n",
    "    ) \n",
    "\n",
    "#model_multiclass.summary()"
   ]
  },
  {
   "cell_type": "code",
   "execution_count": 14,
   "id": "9b6c15f3-77b7-43e6-8295-9b8535c371d8",
   "metadata": {
    "tags": []
   },
   "outputs": [
    {
     "name": "stdout",
     "output_type": "stream",
     "text": [
      "Epoch 1/20\n",
      "240/240 [==============================] - 1s 5ms/step - loss: 2.3302 - accuracy: 0.1380 - val_loss: 2.0660 - val_accuracy: 0.2839\n",
      "Epoch 2/20\n",
      "240/240 [==============================] - 1s 4ms/step - loss: 1.5962 - accuracy: 0.4635 - val_loss: 1.1370 - val_accuracy: 0.6281\n",
      "Epoch 3/20\n",
      "240/240 [==============================] - 1s 4ms/step - loss: 0.9236 - accuracy: 0.7105 - val_loss: 0.8132 - val_accuracy: 0.7385\n",
      "Epoch 4/20\n",
      "240/240 [==============================] - 1s 4ms/step - loss: 0.6535 - accuracy: 0.8103 - val_loss: 0.7074 - val_accuracy: 0.7906\n",
      "Epoch 5/20\n",
      "240/240 [==============================] - 1s 5ms/step - loss: 0.4987 - accuracy: 0.8516 - val_loss: 0.5736 - val_accuracy: 0.8406\n",
      "Epoch 6/20\n",
      "240/240 [==============================] - 1s 4ms/step - loss: 0.3856 - accuracy: 0.8908 - val_loss: 0.5340 - val_accuracy: 0.8417\n",
      "Epoch 7/20\n",
      "240/240 [==============================] - 1s 5ms/step - loss: 0.2934 - accuracy: 0.9187 - val_loss: 0.5174 - val_accuracy: 0.8516\n",
      "Epoch 8/20\n",
      "240/240 [==============================] - 1s 4ms/step - loss: 0.2201 - accuracy: 0.9359 - val_loss: 0.5156 - val_accuracy: 0.8578\n",
      "Epoch 9/20\n",
      "240/240 [==============================] - 1s 4ms/step - loss: 0.1647 - accuracy: 0.9526 - val_loss: 0.5930 - val_accuracy: 0.8531\n",
      "Epoch 10/20\n",
      "240/240 [==============================] - 1s 4ms/step - loss: 0.1241 - accuracy: 0.9646 - val_loss: 0.6109 - val_accuracy: 0.8443\n",
      "Epoch 11/20\n",
      "240/240 [==============================] - 1s 4ms/step - loss: 0.0781 - accuracy: 0.9790 - val_loss: 0.6190 - val_accuracy: 0.8599\n",
      "Epoch 12/20\n",
      "240/240 [==============================] - 1s 4ms/step - loss: 0.0549 - accuracy: 0.9853 - val_loss: 0.6930 - val_accuracy: 0.8568\n",
      "Epoch 13/20\n",
      "240/240 [==============================] - 1s 4ms/step - loss: 0.0364 - accuracy: 0.9895 - val_loss: 0.8524 - val_accuracy: 0.8474\n",
      "Epoch 14/20\n",
      "240/240 [==============================] - 1s 4ms/step - loss: 0.0466 - accuracy: 0.9848 - val_loss: 0.7845 - val_accuracy: 0.8562\n",
      "Epoch 15/20\n",
      "240/240 [==============================] - 1s 4ms/step - loss: 0.0530 - accuracy: 0.9842 - val_loss: 0.7478 - val_accuracy: 0.8531\n",
      "Epoch 16/20\n",
      "240/240 [==============================] - 1s 4ms/step - loss: 0.0456 - accuracy: 0.9850 - val_loss: 0.7650 - val_accuracy: 0.8568\n",
      "Epoch 17/20\n",
      "240/240 [==============================] - 1s 4ms/step - loss: 0.0352 - accuracy: 0.9900 - val_loss: 0.8719 - val_accuracy: 0.8536\n",
      "Epoch 18/20\n",
      "240/240 [==============================] - 1s 4ms/step - loss: 0.0370 - accuracy: 0.9882 - val_loss: 0.8337 - val_accuracy: 0.8568\n",
      "Epoch 19/20\n",
      "240/240 [==============================] - 1s 4ms/step - loss: 0.0392 - accuracy: 0.9879 - val_loss: 0.8822 - val_accuracy: 0.8557\n",
      "Epoch 20/20\n",
      "240/240 [==============================] - 1s 4ms/step - loss: 0.0320 - accuracy: 0.9891 - val_loss: 0.9392 - val_accuracy: 0.8469\n"
     ]
    },
    {
     "data": {
      "image/png": "[encoded data removed]",
      "text/plain": [
       "<Figure size 960x288 with 2 Axes>"
      ]
     },
     "metadata": {
      "needs_background": "light"
     },
     "output_type": "display_data"
    }
   ],
   "source": [
    "history = modelY.fit(x_train, Y_train, validation_data=(x_val, Y_val), epochs=20, verbose=1)\n",
    "\n",
    "fig = plt.figure(figsize=plt.figaspect(0.3))\n",
    "\n",
    "ax = fig.add_subplot(1, 2, 1)\n",
    "ax.plot(history.history['loss'], label='Training loss')\n",
    "ax.plot(history.history['val_loss'], label='Val loss')\n",
    "plt.xlabel('Epoch')\n",
    "plt.ylabel('Loss')\n",
    "plt.legend()\n",
    "plt.title('Loss, Class Y')\n",
    "\n",
    "ax = fig.add_subplot(1, 2, 2)\n",
    "ax.plot(history.history['accuracy'], label='Training accuracy')\n",
    "ax.plot(history.history['val_accuracy'], label='Val accuracy')\n",
    "plt.xlabel('Epoch')\n",
    "plt.ylabel('Accuracy')\n",
    "plt.legend()\n",
    "plt.title('Accuracy, Class Y')\n",
    "\n",
    "plt.show()"
   ]
  },
  {
   "cell_type": "markdown",
   "id": "d5d23de1-84d6-4084-9dea-51d8f59699c9",
   "metadata": {
    "tags": []
   },
   "source": [
    "### ModelD - gray"
   ]
  },
  {
   "cell_type": "code",
   "execution_count": 15,
   "id": "027366e2-be0d-4c53-9cd6-694e9af1d76f",
   "metadata": {},
   "outputs": [],
   "source": [
    "modelD = tf.keras.models.Sequential([\n",
    "    tf.keras.layers.Conv2D(filters=32, kernel_size=(3, 3), activation='relu', input_shape=(56, 106, 1)),\n",
    "    tf.keras.layers.MaxPooling2D(pool_size=(2, 2)),\n",
    "    tf.keras.layers.Conv2D(filters=64, kernel_size=(3, 3), activation='relu'),\n",
    "    tf.keras.layers.MaxPooling2D(pool_size=(2, 2)),\n",
    "    tf.keras.layers.Conv2D(filters=128, kernel_size=(3, 3), activation='relu'),\n",
    "    tf.keras.layers.MaxPooling2D(pool_size=(2, 2)),\n",
    "    tf.keras.layers.Conv2D(filters=256, kernel_size=(3, 3), activation='relu'),\n",
    "    tf.keras.layers.MaxPooling2D(pool_size=(2, 2)),\n",
    "    tf.keras.layers.Flatten(),\n",
    "    tf.keras.layers.Dense(64, activation='relu'),\n",
    "    tf.keras.layers.Dense(11, activation='softmax'),\n",
    "    ])\n",
    "\n",
    "modelD.compile(\n",
    "    optimizer='adam',\n",
    "    loss= 'sparse_categorical_crossentropy',\n",
    "    metrics=['accuracy'],\n",
    "    ) \n",
    "\n",
    "#model_multiclass.summary()"
   ]
  },
  {
   "cell_type": "code",
   "execution_count": 16,
   "id": "30a0e9da-8955-492c-acd9-14b254b8cf7a",
   "metadata": {
    "tags": []
   },
   "outputs": [
    {
     "name": "stdout",
     "output_type": "stream",
     "text": [
      "Epoch 1/20\n",
      "240/240 [==============================] - 1s 4ms/step - loss: 1.6175 - accuracy: 0.2419 - val_loss: 1.5650 - val_accuracy: 0.3333\n",
      "Epoch 2/20\n",
      "240/240 [==============================] - 1s 4ms/step - loss: 1.0982 - accuracy: 0.5876 - val_loss: 0.7124 - val_accuracy: 0.7708\n",
      "Epoch 3/20\n",
      "240/240 [==============================] - 1s 4ms/step - loss: 0.5392 - accuracy: 0.8263 - val_loss: 0.4635 - val_accuracy: 0.8500\n",
      "Epoch 4/20\n",
      "240/240 [==============================] - 1s 4ms/step - loss: 0.3365 - accuracy: 0.9003 - val_loss: 0.3503 - val_accuracy: 0.8911\n",
      "Epoch 5/20\n",
      "240/240 [==============================] - 1s 4ms/step - loss: 0.2339 - accuracy: 0.9323 - val_loss: 0.3430 - val_accuracy: 0.8917\n",
      "Epoch 6/20\n",
      "240/240 [==============================] - 1s 4ms/step - loss: 0.1773 - accuracy: 0.9464 - val_loss: 0.3878 - val_accuracy: 0.8839\n",
      "Epoch 7/20\n",
      "240/240 [==============================] - 1s 4ms/step - loss: 0.1256 - accuracy: 0.9651 - val_loss: 0.3276 - val_accuracy: 0.9172\n",
      "Epoch 8/20\n",
      "240/240 [==============================] - 1s 5ms/step - loss: 0.0862 - accuracy: 0.9747 - val_loss: 0.3492 - val_accuracy: 0.9203\n",
      "Epoch 9/20\n",
      "240/240 [==============================] - 1s 5ms/step - loss: 0.0559 - accuracy: 0.9853 - val_loss: 0.4045 - val_accuracy: 0.8990\n",
      "Epoch 10/20\n",
      "240/240 [==============================] - 1s 5ms/step - loss: 0.0441 - accuracy: 0.9891 - val_loss: 0.3896 - val_accuracy: 0.9187\n",
      "Epoch 11/20\n",
      "240/240 [==============================] - 1s 5ms/step - loss: 0.0518 - accuracy: 0.9839 - val_loss: 0.5277 - val_accuracy: 0.8885\n",
      "Epoch 12/20\n",
      "240/240 [==============================] - 1s 5ms/step - loss: 0.0267 - accuracy: 0.9924 - val_loss: 0.4884 - val_accuracy: 0.9182\n",
      "Epoch 13/20\n",
      "240/240 [==============================] - 1s 5ms/step - loss: 0.0102 - accuracy: 0.9983 - val_loss: 0.5258 - val_accuracy: 0.9078\n",
      "Epoch 14/20\n",
      "240/240 [==============================] - 1s 4ms/step - loss: 0.0505 - accuracy: 0.9861 - val_loss: 0.4535 - val_accuracy: 0.9120\n",
      "Epoch 15/20\n",
      "240/240 [==============================] - 1s 4ms/step - loss: 0.0350 - accuracy: 0.9874 - val_loss: 0.4559 - val_accuracy: 0.9141\n",
      "Epoch 16/20\n",
      "240/240 [==============================] - 1s 4ms/step - loss: 0.0075 - accuracy: 0.9986 - val_loss: 0.4921 - val_accuracy: 0.9276\n",
      "Epoch 17/20\n",
      "240/240 [==============================] - 1s 4ms/step - loss: 0.0027 - accuracy: 0.9995 - val_loss: 0.5417 - val_accuracy: 0.9266\n",
      "Epoch 18/20\n",
      "240/240 [==============================] - 1s 4ms/step - loss: 0.0126 - accuracy: 0.9964 - val_loss: 0.5580 - val_accuracy: 0.8839\n",
      "Epoch 19/20\n",
      "240/240 [==============================] - 1s 4ms/step - loss: 0.0473 - accuracy: 0.9859 - val_loss: 0.5698 - val_accuracy: 0.9177\n",
      "Epoch 20/20\n",
      "240/240 [==============================] - 1s 4ms/step - loss: 0.0265 - accuracy: 0.9906 - val_loss: 0.5769 - val_accuracy: 0.9062\n"
     ]
    },
    {
     "data": {
      "image/png": "[encoded data removed]",
      "text/plain": [
       "<Figure size 960x288 with 2 Axes>"
      ]
     },
     "metadata": {
      "needs_background": "light"
     },
     "output_type": "display_data"
    }
   ],
   "source": [
    "history = modelD.fit(x_train, D_train, validation_data=(x_val, D_val), epochs=20, verbose=1)\n",
    "\n",
    "fig = plt.figure(figsize=plt.figaspect(0.3))\n",
    "\n",
    "ax = fig.add_subplot(1, 2, 1)\n",
    "ax.plot(history.history['loss'], label='Training loss')\n",
    "ax.plot(history.history['val_loss'], label='Val loss')\n",
    "plt.xlabel('Epoch')\n",
    "plt.ylabel('Loss')\n",
    "plt.legend()\n",
    "plt.title('Loss, Class D')\n",
    "\n",
    "ax = fig.add_subplot(1, 2, 2)\n",
    "ax.plot(history.history['accuracy'], label='Training accuracy')\n",
    "ax.plot(history.history['val_accuracy'], label='Val accuracy')\n",
    "plt.xlabel('Epoch')\n",
    "plt.ylabel('Accuracy')\n",
    "plt.legend()\n",
    "plt.title('Accuracy, Class D')\n",
    "\n",
    "plt.show()"
   ]
  }
 ],
 "metadata": {
  "kernelspec": {
   "display_name": "Python 3 (ipykernel)",
   "language": "python",
   "name": "python3"
  },
  "language_info": {
   "codemirror_mode": {
    "name": "ipython",
    "version": 3
   },
   "file_extension": ".py",
   "mimetype": "text/x-python",
   "name": "python",
   "nbconvert_exporter": "python",
   "pygments_lexer": "ipython3",
   "version": "3.9.7"
  }
 },
 "nbformat": 4,
 "nbformat_minor": 5
}
