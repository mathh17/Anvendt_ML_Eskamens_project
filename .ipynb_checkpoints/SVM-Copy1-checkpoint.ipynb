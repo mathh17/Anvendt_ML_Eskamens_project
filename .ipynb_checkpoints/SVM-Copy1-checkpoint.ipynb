{
 "cells": [
  {
   "cell_type": "markdown",
   "id": "35deaf4e-dc11-4e5d-827f-14a4d930facd",
   "metadata": {},
   "source": [
    "# Import data"
   ]
  },
  {
   "cell_type": "code",
   "execution_count": 21,
   "id": "9e384c11-6d69-45cb-b534-928942736c66",
   "metadata": {},
   "outputs": [],
   "source": [
    "!conda activate DS807"
   ]
  },
  {
   "cell_type": "code",
   "execution_count": 22,
   "id": "0a2a6b58-75cc-4f83-9728-039d8eeba776",
   "metadata": {},
   "outputs": [
    {
     "data": {
      "text/html": [
       "<div>\n",
       "<style scoped>\n",
       "    .dataframe tbody tr th:only-of-type {\n",
       "        vertical-align: middle;\n",
       "    }\n",
       "\n",
       "    .dataframe tbody tr th {\n",
       "        vertical-align: top;\n",
       "    }\n",
       "\n",
       "    .dataframe thead th {\n",
       "        text-align: right;\n",
       "    }\n",
       "</style>\n",
       "<table border=\"1\" class=\"dataframe\">\n",
       "  <thead>\n",
       "    <tr style=\"text-align: right;\">\n",
       "      <th></th>\n",
       "      <th>index</th>\n",
       "      <th>string</th>\n",
       "      <th>CC</th>\n",
       "      <th>D</th>\n",
       "      <th>Y</th>\n",
       "      <th>gray_value</th>\n",
       "      <th>filename</th>\n",
       "    </tr>\n",
       "  </thead>\n",
       "  <tbody>\n",
       "    <tr>\n",
       "      <th>0</th>\n",
       "      <td>1</td>\n",
       "      <td>1836</td>\n",
       "      <td>0</td>\n",
       "      <td>3</td>\n",
       "      <td>6</td>\n",
       "      <td>[[[166.0], [167.0], [166.0], [162.0], [164.0],...</td>\n",
       "      <td>1.jpg</td>\n",
       "    </tr>\n",
       "    <tr>\n",
       "      <th>1</th>\n",
       "      <td>2</td>\n",
       "      <td>1836</td>\n",
       "      <td>0</td>\n",
       "      <td>3</td>\n",
       "      <td>6</td>\n",
       "      <td>[[[169.0], [168.0], [169.0], [170.0], [166.0],...</td>\n",
       "      <td>2.jpg</td>\n",
       "    </tr>\n",
       "    <tr>\n",
       "      <th>2</th>\n",
       "      <td>3</td>\n",
       "      <td>1840</td>\n",
       "      <td>0</td>\n",
       "      <td>4</td>\n",
       "      <td>0</td>\n",
       "      <td>[[[167.0], [169.0], [169.0], [166.0], [165.0],...</td>\n",
       "      <td>3.jpg</td>\n",
       "    </tr>\n",
       "    <tr>\n",
       "      <th>3</th>\n",
       "      <td>4</td>\n",
       "      <td>1840</td>\n",
       "      <td>0</td>\n",
       "      <td>4</td>\n",
       "      <td>0</td>\n",
       "      <td>[[[167.0], [165.0], [165.0], [165.0], [163.0],...</td>\n",
       "      <td>4.jpg</td>\n",
       "    </tr>\n",
       "    <tr>\n",
       "      <th>4</th>\n",
       "      <td>5</td>\n",
       "      <td>1823</td>\n",
       "      <td>0</td>\n",
       "      <td>2</td>\n",
       "      <td>3</td>\n",
       "      <td>[[[62.0], [45.0], [45.0], [37.0], [40.0], [33....</td>\n",
       "      <td>5.jpg</td>\n",
       "    </tr>\n",
       "    <tr>\n",
       "      <th>...</th>\n",
       "      <td>...</td>\n",
       "      <td>...</td>\n",
       "      <td>...</td>\n",
       "      <td>...</td>\n",
       "      <td>...</td>\n",
       "      <td>...</td>\n",
       "      <td>...</td>\n",
       "    </tr>\n",
       "    <tr>\n",
       "      <th>11995</th>\n",
       "      <td>11996</td>\n",
       "      <td>1808</td>\n",
       "      <td>0</td>\n",
       "      <td>0</td>\n",
       "      <td>8</td>\n",
       "      <td>[[[88.0], [62.0], [60.0], [68.0], [61.0], [101...</td>\n",
       "      <td>11996.jpg</td>\n",
       "    </tr>\n",
       "    <tr>\n",
       "      <th>11996</th>\n",
       "      <td>11997</td>\n",
       "      <td>1809</td>\n",
       "      <td>0</td>\n",
       "      <td>0</td>\n",
       "      <td>9</td>\n",
       "      <td>[[[173.0], [171.0], [173.0], [175.0], [174.0],...</td>\n",
       "      <td>11997.jpg</td>\n",
       "    </tr>\n",
       "    <tr>\n",
       "      <th>11997</th>\n",
       "      <td>11998</td>\n",
       "      <td>1840</td>\n",
       "      <td>0</td>\n",
       "      <td>4</td>\n",
       "      <td>0</td>\n",
       "      <td>[[[189.0], [189.0], [189.0], [189.0], [189.0],...</td>\n",
       "      <td>11998.jpg</td>\n",
       "    </tr>\n",
       "    <tr>\n",
       "      <th>11998</th>\n",
       "      <td>11999</td>\n",
       "      <td>1840</td>\n",
       "      <td>0</td>\n",
       "      <td>4</td>\n",
       "      <td>0</td>\n",
       "      <td>[[[191.0], [192.0], [192.0], [192.0], [193.0],...</td>\n",
       "      <td>11999.jpg</td>\n",
       "    </tr>\n",
       "    <tr>\n",
       "      <th>11999</th>\n",
       "      <td>12000</td>\n",
       "      <td>1810</td>\n",
       "      <td>0</td>\n",
       "      <td>1</td>\n",
       "      <td>0</td>\n",
       "      <td>[[[175.0], [177.0], [177.0], [175.0], [174.0],...</td>\n",
       "      <td>12000.jpg</td>\n",
       "    </tr>\n",
       "  </tbody>\n",
       "</table>\n",
       "<p>12000 rows × 7 columns</p>\n",
       "</div>"
      ],
      "text/plain": [
       "       index string CC  D  Y  \\\n",
       "0          1   1836  0  3  6   \n",
       "1          2   1836  0  3  6   \n",
       "2          3   1840  0  4  0   \n",
       "3          4   1840  0  4  0   \n",
       "4          5   1823  0  2  3   \n",
       "...      ...    ... .. .. ..   \n",
       "11995  11996   1808  0  0  8   \n",
       "11996  11997   1809  0  0  9   \n",
       "11997  11998   1840  0  4  0   \n",
       "11998  11999   1840  0  4  0   \n",
       "11999  12000   1810  0  1  0   \n",
       "\n",
       "                                              gray_value   filename  \n",
       "0      [[[166.0], [167.0], [166.0], [162.0], [164.0],...      1.jpg  \n",
       "1      [[[169.0], [168.0], [169.0], [170.0], [166.0],...      2.jpg  \n",
       "2      [[[167.0], [169.0], [169.0], [166.0], [165.0],...      3.jpg  \n",
       "3      [[[167.0], [165.0], [165.0], [165.0], [163.0],...      4.jpg  \n",
       "4      [[[62.0], [45.0], [45.0], [37.0], [40.0], [33....      5.jpg  \n",
       "...                                                  ...        ...  \n",
       "11995  [[[88.0], [62.0], [60.0], [68.0], [61.0], [101...  11996.jpg  \n",
       "11996  [[[173.0], [171.0], [173.0], [175.0], [174.0],...  11997.jpg  \n",
       "11997  [[[189.0], [189.0], [189.0], [189.0], [189.0],...  11998.jpg  \n",
       "11998  [[[191.0], [192.0], [192.0], [192.0], [193.0],...  11999.jpg  \n",
       "11999  [[[175.0], [177.0], [177.0], [175.0], [174.0],...  12000.jpg  \n",
       "\n",
       "[12000 rows x 7 columns]"
      ]
     },
     "execution_count": 22,
     "metadata": {},
     "output_type": "execute_result"
    }
   ],
   "source": [
    "import data_loader as dl\n",
    "import pandas as pd\n",
    "\n",
    "df = dl.load_1d_grays() #modified to be 2d grid output\n",
    "\n",
    "df"
   ]
  },
  {
   "cell_type": "markdown",
   "id": "dea974b5-1216-495d-9543-baf51e6a8bcf",
   "metadata": {},
   "source": [
    "# Extract gray_values from df, squeeze dimensionality"
   ]
  },
  {
   "cell_type": "code",
   "execution_count": 40,
   "id": "f8280b7d-3b00-453e-9c88-e03211cf28f7",
   "metadata": {},
   "outputs": [
    {
     "data": {
      "text/plain": [
       "(12000, 56, 106)"
      ]
     },
     "execution_count": 40,
     "metadata": {},
     "output_type": "execute_result"
    }
   ],
   "source": [
    "import numpy as np\n",
    "arr = np.zeros(shape=(12000,56,106))\n",
    "i = 0\n",
    "while i < 1200:\n",
    "    arr[i] = np.squeeze(df['gray_value'][i])\n",
    "    i += 1\n",
    "arr.shape"
   ]
  },
  {
   "cell_type": "markdown",
   "id": "d5e2f5bc-f785-4933-b042-3bb80d6f5cca",
   "metadata": {},
   "source": [
    "# Flatten gray_values"
   ]
  },
  {
   "cell_type": "code",
   "execution_count": 41,
   "id": "9221d4bb-e4e3-43ea-99f4-025c96a5b32f",
   "metadata": {},
   "outputs": [
    {
     "data": {
      "text/plain": [
       "array([[166., 167., 166., ..., 167., 161., 149.],\n",
       "       [169., 168., 169., ..., 165., 166., 162.],\n",
       "       [167., 169., 169., ..., 171., 169., 166.],\n",
       "       ...,\n",
       "       [  0.,   0.,   0., ...,   0.,   0.,   0.],\n",
       "       [  0.,   0.,   0., ...,   0.,   0.,   0.],\n",
       "       [  0.,   0.,   0., ...,   0.,   0.,   0.]])"
      ]
     },
     "execution_count": 41,
     "metadata": {},
     "output_type": "execute_result"
    }
   ],
   "source": [
    "n_samples = len(arr)\n",
    "gray_data = arr.reshape((n_samples, -1))\n",
    "gray_data"
   ]
  },
  {
   "cell_type": "code",
   "execution_count": 42,
   "id": "a7f66ad9-6939-4c17-b4a9-cbf816201e0f",
   "metadata": {},
   "outputs": [
    {
     "data": {
      "text/plain": [
       "(12000, 5936)"
      ]
     },
     "execution_count": 42,
     "metadata": {},
     "output_type": "execute_result"
    }
   ],
   "source": [
    "gray_data.shape"
   ]
  },
  {
   "cell_type": "markdown",
   "id": "cd9abcd1-e895-4805-917c-a0f4d527cc49",
   "metadata": {},
   "source": [
    "# Split gray_values and labels into train, valdiation and test sets."
   ]
  },
  {
   "cell_type": "code",
   "execution_count": 50,
   "id": "ca49489f-7d0a-4333-b5b3-bd77b2bfa8d4",
   "metadata": {},
   "outputs": [
    {
     "name": "stdout",
     "output_type": "stream",
     "text": [
      "(7680, 5936) (1920, 5936) (2400, 5936)\n"
     ]
    }
   ],
   "source": [
    "from sklearn.model_selection import train_test_split\n",
    "\n",
    "x_values = gray_data\n",
    "y_values = df['CC']\n",
    "\n",
    "x_train, x_test, y_train, y_test = train_test_split(x_values, y_values, test_size=0.2, random_state=2022)\n",
    "x_train, x_val, y_train, y_val = train_test_split(x_train, y_train, test_size=0.2, random_state=2022)\n",
    "\n",
    "print(x_train.shape, x_val.shape, x_test.shape)"
   ]
  },
  {
   "cell_type": "code",
   "execution_count": 46,
   "id": "6bac9203-46e6-4d21-84af-73ebb24c329b",
   "metadata": {
    "tags": []
   },
   "outputs": [
    {
     "data": {
      "text/plain": [
       "96.66666666666667"
      ]
     },
     "execution_count": 46,
     "metadata": {},
     "output_type": "execute_result"
    }
   ],
   "source": [
    "from sklearn import svm\n",
    "from sklearn.metrics import accuracy_score\n",
    "\n",
    "model = svm.SVC()\n",
    "model.fit(x_train, y_train)\n",
    "\n",
    "y_val_hat = model.predict(x_val)\n",
    "acc = accuracy_score(y_val_hat, y_val)*100\n",
    "acc"
   ]
  }
 ],
 "metadata": {
  "kernelspec": {
   "display_name": "Python 3 (ipykernel)",
   "language": "python",
   "name": "python3"
  },
  "language_info": {
   "codemirror_mode": {
    "name": "ipython",
    "version": 3
   },
   "file_extension": ".py",
   "mimetype": "text/x-python",
   "name": "python",
   "nbconvert_exporter": "python",
   "pygments_lexer": "ipython3",
   "version": "3.9.7"
  }
 },
 "nbformat": 4,
 "nbformat_minor": 5
}
