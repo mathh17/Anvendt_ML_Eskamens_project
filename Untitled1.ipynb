{
 "cells": [
  {
   "cell_type": "code",
   "execution_count": 3,
   "id": "570c5cef-4b18-4ed0-b4d7-98179a42e24b",
   "metadata": {},
   "outputs": [],
   "source": [
    "import tensorflow as tf\n",
    "\n",
    "data_augmentation = tf.keras.Sequential([\n",
    "    tf.k\n",
    "    eras.layers.experimental.preprocessing.RandomRotation(0.1, input_shape=(56, 106, 1)),\n",
    "    #tf.image.adjust_brightness(),\n",
    "    #tf.keras.layers.experimental.preprocessing.RandomFlip(\"horizontal\"),\n",
    "    ])"
   ]
  },
  {
   "cell_type": "code",
   "execution_count": null,
   "id": "a732bb5f-a166-45c4-894f-52ccc999a39b",
   "metadata": {},
   "outputs": [],
   "source": []
  }
 ],
 "metadata": {
  "kernelspec": {
   "display_name": "Python 3 (ipykernel)",
   "language": "python",
   "name": "python3"
  },
  "language_info": {
   "codemirror_mode": {
    "name": "ipython",
    "version": 3
   },
   "file_extension": ".py",
   "mimetype": "text/x-python",
   "name": "python",
   "nbconvert_exporter": "python",
   "pygments_lexer": "ipython3",
   "version": "3.9.7"
  }
 },
 "nbformat": 4,
 "nbformat_minor": 5
}
