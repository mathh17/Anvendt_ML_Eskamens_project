{
 "cells": [
  {
   "cell_type": "code",
   "execution_count": 1,
   "metadata": {},
   "outputs": [],
   "source": [
    "!conda activate DS807"
   ]
  },
  {
   "cell_type": "markdown",
   "metadata": {},
   "source": [
    "# Exam DS807"
   ]
  },
  {
   "cell_type": "markdown",
   "metadata": {
    "jp-MarkdownHeadingCollapsed": true,
    "tags": []
   },
   "source": [
    "## Preparation of data"
   ]
  },
  {
   "cell_type": "markdown",
   "metadata": {
    "jp-MarkdownHeadingCollapsed": true,
    "tags": []
   },
   "source": [
    "### Labeling Data and converting images to array values"
   ]
  },
  {
   "cell_type": "code",
   "execution_count": 2,
   "metadata": {
    "tags": []
   },
   "outputs": [],
   "source": [
    "#import packages for labelling and converting imagery data\n",
    "import pandas as pd\n",
    "import numpy as np\n",
    "import os\n",
    "from keras.preprocessing.image import load_img\n",
    "from keras.preprocessing.image import img_to_array\n",
    "from numpy import asarray"
   ]
  },
  {
   "cell_type": "code",
   "execution_count": 3,
   "metadata": {
    "tags": []
   },
   "outputs": [],
   "source": [
    "##############\n",
    "# Func for creating 1D image arrays\n",
    "\n",
    "def load_image_function(path):\n",
    "    images = [] # empty list placeholder\n",
    "    labels = [] # empty list placeholder\n",
    "    container = [] # container to validate correct labels\n",
    "    for filename in os.listdir(path):\n",
    "        container.append(filename) # add filename to container     \n",
    "        CCDY_img = load_img(path + f'/{filename}', target_size = (56, 106),\n",
    "        color_mode=\"grayscale\")                  \n",
    "        CCDY_img = img_to_array(CCDY_img)\n",
    "        images.append(CCDY_img) # append the photo to the images. The images list contains a list of arrays       \n",
    "    return asarray(images), container; # not interested in list of arrays, but array containing lists. Asarray does this. Returns three arrays\n"
   ]
  },
  {
   "cell_type": "code",
   "execution_count": 4,
   "metadata": {
    "tags": []
   },
   "outputs": [],
   "source": [
    "################\n",
    "# Func for creating df with classes and 3d img arrays\n",
    "\n",
    "def load_img_data ():\n",
    "    # Start: creatign classes ons string_digits\n",
    "    # load string digits\n",
    "\n",
    "    #os.chdir(path_string_digits)\n",
    "\n",
    "    string_digits = pd.read_csv('DIDA_12000_String_Digit_Labels.csv', \n",
    "                 header = None, \n",
    "                 names=[\"index\", \"string\"])\n",
    "    # create empty class columns\n",
    "    string_digits['CC'] = 0\n",
    "    string_digits['D'] = 0\n",
    "    string_digits['Y'] = 0\n",
    "    string_digits = string_digits.astype(str)\n",
    "    # Iterate string digits and append classes\n",
    "    for i, row in string_digits.iterrows():\n",
    "        if len(row['string']) != 4:\n",
    "            row['CC'] = '1'\n",
    "            row['D'] = '10'\n",
    "            row['Y'] = '10'\n",
    "        else:\n",
    "            row['D'] = row['string'][2]\n",
    "            row['Y'] = row['string'][3]\n",
    "            if row['string'][0:2] == '18':\n",
    "                row['CC']='0'\n",
    "            else:\n",
    "                row['CC']='1'\n",
    "    # End of class labeling on string_digits.\n",
    "    #\n",
    "    # Start: create img_df containing scaled images as 1D tensors\n",
    "    # Convert imagery to 1D arrays with tagged file names\n",
    "\n",
    "    #os.chdir(path_images)\n",
    "    image_array, filename = load_image_function('DIDA_12000_String_Digit_Images/DIDA_1')\n",
    "\n",
    "    # and convert to a img_df\n",
    "    img_df = pd.DataFrame({'filename': filename, 'img_value': list(image_array)}, \n",
    "                          columns=['filename', 'img_value'])\n",
    "    # Create proper index value in img_df to allow merge on string_digits\n",
    "    img_df['index'] = img_df['filename']\n",
    "    for i, row in img_df.iterrows():\n",
    "        row['index'] = str(img_df['index'][i]).split('.')[0]\n",
    "    img_df\n",
    "    # End of creating img_df\n",
    "    #\n",
    "    # Start: merge img_df with string_digits\n",
    "    # match index type on dataframes to merge\n",
    "    string_digits['index'] = string_digits['index'].astype(int)\n",
    "    img_df['index'] = img_df['index'].astype(int)\n",
    "    # Merge dataframes\n",
    "    df_img_classes = string_digits.merge(img_df)\n",
    "    # Rearrange order of dataframe\n",
    "    df_img_classes = df_img_classes.reindex(columns= ['index', 'string', 'CC', 'D', 'Y', 'img_value', 'filename'])\n",
    "    # End og merging data frames\n",
    "    return df_img_classes\n"
   ]
  },
  {
   "cell_type": "code",
   "execution_count": 5,
   "metadata": {
    "tags": []
   },
   "outputs": [
    {
     "data": {
      "text/html": [
       "<div>\n",
       "<style scoped>\n",
       "    .dataframe tbody tr th:only-of-type {\n",
       "        vertical-align: middle;\n",
       "    }\n",
       "\n",
       "    .dataframe tbody tr th {\n",
       "        vertical-align: top;\n",
       "    }\n",
       "\n",
       "    .dataframe thead th {\n",
       "        text-align: right;\n",
       "    }\n",
       "</style>\n",
       "<table border=\"1\" class=\"dataframe\">\n",
       "  <thead>\n",
       "    <tr style=\"text-align: right;\">\n",
       "      <th></th>\n",
       "      <th>index</th>\n",
       "      <th>string</th>\n",
       "      <th>CC</th>\n",
       "      <th>D</th>\n",
       "      <th>Y</th>\n",
       "      <th>img_value</th>\n",
       "      <th>filename</th>\n",
       "    </tr>\n",
       "  </thead>\n",
       "  <tbody>\n",
       "    <tr>\n",
       "      <th>0</th>\n",
       "      <td>3499</td>\n",
       "      <td>1808</td>\n",
       "      <td>0</td>\n",
       "      <td>0</td>\n",
       "      <td>8</td>\n",
       "      <td>[[[155.0], [157.0], [163.0], [155.0], [159.0],...</td>\n",
       "      <td>3499.jpg</td>\n",
       "    </tr>\n",
       "    <tr>\n",
       "      <th>1</th>\n",
       "      <td>1687</td>\n",
       "      <td>1810</td>\n",
       "      <td>0</td>\n",
       "      <td>1</td>\n",
       "      <td>0</td>\n",
       "      <td>[[[144.0], [142.0], [141.0], [141.0], [141.0],...</td>\n",
       "      <td>1687.jpg</td>\n",
       "    </tr>\n",
       "    <tr>\n",
       "      <th>2</th>\n",
       "      <td>6413</td>\n",
       "      <td>1833</td>\n",
       "      <td>0</td>\n",
       "      <td>3</td>\n",
       "      <td>3</td>\n",
       "      <td>[[[149.0], [148.0], [147.0], [146.0], [147.0],...</td>\n",
       "      <td>6413.jpg</td>\n",
       "    </tr>\n",
       "    <tr>\n",
       "      <th>3</th>\n",
       "      <td>4570</td>\n",
       "      <td>1820</td>\n",
       "      <td>0</td>\n",
       "      <td>2</td>\n",
       "      <td>0</td>\n",
       "      <td>[[[201.0], [207.0], [142.0], [108.0], [206.0],...</td>\n",
       "      <td>4570.jpg</td>\n",
       "    </tr>\n",
       "    <tr>\n",
       "      <th>4</th>\n",
       "      <td>10568</td>\n",
       "      <td>1824</td>\n",
       "      <td>0</td>\n",
       "      <td>2</td>\n",
       "      <td>4</td>\n",
       "      <td>[[[72.0], [73.0], [71.0], [71.0], [69.0], [74....</td>\n",
       "      <td>10568.jpg</td>\n",
       "    </tr>\n",
       "    <tr>\n",
       "      <th>...</th>\n",
       "      <td>...</td>\n",
       "      <td>...</td>\n",
       "      <td>...</td>\n",
       "      <td>...</td>\n",
       "      <td>...</td>\n",
       "      <td>...</td>\n",
       "      <td>...</td>\n",
       "    </tr>\n",
       "    <tr>\n",
       "      <th>11995</th>\n",
       "      <td>8558</td>\n",
       "      <td>1834</td>\n",
       "      <td>0</td>\n",
       "      <td>3</td>\n",
       "      <td>4</td>\n",
       "      <td>[[[187.0], [189.0], [193.0], [196.0], [187.0],...</td>\n",
       "      <td>8558.jpg</td>\n",
       "    </tr>\n",
       "    <tr>\n",
       "      <th>11996</th>\n",
       "      <td>556</td>\n",
       "      <td>1818</td>\n",
       "      <td>0</td>\n",
       "      <td>1</td>\n",
       "      <td>8</td>\n",
       "      <td>[[[135.0], [138.0], [137.0], [134.0], [135.0],...</td>\n",
       "      <td>556.jpg</td>\n",
       "    </tr>\n",
       "    <tr>\n",
       "      <th>11997</th>\n",
       "      <td>3660</td>\n",
       "      <td>1813</td>\n",
       "      <td>0</td>\n",
       "      <td>1</td>\n",
       "      <td>3</td>\n",
       "      <td>[[[144.0], [142.0], [141.0], [140.0], [139.0],...</td>\n",
       "      <td>3660.jpg</td>\n",
       "    </tr>\n",
       "    <tr>\n",
       "      <th>11998</th>\n",
       "      <td>5404</td>\n",
       "      <td>1811</td>\n",
       "      <td>0</td>\n",
       "      <td>1</td>\n",
       "      <td>1</td>\n",
       "      <td>[[[164.0], [165.0], [166.0], [166.0], [165.0],...</td>\n",
       "      <td>5404.jpg</td>\n",
       "    </tr>\n",
       "    <tr>\n",
       "      <th>11999</th>\n",
       "      <td>1656</td>\n",
       "      <td>1806</td>\n",
       "      <td>0</td>\n",
       "      <td>0</td>\n",
       "      <td>6</td>\n",
       "      <td>[[[145.0], [142.0], [146.0], [146.0], [146.0],...</td>\n",
       "      <td>1656.jpg</td>\n",
       "    </tr>\n",
       "  </tbody>\n",
       "</table>\n",
       "<p>12000 rows × 7 columns</p>\n",
       "</div>"
      ],
      "text/plain": [
       "       index string CC  D  Y  \\\n",
       "0       3499   1808  0  0  8   \n",
       "1       1687   1810  0  1  0   \n",
       "2       6413   1833  0  3  3   \n",
       "3       4570   1820  0  2  0   \n",
       "4      10568   1824  0  2  4   \n",
       "...      ...    ... .. .. ..   \n",
       "11995   8558   1834  0  3  4   \n",
       "11996    556   1818  0  1  8   \n",
       "11997   3660   1813  0  1  3   \n",
       "11998   5404   1811  0  1  1   \n",
       "11999   1656   1806  0  0  6   \n",
       "\n",
       "                                               img_value   filename  \n",
       "0      [[[155.0], [157.0], [163.0], [155.0], [159.0],...   3499.jpg  \n",
       "1      [[[144.0], [142.0], [141.0], [141.0], [141.0],...   1687.jpg  \n",
       "2      [[[149.0], [148.0], [147.0], [146.0], [147.0],...   6413.jpg  \n",
       "3      [[[201.0], [207.0], [142.0], [108.0], [206.0],...   4570.jpg  \n",
       "4      [[[72.0], [73.0], [71.0], [71.0], [69.0], [74....  10568.jpg  \n",
       "...                                                  ...        ...  \n",
       "11995  [[[187.0], [189.0], [193.0], [196.0], [187.0],...   8558.jpg  \n",
       "11996  [[[135.0], [138.0], [137.0], [134.0], [135.0],...    556.jpg  \n",
       "11997  [[[144.0], [142.0], [141.0], [140.0], [139.0],...   3660.jpg  \n",
       "11998  [[[164.0], [165.0], [166.0], [166.0], [165.0],...   5404.jpg  \n",
       "11999  [[[145.0], [142.0], [146.0], [146.0], [146.0],...   1656.jpg  \n",
       "\n",
       "[12000 rows x 7 columns]"
      ]
     },
     "execution_count": 5,
     "metadata": {},
     "output_type": "execute_result"
    }
   ],
   "source": [
    "#load data and shuffle them around\n",
    "df = load_img_data()\n",
    "df = df.sample(frac=1).reset_index(drop=True)\n",
    "df"
   ]
  },
  {
   "cell_type": "markdown",
   "metadata": {
    "jp-MarkdownHeadingCollapsed": true,
    "tags": []
   },
   "source": [
    "### Defining fixed train, test and valdiation sets."
   ]
  },
  {
   "cell_type": "code",
   "execution_count": 6,
   "metadata": {},
   "outputs": [],
   "source": [
    "df = df.drop(columns=['index','string','filename'])"
   ]
  },
  {
   "cell_type": "markdown",
   "metadata": {
    "tags": []
   },
   "source": [
    "### Split train, val, test"
   ]
  },
  {
   "cell_type": "markdown",
   "metadata": {
    "tags": []
   },
   "source": [
    "#### Subsetting df"
   ]
  },
  {
   "cell_type": "code",
   "execution_count": 7,
   "metadata": {
    "tags": []
   },
   "outputs": [],
   "source": [
    "x_train = df.loc[0:7679]\n",
    "x_val = df.loc[7680:9599]\n",
    "x_test = df.loc[9600:11999]"
   ]
  },
  {
   "cell_type": "markdown",
   "metadata": {
    "tags": []
   },
   "source": [
    "#### Creating labels"
   ]
  },
  {
   "cell_type": "code",
   "execution_count": 8,
   "metadata": {
    "tags": []
   },
   "outputs": [],
   "source": [
    "#### training labels ###\n",
    "Y_train = x_train['Y']\n",
    "Y_train = Y_train.astype(np.uint8)\n",
    "D_train = x_train['D']\n",
    "D_train = D_train.astype(np.uint8)\n",
    "CC_train = x_train['CC']\n",
    "CC_train = CC_train.astype(np.uint8)\n",
    "\n",
    "#### validation labels ###\n",
    "Y_val = x_val['Y']\n",
    "Y_val = Y_val.astype(np.uint8)\n",
    "D_val = x_val['D']\n",
    "D_val = D_val.astype(np.uint8)\n",
    "CC_val = x_val['CC']\n",
    "CC_val = CC_val.astype(np.uint8)\n",
    "\n",
    "#### test labels ###\n",
    "Y_test = x_test['Y']\n",
    "Y_test = Y_test.astype(np.uint8)\n",
    "D_test = x_test['D']\n",
    "D_test = D_test.astype(np.uint8)\n",
    "CC_test = x_test['CC']\n",
    "CC_test = CC_test.astype(np.uint8)\n"
   ]
  },
  {
   "cell_type": "markdown",
   "metadata": {
    "tags": []
   },
   "source": [
    "#### Creating image values"
   ]
  },
  {
   "cell_type": "code",
   "execution_count": 9,
   "metadata": {
    "tags": []
   },
   "outputs": [],
   "source": [
    "#### gray values ####\n",
    "#gray train\n",
    "\n",
    "#def generate_img_values(df):\n",
    "#    values = np.zeros(shape=(len(df),56,106,1))\n",
    "#    i = 0\n",
    "#    while i < len(df):\n",
    "#        values[i] = df['img_value'][i]\n",
    "#        i += 1\n",
    "#    return \n",
    "#\n",
    "#x_train = generate_img_values(x_train)#/255\n",
    "#x_val = generate_img_values(x_val)#/255\n",
    "#x_test = generate_img_values(x_test)#/255\n",
    "\n",
    "\n",
    "\n",
    "\n",
    "values = np.zeros(shape=(len(x_train),56,106,1))\n",
    "i = 0\n",
    "j = 0\n",
    "while i < len(x_train):\n",
    "    values[i] = x_train['img_value'][j]\n",
    "    i += 1\n",
    "    j+=1\n",
    "x_train = values/255\n",
    "\n",
    "#gray val\n",
    "values = np.zeros(shape=(len(x_val),56,106,1))\n",
    "i = 0\n",
    "j = 7680\n",
    "while i < len(x_val):\n",
    "    values[i] = x_val['img_value'][j]\n",
    "    i += 1\n",
    "    j+=1\n",
    "x_val = values/255\n",
    "\n",
    "#gray test\n",
    "values = np.zeros(shape=(len(x_test),56,106,1))\n",
    "i = 0\n",
    "j = 9600\n",
    "while i < len(x_test):\n",
    "    values[i] = x_test['img_value'][j]\n",
    "    i += 1\n",
    "    j+=1\n",
    "x_test = values/255\n"
   ]
  },
  {
   "cell_type": "markdown",
   "metadata": {
    "tags": []
   },
   "source": [
    "## Question 1"
   ]
  },
  {
   "cell_type": "markdown",
   "metadata": {
    "tags": []
   },
   "source": [
    "### 1.2 Non-deeplearning CC-D-Y models"
   ]
  },
  {
   "cell_type": "code",
   "execution_count": 10,
   "metadata": {},
   "outputs": [],
   "source": [
    "x_train_flat = x_train.reshape((len(x_train), -1))\n",
    "x_val_flat = x_val.reshape((len(x_val), -1))\n",
    "x_test_flat = x_test.reshape((len(x_test), -1))"
   ]
  },
  {
   "cell_type": "markdown",
   "metadata": {
    "jp-MarkdownHeadingCollapsed": true,
    "tags": []
   },
   "source": [
    "#### SVM, modelCC"
   ]
  },
  {
   "cell_type": "code",
   "execution_count": 11,
   "metadata": {},
   "outputs": [
    {
     "data": {
      "text/plain": [
       "97.55208333333333"
      ]
     },
     "execution_count": 11,
     "metadata": {},
     "output_type": "execute_result"
    }
   ],
   "source": [
    "from sklearn import svm\n",
    "from sklearn.metrics import accuracy_score\n",
    "\n",
    "model = svm.SVC()\n",
    "model.fit(x_train_flat, CC_train)\n",
    "val_hat = model.predict(x_val_flat)\n",
    "accuracy = accuracy_score(val_hat, CC_val)*100\n",
    "accuracy"
   ]
  },
  {
   "cell_type": "markdown",
   "metadata": {
    "jp-MarkdownHeadingCollapsed": true,
    "tags": []
   },
   "source": [
    "#### Catboost, modelD"
   ]
  },
  {
   "cell_type": "code",
   "execution_count": null,
   "metadata": {},
   "outputs": [],
   "source": []
  },
  {
   "cell_type": "markdown",
   "metadata": {
    "jp-MarkdownHeadingCollapsed": true,
    "tags": []
   },
   "source": [
    "#### Catboost, modelY"
   ]
  },
  {
   "cell_type": "code",
   "execution_count": null,
   "metadata": {},
   "outputs": [],
   "source": []
  },
  {
   "cell_type": "markdown",
   "metadata": {
    "tags": []
   },
   "source": [
    "## Question 2"
   ]
  },
  {
   "cell_type": "code",
   "execution_count": 2,
   "metadata": {
    "collapsed": true,
    "jupyter": {
     "outputs_hidden": true
    },
    "tags": []
   },
   "outputs": [
    {
     "ename": "NameError",
     "evalue": "name 'gray_val' is not defined",
     "output_type": "error",
     "traceback": [
      "\u001b[1;31m---------------------------------------------------------------------------\u001b[0m",
      "\u001b[1;31mNameError\u001b[0m                                 Traceback (most recent call last)",
      "\u001b[1;32m~\\AppData\\Local\\Temp/ipykernel_18480/704480091.py\u001b[0m in \u001b[0;36m<module>\u001b[1;34m\u001b[0m\n\u001b[0;32m      1\u001b[0m \u001b[1;31m#Normalization of gray values\u001b[0m\u001b[1;33m\u001b[0m\u001b[1;33m\u001b[0m\u001b[0m\n\u001b[1;32m----> 2\u001b[1;33m \u001b[0mgray_val\u001b[0m \u001b[1;33m=\u001b[0m \u001b[0mgray_val\u001b[0m\u001b[1;33m/\u001b[0m\u001b[1;36m255\u001b[0m\u001b[1;33m\u001b[0m\u001b[1;33m\u001b[0m\u001b[0m\n\u001b[0m\u001b[0;32m      3\u001b[0m \u001b[0mgray_train\u001b[0m \u001b[1;33m=\u001b[0m \u001b[0mgray_train\u001b[0m\u001b[1;33m/\u001b[0m\u001b[1;36m255\u001b[0m\u001b[1;33m\u001b[0m\u001b[1;33m\u001b[0m\u001b[0m\n\u001b[0;32m      4\u001b[0m \u001b[0mgray_test\u001b[0m \u001b[1;33m=\u001b[0m \u001b[0mgray_test\u001b[0m\u001b[1;33m/\u001b[0m\u001b[1;36m255\u001b[0m\u001b[1;33m\u001b[0m\u001b[1;33m\u001b[0m\u001b[0m\n\u001b[0;32m      5\u001b[0m \u001b[0mrgb_val\u001b[0m \u001b[1;33m=\u001b[0m \u001b[0mrgb_val\u001b[0m\u001b[1;33m/\u001b[0m\u001b[1;36m255\u001b[0m\u001b[1;33m\u001b[0m\u001b[1;33m\u001b[0m\u001b[0m\n",
      "\u001b[1;31mNameError\u001b[0m: name 'gray_val' is not defined"
     ]
    }
   ],
   "source": [
    "#Normalization of gray values\n",
    "gray_val = gray_val/255\n",
    "gray_train = gray_train/255\n",
    "gray_test = gray_test/255\n",
    "rgb_val = rgb_val/255\n",
    "rgb_train = rgb_train/255\n",
    "rgb_test = rgb_test/255"
   ]
  },
  {
   "cell_type": "markdown",
   "metadata": {
    "jp-MarkdownHeadingCollapsed": true,
    "tags": []
   },
   "source": [
    "### 2.2.A Construct a CNN"
   ]
  },
  {
   "cell_type": "code",
   "execution_count": null,
   "metadata": {},
   "outputs": [],
   "source": []
  },
  {
   "cell_type": "markdown",
   "metadata": {
    "jp-MarkdownHeadingCollapsed": true,
    "tags": []
   },
   "source": [
    "### 2.2.B Regularization"
   ]
  },
  {
   "cell_type": "code",
   "execution_count": null,
   "metadata": {},
   "outputs": [],
   "source": []
  },
  {
   "cell_type": "markdown",
   "metadata": {
    "jp-MarkdownHeadingCollapsed": true,
    "tags": []
   },
   "source": [
    "### 2.2.C Augmentation"
   ]
  },
  {
   "cell_type": "code",
   "execution_count": null,
   "metadata": {},
   "outputs": [],
   "source": []
  },
  {
   "cell_type": "markdown",
   "metadata": {
    "jp-MarkdownHeadingCollapsed": true,
    "tags": []
   },
   "source": [
    "### 2.2.D Transfer learning"
   ]
  },
  {
   "cell_type": "code",
   "execution_count": null,
   "metadata": {},
   "outputs": [],
   "source": []
  },
  {
   "cell_type": "markdown",
   "metadata": {
    "jp-MarkdownHeadingCollapsed": true,
    "tags": []
   },
   "source": [
    "## 2.3 Prefered CNN model"
   ]
  },
  {
   "cell_type": "code",
   "execution_count": null,
   "metadata": {},
   "outputs": [],
   "source": []
  },
  {
   "cell_type": "markdown",
   "metadata": {},
   "source": [
    "## Question 3"
   ]
  },
  {
   "cell_type": "markdown",
   "metadata": {
    "jp-MarkdownHeadingCollapsed": true,
    "tags": []
   },
   "source": [
    "### 3.1 Visualization of activation maps"
   ]
  },
  {
   "cell_type": "code",
   "execution_count": null,
   "metadata": {},
   "outputs": [],
   "source": []
  },
  {
   "cell_type": "markdown",
   "metadata": {
    "jp-MarkdownHeadingCollapsed": true,
    "tags": []
   },
   "source": [
    "### 3.2 Investigating model performance"
   ]
  },
  {
   "cell_type": "code",
   "execution_count": null,
   "metadata": {},
   "outputs": [],
   "source": []
  }
 ],
 "metadata": {
  "kernelspec": {
   "display_name": "Python 3",
   "language": "python",
   "name": "python3"
  },
  "language_info": {
   "codemirror_mode": {
    "name": "ipython",
    "version": 3
   },
   "file_extension": ".py",
   "mimetype": "text/x-python",
   "name": "python",
   "nbconvert_exporter": "python",
   "pygments_lexer": "ipython3",
   "version": "3.8.5"
  }
 },
 "nbformat": 4,
 "nbformat_minor": 5
}
