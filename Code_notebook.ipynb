{
 "cells": [
  {
   "cell_type": "code",
   "execution_count": 1,
   "id": "9b8fa685",
   "metadata": {},
   "outputs": [
    {
     "name": "stderr",
     "output_type": "stream",
     "text": [
      "'conda' is not recognized as an internal or external command,\n",
      "operable program or batch file.\n"
     ]
    }
   ],
   "source": [
    "!conda activate asl"
   ]
  },
  {
   "cell_type": "markdown",
   "id": "3216d5e9",
   "metadata": {},
   "source": [
    "# Exam DS807"
   ]
  },
  {
   "cell_type": "markdown",
   "id": "1b7b7fa5",
   "metadata": {
    "tags": []
   },
   "source": [
    "## Preparation of data"
   ]
  },
  {
   "cell_type": "markdown",
   "id": "0ee899e2",
   "metadata": {
    "tags": []
   },
   "source": [
    "### Labeling Data and converting images to array values"
   ]
  },
  {
   "cell_type": "code",
   "execution_count": 3,
   "id": "fc9955f4",
   "metadata": {
    "tags": []
   },
   "outputs": [],
   "source": [
    "#import packages for labelling and converting imagery data\n",
    "import pandas as pd\n",
    "import numpy as np\n",
    "import os\n",
    "from tensorflow.keras.preprocessing.image import load_img\n",
    "from tensorflow.keras.preprocessing.image import img_to_array\n",
    "from numpy import asarray\n",
    "from sklearn import svm\n",
    "from sklearn.metrics import accuracy_score\n",
    "from catboost import CatBoostClassifier"
   ]
  },
  {
   "cell_type": "code",
   "execution_count": 7,
   "id": "2b259525",
   "metadata": {
    "tags": []
   },
   "outputs": [],
   "source": [
    "##############\n",
    "# Func for creating 1D image arrays\n",
    "\n",
    "def load_image_function(path):\n",
    "    images = [] # empty list placeholder\n",
    "    labels = [] # empty list placeholder\n",
    "    container = [] # container to validate correct labels\n",
    "    for filename in os.listdir(path):\n",
    "        container.append(filename) # add filename to container     \n",
    "        CCDY_img = load_img(path + f'/{filename}', target_size = (56, 106),\n",
    "        color_mode=\"grayscale\")                  \n",
    "        CCDY_img = img_to_array(CCDY_img)\n",
    "        images.append(CCDY_img) # append the photo to the images. The images list contains a list of arrays       \n",
    "    return asarray(images), container; # not interested in list of arrays, but array containing lists. Asarray does this. Returns three arrays\n"
   ]
  },
  {
   "cell_type": "code",
   "execution_count": 8,
   "id": "91759201",
   "metadata": {
    "tags": []
   },
   "outputs": [],
   "source": [
    "################\n",
    "# Func for creating df with classes and 3d img arrays\n",
    "\n",
    "def load_img_data ():\n",
    "    # Start: creatign classes ons string_digits\n",
    "    # load string digits\n",
    "\n",
    "    #os.chdir(path_string_digits)\n",
    "\n",
    "    string_digits = pd.read_csv('DIDA_12000_String_Digit_Labels.csv', \n",
    "                 header = None, \n",
    "                 names=[\"index\", \"string\"])\n",
    "    # create empty class columns\n",
    "    string_digits['CC'] = 0\n",
    "    string_digits['D'] = 0\n",
    "    string_digits['Y'] = 0\n",
    "    string_digits = string_digits.astype(str)\n",
    "    # Iterate string digits and append classes\n",
    "    for i, row in string_digits.iterrows():\n",
    "        if len(row['string']) != 4:\n",
    "            row['CC'] = '1'\n",
    "            row['D'] = '10'\n",
    "            row['Y'] = '10'\n",
    "        else:\n",
    "            row['D'] = row['string'][2]\n",
    "            row['Y'] = row['string'][3]\n",
    "            if row['string'][0:2] == '18':\n",
    "                row['CC']='0'\n",
    "            else:\n",
    "                row['CC']='1'\n",
    "    # End of class labeling on string_digits.\n",
    "    #\n",
    "    # Start: create img_df containing scaled images as 1D tensors\n",
    "    # Convert imagery to 1D arrays with tagged file names\n",
    "\n",
    "    #os.chdir(path_images)\n",
    "    image_array, filename = load_image_function('DIDA_12000_String_Digit_Images/DIDA_1')\n",
    "\n",
    "    # and convert to a img_df\n",
    "    img_df = pd.DataFrame({'filename': filename, 'img_value': list(image_array)}, \n",
    "                          columns=['filename', 'img_value'])\n",
    "    # Create proper index value in img_df to allow merge on string_digits\n",
    "    img_df['index'] = img_df['filename']\n",
    "    for i, row in img_df.iterrows():\n",
    "        row['index'] = str(img_df['index'][i]).split('.')[0]\n",
    "    img_df\n",
    "    # End of creating img_df\n",
    "    #\n",
    "    # Start: merge img_df with string_digits\n",
    "    # match index type on dataframes to merge\n",
    "    string_digits['index'] = string_digits['index'].astype(int)\n",
    "    img_df['index'] = img_df['index'].astype(int)\n",
    "    # Merge dataframes\n",
    "    df_img_classes = string_digits.merge(img_df)\n",
    "    # Rearrange order of dataframe\n",
    "    df_img_classes = df_img_classes.reindex(columns= ['index', 'string', 'CC', 'D', 'Y', 'img_value', 'filename'])\n",
    "    # End og merging data frames\n",
    "    return df_img_classes\n"
   ]
  },
  {
   "cell_type": "code",
   "execution_count": 9,
   "id": "4c4b5305",
   "metadata": {
    "tags": []
   },
   "outputs": [
    {
     "data": {
      "text/html": [
       "<div>\n",
       "<style scoped>\n",
       "    .dataframe tbody tr th:only-of-type {\n",
       "        vertical-align: middle;\n",
       "    }\n",
       "\n",
       "    .dataframe tbody tr th {\n",
       "        vertical-align: top;\n",
       "    }\n",
       "\n",
       "    .dataframe thead th {\n",
       "        text-align: right;\n",
       "    }\n",
       "</style>\n",
       "<table border=\"1\" class=\"dataframe\">\n",
       "  <thead>\n",
       "    <tr style=\"text-align: right;\">\n",
       "      <th></th>\n",
       "      <th>index</th>\n",
       "      <th>string</th>\n",
       "      <th>CC</th>\n",
       "      <th>D</th>\n",
       "      <th>Y</th>\n",
       "      <th>img_value</th>\n",
       "      <th>filename</th>\n",
       "    </tr>\n",
       "  </thead>\n",
       "  <tbody>\n",
       "    <tr>\n",
       "      <th>0</th>\n",
       "      <td>6926</td>\n",
       "      <td>1828</td>\n",
       "      <td>0</td>\n",
       "      <td>2</td>\n",
       "      <td>8</td>\n",
       "      <td>[[[119.0], [123.0], [116.0], [124.0], [123.0],...</td>\n",
       "      <td>6926.jpg</td>\n",
       "    </tr>\n",
       "    <tr>\n",
       "      <th>1</th>\n",
       "      <td>926</td>\n",
       "      <td>1838</td>\n",
       "      <td>0</td>\n",
       "      <td>3</td>\n",
       "      <td>8</td>\n",
       "      <td>[[[108.0], [110.0], [113.0], [112.0], [110.0],...</td>\n",
       "      <td>926.jpg</td>\n",
       "    </tr>\n",
       "    <tr>\n",
       "      <th>2</th>\n",
       "      <td>2428</td>\n",
       "      <td>1818</td>\n",
       "      <td>0</td>\n",
       "      <td>1</td>\n",
       "      <td>8</td>\n",
       "      <td>[[[127.0], [124.0], [126.0], [125.0], [128.0],...</td>\n",
       "      <td>2428.jpg</td>\n",
       "    </tr>\n",
       "    <tr>\n",
       "      <th>3</th>\n",
       "      <td>710</td>\n",
       "      <td>1800</td>\n",
       "      <td>0</td>\n",
       "      <td>0</td>\n",
       "      <td>0</td>\n",
       "      <td>[[[140.0], [138.0], [140.0], [141.0], [137.0],...</td>\n",
       "      <td>710.jpg</td>\n",
       "    </tr>\n",
       "    <tr>\n",
       "      <th>4</th>\n",
       "      <td>6470</td>\n",
       "      <td>1839</td>\n",
       "      <td>0</td>\n",
       "      <td>3</td>\n",
       "      <td>9</td>\n",
       "      <td>[[[137.0], [138.0], [139.0], [134.0], [136.0],...</td>\n",
       "      <td>6470.jpg</td>\n",
       "    </tr>\n",
       "    <tr>\n",
       "      <th>...</th>\n",
       "      <td>...</td>\n",
       "      <td>...</td>\n",
       "      <td>...</td>\n",
       "      <td>...</td>\n",
       "      <td>...</td>\n",
       "      <td>...</td>\n",
       "      <td>...</td>\n",
       "    </tr>\n",
       "    <tr>\n",
       "      <th>11995</th>\n",
       "      <td>10150</td>\n",
       "      <td>1806</td>\n",
       "      <td>0</td>\n",
       "      <td>0</td>\n",
       "      <td>6</td>\n",
       "      <td>[[[165.0], [164.0], [163.0], [162.0], [163.0],...</td>\n",
       "      <td>10150.jpg</td>\n",
       "    </tr>\n",
       "    <tr>\n",
       "      <th>11996</th>\n",
       "      <td>4300</td>\n",
       "      <td>1825</td>\n",
       "      <td>0</td>\n",
       "      <td>2</td>\n",
       "      <td>5</td>\n",
       "      <td>[[[218.0], [218.0], [218.0], [220.0], [220.0],...</td>\n",
       "      <td>4300.jpg</td>\n",
       "    </tr>\n",
       "    <tr>\n",
       "      <th>11997</th>\n",
       "      <td>8296</td>\n",
       "      <td>1807</td>\n",
       "      <td>0</td>\n",
       "      <td>0</td>\n",
       "      <td>7</td>\n",
       "      <td>[[[159.0], [160.0], [161.0], [161.0], [162.0],...</td>\n",
       "      <td>8296.jpg</td>\n",
       "    </tr>\n",
       "    <tr>\n",
       "      <th>11998</th>\n",
       "      <td>4930</td>\n",
       "      <td>1819</td>\n",
       "      <td>0</td>\n",
       "      <td>1</td>\n",
       "      <td>9</td>\n",
       "      <td>[[[172.0], [169.0], [169.0], [172.0], [179.0],...</td>\n",
       "      <td>4930.jpg</td>\n",
       "    </tr>\n",
       "    <tr>\n",
       "      <th>11999</th>\n",
       "      <td>3360</td>\n",
       "      <td>1806</td>\n",
       "      <td>0</td>\n",
       "      <td>0</td>\n",
       "      <td>6</td>\n",
       "      <td>[[[141.0], [142.0], [142.0], [141.0], [140.0],...</td>\n",
       "      <td>3360.jpg</td>\n",
       "    </tr>\n",
       "  </tbody>\n",
       "</table>\n",
       "<p>12000 rows × 7 columns</p>\n",
       "</div>"
      ],
      "text/plain": [
       "       index string CC  D  Y  \\\n",
       "0       6926   1828  0  2  8   \n",
       "1        926   1838  0  3  8   \n",
       "2       2428   1818  0  1  8   \n",
       "3        710   1800  0  0  0   \n",
       "4       6470   1839  0  3  9   \n",
       "...      ...    ... .. .. ..   \n",
       "11995  10150   1806  0  0  6   \n",
       "11996   4300   1825  0  2  5   \n",
       "11997   8296   1807  0  0  7   \n",
       "11998   4930   1819  0  1  9   \n",
       "11999   3360   1806  0  0  6   \n",
       "\n",
       "                                               img_value   filename  \n",
       "0      [[[119.0], [123.0], [116.0], [124.0], [123.0],...   6926.jpg  \n",
       "1      [[[108.0], [110.0], [113.0], [112.0], [110.0],...    926.jpg  \n",
       "2      [[[127.0], [124.0], [126.0], [125.0], [128.0],...   2428.jpg  \n",
       "3      [[[140.0], [138.0], [140.0], [141.0], [137.0],...    710.jpg  \n",
       "4      [[[137.0], [138.0], [139.0], [134.0], [136.0],...   6470.jpg  \n",
       "...                                                  ...        ...  \n",
       "11995  [[[165.0], [164.0], [163.0], [162.0], [163.0],...  10150.jpg  \n",
       "11996  [[[218.0], [218.0], [218.0], [220.0], [220.0],...   4300.jpg  \n",
       "11997  [[[159.0], [160.0], [161.0], [161.0], [162.0],...   8296.jpg  \n",
       "11998  [[[172.0], [169.0], [169.0], [172.0], [179.0],...   4930.jpg  \n",
       "11999  [[[141.0], [142.0], [142.0], [141.0], [140.0],...   3360.jpg  \n",
       "\n",
       "[12000 rows x 7 columns]"
      ]
     },
     "execution_count": 9,
     "metadata": {},
     "output_type": "execute_result"
    }
   ],
   "source": [
    "#load data and shuffle them around\n",
    "df = load_img_data()\n",
    "df = df.sample(frac=1).reset_index(drop=True)\n",
    "df"
   ]
  },
  {
   "cell_type": "markdown",
   "id": "0a3c05e5",
   "metadata": {
    "tags": []
   },
   "source": [
    "### Defining fixed train, test and valdiation sets."
   ]
  },
  {
   "cell_type": "code",
   "execution_count": 10,
   "id": "322b7a4f",
   "metadata": {},
   "outputs": [],
   "source": [
    "df = df.drop(columns=['index','string','filename'])"
   ]
  },
  {
   "cell_type": "markdown",
   "id": "2f10fa62",
   "metadata": {
    "tags": []
   },
   "source": [
    "### Split train, val, test"
   ]
  },
  {
   "cell_type": "markdown",
   "id": "3ded130e",
   "metadata": {
    "tags": []
   },
   "source": [
    "#### Subsetting df"
   ]
  },
  {
   "cell_type": "code",
   "execution_count": 11,
   "id": "3014bfe8",
   "metadata": {
    "tags": []
   },
   "outputs": [],
   "source": [
    "x_train = df.loc[0:7679]\n",
    "x_val = df.loc[7680:9599]\n",
    "x_test = df.loc[9600:11999]"
   ]
  },
  {
   "cell_type": "markdown",
   "id": "8e905350",
   "metadata": {
    "tags": []
   },
   "source": [
    "#### Creating labels"
   ]
  },
  {
   "cell_type": "code",
   "execution_count": 12,
   "id": "ec9cccfe",
   "metadata": {
    "tags": []
   },
   "outputs": [],
   "source": [
    "#### training labels ###\n",
    "Y_train = x_train['Y']\n",
    "Y_train = Y_train.astype(np.uint8)\n",
    "D_train = x_train['D']\n",
    "D_train = D_train.astype(np.uint8)\n",
    "CC_train = x_train['CC']\n",
    "CC_train = CC_train.astype(np.uint8)\n",
    "\n",
    "#### validation labels ###\n",
    "Y_val = x_val['Y']\n",
    "Y_val = Y_val.astype(np.uint8)\n",
    "D_val = x_val['D']\n",
    "D_val = D_val.astype(np.uint8)\n",
    "CC_val = x_val['CC']\n",
    "CC_val = CC_val.astype(np.uint8)\n",
    "\n",
    "#### test labels ###\n",
    "Y_test = x_test['Y']\n",
    "Y_test = Y_test.astype(np.uint8)\n",
    "D_test = x_test['D']\n",
    "D_test = D_test.astype(np.uint8)\n",
    "CC_test = x_test['CC']\n",
    "CC_test = CC_test.astype(np.uint8)\n"
   ]
  },
  {
   "cell_type": "markdown",
   "id": "fbb48277",
   "metadata": {
    "tags": []
   },
   "source": [
    "#### Creating image values"
   ]
  },
  {
   "cell_type": "code",
   "execution_count": 13,
   "id": "7e455451",
   "metadata": {
    "tags": []
   },
   "outputs": [],
   "source": [
    "# train\n",
    "values = np.zeros(shape=(len(x_train),56,106,1))\n",
    "i = 0\n",
    "j = 0\n",
    "while i < len(x_train):\n",
    "    values[i] = x_train['img_value'][j]\n",
    "    i += 1\n",
    "    j+=1\n",
    "x_train = values/255\n",
    "\n",
    "# val\n",
    "values = np.zeros(shape=(len(x_val),56,106,1))\n",
    "i = 0\n",
    "j = 7680\n",
    "while i < len(x_val):\n",
    "    values[i] = x_val['img_value'][j]\n",
    "    i += 1\n",
    "    j+=1\n",
    "x_val = values/255\n",
    "\n",
    "# test\n",
    "values = np.zeros(shape=(len(x_test),56,106,1))\n",
    "i = 0\n",
    "j = 9600\n",
    "while i < len(x_test):\n",
    "    values[i] = x_test['img_value'][j]\n",
    "    i += 1\n",
    "    j+=1\n",
    "x_test = values/255\n"
   ]
  },
  {
   "cell_type": "markdown",
   "id": "95f9926f",
   "metadata": {
    "tags": []
   },
   "source": [
    "## Question 1"
   ]
  },
  {
   "cell_type": "markdown",
   "id": "55b1fc10",
   "metadata": {
    "tags": []
   },
   "source": [
    "### 1.2 Non-deeplearning CC-D-Y models"
   ]
  },
  {
   "cell_type": "code",
   "execution_count": 14,
   "id": "0e4760fc",
   "metadata": {},
   "outputs": [],
   "source": [
    "x_train_flat = x_train.reshape((len(x_train), -1))\n",
    "x_val_flat = x_val.reshape((len(x_val), -1))\n",
    "x_test_flat = x_test.reshape((len(x_test), -1))"
   ]
  },
  {
   "cell_type": "markdown",
   "id": "485c441a",
   "metadata": {
    "tags": []
   },
   "source": [
    "#### SVM, modelCC"
   ]
  },
  {
   "cell_type": "code",
   "execution_count": 15,
   "id": "ffa2957b",
   "metadata": {},
   "outputs": [
    {
     "name": "stdout",
     "output_type": "stream",
     "text": [
      "[0.9614583333333333, 'linear', 1, 'scale', 'ovr', None]\n",
      "[0.9614583333333333, 'linear', 1, 'scale', 'ovo', None]\n",
      "[0.9614583333333333, 'linear', 1, 'auto', 'ovr', None]\n",
      "[0.9614583333333333, 'linear', 1, 'auto', 'ovo', None]\n",
      "[0.9609375, 'linear', 2, 'scale', 'ovr', None]\n",
      "[0.9609375, 'linear', 2, 'scale', 'ovo', None]\n",
      "[0.9609375, 'linear', 2, 'auto', 'ovr', None]\n",
      "[0.9609375, 'linear', 2, 'auto', 'ovo', None]\n",
      "[0.9609375, 'linear', 3, 'scale', 'ovr', None]\n",
      "[0.9609375, 'linear', 3, 'scale', 'ovo', None]\n",
      "[0.9609375, 'linear', 3, 'auto', 'ovr', None]\n",
      "[0.9609375, 'linear', 3, 'auto', 'ovo', None]\n",
      "[0.9651041666666667, 'poly', 1, 'scale', 'ovr', None]\n",
      "[0.9651041666666667, 'poly', 1, 'scale', 'ovo', None]\n",
      "[0.9625, 'poly', 1, 'auto', 'ovr', None]\n",
      "[0.9625, 'poly', 1, 'auto', 'ovo', None]\n",
      "[0.9661458333333334, 'poly', 1, 'scale', 'ovr', None]\n",
      "[0.9661458333333334, 'poly', 1, 'scale', 'ovo', None]\n",
      "[0.9625, 'poly', 1, 'auto', 'ovr', None]\n",
      "[0.9625, 'poly', 1, 'auto', 'ovo', None]\n",
      "[0.9609375, 'poly', 1, 'scale', 'ovr', None]\n",
      "[0.9609375, 'poly', 1, 'scale', 'ovo', None]\n",
      "[0.9625, 'poly', 1, 'auto', 'ovr', None]\n",
      "[0.9625, 'poly', 1, 'auto', 'ovo', None]\n",
      "[0.9604166666666667, 'poly', 1, 'scale', 'ovr', None]\n",
      "[0.9604166666666667, 'poly', 1, 'scale', 'ovo', None]\n",
      "[0.9625, 'poly', 1, 'auto', 'ovr', None]\n",
      "[0.9625, 'poly', 1, 'auto', 'ovo', None]\n",
      "[0.96875, 'poly', 2, 'scale', 'ovr', None]\n",
      "[0.96875, 'poly', 2, 'scale', 'ovo', None]\n",
      "[0.9625, 'poly', 2, 'auto', 'ovr', None]\n",
      "[0.9625, 'poly', 2, 'auto', 'ovo', None]\n",
      "[0.965625, 'poly', 2, 'scale', 'ovr', None]\n",
      "[0.965625, 'poly', 2, 'scale', 'ovo', None]\n",
      "[0.9625, 'poly', 2, 'auto', 'ovr', None]\n",
      "[0.9625, 'poly', 2, 'auto', 'ovo', None]\n",
      "[0.9609375, 'poly', 2, 'scale', 'ovr', None]\n",
      "[0.9609375, 'poly', 2, 'scale', 'ovo', None]\n",
      "[0.9625, 'poly', 2, 'auto', 'ovr', None]\n",
      "[0.9625, 'poly', 2, 'auto', 'ovo', None]\n",
      "[0.9604166666666667, 'poly', 2, 'scale', 'ovr', None]\n",
      "[0.9604166666666667, 'poly', 2, 'scale', 'ovo', None]\n",
      "[0.9625, 'poly', 2, 'auto', 'ovr', None]\n",
      "[0.9625, 'poly', 2, 'auto', 'ovo', None]\n",
      "[0.9708333333333333, 'poly', 3, 'scale', 'ovr', None]\n",
      "[0.9708333333333333, 'poly', 3, 'scale', 'ovo', None]\n",
      "[0.9625, 'poly', 3, 'auto', 'ovr', None]\n",
      "[0.9625, 'poly', 3, 'auto', 'ovo', None]\n",
      "[0.9640625, 'poly', 3, 'scale', 'ovr', None]\n",
      "[0.9640625, 'poly', 3, 'scale', 'ovo', None]\n",
      "[0.9625, 'poly', 3, 'auto', 'ovr', None]\n",
      "[0.9625, 'poly', 3, 'auto', 'ovo', None]\n",
      "[0.9609375, 'poly', 3, 'scale', 'ovr', None]\n",
      "[0.9609375, 'poly', 3, 'scale', 'ovo', None]\n",
      "[0.9625, 'poly', 3, 'auto', 'ovr', None]\n",
      "[0.9625, 'poly', 3, 'auto', 'ovo', None]\n",
      "[0.9604166666666667, 'poly', 3, 'scale', 'ovr', None]\n",
      "[0.9604166666666667, 'poly', 3, 'scale', 'ovo', None]\n",
      "[0.9625, 'poly', 3, 'auto', 'ovr', None]\n",
      "[0.9625, 'poly', 3, 'auto', 'ovo', None]\n",
      "[0.9666666666666667, 'rbf', 1, 'scale', 'ovr', None]\n",
      "[0.9666666666666667, 'rbf', 1, 'scale', 'ovo', None]\n",
      "[0.9625, 'rbf', 1, 'auto', 'ovr', None]\n",
      "[0.9625, 'rbf', 1, 'auto', 'ovo', None]\n",
      "[0.971875, 'rbf', 2, 'scale', 'ovr', None]\n",
      "[0.971875, 'rbf', 2, 'scale', 'ovo', None]\n",
      "[0.9625, 'rbf', 2, 'auto', 'ovr', None]\n",
      "[0.9625, 'rbf', 2, 'auto', 'ovo', None]\n",
      "[0.9729166666666667, 'rbf', 3, 'scale', 'ovr', None]\n",
      "[0.9729166666666667, 'rbf', 3, 'scale', 'ovo', None]\n",
      "[0.9625, 'rbf', 3, 'auto', 'ovr', None]\n",
      "[0.9625, 'rbf', 3, 'auto', 'ovo', None]\n",
      "[0.9625, 'sigmoid', 1, 'scale', 'ovr', None]\n",
      "[0.9625, 'sigmoid', 1, 'scale', 'ovo', None]\n",
      "[0.9625, 'sigmoid', 1, 'auto', 'ovr', None]\n",
      "[0.9625, 'sigmoid', 1, 'auto', 'ovo', None]\n",
      "[0.9625, 'sigmoid', 2, 'scale', 'ovr', None]\n",
      "[0.9625, 'sigmoid', 2, 'scale', 'ovo', None]\n",
      "[0.9625, 'sigmoid', 2, 'auto', 'ovr', None]\n",
      "[0.9625, 'sigmoid', 2, 'auto', 'ovo', None]\n",
      "[0.9625, 'sigmoid', 3, 'scale', 'ovr', None]\n",
      "[0.9625, 'sigmoid', 3, 'scale', 'ovo', None]\n",
      "[0.9625, 'sigmoid', 3, 'auto', 'ovr', None]\n",
      "[0.9625, 'sigmoid', 3, 'auto', 'ovo', None]\n"
     ]
    },
    {
     "data": {
      "text/html": [
       "<div>\n",
       "<style scoped>\n",
       "    .dataframe tbody tr th:only-of-type {\n",
       "        vertical-align: middle;\n",
       "    }\n",
       "\n",
       "    .dataframe tbody tr th {\n",
       "        vertical-align: top;\n",
       "    }\n",
       "\n",
       "    .dataframe thead th {\n",
       "        text-align: right;\n",
       "    }\n",
       "</style>\n",
       "<table border=\"1\" class=\"dataframe\">\n",
       "  <thead>\n",
       "    <tr style=\"text-align: right;\">\n",
       "      <th></th>\n",
       "      <th>Accuracy</th>\n",
       "      <th>Kernel</th>\n",
       "      <th>C</th>\n",
       "      <th>Gamma</th>\n",
       "      <th>Decision</th>\n",
       "      <th>Degree</th>\n",
       "    </tr>\n",
       "  </thead>\n",
       "  <tbody>\n",
       "    <tr>\n",
       "      <th>0</th>\n",
       "      <td>0.961458</td>\n",
       "      <td>linear</td>\n",
       "      <td>1</td>\n",
       "      <td>scale</td>\n",
       "      <td>ovr</td>\n",
       "      <td>NaN</td>\n",
       "    </tr>\n",
       "    <tr>\n",
       "      <th>1</th>\n",
       "      <td>0.961458</td>\n",
       "      <td>linear</td>\n",
       "      <td>1</td>\n",
       "      <td>scale</td>\n",
       "      <td>ovo</td>\n",
       "      <td>NaN</td>\n",
       "    </tr>\n",
       "    <tr>\n",
       "      <th>2</th>\n",
       "      <td>0.961458</td>\n",
       "      <td>linear</td>\n",
       "      <td>1</td>\n",
       "      <td>auto</td>\n",
       "      <td>ovr</td>\n",
       "      <td>NaN</td>\n",
       "    </tr>\n",
       "    <tr>\n",
       "      <th>3</th>\n",
       "      <td>0.961458</td>\n",
       "      <td>linear</td>\n",
       "      <td>1</td>\n",
       "      <td>auto</td>\n",
       "      <td>ovo</td>\n",
       "      <td>NaN</td>\n",
       "    </tr>\n",
       "    <tr>\n",
       "      <th>4</th>\n",
       "      <td>0.960938</td>\n",
       "      <td>linear</td>\n",
       "      <td>2</td>\n",
       "      <td>scale</td>\n",
       "      <td>ovr</td>\n",
       "      <td>NaN</td>\n",
       "    </tr>\n",
       "    <tr>\n",
       "      <th>...</th>\n",
       "      <td>...</td>\n",
       "      <td>...</td>\n",
       "      <td>...</td>\n",
       "      <td>...</td>\n",
       "      <td>...</td>\n",
       "      <td>...</td>\n",
       "    </tr>\n",
       "    <tr>\n",
       "      <th>79</th>\n",
       "      <td>0.962500</td>\n",
       "      <td>sigmoid</td>\n",
       "      <td>2</td>\n",
       "      <td>auto</td>\n",
       "      <td>ovo</td>\n",
       "      <td>NaN</td>\n",
       "    </tr>\n",
       "    <tr>\n",
       "      <th>80</th>\n",
       "      <td>0.962500</td>\n",
       "      <td>sigmoid</td>\n",
       "      <td>3</td>\n",
       "      <td>scale</td>\n",
       "      <td>ovr</td>\n",
       "      <td>NaN</td>\n",
       "    </tr>\n",
       "    <tr>\n",
       "      <th>81</th>\n",
       "      <td>0.962500</td>\n",
       "      <td>sigmoid</td>\n",
       "      <td>3</td>\n",
       "      <td>scale</td>\n",
       "      <td>ovo</td>\n",
       "      <td>NaN</td>\n",
       "    </tr>\n",
       "    <tr>\n",
       "      <th>82</th>\n",
       "      <td>0.962500</td>\n",
       "      <td>sigmoid</td>\n",
       "      <td>3</td>\n",
       "      <td>auto</td>\n",
       "      <td>ovr</td>\n",
       "      <td>NaN</td>\n",
       "    </tr>\n",
       "    <tr>\n",
       "      <th>83</th>\n",
       "      <td>0.962500</td>\n",
       "      <td>sigmoid</td>\n",
       "      <td>3</td>\n",
       "      <td>auto</td>\n",
       "      <td>ovo</td>\n",
       "      <td>NaN</td>\n",
       "    </tr>\n",
       "  </tbody>\n",
       "</table>\n",
       "<p>84 rows × 6 columns</p>\n",
       "</div>"
      ],
      "text/plain": [
       "    Accuracy   Kernel  C  Gamma Decision  Degree\n",
       "0   0.961458   linear  1  scale      ovr     NaN\n",
       "1   0.961458   linear  1  scale      ovo     NaN\n",
       "2   0.961458   linear  1   auto      ovr     NaN\n",
       "3   0.961458   linear  1   auto      ovo     NaN\n",
       "4   0.960938   linear  2  scale      ovr     NaN\n",
       "..       ...      ... ..    ...      ...     ...\n",
       "79  0.962500  sigmoid  2   auto      ovo     NaN\n",
       "80  0.962500  sigmoid  3  scale      ovr     NaN\n",
       "81  0.962500  sigmoid  3  scale      ovo     NaN\n",
       "82  0.962500  sigmoid  3   auto      ovr     NaN\n",
       "83  0.962500  sigmoid  3   auto      ovo     NaN\n",
       "\n",
       "[84 rows x 6 columns]"
      ]
     },
     "execution_count": 15,
     "metadata": {},
     "output_type": "execute_result"
    }
   ],
   "source": [
    "kernels = ['linear', 'poly', 'rbf', 'sigmoid']\n",
    "Cs = [1,2,3]\n",
    "Ds = [1,2,3,4]\n",
    "gammas = ['scale','auto']\n",
    "decisions = ['ovr', 'ovo']\n",
    "results = []\n",
    "\n",
    "for kernel in kernels:\n",
    "        if kernel == 'poly':\n",
    "            for C in Cs:\n",
    "                for D in Ds:\n",
    "                    for gamma in gammas:\n",
    "                        for decision in decisions:\n",
    "                            svm_current = svm.SVC(kernel=kernel, \n",
    "                                                    degree=D,\n",
    "                                                    C =C,\n",
    "                                                    gamma = gamma,\n",
    "                                                    random_state = 2022,\n",
    "                                                    decision_function_shape = decision)\n",
    "                            svm_current.fit(x_train_flat, CC_train)\n",
    "                            val_hat = svm_current.predict(x_val_flat)\n",
    "                            accuracy = accuracy_score(val_hat, CC_val)\n",
    "                            #\n",
    "                            results.append([accuracy, kernel, C, gamma, decision, D])\n",
    "                            print([accuracy, kernel, C, gamma, decision, None])\n",
    "        else:\n",
    "            for C in Cs:\n",
    "                for gamma in gammas:\n",
    "                    for decision in decisions:\n",
    "                        svm_current = svm.SVC(kernel=kernel,\n",
    "                                              C=C,\n",
    "                                              gamma = gamma,\n",
    "                                              decision_function_shape = decision,\n",
    "                                              random_state = 2022)\n",
    "                        svm_current.fit(x_train_flat, CC_train)\n",
    "                        val_hat = svm_current.predict(x_val_flat)\n",
    "                        accuracy = accuracy_score(val_hat, CC_val)\n",
    "                        #\n",
    "                        results.append([accuracy, kernel, C, gamma, decision, None])\n",
    "                        print([accuracy, kernel, C, gamma, decision, None])\n",
    "\n",
    "results = pd.DataFrame(results)\n",
    "results.columns = ['Accuracy', 'Kernel','C', 'Gamma', 'Decision', 'Degree']\n",
    "results\n",
    "\n",
    "#model = svm.SVC()\n",
    "#model.fit(x_train_flat, CC_train)\n",
    "#val_hat = model.predict(x_val_flat)\n",
    "#accuracy = accuracy_score(val_hat, CC_val)*100\n",
    "#accuracy"
   ]
  },
  {
   "cell_type": "code",
   "execution_count": 17,
   "id": "8a70c826-32df-4dc7-80b1-75c7b8457361",
   "metadata": {},
   "outputs": [
    {
     "data": {
      "text/plain": [
       "96.25"
      ]
     },
     "execution_count": 17,
     "metadata": {},
     "output_type": "execute_result"
    }
   ],
   "source": [
    "accuracy_done = accuracy_score(val_hat, CC_val)*100\n",
    "accuracy_done"
   ]
  },
  {
   "cell_type": "code",
   "execution_count": 19,
   "id": "906635af-e7c2-405e-9c4f-b7d0dd3ca137",
   "metadata": {},
   "outputs": [
    {
     "name": "stdout",
     "output_type": "stream",
     "text": [
      "    Accuracy Kernel  C  Gamma Decision  Degree\n",
      "68  0.972917    rbf  3  scale      ovr     NaN\n",
      "69  0.972917    rbf  3  scale      ovo     NaN\n"
     ]
    }
   ],
   "source": [
    "print(str(results[results['Accuracy'] == results['Accuracy'].max()]))"
   ]
  },
  {
   "cell_type": "code",
   "execution_count": 22,
   "id": "bcedd1a2-e3a4-4dd6-a0fb-d01485d50fce",
   "metadata": {},
   "outputs": [
    {
     "data": {
      "text/plain": [
       "0.9979166666666667"
      ]
     },
     "execution_count": 22,
     "metadata": {},
     "output_type": "execute_result"
    }
   ],
   "source": [
    "svm_final = svm.SVC(kernel='rbf',\n",
    "                      C=3,\n",
    "                      gamma = 'scale',\n",
    "                      decision_function_shape = 'ovr',\n",
    "                      random_state = 2022)\n",
    "svm_final.fit(np.concatenate((x_train_flat, x_val_flat), axis=0), np.concatenate((CC_train, CC_val), axis=0))\n",
    "val_hat = svm_final.predict(x_val_flat)\n",
    "accuracy = accuracy_score(val_hat, CC_val)\n",
    "accuracy"
   ]
  },
  {
   "cell_type": "markdown",
   "id": "6397f1be",
   "metadata": {
    "tags": []
   },
   "source": [
    "#### Catboost, modelD"
   ]
  },
  {
   "cell_type": "code",
   "execution_count": 16,
   "id": "a9b4932c",
   "metadata": {},
   "outputs": [
    {
     "name": "stdout",
     "output_type": "stream",
     "text": [
      "0:\tlearn: 2.3590970\ttotal: 329ms\tremaining: 32.6s\n",
      "50:\tlearn: 1.6995672\ttotal: 17.7s\tremaining: 17s\n",
      "99:\tlearn: 1.4127280\ttotal: 35.8s\tremaining: 0us\n",
      "0:\tlearn: 2.3687536\ttotal: 152ms\tremaining: 15s\n",
      "50:\tlearn: 1.9049728\ttotal: 5.75s\tremaining: 5.53s\n",
      "99:\tlearn: 1.6924843\ttotal: 10.8s\tremaining: 0us\n",
      "0:\tlearn: 2.3938576\ttotal: 382ms\tremaining: 37.8s\n",
      "50:\tlearn: 2.2422325\ttotal: 18.7s\tremaining: 17.9s\n",
      "99:\tlearn: 2.1406637\ttotal: 33.6s\tremaining: 0us\n",
      "0:\tlearn: 2.3948499\ttotal: 114ms\tremaining: 11.3s\n",
      "50:\tlearn: 2.2853226\ttotal: 4.77s\tremaining: 4.59s\n",
      "99:\tlearn: 2.2129804\ttotal: 9.41s\tremaining: 0us\n",
      "0:\tlearn: 2.3590968\ttotal: 334ms\tremaining: 1m 6s\n",
      "50:\tlearn: 1.6995669\ttotal: 16.2s\tremaining: 47.2s\n",
      "100:\tlearn: 1.4093030\ttotal: 31.5s\tremaining: 30.8s\n",
      "150:\tlearn: 1.2228125\ttotal: 45.8s\tremaining: 14.9s\n",
      "199:\tlearn: 1.0922946\ttotal: 59.7s\tremaining: 0us\n",
      "0:\tlearn: 2.3687533\ttotal: 117ms\tremaining: 23.3s\n",
      "50:\tlearn: 1.9049728\ttotal: 4.74s\tremaining: 13.9s\n",
      "100:\tlearn: 1.6884748\ttotal: 9.34s\tremaining: 9.15s\n",
      "150:\tlearn: 1.5383550\ttotal: 13.8s\tremaining: 4.47s\n",
      "199:\tlearn: 1.4275136\ttotal: 18.5s\tremaining: 0us\n",
      "0:\tlearn: 2.3938581\ttotal: 332ms\tremaining: 1m 6s\n",
      "50:\tlearn: 2.2422328\ttotal: 16.2s\tremaining: 47.3s\n",
      "100:\tlearn: 2.1390630\ttotal: 32.4s\tremaining: 31.8s\n",
      "150:\tlearn: 2.0598277\ttotal: 48.8s\tremaining: 15.8s\n",
      "199:\tlearn: 1.9929843\ttotal: 1m 4s\tremaining: 0us\n",
      "0:\tlearn: 2.3948499\ttotal: 128ms\tremaining: 25.5s\n",
      "50:\tlearn: 2.2853231\ttotal: 4.81s\tremaining: 14.1s\n",
      "100:\tlearn: 2.2116554\ttotal: 9.44s\tremaining: 9.26s\n",
      "150:\tlearn: 2.1557602\ttotal: 13.9s\tremaining: 4.52s\n",
      "199:\tlearn: 2.1112643\ttotal: 18.3s\tremaining: 0us\n",
      "0:\tlearn: 2.3590968\ttotal: 329ms\tremaining: 2m 43s\n",
      "50:\tlearn: 1.6995669\ttotal: 16.3s\tremaining: 2m 23s\n",
      "100:\tlearn: 1.4093030\ttotal: 31.9s\tremaining: 2m 6s\n",
      "150:\tlearn: 1.2228128\ttotal: 47.1s\tremaining: 1m 48s\n",
      "200:\tlearn: 1.0903811\ttotal: 1m 1s\tremaining: 1m 31s\n",
      "250:\tlearn: 0.9919989\ttotal: 1m 15s\tremaining: 1m 14s\n",
      "300:\tlearn: 0.9008852\ttotal: 1m 28s\tremaining: 58.6s\n",
      "350:\tlearn: 0.8316812\ttotal: 1m 41s\tremaining: 43.2s\n",
      "400:\tlearn: 0.7656073\ttotal: 1m 54s\tremaining: 28.4s\n",
      "450:\tlearn: 0.7140510\ttotal: 2m 7s\tremaining: 13.9s\n",
      "499:\tlearn: 0.6627080\ttotal: 2m 20s\tremaining: 0us\n",
      "0:\tlearn: 2.3687536\ttotal: 116ms\tremaining: 57.7s\n",
      "50:\tlearn: 1.9049726\ttotal: 4.69s\tremaining: 41.3s\n",
      "100:\tlearn: 1.6884749\ttotal: 9.24s\tremaining: 36.5s\n",
      "150:\tlearn: 1.5383549\ttotal: 13.6s\tremaining: 31.4s\n",
      "200:\tlearn: 1.4268937\ttotal: 18.1s\tremaining: 26.9s\n",
      "250:\tlearn: 1.3424587\ttotal: 22.5s\tremaining: 22.3s\n",
      "300:\tlearn: 1.2703002\ttotal: 26.7s\tremaining: 17.6s\n",
      "350:\tlearn: 1.2069276\ttotal: 30.8s\tremaining: 13.1s\n",
      "400:\tlearn: 1.1506536\ttotal: 35s\tremaining: 8.64s\n",
      "450:\tlearn: 1.0985170\ttotal: 39.2s\tremaining: 4.26s\n",
      "499:\tlearn: 1.0533653\ttotal: 43.2s\tremaining: 0us\n",
      "0:\tlearn: 2.3938578\ttotal: 334ms\tremaining: 2m 46s\n",
      "50:\tlearn: 2.2422325\ttotal: 16s\tremaining: 2m 20s\n",
      "100:\tlearn: 2.1390630\ttotal: 31.6s\tremaining: 2m 4s\n",
      "150:\tlearn: 2.0598278\ttotal: 47.1s\tremaining: 1m 48s\n",
      "200:\tlearn: 1.9916012\ttotal: 1m 2s\tremaining: 1m 33s\n",
      "250:\tlearn: 1.9324149\ttotal: 1m 18s\tremaining: 1m 17s\n",
      "300:\tlearn: 1.8763536\ttotal: 1m 33s\tremaining: 1m 2s\n",
      "350:\tlearn: 1.8282448\ttotal: 1m 49s\tremaining: 46.4s\n",
      "400:\tlearn: 1.7840191\ttotal: 2m 4s\tremaining: 30.8s\n",
      "450:\tlearn: 1.7435721\ttotal: 2m 20s\tremaining: 15.2s\n",
      "499:\tlearn: 1.7064654\ttotal: 2m 35s\tremaining: 0us\n",
      "0:\tlearn: 2.3948502\ttotal: 126ms\tremaining: 1m 3s\n",
      "50:\tlearn: 2.2853228\ttotal: 4.86s\tremaining: 42.8s\n",
      "100:\tlearn: 2.2116552\ttotal: 9.38s\tremaining: 37s\n",
      "150:\tlearn: 2.1557604\ttotal: 13.9s\tremaining: 32.1s\n",
      "200:\tlearn: 2.1104169\ttotal: 18.3s\tremaining: 27.3s\n",
      "250:\tlearn: 2.0703183\ttotal: 22.9s\tremaining: 22.7s\n",
      "300:\tlearn: 2.0343572\ttotal: 27.5s\tremaining: 18.2s\n",
      "350:\tlearn: 2.0000427\ttotal: 32s\tremaining: 13.6s\n",
      "400:\tlearn: 1.9685078\ttotal: 36.4s\tremaining: 9s\n",
      "450:\tlearn: 1.9384165\ttotal: 41.4s\tremaining: 4.5s\n",
      "499:\tlearn: 1.9115757\ttotal: 46.1s\tremaining: 0us\n"
     ]
    },
    {
     "data": {
      "text/html": [
       "<div>\n",
       "<style scoped>\n",
       "    .dataframe tbody tr th:only-of-type {\n",
       "        vertical-align: middle;\n",
       "    }\n",
       "\n",
       "    .dataframe tbody tr th {\n",
       "        vertical-align: top;\n",
       "    }\n",
       "\n",
       "    .dataframe thead th {\n",
       "        text-align: right;\n",
       "    }\n",
       "</style>\n",
       "<table border=\"1\" class=\"dataframe\">\n",
       "  <thead>\n",
       "    <tr style=\"text-align: right;\">\n",
       "      <th></th>\n",
       "      <th>accuracy</th>\n",
       "      <th>learning_rate</th>\n",
       "      <th>n_estimators</th>\n",
       "      <th>depth</th>\n",
       "    </tr>\n",
       "  </thead>\n",
       "  <tbody>\n",
       "    <tr>\n",
       "      <th>0</th>\n",
       "      <td>0.470833</td>\n",
       "      <td>0.10</td>\n",
       "      <td>100</td>\n",
       "      <td>6</td>\n",
       "    </tr>\n",
       "    <tr>\n",
       "      <th>1</th>\n",
       "      <td>0.423438</td>\n",
       "      <td>0.10</td>\n",
       "      <td>100</td>\n",
       "      <td>4</td>\n",
       "    </tr>\n",
       "    <tr>\n",
       "      <th>2</th>\n",
       "      <td>0.338021</td>\n",
       "      <td>0.01</td>\n",
       "      <td>100</td>\n",
       "      <td>6</td>\n",
       "    </tr>\n",
       "    <tr>\n",
       "      <th>3</th>\n",
       "      <td>0.299479</td>\n",
       "      <td>0.01</td>\n",
       "      <td>100</td>\n",
       "      <td>4</td>\n",
       "    </tr>\n",
       "    <tr>\n",
       "      <th>4</th>\n",
       "      <td>0.522396</td>\n",
       "      <td>0.10</td>\n",
       "      <td>200</td>\n",
       "      <td>6</td>\n",
       "    </tr>\n",
       "    <tr>\n",
       "      <th>5</th>\n",
       "      <td>0.477083</td>\n",
       "      <td>0.10</td>\n",
       "      <td>200</td>\n",
       "      <td>4</td>\n",
       "    </tr>\n",
       "    <tr>\n",
       "      <th>6</th>\n",
       "      <td>0.382812</td>\n",
       "      <td>0.01</td>\n",
       "      <td>200</td>\n",
       "      <td>6</td>\n",
       "    </tr>\n",
       "    <tr>\n",
       "      <th>7</th>\n",
       "      <td>0.338542</td>\n",
       "      <td>0.01</td>\n",
       "      <td>200</td>\n",
       "      <td>4</td>\n",
       "    </tr>\n",
       "    <tr>\n",
       "      <th>8</th>\n",
       "      <td>0.564583</td>\n",
       "      <td>0.10</td>\n",
       "      <td>500</td>\n",
       "      <td>6</td>\n",
       "    </tr>\n",
       "    <tr>\n",
       "      <th>9</th>\n",
       "      <td>0.526563</td>\n",
       "      <td>0.10</td>\n",
       "      <td>500</td>\n",
       "      <td>4</td>\n",
       "    </tr>\n",
       "    <tr>\n",
       "      <th>10</th>\n",
       "      <td>0.440625</td>\n",
       "      <td>0.01</td>\n",
       "      <td>500</td>\n",
       "      <td>6</td>\n",
       "    </tr>\n",
       "    <tr>\n",
       "      <th>11</th>\n",
       "      <td>0.409896</td>\n",
       "      <td>0.01</td>\n",
       "      <td>500</td>\n",
       "      <td>4</td>\n",
       "    </tr>\n",
       "  </tbody>\n",
       "</table>\n",
       "</div>"
      ],
      "text/plain": [
       "    accuracy  learning_rate  n_estimators  depth\n",
       "0   0.470833           0.10           100      6\n",
       "1   0.423438           0.10           100      4\n",
       "2   0.338021           0.01           100      6\n",
       "3   0.299479           0.01           100      4\n",
       "4   0.522396           0.10           200      6\n",
       "5   0.477083           0.10           200      4\n",
       "6   0.382812           0.01           200      6\n",
       "7   0.338542           0.01           200      4\n",
       "8   0.564583           0.10           500      6\n",
       "9   0.526563           0.10           500      4\n",
       "10  0.440625           0.01           500      6\n",
       "11  0.409896           0.01           500      4"
      ]
     },
     "execution_count": 16,
     "metadata": {},
     "output_type": "execute_result"
    }
   ],
   "source": [
    "results_catboost_D = []\n",
    "n_iterations = [100,200,500]\n",
    "lr = [0.1,0.01]\n",
    "n_depth = [6,4]\n",
    "loss_f = 'MultiClass'\n",
    "\n",
    "for iters in n_iterations:\n",
    "    for ls in lr:\n",
    "        for depths in n_depth:\n",
    "            model_D = CatBoostClassifier(iterations=iters,\n",
    "                                        learning_rate=ls,\n",
    "                                        depth=depths,\n",
    "                                        loss_function=loss_f,\n",
    "                                        task_type=\"GPU\",\n",
    "                                        devices='0:1')\n",
    "\n",
    "            model_D.fit(x_train_flat, Y_train, verbose=50)\n",
    "            acc = model_D.score(x_val_flat,Y_val)\n",
    "            # the results from the different hyperparameters are then stored so we can get the best one\n",
    "            results_catboost_D.append([acc,ls,iters, depths])\n",
    "results_df_catboost_D = pd.DataFrame(results_catboost_D)\n",
    "results_df_catboost_D.columns=['accuracy',\"learning_rate\",\"n_estimators\", \"depth\"]\n",
    "#prints the results from best to worst in regards to accuracy, listting the hyperparameters for the result\n",
    "results_df_catboost_D = results_df_catboost_D.sort_values('accuracy', ascending=False)\n",
    "results_df_catboost_D"
   ]
  },
  {
   "cell_type": "code",
   "execution_count": 18,
   "id": "84a59dff",
   "metadata": {},
   "outputs": [],
   "source": [
    "results_df_catboost_D.to_csv('Catboost_results_DECADE')"
   ]
  },
  {
   "cell_type": "markdown",
   "id": "7111960d",
   "metadata": {
    "tags": []
   },
   "source": [
    "#### Catboost, modelY"
   ]
  },
  {
   "cell_type": "code",
   "execution_count": 15,
   "id": "5ca4f3ad",
   "metadata": {},
   "outputs": [
    {
     "name": "stderr",
     "output_type": "stream",
     "text": [
      "Custom logger is already specified. Specify more than one logger at same time is not thread safe."
     ]
    },
    {
     "name": "stdout",
     "output_type": "stream",
     "text": [
      "0:\tlearn: 2.3590973\ttotal: 383ms\tremaining: 38s\n",
      "50:\tlearn: 1.6995672\ttotal: 18.6s\tremaining: 17.8s\n",
      "99:\tlearn: 1.4127281\ttotal: 36.3s\tremaining: 0us\n",
      "0:\tlearn: 2.3687536\ttotal: 135ms\tremaining: 13.3s\n",
      "50:\tlearn: 1.9049727\ttotal: 5.45s\tremaining: 5.24s\n",
      "99:\tlearn: 1.6924842\ttotal: 10.7s\tremaining: 0us\n",
      "0:\tlearn: 2.3938581\ttotal: 386ms\tremaining: 38.3s\n",
      "50:\tlearn: 2.2422325\ttotal: 19.3s\tremaining: 18.6s\n",
      "99:\tlearn: 2.1406637\ttotal: 37.3s\tremaining: 0us\n",
      "0:\tlearn: 2.3948497\ttotal: 121ms\tremaining: 12s\n",
      "50:\tlearn: 2.2853228\ttotal: 4.55s\tremaining: 4.37s\n",
      "99:\tlearn: 2.2129804\ttotal: 8.9s\tremaining: 0us\n",
      "0:\tlearn: 2.3590968\ttotal: 331ms\tremaining: 1m 5s\n",
      "50:\tlearn: 1.6995670\ttotal: 15.6s\tremaining: 45.5s\n",
      "100:\tlearn: 1.4093030\ttotal: 31.6s\tremaining: 31s\n",
      "150:\tlearn: 1.2228128\ttotal: 46.2s\tremaining: 15s\n",
      "199:\tlearn: 1.0922946\ttotal: 1m 1s\tremaining: 0us\n",
      "0:\tlearn: 2.3687536\ttotal: 117ms\tremaining: 23.3s\n",
      "50:\tlearn: 1.9049728\ttotal: 4.78s\tremaining: 14s\n",
      "100:\tlearn: 1.6884748\ttotal: 9.39s\tremaining: 9.21s\n",
      "150:\tlearn: 1.5383550\ttotal: 13.9s\tremaining: 4.51s\n",
      "199:\tlearn: 1.4275138\ttotal: 18.5s\tremaining: 0us\n",
      "0:\tlearn: 2.3938576\ttotal: 334ms\tremaining: 1m 6s\n",
      "50:\tlearn: 2.2422328\ttotal: 17s\tremaining: 49.5s\n",
      "100:\tlearn: 2.1390628\ttotal: 32.8s\tremaining: 32.2s\n",
      "150:\tlearn: 2.0598277\ttotal: 48.5s\tremaining: 15.7s\n",
      "199:\tlearn: 1.9929843\ttotal: 1m 4s\tremaining: 0us\n",
      "0:\tlearn: 2.3948502\ttotal: 117ms\tremaining: 23.2s\n",
      "50:\tlearn: 2.2853231\ttotal: 4.84s\tremaining: 14.1s\n",
      "100:\tlearn: 2.2116552\ttotal: 9.51s\tremaining: 9.32s\n",
      "150:\tlearn: 2.1557602\ttotal: 14.1s\tremaining: 4.58s\n",
      "199:\tlearn: 2.1112644\ttotal: 18.5s\tremaining: 0us\n",
      "0:\tlearn: 2.3590970\ttotal: 348ms\tremaining: 2m 53s\n",
      "50:\tlearn: 1.6995670\ttotal: 16.2s\tremaining: 2m 22s\n",
      "100:\tlearn: 1.4093030\ttotal: 33.1s\tremaining: 2m 10s\n",
      "150:\tlearn: 1.2228127\ttotal: 48.5s\tremaining: 1m 52s\n",
      "200:\tlearn: 1.0903812\ttotal: 1m 2s\tremaining: 1m 33s\n",
      "250:\tlearn: 0.9919989\ttotal: 1m 16s\tremaining: 1m 15s\n",
      "300:\tlearn: 0.9008851\ttotal: 1m 29s\tremaining: 59.4s\n",
      "350:\tlearn: 0.8316813\ttotal: 1m 42s\tremaining: 43.7s\n",
      "400:\tlearn: 0.7656072\ttotal: 1m 56s\tremaining: 28.8s\n",
      "450:\tlearn: 0.7140510\ttotal: 2m 9s\tremaining: 14.1s\n",
      "499:\tlearn: 0.6627079\ttotal: 2m 22s\tremaining: 0us\n",
      "0:\tlearn: 2.3687533\ttotal: 119ms\tremaining: 59.5s\n",
      "50:\tlearn: 1.9049727\ttotal: 4.73s\tremaining: 41.6s\n",
      "100:\tlearn: 1.6884749\ttotal: 9.69s\tremaining: 38.3s\n",
      "150:\tlearn: 1.5383549\ttotal: 14.5s\tremaining: 33.6s\n",
      "200:\tlearn: 1.4268937\ttotal: 19s\tremaining: 28.3s\n",
      "250:\tlearn: 1.3424589\ttotal: 23.3s\tremaining: 23.1s\n",
      "300:\tlearn: 1.2703002\ttotal: 27.5s\tremaining: 18.2s\n",
      "350:\tlearn: 1.2069277\ttotal: 31.7s\tremaining: 13.5s\n",
      "400:\tlearn: 1.1506536\ttotal: 35.9s\tremaining: 8.86s\n",
      "450:\tlearn: 1.0985170\ttotal: 40.1s\tremaining: 4.36s\n",
      "499:\tlearn: 1.0533653\ttotal: 44.2s\tremaining: 0us\n",
      "0:\tlearn: 2.3938578\ttotal: 342ms\tremaining: 2m 50s\n",
      "50:\tlearn: 2.2422325\ttotal: 16.3s\tremaining: 2m 23s\n",
      "100:\tlearn: 2.1390628\ttotal: 32.8s\tremaining: 2m 9s\n",
      "150:\tlearn: 2.0598278\ttotal: 49.6s\tremaining: 1m 54s\n",
      "200:\tlearn: 1.9916013\ttotal: 1m 6s\tremaining: 1m 39s\n",
      "250:\tlearn: 1.9324150\ttotal: 1m 23s\tremaining: 1m 23s\n",
      "300:\tlearn: 1.8763536\ttotal: 1m 40s\tremaining: 1m 6s\n",
      "350:\tlearn: 1.8282448\ttotal: 1m 56s\tremaining: 49.6s\n",
      "400:\tlearn: 1.7840192\ttotal: 2m 13s\tremaining: 32.8s\n",
      "450:\tlearn: 1.7435720\ttotal: 2m 29s\tremaining: 16.3s\n",
      "499:\tlearn: 1.7064651\ttotal: 2m 46s\tremaining: 0us\n",
      "0:\tlearn: 2.3948497\ttotal: 119ms\tremaining: 59.2s\n",
      "50:\tlearn: 2.2853228\ttotal: 4.79s\tremaining: 42.1s\n",
      "100:\tlearn: 2.2116552\ttotal: 9.89s\tremaining: 39.1s\n",
      "150:\tlearn: 2.1557602\ttotal: 14.5s\tremaining: 33.5s\n",
      "200:\tlearn: 2.1104169\ttotal: 19.7s\tremaining: 29.3s\n",
      "250:\tlearn: 2.0703185\ttotal: 24.6s\tremaining: 24.4s\n",
      "300:\tlearn: 2.0343572\ttotal: 29.3s\tremaining: 19.4s\n",
      "350:\tlearn: 2.0000426\ttotal: 34.2s\tremaining: 14.5s\n",
      "400:\tlearn: 1.9685076\ttotal: 39.4s\tremaining: 9.72s\n",
      "450:\tlearn: 1.9384168\ttotal: 44.1s\tremaining: 4.79s\n",
      "499:\tlearn: 1.9115758\ttotal: 48.4s\tremaining: 0us\n"
     ]
    },
    {
     "data": {
      "text/html": [
       "<div>\n",
       "<style scoped>\n",
       "    .dataframe tbody tr th:only-of-type {\n",
       "        vertical-align: middle;\n",
       "    }\n",
       "\n",
       "    .dataframe tbody tr th {\n",
       "        vertical-align: top;\n",
       "    }\n",
       "\n",
       "    .dataframe thead th {\n",
       "        text-align: right;\n",
       "    }\n",
       "</style>\n",
       "<table border=\"1\" class=\"dataframe\">\n",
       "  <thead>\n",
       "    <tr style=\"text-align: right;\">\n",
       "      <th></th>\n",
       "      <th>accuracy</th>\n",
       "      <th>learning_rate</th>\n",
       "      <th>n_estimators</th>\n",
       "      <th>depth</th>\n",
       "    </tr>\n",
       "  </thead>\n",
       "  <tbody>\n",
       "    <tr>\n",
       "      <th>8</th>\n",
       "      <td>0.564583</td>\n",
       "      <td>0.10</td>\n",
       "      <td>500</td>\n",
       "      <td>6</td>\n",
       "    </tr>\n",
       "    <tr>\n",
       "      <th>9</th>\n",
       "      <td>0.526563</td>\n",
       "      <td>0.10</td>\n",
       "      <td>500</td>\n",
       "      <td>4</td>\n",
       "    </tr>\n",
       "    <tr>\n",
       "      <th>4</th>\n",
       "      <td>0.522396</td>\n",
       "      <td>0.10</td>\n",
       "      <td>200</td>\n",
       "      <td>6</td>\n",
       "    </tr>\n",
       "    <tr>\n",
       "      <th>5</th>\n",
       "      <td>0.477083</td>\n",
       "      <td>0.10</td>\n",
       "      <td>200</td>\n",
       "      <td>4</td>\n",
       "    </tr>\n",
       "    <tr>\n",
       "      <th>0</th>\n",
       "      <td>0.470833</td>\n",
       "      <td>0.10</td>\n",
       "      <td>100</td>\n",
       "      <td>6</td>\n",
       "    </tr>\n",
       "    <tr>\n",
       "      <th>10</th>\n",
       "      <td>0.440625</td>\n",
       "      <td>0.01</td>\n",
       "      <td>500</td>\n",
       "      <td>6</td>\n",
       "    </tr>\n",
       "    <tr>\n",
       "      <th>1</th>\n",
       "      <td>0.423438</td>\n",
       "      <td>0.10</td>\n",
       "      <td>100</td>\n",
       "      <td>4</td>\n",
       "    </tr>\n",
       "    <tr>\n",
       "      <th>11</th>\n",
       "      <td>0.409896</td>\n",
       "      <td>0.01</td>\n",
       "      <td>500</td>\n",
       "      <td>4</td>\n",
       "    </tr>\n",
       "    <tr>\n",
       "      <th>6</th>\n",
       "      <td>0.382812</td>\n",
       "      <td>0.01</td>\n",
       "      <td>200</td>\n",
       "      <td>6</td>\n",
       "    </tr>\n",
       "    <tr>\n",
       "      <th>7</th>\n",
       "      <td>0.338542</td>\n",
       "      <td>0.01</td>\n",
       "      <td>200</td>\n",
       "      <td>4</td>\n",
       "    </tr>\n",
       "    <tr>\n",
       "      <th>2</th>\n",
       "      <td>0.338021</td>\n",
       "      <td>0.01</td>\n",
       "      <td>100</td>\n",
       "      <td>6</td>\n",
       "    </tr>\n",
       "    <tr>\n",
       "      <th>3</th>\n",
       "      <td>0.299479</td>\n",
       "      <td>0.01</td>\n",
       "      <td>100</td>\n",
       "      <td>4</td>\n",
       "    </tr>\n",
       "  </tbody>\n",
       "</table>\n",
       "</div>"
      ],
      "text/plain": [
       "    accuracy  learning_rate  n_estimators  depth\n",
       "8   0.564583           0.10           500      6\n",
       "9   0.526563           0.10           500      4\n",
       "4   0.522396           0.10           200      6\n",
       "5   0.477083           0.10           200      4\n",
       "0   0.470833           0.10           100      6\n",
       "10  0.440625           0.01           500      6\n",
       "1   0.423438           0.10           100      4\n",
       "11  0.409896           0.01           500      4\n",
       "6   0.382812           0.01           200      6\n",
       "7   0.338542           0.01           200      4\n",
       "2   0.338021           0.01           100      6\n",
       "3   0.299479           0.01           100      4"
      ]
     },
     "execution_count": 15,
     "metadata": {},
     "output_type": "execute_result"
    }
   ],
   "source": [
    "results = []\n",
    "n_iterations = [100,200,500]\n",
    "lr = [0.1,0.01]\n",
    "n_depth = [6,4]\n",
    "loss_f = 'MultiClass'\n",
    "\n",
    "for iters in n_iterations:\n",
    "    for ls in lr:\n",
    "        for depths in n_depth:\n",
    "            model_Y = CatBoostClassifier(iterations=iters,\n",
    "                                        learning_rate=ls,\n",
    "                                        depth=depths,\n",
    "                                        loss_function=loss_f,\n",
    "                                        task_type=\"GPU\",\n",
    "                                        devices='0:1')\n",
    "\n",
    "            model_Y.fit(x_train_flat, Y_train, verbose=50)\n",
    "            acc = model_Y.score(x_val_flat,Y_val)\n",
    "            # the results from the different hyperparameters are then stored so we can get the best one\n",
    "            results.append([acc,ls,iters, depths])\n",
    "results_df = pd.DataFrame(results)\n",
    "results_df.columns=['accuracy',\"learning_rate\",\"n_estimators\", \"depth\"]\n",
    "#prints the results from best to worst in regards to accuracy, listting the hyperparameters for the result\n",
    "results_df = results_df.sort_values('accuracy', ascending=False)\n",
    "results_df"
   ]
  },
  {
   "cell_type": "code",
   "execution_count": 19,
   "id": "e614d157",
   "metadata": {},
   "outputs": [],
   "source": [
    "results_df.to_csv('Catboost_results_YEAR')"
   ]
  },
  {
   "cell_type": "markdown",
   "id": "e1e6e31f",
   "metadata": {
    "tags": []
   },
   "source": [
    "## Question 2"
   ]
  },
  {
   "cell_type": "code",
   "execution_count": 2,
   "id": "b2b2233b",
   "metadata": {
    "collapsed": true,
    "jupyter": {
     "outputs_hidden": true
    },
    "tags": []
   },
   "outputs": [
    {
     "ename": "NameError",
     "evalue": "name 'gray_val' is not defined",
     "output_type": "error",
     "traceback": [
      "\u001b[1;31m---------------------------------------------------------------------------\u001b[0m",
      "\u001b[1;31mNameError\u001b[0m                                 Traceback (most recent call last)",
      "\u001b[1;32m~\\AppData\\Local\\Temp/ipykernel_18480/704480091.py\u001b[0m in \u001b[0;36m<module>\u001b[1;34m\u001b[0m\n\u001b[0;32m      1\u001b[0m \u001b[1;31m#Normalization of gray values\u001b[0m\u001b[1;33m\u001b[0m\u001b[1;33m\u001b[0m\u001b[0m\n\u001b[1;32m----> 2\u001b[1;33m \u001b[0mgray_val\u001b[0m \u001b[1;33m=\u001b[0m \u001b[0mgray_val\u001b[0m\u001b[1;33m/\u001b[0m\u001b[1;36m255\u001b[0m\u001b[1;33m\u001b[0m\u001b[1;33m\u001b[0m\u001b[0m\n\u001b[0m\u001b[0;32m      3\u001b[0m \u001b[0mgray_train\u001b[0m \u001b[1;33m=\u001b[0m \u001b[0mgray_train\u001b[0m\u001b[1;33m/\u001b[0m\u001b[1;36m255\u001b[0m\u001b[1;33m\u001b[0m\u001b[1;33m\u001b[0m\u001b[0m\n\u001b[0;32m      4\u001b[0m \u001b[0mgray_test\u001b[0m \u001b[1;33m=\u001b[0m \u001b[0mgray_test\u001b[0m\u001b[1;33m/\u001b[0m\u001b[1;36m255\u001b[0m\u001b[1;33m\u001b[0m\u001b[1;33m\u001b[0m\u001b[0m\n\u001b[0;32m      5\u001b[0m \u001b[0mrgb_val\u001b[0m \u001b[1;33m=\u001b[0m \u001b[0mrgb_val\u001b[0m\u001b[1;33m/\u001b[0m\u001b[1;36m255\u001b[0m\u001b[1;33m\u001b[0m\u001b[1;33m\u001b[0m\u001b[0m\n",
      "\u001b[1;31mNameError\u001b[0m: name 'gray_val' is not defined"
     ]
    }
   ],
   "source": [
    "#Normalization of gray values\n",
    "gray_val = gray_val/255\n",
    "gray_train = gray_train/255\n",
    "gray_test = gray_test/255\n",
    "rgb_val = rgb_val/255\n",
    "rgb_train = rgb_train/255\n",
    "rgb_test = rgb_test/255"
   ]
  },
  {
   "cell_type": "markdown",
   "id": "ca80b6c6",
   "metadata": {
    "jp-MarkdownHeadingCollapsed": true,
    "tags": []
   },
   "source": [
    "### 2.2.A Construct a CNN"
   ]
  },
  {
   "cell_type": "code",
   "execution_count": null,
   "id": "ede1e40f",
   "metadata": {},
   "outputs": [],
   "source": []
  },
  {
   "cell_type": "markdown",
   "id": "94a29044",
   "metadata": {
    "jp-MarkdownHeadingCollapsed": true,
    "tags": []
   },
   "source": [
    "### 2.2.B Regularization"
   ]
  },
  {
   "cell_type": "code",
   "execution_count": null,
   "id": "e97f1375",
   "metadata": {},
   "outputs": [],
   "source": []
  },
  {
   "cell_type": "markdown",
   "id": "f500322a",
   "metadata": {
    "jp-MarkdownHeadingCollapsed": true,
    "tags": []
   },
   "source": [
    "### 2.2.C Augmentation"
   ]
  },
  {
   "cell_type": "code",
   "execution_count": null,
   "id": "f11e36cd",
   "metadata": {},
   "outputs": [],
   "source": []
  },
  {
   "cell_type": "markdown",
   "id": "7867ed75",
   "metadata": {
    "jp-MarkdownHeadingCollapsed": true,
    "tags": []
   },
   "source": [
    "### 2.2.D Transfer learning"
   ]
  },
  {
   "cell_type": "code",
   "execution_count": null,
   "id": "9e1501fe",
   "metadata": {},
   "outputs": [],
   "source": []
  },
  {
   "cell_type": "markdown",
   "id": "f897e18b",
   "metadata": {
    "jp-MarkdownHeadingCollapsed": true,
    "tags": []
   },
   "source": [
    "## 2.3 Prefered CNN model"
   ]
  },
  {
   "cell_type": "code",
   "execution_count": null,
   "id": "6c3e89f3",
   "metadata": {},
   "outputs": [],
   "source": []
  },
  {
   "cell_type": "markdown",
   "id": "63436d55",
   "metadata": {},
   "source": [
    "## Question 3"
   ]
  },
  {
   "cell_type": "markdown",
   "id": "6534b9e2",
   "metadata": {
    "jp-MarkdownHeadingCollapsed": true,
    "tags": []
   },
   "source": [
    "### 3.1 Visualization of activation maps"
   ]
  },
  {
   "cell_type": "code",
   "execution_count": null,
   "id": "48752c5c",
   "metadata": {},
   "outputs": [],
   "source": []
  },
  {
   "cell_type": "markdown",
   "id": "517a2519",
   "metadata": {
    "jp-MarkdownHeadingCollapsed": true,
    "tags": []
   },
   "source": [
    "### 3.2 Investigating model performance"
   ]
  },
  {
   "cell_type": "code",
   "execution_count": null,
   "id": "b062249d",
   "metadata": {},
   "outputs": [],
   "source": []
  }
 ],
 "metadata": {
  "kernelspec": {
   "display_name": "Python 3",
   "language": "python",
   "name": "python3"
  },
  "language_info": {
   "codemirror_mode": {
    "name": "ipython",
    "version": 3
   },
   "file_extension": ".py",
   "mimetype": "text/x-python",
   "name": "python",
   "nbconvert_exporter": "python",
   "pygments_lexer": "ipython3",
   "version": "3.9.2"
  }
 },
 "nbformat": 4,
 "nbformat_minor": 5
}
