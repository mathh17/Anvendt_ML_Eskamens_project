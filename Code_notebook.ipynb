{
 "cells": [
  {
   "cell_type": "code",
   "execution_count": 1,
   "id": "9b8fa685",
   "metadata": {},
   "outputs": [
    {
     "name": "stderr",
     "output_type": "stream",
     "text": [
      "'conda' is not recognized as an internal or external command,\n",
      "operable program or batch file.\n"
     ]
    }
   ],
   "source": [
    "!conda activate asl"
   ]
  },
  {
   "cell_type": "markdown",
   "id": "3216d5e9",
   "metadata": {},
   "source": [
    "# Exam DS807"
   ]
  },
  {
   "cell_type": "markdown",
   "id": "1b7b7fa5",
   "metadata": {
    "tags": []
   },
   "source": [
    "## Preparation of data"
   ]
  },
  {
   "cell_type": "markdown",
   "id": "0ee899e2",
   "metadata": {
    "tags": []
   },
   "source": [
    "### Labeling Data and converting images to array values"
   ]
  },
  {
   "cell_type": "code",
   "execution_count": 2,
   "id": "fc9955f4",
   "metadata": {
    "tags": []
   },
   "outputs": [],
   "source": [
    "#import packages for labelling and converting imagery data\n",
    "import pandas as pd\n",
    "import numpy as np\n",
    "import os\n",
    "from tensorflow.keras.preprocessing.image import load_img\n",
    "from tensorflow.keras.preprocessing.image import img_to_array\n",
    "from numpy import asarray\n",
    "from sklearn import svm\n",
    "from sklearn.metrics import accuracy_score\n",
    "from catboost import CatBoostClassifier"
   ]
  },
  {
   "cell_type": "code",
   "execution_count": 3,
   "id": "2b259525",
   "metadata": {
    "tags": []
   },
   "outputs": [],
   "source": [
    "##############\n",
    "# Func for creating 1D image arrays\n",
    "\n",
    "def load_image_function(path):\n",
    "    images = [] # empty list placeholder\n",
    "    labels = [] # empty list placeholder\n",
    "    container = [] # container to validate correct labels\n",
    "    for filename in os.listdir(path):\n",
    "        container.append(filename) # add filename to container     \n",
    "        CCDY_img = load_img(path + f'/{filename}', target_size = (56, 106),\n",
    "        color_mode=\"grayscale\")                  \n",
    "        CCDY_img = img_to_array(CCDY_img)\n",
    "        images.append(CCDY_img) # append the photo to the images. The images list contains a list of arrays       \n",
    "    return asarray(images), container; # not interested in list of arrays, but array containing lists. Asarray does this. Returns three arrays\n"
   ]
  },
  {
   "cell_type": "code",
   "execution_count": 4,
   "id": "91759201",
   "metadata": {
    "tags": []
   },
   "outputs": [],
   "source": [
    "################\n",
    "# Func for creating df with classes and 3d img arrays\n",
    "\n",
    "def load_img_data ():\n",
    "    # Start: creatign classes ons string_digits\n",
    "    # load string digits\n",
    "\n",
    "    #os.chdir(path_string_digits)\n",
    "\n",
    "    string_digits = pd.read_csv('DIDA_12000_String_Digit_Labels.csv', \n",
    "                 header = None, \n",
    "                 names=[\"index\", \"string\"])\n",
    "    # create empty class columns\n",
    "    string_digits['CC'] = 0\n",
    "    string_digits['D'] = 0\n",
    "    string_digits['Y'] = 0\n",
    "    string_digits = string_digits.astype(str)\n",
    "    # Iterate string digits and append classes\n",
    "    for i, row in string_digits.iterrows():\n",
    "        if len(row['string']) != 4:\n",
    "            row['CC'] = '1'\n",
    "            row['D'] = '10'\n",
    "            row['Y'] = '10'\n",
    "        else:\n",
    "            row['D'] = row['string'][2]\n",
    "            row['Y'] = row['string'][3]\n",
    "            if row['string'][0:2] == '18':\n",
    "                row['CC']='0'\n",
    "            else:\n",
    "                row['CC']='1'\n",
    "    # End of class labeling on string_digits.\n",
    "    #\n",
    "    # Start: create img_df containing scaled images as 1D tensors\n",
    "    # Convert imagery to 1D arrays with tagged file names\n",
    "\n",
    "    #os.chdir(path_images)\n",
    "    image_array, filename = load_image_function('DIDA_12000_String_Digit_Images/DIDA_1')\n",
    "\n",
    "    # and convert to a img_df\n",
    "    img_df = pd.DataFrame({'filename': filename, 'img_value': list(image_array)}, \n",
    "                          columns=['filename', 'img_value'])\n",
    "    # Create proper index value in img_df to allow merge on string_digits\n",
    "    img_df['index'] = img_df['filename']\n",
    "    for i, row in img_df.iterrows():\n",
    "        row['index'] = str(img_df['index'][i]).split('.')[0]\n",
    "    img_df\n",
    "    # End of creating img_df\n",
    "    #\n",
    "    # Start: merge img_df with string_digits\n",
    "    # match index type on dataframes to merge\n",
    "    string_digits['index'] = string_digits['index'].astype(int)\n",
    "    img_df['index'] = img_df['index'].astype(int)\n",
    "    # Merge dataframes\n",
    "    df_img_classes = string_digits.merge(img_df)\n",
    "    # Rearrange order of dataframe\n",
    "    df_img_classes = df_img_classes.reindex(columns= ['index', 'string', 'CC', 'D', 'Y', 'img_value', 'filename'])\n",
    "    # End og merging data frames\n",
    "    return df_img_classes\n"
   ]
  },
  {
   "cell_type": "code",
   "execution_count": 5,
   "id": "4c4b5305",
   "metadata": {
    "tags": []
   },
   "outputs": [
    {
     "data": {
      "text/html": [
       "<div>\n",
       "<style scoped>\n",
       "    .dataframe tbody tr th:only-of-type {\n",
       "        vertical-align: middle;\n",
       "    }\n",
       "\n",
       "    .dataframe tbody tr th {\n",
       "        vertical-align: top;\n",
       "    }\n",
       "\n",
       "    .dataframe thead th {\n",
       "        text-align: right;\n",
       "    }\n",
       "</style>\n",
       "<table border=\"1\" class=\"dataframe\">\n",
       "  <thead>\n",
       "    <tr style=\"text-align: right;\">\n",
       "      <th></th>\n",
       "      <th>index</th>\n",
       "      <th>string</th>\n",
       "      <th>CC</th>\n",
       "      <th>D</th>\n",
       "      <th>Y</th>\n",
       "      <th>img_value</th>\n",
       "      <th>filename</th>\n",
       "    </tr>\n",
       "  </thead>\n",
       "  <tbody>\n",
       "    <tr>\n",
       "      <th>0</th>\n",
       "      <td>9406</td>\n",
       "      <td>1835</td>\n",
       "      <td>0</td>\n",
       "      <td>3</td>\n",
       "      <td>5</td>\n",
       "      <td>[[[171.0], [171.0], [171.0], [166.0], [177.0],...</td>\n",
       "      <td>9406.jpg</td>\n",
       "    </tr>\n",
       "    <tr>\n",
       "      <th>1</th>\n",
       "      <td>905</td>\n",
       "      <td>1836</td>\n",
       "      <td>0</td>\n",
       "      <td>3</td>\n",
       "      <td>6</td>\n",
       "      <td>[[[133.0], [135.0], [136.0], [136.0], [135.0],...</td>\n",
       "      <td>905.jpg</td>\n",
       "    </tr>\n",
       "    <tr>\n",
       "      <th>2</th>\n",
       "      <td>4104</td>\n",
       "      <td>1822</td>\n",
       "      <td>0</td>\n",
       "      <td>2</td>\n",
       "      <td>2</td>\n",
       "      <td>[[[163.0], [166.0], [167.0], [164.0], [160.0],...</td>\n",
       "      <td>4104.jpg</td>\n",
       "    </tr>\n",
       "    <tr>\n",
       "      <th>3</th>\n",
       "      <td>11719</td>\n",
       "      <td>1809</td>\n",
       "      <td>0</td>\n",
       "      <td>0</td>\n",
       "      <td>9</td>\n",
       "      <td>[[[179.0], [177.0], [178.0], [178.0], [176.0],...</td>\n",
       "      <td>11719.jpg</td>\n",
       "    </tr>\n",
       "    <tr>\n",
       "      <th>4</th>\n",
       "      <td>8343</td>\n",
       "      <td>1819</td>\n",
       "      <td>0</td>\n",
       "      <td>1</td>\n",
       "      <td>9</td>\n",
       "      <td>[[[157.0], [155.0], [158.0], [158.0], [160.0],...</td>\n",
       "      <td>8343.jpg</td>\n",
       "    </tr>\n",
       "    <tr>\n",
       "      <th>...</th>\n",
       "      <td>...</td>\n",
       "      <td>...</td>\n",
       "      <td>...</td>\n",
       "      <td>...</td>\n",
       "      <td>...</td>\n",
       "      <td>...</td>\n",
       "      <td>...</td>\n",
       "    </tr>\n",
       "    <tr>\n",
       "      <th>11995</th>\n",
       "      <td>4934</td>\n",
       "      <td>1820</td>\n",
       "      <td>0</td>\n",
       "      <td>2</td>\n",
       "      <td>0</td>\n",
       "      <td>[[[142.0], [144.0], [145.0], [144.0], [146.0],...</td>\n",
       "      <td>4934.jpg</td>\n",
       "    </tr>\n",
       "    <tr>\n",
       "      <th>11996</th>\n",
       "      <td>2673</td>\n",
       "      <td>1803</td>\n",
       "      <td>0</td>\n",
       "      <td>0</td>\n",
       "      <td>3</td>\n",
       "      <td>[[[129.0], [128.0], [127.0], [127.0], [126.0],...</td>\n",
       "      <td>2673.jpg</td>\n",
       "    </tr>\n",
       "    <tr>\n",
       "      <th>11997</th>\n",
       "      <td>8988</td>\n",
       "      <td>1823</td>\n",
       "      <td>0</td>\n",
       "      <td>2</td>\n",
       "      <td>3</td>\n",
       "      <td>[[[168.0], [170.0], [169.0], [160.0], [156.0],...</td>\n",
       "      <td>8988.jpg</td>\n",
       "    </tr>\n",
       "    <tr>\n",
       "      <th>11998</th>\n",
       "      <td>8087</td>\n",
       "      <td>1815</td>\n",
       "      <td>0</td>\n",
       "      <td>1</td>\n",
       "      <td>5</td>\n",
       "      <td>[[[105.0], [67.0], [72.0], [100.0], [123.0], [...</td>\n",
       "      <td>8087.jpg</td>\n",
       "    </tr>\n",
       "    <tr>\n",
       "      <th>11999</th>\n",
       "      <td>5243</td>\n",
       "      <td>1824</td>\n",
       "      <td>0</td>\n",
       "      <td>2</td>\n",
       "      <td>4</td>\n",
       "      <td>[[[189.0], [188.0], [187.0], [187.0], [187.0],...</td>\n",
       "      <td>5243.jpg</td>\n",
       "    </tr>\n",
       "  </tbody>\n",
       "</table>\n",
       "<p>12000 rows × 7 columns</p>\n",
       "</div>"
      ],
      "text/plain": [
       "       index string CC  D  Y  \\\n",
       "0       9406   1835  0  3  5   \n",
       "1        905   1836  0  3  6   \n",
       "2       4104   1822  0  2  2   \n",
       "3      11719   1809  0  0  9   \n",
       "4       8343   1819  0  1  9   \n",
       "...      ...    ... .. .. ..   \n",
       "11995   4934   1820  0  2  0   \n",
       "11996   2673   1803  0  0  3   \n",
       "11997   8988   1823  0  2  3   \n",
       "11998   8087   1815  0  1  5   \n",
       "11999   5243   1824  0  2  4   \n",
       "\n",
       "                                               img_value   filename  \n",
       "0      [[[171.0], [171.0], [171.0], [166.0], [177.0],...   9406.jpg  \n",
       "1      [[[133.0], [135.0], [136.0], [136.0], [135.0],...    905.jpg  \n",
       "2      [[[163.0], [166.0], [167.0], [164.0], [160.0],...   4104.jpg  \n",
       "3      [[[179.0], [177.0], [178.0], [178.0], [176.0],...  11719.jpg  \n",
       "4      [[[157.0], [155.0], [158.0], [158.0], [160.0],...   8343.jpg  \n",
       "...                                                  ...        ...  \n",
       "11995  [[[142.0], [144.0], [145.0], [144.0], [146.0],...   4934.jpg  \n",
       "11996  [[[129.0], [128.0], [127.0], [127.0], [126.0],...   2673.jpg  \n",
       "11997  [[[168.0], [170.0], [169.0], [160.0], [156.0],...   8988.jpg  \n",
       "11998  [[[105.0], [67.0], [72.0], [100.0], [123.0], [...   8087.jpg  \n",
       "11999  [[[189.0], [188.0], [187.0], [187.0], [187.0],...   5243.jpg  \n",
       "\n",
       "[12000 rows x 7 columns]"
      ]
     },
     "execution_count": 5,
     "metadata": {},
     "output_type": "execute_result"
    }
   ],
   "source": [
    "#load data and shuffle them around\n",
    "df = load_img_data()\n",
    "df = df.sample(frac=1).reset_index(drop=True)\n",
    "df"
   ]
  },
  {
   "cell_type": "markdown",
   "id": "0a3c05e5",
   "metadata": {
    "tags": []
   },
   "source": [
    "### Defining fixed train, test and valdiation sets."
   ]
  },
  {
   "cell_type": "code",
   "execution_count": 6,
   "id": "322b7a4f",
   "metadata": {},
   "outputs": [],
   "source": [
    "df = df.drop(columns=['index','string','filename'])"
   ]
  },
  {
   "cell_type": "markdown",
   "id": "2f10fa62",
   "metadata": {
    "tags": []
   },
   "source": [
    "### Split train, val, test"
   ]
  },
  {
   "cell_type": "markdown",
   "id": "3ded130e",
   "metadata": {
    "tags": []
   },
   "source": [
    "#### Subsetting df"
   ]
  },
  {
   "cell_type": "code",
   "execution_count": 7,
   "id": "3014bfe8",
   "metadata": {
    "tags": []
   },
   "outputs": [],
   "source": [
    "x_train = df.loc[0:7679]\n",
    "x_val = df.loc[7680:9599]\n",
    "x_test = df.loc[9600:11999]"
   ]
  },
  {
   "cell_type": "markdown",
   "id": "8e905350",
   "metadata": {
    "tags": []
   },
   "source": [
    "#### Creating labels"
   ]
  },
  {
   "cell_type": "code",
   "execution_count": 8,
   "id": "ec9cccfe",
   "metadata": {
    "tags": []
   },
   "outputs": [],
   "source": [
    "#### training labels ###\n",
    "Y_train = x_train['Y']\n",
    "Y_train = Y_train.astype(np.uint8)\n",
    "D_train = x_train['D']\n",
    "D_train = D_train.astype(np.uint8)\n",
    "CC_train = x_train['CC']\n",
    "CC_train = CC_train.astype(np.uint8)\n",
    "\n",
    "#### validation labels ###\n",
    "Y_val = x_val['Y']\n",
    "Y_val = Y_val.astype(np.uint8)\n",
    "D_val = x_val['D']\n",
    "D_val = D_val.astype(np.uint8)\n",
    "CC_val = x_val['CC']\n",
    "CC_val = CC_val.astype(np.uint8)\n",
    "\n",
    "#### test labels ###\n",
    "Y_test = x_test['Y']\n",
    "Y_test = Y_test.astype(np.uint8)\n",
    "D_test = x_test['D']\n",
    "D_test = D_test.astype(np.uint8)\n",
    "CC_test = x_test['CC']\n",
    "CC_test = CC_test.astype(np.uint8)\n"
   ]
  },
  {
   "cell_type": "markdown",
   "id": "fbb48277",
   "metadata": {
    "tags": []
   },
   "source": [
    "#### Creating image values"
   ]
  },
  {
   "cell_type": "code",
   "execution_count": 9,
   "id": "7e455451",
   "metadata": {
    "tags": []
   },
   "outputs": [],
   "source": [
    "# train\n",
    "values = np.zeros(shape=(len(x_train),56,106,1))\n",
    "i = 0\n",
    "j = 0\n",
    "while i < len(x_train):\n",
    "    values[i] = x_train['img_value'][j]\n",
    "    i += 1\n",
    "    j+=1\n",
    "x_train = values/255\n",
    "\n",
    "# val\n",
    "values = np.zeros(shape=(len(x_val),56,106,1))\n",
    "i = 0\n",
    "j = 7680\n",
    "while i < len(x_val):\n",
    "    values[i] = x_val['img_value'][j]\n",
    "    i += 1\n",
    "    j+=1\n",
    "x_val = values/255\n",
    "\n",
    "# test\n",
    "values = np.zeros(shape=(len(x_test),56,106,1))\n",
    "i = 0\n",
    "j = 9600\n",
    "while i < len(x_test):\n",
    "    values[i] = x_test['img_value'][j]\n",
    "    i += 1\n",
    "    j+=1\n",
    "x_test = values/255\n"
   ]
  },
  {
   "cell_type": "markdown",
   "id": "4357ab0d",
   "metadata": {},
   "source": [
    "### IMPORT 30K Data"
   ]
  },
  {
   "cell_type": "code",
   "execution_count": 19,
   "id": "17b5d3c6",
   "metadata": {},
   "outputs": [],
   "source": [
    "Hee_csv = pd.read_csv('30_samples_labeled_csv.csv',header=None, names=[\"index\", \"string\"],delimiter=';')\n",
    "Hee_csv['CC'] = 0\n",
    "Hee_csv['D'] = 0\n",
    "Hee_csv['Y'] = 0\n",
    "Hee_csv = Hee_csv.astype(str)\n",
    "# Iterate string digits and append classes\n",
    "for i, row in Hee_csv.iterrows():\n",
    "    if len(row['string']) != 4:\n",
    "        row['CC'] = '1'\n",
    "        row['D'] = '10'\n",
    "        row['Y'] = '10'\n",
    "    else:\n",
    "        row['D'] = row['string'][2]\n",
    "        row['Y'] = row['string'][3]\n",
    "        if row['string'][0:2] == '18':\n",
    "            row['CC']='0'\n",
    "        else:\n",
    "            row['CC']='1'\n",
    "#os.chdir(path_images)\n",
    "image_array, filename = load_image_function('30_samples')\n",
    "\n",
    "# and convert to a img_df\n",
    "img_df = pd.DataFrame({'filename': filename, 'img_value': list(image_array)}, \n",
    "                        columns=['filename', 'img_value'])\n",
    "# Create proper index value in img_df to allow merge on Hee_csv\n",
    "img_df['index'] = img_df['filename']\n",
    "for i, row in img_df.iterrows():\n",
    "    row['index'] = str(img_df['index'][i]).split('.')[0]\n",
    "img_df\n",
    "# End of creating img_df\n",
    "#\n",
    "# Start: merge img_df with Hee_csv\n",
    "# match index type on dataframes to merge\n",
    "Hee_csv['index'] = Hee_csv['index'].astype(int)\n",
    "img_df['index'] = img_df['index'].astype(int)\n",
    "# Merge dataframes\n",
    "df_img_classes = Hee_csv.merge(img_df)\n",
    "# Rearrange order of dataframe\n",
    "df_img_classes = df_img_classes.reindex(columns= ['index', 'string', 'CC', 'D', 'Y', 'img_value', 'filename'])\n",
    "# End og merging data frames"
   ]
  },
  {
   "cell_type": "code",
   "execution_count": 20,
   "id": "c1e57af3",
   "metadata": {},
   "outputs": [],
   "source": [
    "k30_labels_CC = df_img_classes['CC']\n",
    "k30_labels_D = df_img_classes['D']\n",
    "k30_labels_Y = df_img_classes['Y']"
   ]
  },
  {
   "cell_type": "code",
   "execution_count": 21,
   "id": "e12e9365",
   "metadata": {},
   "outputs": [],
   "source": [
    "k30_img_vals =  df_img_classes['img_value']\n",
    "values = np.zeros(shape=(len(k30_img_vals),56,106,1))\n",
    "i = 0\n",
    "j = 0\n",
    "while i < len(k30_img_vals):\n",
    "    values[i] = k30_img_vals[j]\n",
    "    i += 1\n",
    "    j+=1\n",
    "k30_img_vals = values/255"
   ]
  },
  {
   "cell_type": "code",
   "execution_count": 22,
   "id": "88a547d9",
   "metadata": {},
   "outputs": [
    {
     "data": {
      "text/plain": [
       "(1000, 5936)"
      ]
     },
     "execution_count": 22,
     "metadata": {},
     "output_type": "execute_result"
    }
   ],
   "source": [
    "n_samples = len(k30_img_vals)\n",
    "k30_img_vals_non_deep = k30_img_vals.reshape((n_samples, -1))\n",
    "k30_img_vals_non_deep.shape"
   ]
  },
  {
   "cell_type": "markdown",
   "id": "95f9926f",
   "metadata": {
    "tags": []
   },
   "source": [
    "## Question 1"
   ]
  },
  {
   "cell_type": "markdown",
   "id": "55b1fc10",
   "metadata": {
    "tags": []
   },
   "source": [
    "### 1.2 Non-deeplearning CC-D-Y models"
   ]
  },
  {
   "cell_type": "code",
   "execution_count": 10,
   "id": "0e4760fc",
   "metadata": {},
   "outputs": [],
   "source": [
    "x_train_flat = x_train.reshape((len(x_train), -1))\n",
    "x_val_flat = x_val.reshape((len(x_val), -1))\n",
    "x_test_flat = x_test.reshape((len(x_test), -1))"
   ]
  },
  {
   "cell_type": "markdown",
   "id": "485c441a",
   "metadata": {
    "tags": []
   },
   "source": [
    "#### SVM, modelCC"
   ]
  },
  {
   "cell_type": "code",
   "execution_count": 15,
   "id": "ffa2957b",
   "metadata": {},
   "outputs": [
    {
     "name": "stdout",
     "output_type": "stream",
     "text": [
      "[0.9614583333333333, 'linear', 1, 'scale', 'ovr', None]\n",
      "[0.9614583333333333, 'linear', 1, 'scale', 'ovo', None]\n",
      "[0.9614583333333333, 'linear', 1, 'auto', 'ovr', None]\n",
      "[0.9614583333333333, 'linear', 1, 'auto', 'ovo', None]\n",
      "[0.9609375, 'linear', 2, 'scale', 'ovr', None]\n",
      "[0.9609375, 'linear', 2, 'scale', 'ovo', None]\n",
      "[0.9609375, 'linear', 2, 'auto', 'ovr', None]\n",
      "[0.9609375, 'linear', 2, 'auto', 'ovo', None]\n",
      "[0.9609375, 'linear', 3, 'scale', 'ovr', None]\n",
      "[0.9609375, 'linear', 3, 'scale', 'ovo', None]\n",
      "[0.9609375, 'linear', 3, 'auto', 'ovr', None]\n",
      "[0.9609375, 'linear', 3, 'auto', 'ovo', None]\n",
      "[0.9651041666666667, 'poly', 1, 'scale', 'ovr', None]\n",
      "[0.9651041666666667, 'poly', 1, 'scale', 'ovo', None]\n",
      "[0.9625, 'poly', 1, 'auto', 'ovr', None]\n",
      "[0.9625, 'poly', 1, 'auto', 'ovo', None]\n",
      "[0.9661458333333334, 'poly', 1, 'scale', 'ovr', None]\n",
      "[0.9661458333333334, 'poly', 1, 'scale', 'ovo', None]\n",
      "[0.9625, 'poly', 1, 'auto', 'ovr', None]\n",
      "[0.9625, 'poly', 1, 'auto', 'ovo', None]\n",
      "[0.9609375, 'poly', 1, 'scale', 'ovr', None]\n",
      "[0.9609375, 'poly', 1, 'scale', 'ovo', None]\n",
      "[0.9625, 'poly', 1, 'auto', 'ovr', None]\n",
      "[0.9625, 'poly', 1, 'auto', 'ovo', None]\n",
      "[0.9604166666666667, 'poly', 1, 'scale', 'ovr', None]\n",
      "[0.9604166666666667, 'poly', 1, 'scale', 'ovo', None]\n",
      "[0.9625, 'poly', 1, 'auto', 'ovr', None]\n",
      "[0.9625, 'poly', 1, 'auto', 'ovo', None]\n",
      "[0.96875, 'poly', 2, 'scale', 'ovr', None]\n",
      "[0.96875, 'poly', 2, 'scale', 'ovo', None]\n",
      "[0.9625, 'poly', 2, 'auto', 'ovr', None]\n",
      "[0.9625, 'poly', 2, 'auto', 'ovo', None]\n",
      "[0.965625, 'poly', 2, 'scale', 'ovr', None]\n",
      "[0.965625, 'poly', 2, 'scale', 'ovo', None]\n",
      "[0.9625, 'poly', 2, 'auto', 'ovr', None]\n",
      "[0.9625, 'poly', 2, 'auto', 'ovo', None]\n",
      "[0.9609375, 'poly', 2, 'scale', 'ovr', None]\n",
      "[0.9609375, 'poly', 2, 'scale', 'ovo', None]\n",
      "[0.9625, 'poly', 2, 'auto', 'ovr', None]\n",
      "[0.9625, 'poly', 2, 'auto', 'ovo', None]\n",
      "[0.9604166666666667, 'poly', 2, 'scale', 'ovr', None]\n",
      "[0.9604166666666667, 'poly', 2, 'scale', 'ovo', None]\n",
      "[0.9625, 'poly', 2, 'auto', 'ovr', None]\n",
      "[0.9625, 'poly', 2, 'auto', 'ovo', None]\n",
      "[0.9708333333333333, 'poly', 3, 'scale', 'ovr', None]\n",
      "[0.9708333333333333, 'poly', 3, 'scale', 'ovo', None]\n",
      "[0.9625, 'poly', 3, 'auto', 'ovr', None]\n",
      "[0.9625, 'poly', 3, 'auto', 'ovo', None]\n",
      "[0.9640625, 'poly', 3, 'scale', 'ovr', None]\n",
      "[0.9640625, 'poly', 3, 'scale', 'ovo', None]\n",
      "[0.9625, 'poly', 3, 'auto', 'ovr', None]\n",
      "[0.9625, 'poly', 3, 'auto', 'ovo', None]\n",
      "[0.9609375, 'poly', 3, 'scale', 'ovr', None]\n",
      "[0.9609375, 'poly', 3, 'scale', 'ovo', None]\n",
      "[0.9625, 'poly', 3, 'auto', 'ovr', None]\n",
      "[0.9625, 'poly', 3, 'auto', 'ovo', None]\n",
      "[0.9604166666666667, 'poly', 3, 'scale', 'ovr', None]\n",
      "[0.9604166666666667, 'poly', 3, 'scale', 'ovo', None]\n",
      "[0.9625, 'poly', 3, 'auto', 'ovr', None]\n",
      "[0.9625, 'poly', 3, 'auto', 'ovo', None]\n",
      "[0.9666666666666667, 'rbf', 1, 'scale', 'ovr', None]\n",
      "[0.9666666666666667, 'rbf', 1, 'scale', 'ovo', None]\n",
      "[0.9625, 'rbf', 1, 'auto', 'ovr', None]\n",
      "[0.9625, 'rbf', 1, 'auto', 'ovo', None]\n",
      "[0.971875, 'rbf', 2, 'scale', 'ovr', None]\n",
      "[0.971875, 'rbf', 2, 'scale', 'ovo', None]\n",
      "[0.9625, 'rbf', 2, 'auto', 'ovr', None]\n",
      "[0.9625, 'rbf', 2, 'auto', 'ovo', None]\n",
      "[0.9729166666666667, 'rbf', 3, 'scale', 'ovr', None]\n",
      "[0.9729166666666667, 'rbf', 3, 'scale', 'ovo', None]\n",
      "[0.9625, 'rbf', 3, 'auto', 'ovr', None]\n",
      "[0.9625, 'rbf', 3, 'auto', 'ovo', None]\n",
      "[0.9625, 'sigmoid', 1, 'scale', 'ovr', None]\n",
      "[0.9625, 'sigmoid', 1, 'scale', 'ovo', None]\n",
      "[0.9625, 'sigmoid', 1, 'auto', 'ovr', None]\n",
      "[0.9625, 'sigmoid', 1, 'auto', 'ovo', None]\n",
      "[0.9625, 'sigmoid', 2, 'scale', 'ovr', None]\n",
      "[0.9625, 'sigmoid', 2, 'scale', 'ovo', None]\n",
      "[0.9625, 'sigmoid', 2, 'auto', 'ovr', None]\n",
      "[0.9625, 'sigmoid', 2, 'auto', 'ovo', None]\n",
      "[0.9625, 'sigmoid', 3, 'scale', 'ovr', None]\n",
      "[0.9625, 'sigmoid', 3, 'scale', 'ovo', None]\n",
      "[0.9625, 'sigmoid', 3, 'auto', 'ovr', None]\n",
      "[0.9625, 'sigmoid', 3, 'auto', 'ovo', None]\n"
     ]
    },
    {
     "data": {
      "text/html": [
       "<div>\n",
       "<style scoped>\n",
       "    .dataframe tbody tr th:only-of-type {\n",
       "        vertical-align: middle;\n",
       "    }\n",
       "\n",
       "    .dataframe tbody tr th {\n",
       "        vertical-align: top;\n",
       "    }\n",
       "\n",
       "    .dataframe thead th {\n",
       "        text-align: right;\n",
       "    }\n",
       "</style>\n",
       "<table border=\"1\" class=\"dataframe\">\n",
       "  <thead>\n",
       "    <tr style=\"text-align: right;\">\n",
       "      <th></th>\n",
       "      <th>Accuracy</th>\n",
       "      <th>Kernel</th>\n",
       "      <th>C</th>\n",
       "      <th>Gamma</th>\n",
       "      <th>Decision</th>\n",
       "      <th>Degree</th>\n",
       "    </tr>\n",
       "  </thead>\n",
       "  <tbody>\n",
       "    <tr>\n",
       "      <th>0</th>\n",
       "      <td>0.961458</td>\n",
       "      <td>linear</td>\n",
       "      <td>1</td>\n",
       "      <td>scale</td>\n",
       "      <td>ovr</td>\n",
       "      <td>NaN</td>\n",
       "    </tr>\n",
       "    <tr>\n",
       "      <th>1</th>\n",
       "      <td>0.961458</td>\n",
       "      <td>linear</td>\n",
       "      <td>1</td>\n",
       "      <td>scale</td>\n",
       "      <td>ovo</td>\n",
       "      <td>NaN</td>\n",
       "    </tr>\n",
       "    <tr>\n",
       "      <th>2</th>\n",
       "      <td>0.961458</td>\n",
       "      <td>linear</td>\n",
       "      <td>1</td>\n",
       "      <td>auto</td>\n",
       "      <td>ovr</td>\n",
       "      <td>NaN</td>\n",
       "    </tr>\n",
       "    <tr>\n",
       "      <th>3</th>\n",
       "      <td>0.961458</td>\n",
       "      <td>linear</td>\n",
       "      <td>1</td>\n",
       "      <td>auto</td>\n",
       "      <td>ovo</td>\n",
       "      <td>NaN</td>\n",
       "    </tr>\n",
       "    <tr>\n",
       "      <th>4</th>\n",
       "      <td>0.960938</td>\n",
       "      <td>linear</td>\n",
       "      <td>2</td>\n",
       "      <td>scale</td>\n",
       "      <td>ovr</td>\n",
       "      <td>NaN</td>\n",
       "    </tr>\n",
       "    <tr>\n",
       "      <th>...</th>\n",
       "      <td>...</td>\n",
       "      <td>...</td>\n",
       "      <td>...</td>\n",
       "      <td>...</td>\n",
       "      <td>...</td>\n",
       "      <td>...</td>\n",
       "    </tr>\n",
       "    <tr>\n",
       "      <th>79</th>\n",
       "      <td>0.962500</td>\n",
       "      <td>sigmoid</td>\n",
       "      <td>2</td>\n",
       "      <td>auto</td>\n",
       "      <td>ovo</td>\n",
       "      <td>NaN</td>\n",
       "    </tr>\n",
       "    <tr>\n",
       "      <th>80</th>\n",
       "      <td>0.962500</td>\n",
       "      <td>sigmoid</td>\n",
       "      <td>3</td>\n",
       "      <td>scale</td>\n",
       "      <td>ovr</td>\n",
       "      <td>NaN</td>\n",
       "    </tr>\n",
       "    <tr>\n",
       "      <th>81</th>\n",
       "      <td>0.962500</td>\n",
       "      <td>sigmoid</td>\n",
       "      <td>3</td>\n",
       "      <td>scale</td>\n",
       "      <td>ovo</td>\n",
       "      <td>NaN</td>\n",
       "    </tr>\n",
       "    <tr>\n",
       "      <th>82</th>\n",
       "      <td>0.962500</td>\n",
       "      <td>sigmoid</td>\n",
       "      <td>3</td>\n",
       "      <td>auto</td>\n",
       "      <td>ovr</td>\n",
       "      <td>NaN</td>\n",
       "    </tr>\n",
       "    <tr>\n",
       "      <th>83</th>\n",
       "      <td>0.962500</td>\n",
       "      <td>sigmoid</td>\n",
       "      <td>3</td>\n",
       "      <td>auto</td>\n",
       "      <td>ovo</td>\n",
       "      <td>NaN</td>\n",
       "    </tr>\n",
       "  </tbody>\n",
       "</table>\n",
       "<p>84 rows × 6 columns</p>\n",
       "</div>"
      ],
      "text/plain": [
       "    Accuracy   Kernel  C  Gamma Decision  Degree\n",
       "0   0.961458   linear  1  scale      ovr     NaN\n",
       "1   0.961458   linear  1  scale      ovo     NaN\n",
       "2   0.961458   linear  1   auto      ovr     NaN\n",
       "3   0.961458   linear  1   auto      ovo     NaN\n",
       "4   0.960938   linear  2  scale      ovr     NaN\n",
       "..       ...      ... ..    ...      ...     ...\n",
       "79  0.962500  sigmoid  2   auto      ovo     NaN\n",
       "80  0.962500  sigmoid  3  scale      ovr     NaN\n",
       "81  0.962500  sigmoid  3  scale      ovo     NaN\n",
       "82  0.962500  sigmoid  3   auto      ovr     NaN\n",
       "83  0.962500  sigmoid  3   auto      ovo     NaN\n",
       "\n",
       "[84 rows x 6 columns]"
      ]
     },
     "execution_count": 15,
     "metadata": {},
     "output_type": "execute_result"
    }
   ],
   "source": [
    "kernels = ['linear', 'poly', 'rbf', 'sigmoid']\n",
    "Cs = [1,2,3]\n",
    "Ds = [1,2,3,4]\n",
    "gammas = ['scale','auto']\n",
    "decisions = ['ovr', 'ovo']\n",
    "results = []\n",
    "\n",
    "for kernel in kernels:\n",
    "        if kernel == 'poly':\n",
    "            for C in Cs:\n",
    "                for D in Ds:\n",
    "                    for gamma in gammas:\n",
    "                        for decision in decisions:\n",
    "                            svm_current = svm.SVC(kernel=kernel, \n",
    "                                                    degree=D,\n",
    "                                                    C =C,\n",
    "                                                    gamma = gamma,\n",
    "                                                    random_state = 2022,\n",
    "                                                    decision_function_shape = decision)\n",
    "                            svm_current.fit(x_train_flat, CC_train)\n",
    "                            val_hat = svm_current.predict(x_val_flat)\n",
    "                            accuracy = accuracy_score(val_hat, CC_val)\n",
    "                            #\n",
    "                            results.append([accuracy, kernel, C, gamma, decision, D])\n",
    "                            print([accuracy, kernel, C, gamma, decision, None])\n",
    "        else:\n",
    "            for C in Cs:\n",
    "                for gamma in gammas:\n",
    "                    for decision in decisions:\n",
    "                        svm_current = svm.SVC(kernel=kernel,\n",
    "                                              C=C,\n",
    "                                              gamma = gamma,\n",
    "                                              decision_function_shape = decision,\n",
    "                                              random_state = 2022)\n",
    "                        svm_current.fit(x_train_flat, CC_train)\n",
    "                        val_hat = svm_current.predict(x_val_flat)\n",
    "                        accuracy = accuracy_score(val_hat, CC_val)\n",
    "                        #\n",
    "                        results.append([accuracy, kernel, C, gamma, decision, None])\n",
    "                        print([accuracy, kernel, C, gamma, decision, None])\n",
    "\n",
    "results = pd.DataFrame(results)\n",
    "results.columns = ['Accuracy', 'Kernel','C', 'Gamma', 'Decision', 'Degree']\n",
    "results\n",
    "\n",
    "#model = svm.SVC()\n",
    "#model.fit(x_train_flat, CC_train)\n",
    "#val_hat = model.predict(x_val_flat)\n",
    "#accuracy = accuracy_score(val_hat, CC_val)*100\n",
    "#accuracy"
   ]
  },
  {
   "cell_type": "code",
   "execution_count": 17,
   "id": "8a70c826-32df-4dc7-80b1-75c7b8457361",
   "metadata": {},
   "outputs": [
    {
     "data": {
      "text/plain": [
       "96.25"
      ]
     },
     "execution_count": 17,
     "metadata": {},
     "output_type": "execute_result"
    }
   ],
   "source": [
    "accuracy_done = accuracy_score(val_hat, CC_val)*100\n",
    "accuracy_done"
   ]
  },
  {
   "cell_type": "code",
   "execution_count": 19,
   "id": "906635af-e7c2-405e-9c4f-b7d0dd3ca137",
   "metadata": {},
   "outputs": [
    {
     "name": "stdout",
     "output_type": "stream",
     "text": [
      "    Accuracy Kernel  C  Gamma Decision  Degree\n",
      "68  0.972917    rbf  3  scale      ovr     NaN\n",
      "69  0.972917    rbf  3  scale      ovo     NaN\n"
     ]
    }
   ],
   "source": [
    "print(str(results[results['Accuracy'] == results['Accuracy'].max()]))"
   ]
  },
  {
   "cell_type": "code",
   "execution_count": 34,
   "id": "bcedd1a2-e3a4-4dd6-a0fb-d01485d50fce",
   "metadata": {},
   "outputs": [
    {
     "data": {
      "text/plain": [
       "0.9973958333333334"
      ]
     },
     "execution_count": 34,
     "metadata": {},
     "output_type": "execute_result"
    }
   ],
   "source": [
    "svm_final = svm.SVC(kernel='rbf',\n",
    "                      C=3,\n",
    "                      gamma = 'scale',\n",
    "                      decision_function_shape = 'ovr',\n",
    "                      random_state = 2022)\n",
    "svm_final.fit(np.concatenate((x_train_flat, x_val_flat), axis=0), np.concatenate((CC_train, CC_val), axis=0))\n",
    "val_hat = svm_final.predict(x_val_flat)\n",
    "accuracy = accuracy_score(val_hat, CC_val)\n",
    "accuracy"
   ]
  },
  {
   "cell_type": "markdown",
   "id": "6397f1be",
   "metadata": {
    "tags": []
   },
   "source": [
    "#### Catboost, modelD"
   ]
  },
  {
   "cell_type": "code",
   "execution_count": 25,
   "id": "a9b4932c",
   "metadata": {},
   "outputs": [
    {
     "name": "stdout",
     "output_type": "stream",
     "text": [
      "0:\tlearn: 2.1675784\ttotal: 320ms\tremaining: 2m 39s\n",
      "50:\tlearn: 1.2035216\ttotal: 13.3s\tremaining: 1m 56s\n",
      "100:\tlearn: 1.0174397\ttotal: 25.9s\tremaining: 1m 42s\n",
      "150:\tlearn: 0.8764784\ttotal: 38.3s\tremaining: 1m 28s\n",
      "200:\tlearn: 0.7694848\ttotal: 50.7s\tremaining: 1m 15s\n",
      "250:\tlearn: 0.6861388\ttotal: 1m 2s\tremaining: 1m 2s\n",
      "300:\tlearn: 0.6157047\ttotal: 1m 14s\tremaining: 49.5s\n",
      "350:\tlearn: 0.5527428\ttotal: 1m 27s\tremaining: 36.9s\n",
      "400:\tlearn: 0.5027709\ttotal: 1m 38s\tremaining: 24.4s\n",
      "450:\tlearn: 0.4594386\ttotal: 1m 50s\tremaining: 12s\n",
      "499:\tlearn: 0.4204521\ttotal: 2m 2s\tremaining: 0us\n"
     ]
    },
    {
     "data": {
      "text/html": [
       "<div>\n",
       "<style scoped>\n",
       "    .dataframe tbody tr th:only-of-type {\n",
       "        vertical-align: middle;\n",
       "    }\n",
       "\n",
       "    .dataframe tbody tr th {\n",
       "        vertical-align: top;\n",
       "    }\n",
       "\n",
       "    .dataframe thead th {\n",
       "        text-align: right;\n",
       "    }\n",
       "</style>\n",
       "<table border=\"1\" class=\"dataframe\">\n",
       "  <thead>\n",
       "    <tr style=\"text-align: right;\">\n",
       "      <th></th>\n",
       "      <th>accuracy</th>\n",
       "      <th>learning_rate</th>\n",
       "      <th>n_estimators</th>\n",
       "      <th>depth</th>\n",
       "    </tr>\n",
       "  </thead>\n",
       "  <tbody>\n",
       "    <tr>\n",
       "      <th>0</th>\n",
       "      <td>0.642188</td>\n",
       "      <td>0.1</td>\n",
       "      <td>500</td>\n",
       "      <td>6</td>\n",
       "    </tr>\n",
       "  </tbody>\n",
       "</table>\n",
       "</div>"
      ],
      "text/plain": [
       "   accuracy  learning_rate  n_estimators  depth\n",
       "0  0.642188            0.1           500      6"
      ]
     },
     "execution_count": 25,
     "metadata": {},
     "output_type": "execute_result"
    }
   ],
   "source": [
    "results_catboost_D = []\n",
    "n_iterations = [500]#,200,500]\n",
    "lr = [0.1]#,0.01]\n",
    "n_depth = [6]#,4]\n",
    "loss_f = 'MultiClass'\n",
    "\n",
    "for iters in n_iterations:\n",
    "    for ls in lr:\n",
    "        for depths in n_depth:\n",
    "            model_D = CatBoostClassifier(iterations=iters,\n",
    "                                        learning_rate=ls,\n",
    "                                        depth=depths,\n",
    "                                        loss_function=loss_f,\n",
    "                                        task_type=\"GPU\",\n",
    "                                        devices='0:1')\n",
    "\n",
    "            model_D.fit(x_train_flat, D_train, verbose=50)\n",
    "            acc = model_D.score(x_val_flat,D_val)\n",
    "            # the results from the different hyperparameters are then stored so we can get the best one\n",
    "            results_catboost_D.append([acc,ls,iters, depths])\n",
    "results_df_catboost_D = pd.DataFrame(results_catboost_D)\n",
    "results_df_catboost_D.columns=['accuracy',\"learning_rate\",\"n_estimators\", \"depth\"]\n",
    "#prints the results from best to worst in regards to accuracy, listting the hyperparameters for the result\n",
    "results_df_catboost_D = results_df_catboost_D.sort_values('accuracy', ascending=False)\n",
    "results_df_catboost_D"
   ]
  },
  {
   "cell_type": "code",
   "execution_count": 18,
   "id": "84a59dff",
   "metadata": {},
   "outputs": [],
   "source": [
    "results_df_catboost_D.to_csv('Catboost_results_DECADE')"
   ]
  },
  {
   "cell_type": "markdown",
   "id": "7111960d",
   "metadata": {
    "tags": []
   },
   "source": [
    "#### Catboost, modelY"
   ]
  },
  {
   "cell_type": "code",
   "execution_count": 26,
   "id": "5ca4f3ad",
   "metadata": {},
   "outputs": [
    {
     "name": "stdout",
     "output_type": "stream",
     "text": [
      "0:\tlearn: 2.3615583\ttotal: 321ms\tremaining: 2m 40s\n",
      "50:\tlearn: 1.7184887\ttotal: 15.1s\tremaining: 2m 13s\n",
      "100:\tlearn: 1.4316729\ttotal: 29.6s\tremaining: 1m 56s\n",
      "150:\tlearn: 1.2419622\ttotal: 43.5s\tremaining: 1m 40s\n",
      "200:\tlearn: 1.1052926\ttotal: 56.6s\tremaining: 1m 24s\n",
      "250:\tlearn: 0.9958752\ttotal: 1m 9s\tremaining: 1m 9s\n",
      "300:\tlearn: 0.9056422\ttotal: 1m 22s\tremaining: 54.5s\n",
      "350:\tlearn: 0.8293127\ttotal: 1m 34s\tremaining: 40.3s\n",
      "400:\tlearn: 0.7668663\ttotal: 1m 47s\tremaining: 26.5s\n",
      "450:\tlearn: 0.7151730\ttotal: 1m 59s\tremaining: 13s\n",
      "499:\tlearn: 0.6703028\ttotal: 2m 11s\tremaining: 0us\n"
     ]
    },
    {
     "data": {
      "text/html": [
       "<div>\n",
       "<style scoped>\n",
       "    .dataframe tbody tr th:only-of-type {\n",
       "        vertical-align: middle;\n",
       "    }\n",
       "\n",
       "    .dataframe tbody tr th {\n",
       "        vertical-align: top;\n",
       "    }\n",
       "\n",
       "    .dataframe thead th {\n",
       "        text-align: right;\n",
       "    }\n",
       "</style>\n",
       "<table border=\"1\" class=\"dataframe\">\n",
       "  <thead>\n",
       "    <tr style=\"text-align: right;\">\n",
       "      <th></th>\n",
       "      <th>accuracy</th>\n",
       "      <th>learning_rate</th>\n",
       "      <th>n_estimators</th>\n",
       "      <th>depth</th>\n",
       "    </tr>\n",
       "  </thead>\n",
       "  <tbody>\n",
       "    <tr>\n",
       "      <th>0</th>\n",
       "      <td>0.566667</td>\n",
       "      <td>0.1</td>\n",
       "      <td>500</td>\n",
       "      <td>6</td>\n",
       "    </tr>\n",
       "  </tbody>\n",
       "</table>\n",
       "</div>"
      ],
      "text/plain": [
       "   accuracy  learning_rate  n_estimators  depth\n",
       "0  0.566667            0.1           500      6"
      ]
     },
     "execution_count": 26,
     "metadata": {},
     "output_type": "execute_result"
    }
   ],
   "source": [
    "results = []\n",
    "n_iterations = [500]#,200,500]\n",
    "lr = [0.1]#,0.01]\n",
    "n_depth = [6]#,4]\n",
    "loss_f = 'MultiClass'\n",
    "\n",
    "for iters in n_iterations:\n",
    "    for ls in lr:\n",
    "        for depths in n_depth:\n",
    "            model_Y = CatBoostClassifier(iterations=iters,\n",
    "                                        learning_rate=ls,\n",
    "                                        depth=depths,\n",
    "                                        loss_function=loss_f,\n",
    "                                        task_type=\"GPU\",\n",
    "                                        devices='0:1')\n",
    "\n",
    "            model_Y.fit(x_train_flat, Y_train, verbose=50)\n",
    "            acc = model_Y.score(x_val_flat,Y_val)\n",
    "            # the results from the different hyperparameters are then stored so we can get the best one\n",
    "            results.append([acc,ls,iters, depths])\n",
    "results_df = pd.DataFrame(results)\n",
    "results_df.columns=['accuracy',\"learning_rate\",\"n_estimators\", \"depth\"]\n",
    "#prints the results from best to worst in regards to accuracy, listting the hyperparameters for the result\n",
    "results_df = results_df.sort_values('accuracy', ascending=False)\n",
    "results_df"
   ]
  },
  {
   "cell_type": "code",
   "execution_count": 19,
   "id": "e614d157",
   "metadata": {},
   "outputs": [],
   "source": [
    "results_df.to_csv('Catboost_results_YEAR')"
   ]
  },
  {
   "cell_type": "code",
   "execution_count": 27,
   "id": "0736f17b",
   "metadata": {},
   "outputs": [],
   "source": [
    "def score_calc(model,x_test,y_test):\n",
    "    score = 0.0\n",
    "    preds = model.predict(x_test)\n",
    "    i = 0\n",
    "    for row in y_test:\n",
    "        if str(row) == str(preds[i][0]):\n",
    "            score = score + (1/3)\n",
    "        i= i + 1\n",
    "    return score"
   ]
  },
  {
   "cell_type": "code",
   "execution_count": 28,
   "id": "343b7e7f",
   "metadata": {},
   "outputs": [],
   "source": [
    "model_Y_score = score_calc(model_Y,x_test_flat,Y_test)\n",
    "model_D_score = score_calc(model_D,x_test_flat,D_test)"
   ]
  },
  {
   "cell_type": "code",
   "execution_count": 29,
   "id": "f684f297",
   "metadata": {},
   "outputs": [
    {
     "name": "stdout",
     "output_type": "stream",
     "text": [
      "442.66666666665895\n",
      "513.9999999999885\n"
     ]
    }
   ],
   "source": [
    "print(model_Y_score)\n",
    "print(model_D_score)"
   ]
  },
  {
   "cell_type": "code",
   "execution_count": 33,
   "id": "1f77a448",
   "metadata": {},
   "outputs": [],
   "source": [
    "model_Y_score = score_calc(model_Y,k30_img_vals_non_deep,k30_labels_Y)\n",
    "model_D_score = score_calc(model_D,k30_img_vals_non_deep,k30_labels_D)"
   ]
  },
  {
   "cell_type": "code",
   "execution_count": 34,
   "id": "8fb6e5a0",
   "metadata": {},
   "outputs": [
    {
     "name": "stdout",
     "output_type": "stream",
     "text": [
      "121.99999999999935\n",
      "143.99999999999972\n"
     ]
    }
   ],
   "source": [
    "print(model_Y_score)\n",
    "print(model_D_score)"
   ]
  },
  {
   "cell_type": "code",
   "execution_count": 32,
   "id": "db95d02f",
   "metadata": {},
   "outputs": [],
   "source": [
    "def sequence_calc(model_CC,model_D,model_Y,CC_test,D_test,Y_test,x_test):\n",
    "    preds_D = model_D.predict(x_test)\n",
    "    preds_Y = model_Y.predict(x_test)\n",
    "    preds_CC = model_CC.predict(x_test)\n",
    "    CC_array = np.array(CC_test)\n",
    "    D_array = np.array(D_test)\n",
    "    Y_array = np.array(Y_test)\n",
    "    score = 0.0\n",
    "    i = 0\n",
    "    while i < len(CC_array):\n",
    "        if int(CC_array[i]) == preds_CC[i]:\n",
    "            if int(D_array[i]) == preds_D[i]:\n",
    "                if int(Y_array[i]) == preds_Y[i]:\n",
    "                    score = score + 1\n",
    "        i= i + 1\n",
    "    return score"
   ]
  },
  {
   "cell_type": "code",
   "execution_count": null,
   "id": "27ed6a03",
   "metadata": {},
   "outputs": [
    {
     "data": {
      "text/plain": [
       "895.0"
      ]
     },
     "execution_count": 54,
     "metadata": {},
     "output_type": "execute_result"
    }
   ],
   "source": [
    "seq_score = sequence_calc(svm_final,model_D,model_Y,CC_test,D_test,Y_test,x_test_flat)\n",
    "seq_score"
   ]
  },
  {
   "cell_type": "code",
   "execution_count": null,
   "id": "26547c55",
   "metadata": {},
   "outputs": [
    {
     "data": {
      "text/plain": [
       "160.0"
      ]
     },
     "execution_count": 55,
     "metadata": {},
     "output_type": "execute_result"
    }
   ],
   "source": [
    "seq_score = sequence_calc(svm_final,model_D,model_Y,k30_labels_CC,k30_labels_D,k30_labels_Y,k30_img_vals_non_deep)\n",
    "seq_score"
   ]
  },
  {
   "cell_type": "markdown",
   "id": "e1e6e31f",
   "metadata": {
    "tags": []
   },
   "source": [
    "## Question 2"
   ]
  },
  {
   "cell_type": "code",
   "execution_count": 2,
   "id": "b2b2233b",
   "metadata": {
    "collapsed": true,
    "jupyter": {
     "outputs_hidden": true
    },
    "tags": []
   },
   "outputs": [
    {
     "ename": "NameError",
     "evalue": "name 'gray_val' is not defined",
     "output_type": "error",
     "traceback": [
      "\u001b[1;31m---------------------------------------------------------------------------\u001b[0m",
      "\u001b[1;31mNameError\u001b[0m                                 Traceback (most recent call last)",
      "\u001b[1;32m~\\AppData\\Local\\Temp/ipykernel_18480/704480091.py\u001b[0m in \u001b[0;36m<module>\u001b[1;34m\u001b[0m\n\u001b[0;32m      1\u001b[0m \u001b[1;31m#Normalization of gray values\u001b[0m\u001b[1;33m\u001b[0m\u001b[1;33m\u001b[0m\u001b[0m\n\u001b[1;32m----> 2\u001b[1;33m \u001b[0mgray_val\u001b[0m \u001b[1;33m=\u001b[0m \u001b[0mgray_val\u001b[0m\u001b[1;33m/\u001b[0m\u001b[1;36m255\u001b[0m\u001b[1;33m\u001b[0m\u001b[1;33m\u001b[0m\u001b[0m\n\u001b[0m\u001b[0;32m      3\u001b[0m \u001b[0mgray_train\u001b[0m \u001b[1;33m=\u001b[0m \u001b[0mgray_train\u001b[0m\u001b[1;33m/\u001b[0m\u001b[1;36m255\u001b[0m\u001b[1;33m\u001b[0m\u001b[1;33m\u001b[0m\u001b[0m\n\u001b[0;32m      4\u001b[0m \u001b[0mgray_test\u001b[0m \u001b[1;33m=\u001b[0m \u001b[0mgray_test\u001b[0m\u001b[1;33m/\u001b[0m\u001b[1;36m255\u001b[0m\u001b[1;33m\u001b[0m\u001b[1;33m\u001b[0m\u001b[0m\n\u001b[0;32m      5\u001b[0m \u001b[0mrgb_val\u001b[0m \u001b[1;33m=\u001b[0m \u001b[0mrgb_val\u001b[0m\u001b[1;33m/\u001b[0m\u001b[1;36m255\u001b[0m\u001b[1;33m\u001b[0m\u001b[1;33m\u001b[0m\u001b[0m\n",
      "\u001b[1;31mNameError\u001b[0m: name 'gray_val' is not defined"
     ]
    }
   ],
   "source": [
    "#Normalization of gray values\n",
    "gray_val = gray_val/255\n",
    "gray_train = gray_train/255\n",
    "gray_test = gray_test/255\n",
    "rgb_val = rgb_val/255\n",
    "rgb_train = rgb_train/255\n",
    "rgb_test = rgb_test/255"
   ]
  },
  {
   "cell_type": "markdown",
   "id": "ca80b6c6",
   "metadata": {
    "jp-MarkdownHeadingCollapsed": true,
    "tags": []
   },
   "source": [
    "### 2.2.A Construct a CNN"
   ]
  },
  {
   "cell_type": "code",
   "execution_count": null,
   "id": "ede1e40f",
   "metadata": {},
   "outputs": [],
   "source": []
  },
  {
   "cell_type": "markdown",
   "id": "94a29044",
   "metadata": {
    "jp-MarkdownHeadingCollapsed": true,
    "tags": []
   },
   "source": [
    "### 2.2.B Regularization"
   ]
  },
  {
   "cell_type": "code",
   "execution_count": null,
   "id": "e97f1375",
   "metadata": {},
   "outputs": [],
   "source": []
  },
  {
   "cell_type": "markdown",
   "id": "f500322a",
   "metadata": {
    "jp-MarkdownHeadingCollapsed": true,
    "tags": []
   },
   "source": [
    "### 2.2.C Augmentation"
   ]
  },
  {
   "cell_type": "code",
   "execution_count": null,
   "id": "f11e36cd",
   "metadata": {},
   "outputs": [],
   "source": []
  },
  {
   "cell_type": "markdown",
   "id": "7867ed75",
   "metadata": {
    "jp-MarkdownHeadingCollapsed": true,
    "tags": []
   },
   "source": [
    "### 2.2.D Transfer learning"
   ]
  },
  {
   "cell_type": "code",
   "execution_count": null,
   "id": "9e1501fe",
   "metadata": {},
   "outputs": [],
   "source": []
  },
  {
   "cell_type": "markdown",
   "id": "f897e18b",
   "metadata": {
    "jp-MarkdownHeadingCollapsed": true,
    "tags": []
   },
   "source": [
    "## 2.3 Prefered CNN model"
   ]
  },
  {
   "cell_type": "code",
   "execution_count": null,
   "id": "6c3e89f3",
   "metadata": {},
   "outputs": [],
   "source": []
  },
  {
   "cell_type": "markdown",
   "id": "63436d55",
   "metadata": {},
   "source": [
    "## Question 3"
   ]
  },
  {
   "cell_type": "markdown",
   "id": "6534b9e2",
   "metadata": {
    "jp-MarkdownHeadingCollapsed": true,
    "tags": []
   },
   "source": [
    "### 3.1 Visualization of activation maps"
   ]
  },
  {
   "cell_type": "code",
   "execution_count": null,
   "id": "48752c5c",
   "metadata": {},
   "outputs": [],
   "source": []
  },
  {
   "cell_type": "markdown",
   "id": "517a2519",
   "metadata": {
    "jp-MarkdownHeadingCollapsed": true,
    "tags": []
   },
   "source": [
    "### 3.2 Investigating model performance"
   ]
  },
  {
   "cell_type": "code",
   "execution_count": null,
   "id": "b062249d",
   "metadata": {},
   "outputs": [],
   "source": []
  }
 ],
 "metadata": {
  "kernelspec": {
   "display_name": "Python 3",
   "language": "python",
   "name": "python3"
  },
  "language_info": {
   "codemirror_mode": {
    "name": "ipython",
    "version": 3
   },
   "file_extension": ".py",
   "mimetype": "text/x-python",
   "name": "python",
   "nbconvert_exporter": "python",
   "pygments_lexer": "ipython3",
   "version": "3.9.2"
  }
 },
 "nbformat": 4,
 "nbformat_minor": 5
}
