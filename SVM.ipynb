{
 "cells": [
  {
   "cell_type": "code",
   "execution_count": 1,
   "id": "9e384c11-6d69-45cb-b534-928942736c66",
   "metadata": {},
   "outputs": [],
   "source": [
    "!conda activate DS807"
   ]
  },
  {
   "cell_type": "code",
   "execution_count": null,
   "id": "0a2a6b58-75cc-4f83-9728-039d8eeba776",
   "metadata": {},
   "outputs": [],
   "source": [
    "import data_loader as dl\n",
    "path_string_digits = 'C:\\\\Users\\\\oeste\\\\OneDrive\\\\Uni\\\\DS_3_semester\\\\Anvendt_ML\\\\DIDA_12000_String_Digit_Images'\n",
    "path_images = 'C:\\\\Users\\\\oeste\\\\OneDrive\\\\Uni\\\\DS_3_semester\\\\Anvendt_ML\\\\DIDA_12000_String_Digit_Images\\\\DIDA_1'\n",
    "\n",
    "df = dl.load_1d_grays(path_string_digits,path_images)"
   ]
  }
 ],
 "metadata": {
  "kernelspec": {
   "display_name": "Python 3 (ipykernel)",
   "language": "python",
   "name": "python3"
  },
  "language_info": {
   "codemirror_mode": {
    "name": "ipython",
    "version": 3
   },
   "file_extension": ".py",
   "mimetype": "text/x-python",
   "name": "python",
   "nbconvert_exporter": "python",
   "pygments_lexer": "ipython3",
   "version": "3.9.7"
  }
 },
 "nbformat": 4,
 "nbformat_minor": 5
}
