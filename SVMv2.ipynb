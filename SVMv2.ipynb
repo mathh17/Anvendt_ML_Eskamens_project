{
 "cells": [
  {
   "cell_type": "code",
   "execution_count": 1,
   "id": "db75c5b6-d1bc-4dce-9f02-ac093db836d2",
   "metadata": {},
   "outputs": [],
   "source": [
    "!conda activate DS807"
   ]
  },
  {
   "cell_type": "code",
   "execution_count": 46,
   "id": "12d1bf84-b567-45ab-85d3-4a6a86b070a0",
   "metadata": {},
   "outputs": [],
   "source": [
    "import data_loader as dl"
   ]
  },
  {
   "cell_type": "code",
   "execution_count": 47,
   "id": "09b95f4b-7ea2-42ca-a0eb-0f2f0c187cd9",
   "metadata": {},
   "outputs": [
    {
     "data": {
      "text/html": [
       "<div>\n",
       "<style scoped>\n",
       "    .dataframe tbody tr th:only-of-type {\n",
       "        vertical-align: middle;\n",
       "    }\n",
       "\n",
       "    .dataframe tbody tr th {\n",
       "        vertical-align: top;\n",
       "    }\n",
       "\n",
       "    .dataframe thead th {\n",
       "        text-align: right;\n",
       "    }\n",
       "</style>\n",
       "<table border=\"1\" class=\"dataframe\">\n",
       "  <thead>\n",
       "    <tr style=\"text-align: right;\">\n",
       "      <th></th>\n",
       "      <th>index</th>\n",
       "      <th>string</th>\n",
       "      <th>CC</th>\n",
       "      <th>D</th>\n",
       "      <th>Y</th>\n",
       "      <th>gray_value</th>\n",
       "      <th>filename</th>\n",
       "    </tr>\n",
       "  </thead>\n",
       "  <tbody>\n",
       "    <tr>\n",
       "      <th>0</th>\n",
       "      <td>1</td>\n",
       "      <td>1836</td>\n",
       "      <td>0</td>\n",
       "      <td>3</td>\n",
       "      <td>6</td>\n",
       "      <td>[[[166.0], [167.0], [166.0], [162.0], [164.0],...</td>\n",
       "      <td>1.jpg</td>\n",
       "    </tr>\n",
       "    <tr>\n",
       "      <th>1</th>\n",
       "      <td>2</td>\n",
       "      <td>1836</td>\n",
       "      <td>0</td>\n",
       "      <td>3</td>\n",
       "      <td>6</td>\n",
       "      <td>[[[169.0], [168.0], [169.0], [170.0], [166.0],...</td>\n",
       "      <td>2.jpg</td>\n",
       "    </tr>\n",
       "    <tr>\n",
       "      <th>2</th>\n",
       "      <td>3</td>\n",
       "      <td>1840</td>\n",
       "      <td>0</td>\n",
       "      <td>4</td>\n",
       "      <td>0</td>\n",
       "      <td>[[[167.0], [169.0], [169.0], [166.0], [165.0],...</td>\n",
       "      <td>3.jpg</td>\n",
       "    </tr>\n",
       "    <tr>\n",
       "      <th>3</th>\n",
       "      <td>4</td>\n",
       "      <td>1840</td>\n",
       "      <td>0</td>\n",
       "      <td>4</td>\n",
       "      <td>0</td>\n",
       "      <td>[[[167.0], [165.0], [165.0], [165.0], [163.0],...</td>\n",
       "      <td>4.jpg</td>\n",
       "    </tr>\n",
       "    <tr>\n",
       "      <th>4</th>\n",
       "      <td>5</td>\n",
       "      <td>1823</td>\n",
       "      <td>0</td>\n",
       "      <td>2</td>\n",
       "      <td>3</td>\n",
       "      <td>[[[62.0], [45.0], [45.0], [37.0], [40.0], [33....</td>\n",
       "      <td>5.jpg</td>\n",
       "    </tr>\n",
       "    <tr>\n",
       "      <th>...</th>\n",
       "      <td>...</td>\n",
       "      <td>...</td>\n",
       "      <td>...</td>\n",
       "      <td>...</td>\n",
       "      <td>...</td>\n",
       "      <td>...</td>\n",
       "      <td>...</td>\n",
       "    </tr>\n",
       "    <tr>\n",
       "      <th>11995</th>\n",
       "      <td>11996</td>\n",
       "      <td>1808</td>\n",
       "      <td>0</td>\n",
       "      <td>0</td>\n",
       "      <td>8</td>\n",
       "      <td>[[[88.0], [62.0], [60.0], [68.0], [61.0], [101...</td>\n",
       "      <td>11996.jpg</td>\n",
       "    </tr>\n",
       "    <tr>\n",
       "      <th>11996</th>\n",
       "      <td>11997</td>\n",
       "      <td>1809</td>\n",
       "      <td>0</td>\n",
       "      <td>0</td>\n",
       "      <td>9</td>\n",
       "      <td>[[[173.0], [171.0], [173.0], [175.0], [174.0],...</td>\n",
       "      <td>11997.jpg</td>\n",
       "    </tr>\n",
       "    <tr>\n",
       "      <th>11997</th>\n",
       "      <td>11998</td>\n",
       "      <td>1840</td>\n",
       "      <td>0</td>\n",
       "      <td>4</td>\n",
       "      <td>0</td>\n",
       "      <td>[[[189.0], [189.0], [189.0], [189.0], [189.0],...</td>\n",
       "      <td>11998.jpg</td>\n",
       "    </tr>\n",
       "    <tr>\n",
       "      <th>11998</th>\n",
       "      <td>11999</td>\n",
       "      <td>1840</td>\n",
       "      <td>0</td>\n",
       "      <td>4</td>\n",
       "      <td>0</td>\n",
       "      <td>[[[191.0], [192.0], [192.0], [192.0], [193.0],...</td>\n",
       "      <td>11999.jpg</td>\n",
       "    </tr>\n",
       "    <tr>\n",
       "      <th>11999</th>\n",
       "      <td>12000</td>\n",
       "      <td>1810</td>\n",
       "      <td>0</td>\n",
       "      <td>1</td>\n",
       "      <td>0</td>\n",
       "      <td>[[[175.0], [177.0], [177.0], [175.0], [174.0],...</td>\n",
       "      <td>12000.jpg</td>\n",
       "    </tr>\n",
       "  </tbody>\n",
       "</table>\n",
       "<p>12000 rows × 7 columns</p>\n",
       "</div>"
      ],
      "text/plain": [
       "       index string CC  D  Y  \\\n",
       "0          1   1836  0  3  6   \n",
       "1          2   1836  0  3  6   \n",
       "2          3   1840  0  4  0   \n",
       "3          4   1840  0  4  0   \n",
       "4          5   1823  0  2  3   \n",
       "...      ...    ... .. .. ..   \n",
       "11995  11996   1808  0  0  8   \n",
       "11996  11997   1809  0  0  9   \n",
       "11997  11998   1840  0  4  0   \n",
       "11998  11999   1840  0  4  0   \n",
       "11999  12000   1810  0  1  0   \n",
       "\n",
       "                                              gray_value   filename  \n",
       "0      [[[166.0], [167.0], [166.0], [162.0], [164.0],...      1.jpg  \n",
       "1      [[[169.0], [168.0], [169.0], [170.0], [166.0],...      2.jpg  \n",
       "2      [[[167.0], [169.0], [169.0], [166.0], [165.0],...      3.jpg  \n",
       "3      [[[167.0], [165.0], [165.0], [165.0], [163.0],...      4.jpg  \n",
       "4      [[[62.0], [45.0], [45.0], [37.0], [40.0], [33....      5.jpg  \n",
       "...                                                  ...        ...  \n",
       "11995  [[[88.0], [62.0], [60.0], [68.0], [61.0], [101...  11996.jpg  \n",
       "11996  [[[173.0], [171.0], [173.0], [175.0], [174.0],...  11997.jpg  \n",
       "11997  [[[189.0], [189.0], [189.0], [189.0], [189.0],...  11998.jpg  \n",
       "11998  [[[191.0], [192.0], [192.0], [192.0], [193.0],...  11999.jpg  \n",
       "11999  [[[175.0], [177.0], [177.0], [175.0], [174.0],...  12000.jpg  \n",
       "\n",
       "[12000 rows x 7 columns]"
      ]
     },
     "execution_count": 47,
     "metadata": {},
     "output_type": "execute_result"
    }
   ],
   "source": [
    "df = dl.load_1d_grays()\n",
    "df"
   ]
  },
  {
   "cell_type": "code",
   "execution_count": 48,
   "id": "13da7c55-00c8-48e9-811f-db5c992a74d7",
   "metadata": {},
   "outputs": [
    {
     "data": {
      "text/plain": [
       "(56, 106, 1)"
      ]
     },
     "execution_count": 48,
     "metadata": {},
     "output_type": "execute_result"
    }
   ],
   "source": [
    "df['gray_value'][0].shape"
   ]
  },
  {
   "cell_type": "code",
   "execution_count": 49,
   "id": "748638a7-668c-4f2c-941d-4219ca85ab5e",
   "metadata": {},
   "outputs": [
    {
     "data": {
      "text/plain": [
       "(12000, 56, 106)"
      ]
     },
     "execution_count": 49,
     "metadata": {},
     "output_type": "execute_result"
    }
   ],
   "source": [
    "\n",
    "import numpy as np\n",
    "arr = np.zeros(shape=(12000,56,106))\n",
    "i = 0\n",
    "while i < 12000:\n",
    "    arr[i] = np.squeeze(df['gray_value'][i])\n",
    "    i += 1\n",
    "arr.shape\n"
   ]
  },
  {
   "cell_type": "code",
   "execution_count": 50,
   "id": "d7012933-2278-470c-8715-5ac15657743a",
   "metadata": {},
   "outputs": [
    {
     "data": {
      "text/plain": [
       "(12000, 5936)"
      ]
     },
     "execution_count": 50,
     "metadata": {},
     "output_type": "execute_result"
    }
   ],
   "source": [
    "n_samples = len(arr)\n",
    "x_values = arr.reshape((n_samples, -1))\n",
    "x_values.shape"
   ]
  },
  {
   "cell_type": "code",
   "execution_count": 51,
   "id": "25273d56",
   "metadata": {},
   "outputs": [
    {
     "data": {
      "text/plain": [
       "12000"
      ]
     },
     "execution_count": 51,
     "metadata": {},
     "output_type": "execute_result"
    }
   ],
   "source": [
    "len(df['CC'])"
   ]
  },
  {
   "cell_type": "code",
   "execution_count": 52,
   "id": "325ef609-b1c4-4c79-a591-b43dc2047377",
   "metadata": {},
   "outputs": [
    {
     "name": "stdout",
     "output_type": "stream",
     "text": [
      "(7680, 5936) (1920, 5936) (2400, 5936)\n"
     ]
    }
   ],
   "source": [
    "from sklearn.model_selection import train_test_split\n",
    "\n",
    "y_values = df['CC']\n",
    "x_train, x_test, y_train, y_test = train_test_split(x_values, y_values, test_size=0.2, random_state=2022)\n",
    "x_train, x_val, y_train, y_val = train_test_split(x_train, y_train, test_size=0.2, random_state=2022)\n",
    "print(x_train.shape, x_val.shape, x_test.shape)\n"
   ]
  },
  {
   "cell_type": "code",
   "execution_count": 54,
   "id": "2540f055",
   "metadata": {},
   "outputs": [],
   "source": [
    "x_train = x_train/255\n",
    "x_val = x_val/255\n",
    "x_test = x_test/255"
   ]
  },
  {
   "cell_type": "code",
   "execution_count": 8,
   "id": "a9403030-d655-4384-af89-340025786a5d",
   "metadata": {},
   "outputs": [
    {
     "ename": "KeyboardInterrupt",
     "evalue": "",
     "output_type": "error",
     "traceback": [
      "\u001b[1;31m---------------------------------------------------------------------------\u001b[0m",
      "\u001b[1;31mKeyboardInterrupt\u001b[0m                         Traceback (most recent call last)",
      "\u001b[1;32m<ipython-input-8-b425f1ddc023>\u001b[0m in \u001b[0;36m<module>\u001b[1;34m\u001b[0m\n\u001b[0;32m     21\u001b[0m                                                     \u001b[0mrandom_state\u001b[0m \u001b[1;33m=\u001b[0m \u001b[1;36m2022\u001b[0m\u001b[1;33m,\u001b[0m\u001b[1;33m\u001b[0m\u001b[1;33m\u001b[0m\u001b[0m\n\u001b[0;32m     22\u001b[0m                                                     decision_function_shape = decision)\n\u001b[1;32m---> 23\u001b[1;33m                             \u001b[0msvm_current\u001b[0m\u001b[1;33m.\u001b[0m\u001b[0mfit\u001b[0m\u001b[1;33m(\u001b[0m\u001b[0mx_train\u001b[0m\u001b[1;33m,\u001b[0m \u001b[0my_train\u001b[0m\u001b[1;33m)\u001b[0m\u001b[1;33m\u001b[0m\u001b[1;33m\u001b[0m\u001b[0m\n\u001b[0m\u001b[0;32m     24\u001b[0m                             \u001b[0my_val_hat\u001b[0m \u001b[1;33m=\u001b[0m \u001b[0msvm_current\u001b[0m\u001b[1;33m.\u001b[0m\u001b[0mpredict\u001b[0m\u001b[1;33m(\u001b[0m\u001b[0mx_val\u001b[0m\u001b[1;33m)\u001b[0m\u001b[1;33m\u001b[0m\u001b[1;33m\u001b[0m\u001b[0m\n\u001b[0;32m     25\u001b[0m                             \u001b[0maccuracy\u001b[0m \u001b[1;33m=\u001b[0m \u001b[0maccuracy_score\u001b[0m\u001b[1;33m(\u001b[0m\u001b[0my_val_hat\u001b[0m\u001b[1;33m,\u001b[0m \u001b[0my_val\u001b[0m\u001b[1;33m)\u001b[0m\u001b[1;33m\u001b[0m\u001b[1;33m\u001b[0m\u001b[0m\n",
      "\u001b[1;32mC:\\Program Files\\Python39\\lib\\site-packages\\sklearn\\svm\\_base.py\u001b[0m in \u001b[0;36mfit\u001b[1;34m(self, X, y, sample_weight)\u001b[0m\n\u001b[0;32m    224\u001b[0m \u001b[1;33m\u001b[0m\u001b[0m\n\u001b[0;32m    225\u001b[0m         \u001b[0mseed\u001b[0m \u001b[1;33m=\u001b[0m \u001b[0mrnd\u001b[0m\u001b[1;33m.\u001b[0m\u001b[0mrandint\u001b[0m\u001b[1;33m(\u001b[0m\u001b[0mnp\u001b[0m\u001b[1;33m.\u001b[0m\u001b[0miinfo\u001b[0m\u001b[1;33m(\u001b[0m\u001b[1;34m'i'\u001b[0m\u001b[1;33m)\u001b[0m\u001b[1;33m.\u001b[0m\u001b[0mmax\u001b[0m\u001b[1;33m)\u001b[0m\u001b[1;33m\u001b[0m\u001b[1;33m\u001b[0m\u001b[0m\n\u001b[1;32m--> 226\u001b[1;33m         \u001b[0mfit\u001b[0m\u001b[1;33m(\u001b[0m\u001b[0mX\u001b[0m\u001b[1;33m,\u001b[0m \u001b[0my\u001b[0m\u001b[1;33m,\u001b[0m \u001b[0msample_weight\u001b[0m\u001b[1;33m,\u001b[0m \u001b[0msolver_type\u001b[0m\u001b[1;33m,\u001b[0m \u001b[0mkernel\u001b[0m\u001b[1;33m,\u001b[0m \u001b[0mrandom_seed\u001b[0m\u001b[1;33m=\u001b[0m\u001b[0mseed\u001b[0m\u001b[1;33m)\u001b[0m\u001b[1;33m\u001b[0m\u001b[1;33m\u001b[0m\u001b[0m\n\u001b[0m\u001b[0;32m    227\u001b[0m         \u001b[1;31m# see comment on the other call to np.iinfo in this file\u001b[0m\u001b[1;33m\u001b[0m\u001b[1;33m\u001b[0m\u001b[1;33m\u001b[0m\u001b[0m\n\u001b[0;32m    228\u001b[0m \u001b[1;33m\u001b[0m\u001b[0m\n",
      "\u001b[1;32mC:\\Program Files\\Python39\\lib\\site-packages\\sklearn\\svm\\_base.py\u001b[0m in \u001b[0;36m_dense_fit\u001b[1;34m(self, X, y, sample_weight, solver_type, kernel, random_seed)\u001b[0m\n\u001b[0;32m    275\u001b[0m         \u001b[0mself\u001b[0m\u001b[1;33m.\u001b[0m\u001b[0msupport_\u001b[0m\u001b[1;33m,\u001b[0m \u001b[0mself\u001b[0m\u001b[1;33m.\u001b[0m\u001b[0msupport_vectors_\u001b[0m\u001b[1;33m,\u001b[0m \u001b[0mself\u001b[0m\u001b[1;33m.\u001b[0m\u001b[0m_n_support\u001b[0m\u001b[1;33m,\u001b[0m\u001b[0;31m \u001b[0m\u001b[0;31m\\\u001b[0m\u001b[1;33m\u001b[0m\u001b[1;33m\u001b[0m\u001b[0m\n\u001b[0;32m    276\u001b[0m             \u001b[0mself\u001b[0m\u001b[1;33m.\u001b[0m\u001b[0mdual_coef_\u001b[0m\u001b[1;33m,\u001b[0m \u001b[0mself\u001b[0m\u001b[1;33m.\u001b[0m\u001b[0mintercept_\u001b[0m\u001b[1;33m,\u001b[0m \u001b[0mself\u001b[0m\u001b[1;33m.\u001b[0m\u001b[0m_probA\u001b[0m\u001b[1;33m,\u001b[0m\u001b[0;31m \u001b[0m\u001b[0;31m\\\u001b[0m\u001b[1;33m\u001b[0m\u001b[1;33m\u001b[0m\u001b[0m\n\u001b[1;32m--> 277\u001b[1;33m             self._probB, self.fit_status_ = libsvm.fit(\n\u001b[0m\u001b[0;32m    278\u001b[0m                 \u001b[0mX\u001b[0m\u001b[1;33m,\u001b[0m \u001b[0my\u001b[0m\u001b[1;33m,\u001b[0m\u001b[1;33m\u001b[0m\u001b[1;33m\u001b[0m\u001b[0m\n\u001b[0;32m    279\u001b[0m                 \u001b[0msvm_type\u001b[0m\u001b[1;33m=\u001b[0m\u001b[0msolver_type\u001b[0m\u001b[1;33m,\u001b[0m \u001b[0msample_weight\u001b[0m\u001b[1;33m=\u001b[0m\u001b[0msample_weight\u001b[0m\u001b[1;33m,\u001b[0m\u001b[1;33m\u001b[0m\u001b[1;33m\u001b[0m\u001b[0m\n",
      "\u001b[1;31mKeyboardInterrupt\u001b[0m: "
     ]
    }
   ],
   "source": [
    "from sklearn import svm\n",
    "from sklearn.metrics import accuracy_score\n",
    "\n",
    "kernels = ['linear', 'poly', 'rbf', 'sigmoid']\n",
    "Cs = [1,2,3]\n",
    "Ds = [1,2,3,4]\n",
    "gammas = ['scale','auto']\n",
    "decisions = ['ovr', 'ovo']\n",
    "results = []\n",
    "\n",
    "for kernel in kernels:\n",
    "        if kernel == 'poly':\n",
    "            for C in Cs:\n",
    "                for D in Ds:\n",
    "                    for gamma in gammas:\n",
    "                        for decision in decisions:\n",
    "                            svm_current = svm.SVC(kernel=kernel, \n",
    "                                                    degree=D,\n",
    "                                                    C =C,\n",
    "                                                    gamma = gamma,\n",
    "                                                    random_state = 2022,\n",
    "                                                    decision_function_shape = decision)\n",
    "                            svm_current.fit(x_train, y_train)\n",
    "                            y_val_hat = svm_current.predict(x_val)\n",
    "                            accuracy = accuracy_score(y_val_hat, y_val)\n",
    "                            #\n",
    "                            results.append([accuracy, kernel, C, gamma, decision, D])\n",
    "        else:\n",
    "            for C in Cs:\n",
    "                for gamma in gammas:\n",
    "                    for decision in decisions:\n",
    "                        svm_current = svm.SVC(kernel=kernel,\n",
    "                                              C=C,\n",
    "                                              gamma = gamma,\n",
    "                                              decision_function_shape = decision,\n",
    "                                              random_state = 2022)\n",
    "                        svm_current.fit(x_train, y_train)\n",
    "                        y_val_hat = svm_current.predict(x_val)\n",
    "                        accuracy = accuracy_score(y_val_hat, y_val)\n",
    "                        #\n",
    "                        results.append([accuracy, kernel, C, gamma, decision, None])\n",
    "\n",
    "results = pd.DataFrame(results)\n",
    "results.columns = ['Accuracy', 'Kernel','C', 'Gamma', 'Decision', 'Degree']\n"
   ]
  },
  {
   "cell_type": "code",
   "execution_count": 32,
   "id": "a4d509fb",
   "metadata": {
    "scrolled": true
   },
   "outputs": [
    {
     "data": {
      "text/html": [
       "<div>\n",
       "<style scoped>\n",
       "    .dataframe tbody tr th:only-of-type {\n",
       "        vertical-align: middle;\n",
       "    }\n",
       "\n",
       "    .dataframe tbody tr th {\n",
       "        vertical-align: top;\n",
       "    }\n",
       "\n",
       "    .dataframe thead th {\n",
       "        text-align: right;\n",
       "    }\n",
       "</style>\n",
       "<table border=\"1\" class=\"dataframe\">\n",
       "  <thead>\n",
       "    <tr style=\"text-align: right;\">\n",
       "      <th></th>\n",
       "      <th>Accuracy</th>\n",
       "      <th>Kernel</th>\n",
       "      <th>C</th>\n",
       "      <th>Gamma</th>\n",
       "      <th>Decision</th>\n",
       "      <th>Degree</th>\n",
       "    </tr>\n",
       "  </thead>\n",
       "  <tbody>\n",
       "    <tr>\n",
       "      <th>0</th>\n",
       "      <td>0.973437</td>\n",
       "      <td>linear</td>\n",
       "      <td>1</td>\n",
       "      <td>scale</td>\n",
       "      <td>ovr</td>\n",
       "      <td>NaN</td>\n",
       "    </tr>\n",
       "    <tr>\n",
       "      <th>1</th>\n",
       "      <td>0.973437</td>\n",
       "      <td>linear</td>\n",
       "      <td>1</td>\n",
       "      <td>scale</td>\n",
       "      <td>ovo</td>\n",
       "      <td>NaN</td>\n",
       "    </tr>\n",
       "    <tr>\n",
       "      <th>2</th>\n",
       "      <td>0.973437</td>\n",
       "      <td>linear</td>\n",
       "      <td>1</td>\n",
       "      <td>auto</td>\n",
       "      <td>ovr</td>\n",
       "      <td>NaN</td>\n",
       "    </tr>\n",
       "    <tr>\n",
       "      <th>3</th>\n",
       "      <td>0.973437</td>\n",
       "      <td>linear</td>\n",
       "      <td>1</td>\n",
       "      <td>auto</td>\n",
       "      <td>ovo</td>\n",
       "      <td>NaN</td>\n",
       "    </tr>\n",
       "    <tr>\n",
       "      <th>4</th>\n",
       "      <td>0.973437</td>\n",
       "      <td>linear</td>\n",
       "      <td>2</td>\n",
       "      <td>scale</td>\n",
       "      <td>ovr</td>\n",
       "      <td>NaN</td>\n",
       "    </tr>\n",
       "    <tr>\n",
       "      <th>...</th>\n",
       "      <td>...</td>\n",
       "      <td>...</td>\n",
       "      <td>...</td>\n",
       "      <td>...</td>\n",
       "      <td>...</td>\n",
       "      <td>...</td>\n",
       "    </tr>\n",
       "    <tr>\n",
       "      <th>79</th>\n",
       "      <td>0.966667</td>\n",
       "      <td>sigmoid</td>\n",
       "      <td>2</td>\n",
       "      <td>auto</td>\n",
       "      <td>ovo</td>\n",
       "      <td>NaN</td>\n",
       "    </tr>\n",
       "    <tr>\n",
       "      <th>80</th>\n",
       "      <td>0.966667</td>\n",
       "      <td>sigmoid</td>\n",
       "      <td>3</td>\n",
       "      <td>scale</td>\n",
       "      <td>ovr</td>\n",
       "      <td>NaN</td>\n",
       "    </tr>\n",
       "    <tr>\n",
       "      <th>81</th>\n",
       "      <td>0.966667</td>\n",
       "      <td>sigmoid</td>\n",
       "      <td>3</td>\n",
       "      <td>scale</td>\n",
       "      <td>ovo</td>\n",
       "      <td>NaN</td>\n",
       "    </tr>\n",
       "    <tr>\n",
       "      <th>82</th>\n",
       "      <td>0.966667</td>\n",
       "      <td>sigmoid</td>\n",
       "      <td>3</td>\n",
       "      <td>auto</td>\n",
       "      <td>ovr</td>\n",
       "      <td>NaN</td>\n",
       "    </tr>\n",
       "    <tr>\n",
       "      <th>83</th>\n",
       "      <td>0.966667</td>\n",
       "      <td>sigmoid</td>\n",
       "      <td>3</td>\n",
       "      <td>auto</td>\n",
       "      <td>ovo</td>\n",
       "      <td>NaN</td>\n",
       "    </tr>\n",
       "  </tbody>\n",
       "</table>\n",
       "<p>84 rows × 6 columns</p>\n",
       "</div>"
      ],
      "text/plain": [
       "    Accuracy   Kernel  C  Gamma Decision  Degree\n",
       "0   0.973437   linear  1  scale      ovr     NaN\n",
       "1   0.973437   linear  1  scale      ovo     NaN\n",
       "2   0.973437   linear  1   auto      ovr     NaN\n",
       "3   0.973437   linear  1   auto      ovo     NaN\n",
       "4   0.973437   linear  2  scale      ovr     NaN\n",
       "..       ...      ... ..    ...      ...     ...\n",
       "79  0.966667  sigmoid  2   auto      ovo     NaN\n",
       "80  0.966667  sigmoid  3  scale      ovr     NaN\n",
       "81  0.966667  sigmoid  3  scale      ovo     NaN\n",
       "82  0.966667  sigmoid  3   auto      ovr     NaN\n",
       "83  0.966667  sigmoid  3   auto      ovo     NaN\n",
       "\n",
       "[84 rows x 6 columns]"
      ]
     },
     "execution_count": 32,
     "metadata": {},
     "output_type": "execute_result"
    }
   ],
   "source": [
    "import pandas as pd\n",
    "results = pd.DataFrame(results)\n",
    "results.columns = ['Accuracy', 'Kernel', 'C', 'Gamma', 'Decision', 'Degree']\n",
    "\n",
    "results"
   ]
  },
  {
   "cell_type": "code",
   "execution_count": 33,
   "id": "96e4892a",
   "metadata": {},
   "outputs": [
    {
     "name": "stdout",
     "output_type": "stream",
     "text": [
      "    Accuracy Kernel  C  Gamma Decision  Degree\n",
      "68  0.982292    rbf  3  scale      ovr     NaN\n",
      "69  0.982292    rbf  3  scale      ovo     NaN\n"
     ]
    }
   ],
   "source": [
    "#Print results\n",
    "print(str(results[results['Accuracy'] == results['Accuracy'].max()]))"
   ]
  },
  {
   "cell_type": "code",
   "execution_count": 34,
   "id": "50e8628e",
   "metadata": {},
   "outputs": [],
   "source": [
    "results.to_csv('SVM_results')"
   ]
  },
  {
   "cell_type": "code",
   "execution_count": 1,
   "id": "0a1f5371",
   "metadata": {},
   "outputs": [],
   "source": [
    "import pandas as pd\n",
    "from sklearn import svm\n",
    "from sklearn.metrics import accuracy_score\n",
    "import numpy as np"
   ]
  },
  {
   "cell_type": "code",
   "execution_count": 56,
   "id": "c880f24a",
   "metadata": {},
   "outputs": [
    {
     "data": {
      "text/plain": [
       "0.9770833333333333"
      ]
     },
     "execution_count": 56,
     "metadata": {},
     "output_type": "execute_result"
    }
   ],
   "source": [
    "svm_final = svm.SVC(kernel='rbf',\n",
    "                      C=3,\n",
    "                      gamma = 'scale',\n",
    "                      decision_function_shape = 'ovr',\n",
    "                      random_state = 2022)\n",
    "svm_final.fit(np.concatenate((x_train, x_val), axis=0), np.concatenate((y_train, y_val), axis=0))\n",
    "y_val_hat = svm_final.predict(x_test)\n",
    "accuracy = accuracy_score(y_val_hat, y_test)\n",
    "accuracy\n",
    "                   "
   ]
  },
  {
   "cell_type": "code",
   "execution_count": 15,
   "id": "8873cdea",
   "metadata": {},
   "outputs": [
    {
     "data": {
      "text/plain": [
       "pandas.core.series.Series"
      ]
     },
     "execution_count": 15,
     "metadata": {},
     "output_type": "execute_result"
    }
   ],
   "source": [
    "svm_final = svm.SVC(kernel='rbf',\n",
    "                      C=3,\n",
    "                      gamma = 'scale',\n",
    "                      decision_function_shape = 'ovr',\n",
    "                      random_state = 2022)\n",
    "svm_final.fit(np.concatenate((x_train, x_val), axis=0), np.concatenate((y_train, y_val), axis=0))\n",
    "y_val_hat = svm_final.predict(x_test)\n",
    "accuracy = accuracy_score(y_val_hat, y_test)\n",
    "accuracy"
   ]
  },
  {
   "cell_type": "code",
   "execution_count": 84,
   "id": "1ddd6b2e",
   "metadata": {},
   "outputs": [
    {
     "data": {
      "text/plain": [
       "(2400, 5936)"
      ]
     },
     "execution_count": 84,
     "metadata": {},
     "output_type": "execute_result"
    }
   ],
   "source": [
    "x_test.shape"
   ]
  },
  {
   "cell_type": "code",
   "execution_count": 57,
   "id": "5a89c97e",
   "metadata": {},
   "outputs": [
    {
     "data": {
      "text/plain": [
       "781.6666666666856"
      ]
     },
     "execution_count": 57,
     "metadata": {},
     "output_type": "execute_result"
    }
   ],
   "source": [
    "def score_calc():\n",
    "    score = 0.0\n",
    "    preds = svm_final.predict(x_test)\n",
    "    i = 0\n",
    "    for row in y_test:\n",
    "        if str(row) == str(preds[i][0]):\n",
    "            score = score + (1/3)\n",
    "        i= i + 1\n",
    "    return score\n",
    "\n",
    "test_score = score_calc()\n",
    "test_score"
   ]
  },
  {
   "cell_type": "code",
   "execution_count": null,
   "id": "880dc958",
   "metadata": {},
   "outputs": [],
   "source": [
    "import os\n",
    "from keras.preprocessing.image import load_img\n",
    "from keras.preprocessing.image import img_to_array"
   ]
  },
  {
   "cell_type": "code",
   "execution_count": 75,
   "id": "260349f3",
   "metadata": {},
   "outputs": [],
   "source": [
    "Hee_csv = pd.read_csv('30_samples_labeled_csv.csv',header=None, names=[\"index\", \"string\"],delimiter=';')\n",
    "Hee_csv['CC'] = 0\n",
    "Hee_csv['D'] = 0\n",
    "Hee_csv['Y'] = 0\n",
    "Hee_csv = Hee_csv.astype(str)\n",
    "# Iterate string digits and append classes\n",
    "for i, row in Hee_csv.iterrows():\n",
    "    if len(row['string']) != 4:\n",
    "        row['CC'] = '1'\n",
    "        row['D'] = '10'\n",
    "        row['Y'] = '10'\n",
    "    else:\n",
    "        row['D'] = row['string'][2]\n",
    "        row['Y'] = row['string'][3]\n",
    "        if row['string'][0:2] == '18':\n",
    "            row['CC']='0'\n",
    "        else:\n",
    "            row['CC']='1'\n",
    "#os.chdir(path_images)\n",
    "image_array, filename = dl.load_image_function('30_samples')\n",
    "\n",
    "# and convert to a img_df\n",
    "img_df = pd.DataFrame({'filename': filename, 'img_value': list(image_array)}, \n",
    "                        columns=['filename', 'img_value'])\n",
    "# Create proper index value in img_df to allow merge on Hee_csv\n",
    "img_df['index'] = img_df['filename']\n",
    "for i, row in img_df.iterrows():\n",
    "    row['index'] = str(img_df['index'][i]).split('.')[0]\n",
    "img_df\n",
    "# End of creating img_df\n",
    "#\n",
    "# Start: merge img_df with Hee_csv\n",
    "# match index type on dataframes to merge\n",
    "Hee_csv['index'] = Hee_csv['index'].astype(int)\n",
    "img_df['index'] = img_df['index'].astype(int)\n",
    "# Merge dataframes\n",
    "df_img_classes = Hee_csv.merge(img_df)\n",
    "# Rearrange order of dataframe\n",
    "df_img_classes = df_img_classes.reindex(columns= ['index', 'string', 'CC', 'D', 'Y', 'img_value', 'filename'])\n",
    "# End og merging data frames"
   ]
  },
  {
   "cell_type": "code",
   "execution_count": 76,
   "id": "255c19aa",
   "metadata": {},
   "outputs": [],
   "source": [
    "k30_labels_CC = df_img_classes['CC']\n",
    "k30_labels_D = df_img_classes['D']\n",
    "k30_labels_Y = df_img_classes['Y']"
   ]
  },
  {
   "cell_type": "code",
   "execution_count": 77,
   "id": "8f27957d",
   "metadata": {},
   "outputs": [],
   "source": [
    "k30_img_vals =  df_img_classes['img_value']\n",
    "values = np.zeros(shape=(len(k30_img_vals),56,106,1))\n",
    "i = 0\n",
    "j = 0\n",
    "while i < len(k30_img_vals):\n",
    "    values[i] = k30_img_vals[j]\n",
    "    i += 1\n",
    "    j+=1\n",
    "k30_img_vals = values/255"
   ]
  },
  {
   "cell_type": "code",
   "execution_count": 85,
   "id": "73952ce4",
   "metadata": {},
   "outputs": [
    {
     "data": {
      "text/plain": [
       "(1000, 5936)"
      ]
     },
     "execution_count": 85,
     "metadata": {},
     "output_type": "execute_result"
    }
   ],
   "source": [
    "n_samples = len(k30_img_vals)\n",
    "k30_img_vals = k30_img_vals.reshape((n_samples, -1))\n",
    "k30_img_vals.shape"
   ]
  },
  {
   "cell_type": "code",
   "execution_count": 89,
   "id": "a74578a0",
   "metadata": {},
   "outputs": [
    {
     "data": {
      "text/plain": [
       "274.0000000000019"
      ]
     },
     "execution_count": 89,
     "metadata": {},
     "output_type": "execute_result"
    }
   ],
   "source": [
    "def score_calc():\n",
    "    score = 0.0\n",
    "    preds = svm_final.predict(k30_img_vals)\n",
    "    i = 0\n",
    "    for row in k30_labels_CC:\n",
    "        if str(row) == str(preds[i]):\n",
    "            score = score + (1/3)\n",
    "        i= i + 1\n",
    "    return score\n",
    "\n",
    "test_score = score_calc()\n",
    "test_score"
   ]
  },
  {
   "cell_type": "code",
   "execution_count": 87,
   "id": "60796e77",
   "metadata": {},
   "outputs": [
    {
     "data": {
      "text/plain": [
       "array(['0', '0', '0', '0', '0', '0', '0', '0', '0', '0', '0', '0', '0',\n",
       "       '0', '0', '0', '0', '0', '0', '1', '0', '0', '0', '0', '0', '0',\n",
       "       '0', '0', '0', '0', '0', '0', '0', '0', '0', '0', '0', '0', '0',\n",
       "       '0', '0', '0', '0', '0', '0', '0', '1', '0', '0', '0', '0', '0',\n",
       "       '0', '0', '0', '0', '0', '0', '0', '0', '0', '0', '0', '0', '0',\n",
       "       '0', '0', '0', '0', '0', '0', '1', '0', '0', '0', '0', '0', '0',\n",
       "       '0', '0', '0', '0', '1', '0', '0', '0', '0', '0', '0', '0', '0',\n",
       "       '0', '0', '0', '0', '0', '0', '0', '0', '0', '0', '0', '0', '0',\n",
       "       '0', '0', '0', '0', '0', '0', '0', '0', '0', '0', '0', '0', '1',\n",
       "       '0', '0', '0', '0', '0', '0', '0', '1', '0', '0', '0', '0', '1',\n",
       "       '0', '0', '0', '0', '0', '0', '0', '0', '0', '0', '0', '0', '0',\n",
       "       '0', '0', '0', '0', '0', '0', '0', '0', '0', '0', '0', '0', '0',\n",
       "       '1', '0', '0', '0', '0', '0', '0', '0', '0', '0', '0', '0', '0',\n",
       "       '0', '0', '0', '0', '0', '0', '0', '0', '0', '0', '0', '0', '0',\n",
       "       '0', '0', '0', '0', '0', '0', '0', '0', '0', '1', '0', '0', '0',\n",
       "       '0', '0', '0', '0', '0', '0', '0', '0', '0', '0', '0', '0', '0',\n",
       "       '0', '0', '0', '0', '0', '0', '0', '0', '0', '0', '0', '0', '0',\n",
       "       '0', '0', '0', '0', '0', '0', '0', '0', '0', '0', '0', '0', '0',\n",
       "       '0', '0', '0', '0', '0', '0', '0', '0', '0', '0', '0', '0', '0',\n",
       "       '0', '0', '0', '0', '0', '0', '0', '0', '0', '0', '0', '0', '0',\n",
       "       '0', '0', '0', '0', '0', '0', '0', '0', '0', '0', '0', '0', '0',\n",
       "       '0', '0', '0', '0', '0', '0', '0', '0', '0', '0', '0', '0', '0',\n",
       "       '0', '0', '0', '0', '0', '0', '0', '0', '0', '0', '0', '0', '0',\n",
       "       '0', '0', '0', '0', '0', '0', '0', '0', '0', '0', '0', '0', '0',\n",
       "       '0', '0', '0', '0', '0', '0', '0', '0', '0', '0', '0', '0', '0',\n",
       "       '0', '0', '0', '0', '0', '0', '0', '0', '0', '0', '0', '0', '0',\n",
       "       '0', '0', '0', '0', '0', '0', '0', '0', '0', '0', '0', '0', '0',\n",
       "       '0', '0', '0', '0', '0', '0', '0', '0', '0', '0', '0', '0', '0',\n",
       "       '0', '0', '0', '0', '0', '0', '0', '0', '0', '0', '0', '0', '0',\n",
       "       '0', '0', '0', '0', '0', '0', '0', '0', '0', '0', '0', '0', '0',\n",
       "       '0', '0', '0', '0', '0', '0', '0', '0', '0', '0', '0', '0', '0',\n",
       "       '0', '0', '0', '0', '0', '0', '0', '0', '0', '0', '0', '0', '0',\n",
       "       '0', '0', '0', '0', '0', '0', '0', '0', '0', '0', '0', '0', '0',\n",
       "       '0', '0', '0', '0', '0', '0', '0', '0', '0', '0', '0', '0', '0',\n",
       "       '0', '0', '0', '0', '0', '0', '0', '0', '0', '0', '0', '0', '0',\n",
       "       '0', '0', '0', '0', '0', '0', '0', '0', '0', '0', '0', '0', '0',\n",
       "       '0', '0', '0', '0', '0', '0', '0', '0', '0', '0', '0', '0', '0',\n",
       "       '0', '0', '0', '0', '0', '0', '0', '0', '0', '0', '0', '1', '0',\n",
       "       '0', '0', '0', '0', '0', '0', '0', '0', '0', '0', '1', '0', '0',\n",
       "       '0', '0', '0', '0', '0', '0', '0', '0', '0', '0', '0', '0', '0',\n",
       "       '0', '0', '0', '0', '0', '0', '0', '0', '0', '0', '0', '0', '0',\n",
       "       '0', '0', '0', '0', '0', '0', '0', '0', '0', '0', '0', '0', '0',\n",
       "       '0', '0', '0', '0', '0', '0', '0', '0', '0', '0', '0', '0', '0',\n",
       "       '0', '0', '0', '0', '0', '0', '0', '0', '0', '0', '0', '0', '0',\n",
       "       '0', '0', '0', '0', '0', '0', '0', '0', '0', '0', '0', '0', '0',\n",
       "       '0', '0', '0', '0', '0', '0', '0', '0', '0', '0', '0', '0', '0',\n",
       "       '0', '0', '0', '0', '0', '0', '0', '0', '0', '0', '0', '0', '0',\n",
       "       '0', '0', '0', '0', '0', '0', '0', '0', '0', '0', '0', '1', '0',\n",
       "       '0', '0', '0', '0', '0', '0', '0', '0', '0', '0', '0', '0', '0',\n",
       "       '0', '0', '0', '0', '0', '0', '0', '0', '0', '0', '0', '1', '0',\n",
       "       '0', '0', '0', '0', '0', '0', '0', '0', '0', '0', '0', '0', '0',\n",
       "       '0', '0', '0', '0', '0', '0', '0', '0', '0', '0', '0', '0', '0',\n",
       "       '0', '0', '0', '0', '0', '0', '0', '0', '0', '0', '0', '0', '0',\n",
       "       '0', '0', '0', '0', '0', '0', '0', '0', '0', '0', '0', '0', '0',\n",
       "       '0', '0', '0', '0', '0', '0', '0', '0', '0', '0', '0', '0', '0',\n",
       "       '0', '0', '0', '0', '0', '0', '0', '0', '0', '0', '0', '0', '0',\n",
       "       '0', '0', '0', '0', '0', '0', '0', '0', '0', '0', '0', '0', '0',\n",
       "       '0', '0', '0', '0', '0', '0', '0', '0', '0', '0', '0', '0', '0',\n",
       "       '0', '0', '0', '0', '0', '0', '0', '0', '0', '0', '0', '0', '0',\n",
       "       '0', '0', '0', '0', '0', '0', '0', '0', '0', '0', '0', '0', '0',\n",
       "       '0', '0', '0', '0', '0', '0', '0', '0', '0', '0', '0', '0', '0',\n",
       "       '0', '0', '0', '0', '0', '0', '0', '0', '0', '0', '0', '0', '0',\n",
       "       '0', '0', '0', '0', '1', '1', '0', '0', '0', '0', '0', '0', '0',\n",
       "       '0', '0', '0', '0', '0', '0', '0', '0', '0', '0', '0', '0', '0',\n",
       "       '0', '0', '0', '0', '0', '0', '0', '0', '0', '0', '0', '0', '0',\n",
       "       '0', '0', '0', '0', '0', '0', '0', '0', '0', '0', '0', '0', '1',\n",
       "       '0', '0', '1', '0', '0', '0', '0', '0', '0', '0', '0', '0', '0',\n",
       "       '0', '0', '0', '0', '0', '0', '0', '0', '0', '0', '0', '0', '0',\n",
       "       '0', '0', '0', '0', '0', '0', '0', '0', '0', '0', '0', '0', '0',\n",
       "       '0', '0', '0', '0', '0', '0', '0', '0', '0', '0', '0', '0', '0',\n",
       "       '0', '0', '0', '0', '0', '0', '0', '0', '0', '0', '0', '0', '0',\n",
       "       '0', '0', '0', '0', '0', '0', '0', '0', '0', '0', '1', '0', '0',\n",
       "       '0', '0', '0', '0', '0', '0', '0', '1', '0', '0', '0', '0', '0',\n",
       "       '0', '0', '0', '0', '0', '0', '0', '0', '0', '0', '0', '0', '0',\n",
       "       '0', '0', '0', '0', '0', '0', '0', '0', '0', '0', '0', '0', '0',\n",
       "       '0', '0', '0', '0', '0', '0', '0', '0', '0', '0', '0', '0', '0',\n",
       "       '0', '0', '0', '0', '0', '0', '0', '0', '0', '0', '0', '0'],\n",
       "      dtype=object)"
      ]
     },
     "execution_count": 87,
     "metadata": {},
     "output_type": "execute_result"
    }
   ],
   "source": [
    "preds = svm_final.predict(k30_img_vals)\n",
    "preds"
   ]
  }
 ],
 "metadata": {
  "kernelspec": {
   "display_name": "Python 3 (ipykernel)",
   "language": "python",
   "name": "python3"
  },
  "language_info": {
   "codemirror_mode": {
    "name": "ipython",
    "version": 3
   },
   "file_extension": ".py",
   "mimetype": "text/x-python",
   "name": "python",
   "nbconvert_exporter": "python",
   "pygments_lexer": "ipython3",
   "version": "3.9.2"
  }
 },
 "nbformat": 4,
 "nbformat_minor": 5
}
