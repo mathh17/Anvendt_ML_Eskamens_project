{
 "cells": [
  {
   "cell_type": "markdown",
   "id": "b5126be6-6210-4c07-9108-8687393a5f01",
   "metadata": {
    "jp-MarkdownHeadingCollapsed": true,
    "tags": []
   },
   "source": [
    "## Preparation of data"
   ]
  },
  {
   "cell_type": "markdown",
   "id": "ca02af80-c582-43d6-b838-184b5e041dcf",
   "metadata": {
    "tags": []
   },
   "source": [
    "### Labeling Data and converting images to array values"
   ]
  },
  {
   "cell_type": "code",
   "execution_count": 1,
   "id": "ec58673c-2312-495f-8589-0c142b832966",
   "metadata": {
    "tags": []
   },
   "outputs": [],
   "source": [
    "#import packages for labelling and converting imagery data\n",
    "import pandas as pd\n",
    "import numpy as np\n",
    "import os\n",
    "from keras.preprocessing.image import load_img\n",
    "from keras.preprocessing.image import img_to_array\n",
    "from numpy import asarray"
   ]
  },
  {
   "cell_type": "code",
   "execution_count": 2,
   "id": "f05f4ec6-c4e7-4f4d-8e26-82a24f4c0f40",
   "metadata": {
    "tags": []
   },
   "outputs": [],
   "source": [
    "##############\n",
    "# Func for creating 1D image arrays\n",
    "\n",
    "def load_image_function(path):\n",
    "    images = [] # empty list placeholder\n",
    "    labels = [] # empty list placeholder\n",
    "    container = [] # container to validate correct labels\n",
    "    for filename in os.listdir(path):\n",
    "        container.append(filename) # add filename to container     \n",
    "        CCDY_img = load_img(path + f'/{filename}', target_size = (56, 106),\n",
    "        color_mode=\"grayscale\")                  \n",
    "        CCDY_img = img_to_array(CCDY_img)\n",
    "        images.append(CCDY_img) # append the photo to the images. The images list contains a list of arrays       \n",
    "    return asarray(images), container; # not interested in list of arrays, but array containing lists. Asarray does this. Returns three arrays\n"
   ]
  },
  {
   "cell_type": "code",
   "execution_count": 4,
   "id": "10d3597b-ab0e-4acb-b20b-ddfe936ade43",
   "metadata": {
    "tags": []
   },
   "outputs": [],
   "source": [
    "################\n",
    "# Func for creating df with classes and 3d img arrays\n",
    "\n",
    "def load_img_data ():\n",
    "    # Start: creatign classes ons string_digits\n",
    "    # load string digits\n",
    "\n",
    "    #os.chdir(path_string_digits)\n",
    "\n",
    "    string_digits = pd.read_csv('DIDA_12000_String_Digit_Labels.csv', \n",
    "                 header = None, \n",
    "                 names=[\"index\", \"string\"])\n",
    "    # create empty class columns\n",
    "    string_digits['CC'] = 0\n",
    "    string_digits['D'] = 0\n",
    "    string_digits['Y'] = 0\n",
    "    string_digits = string_digits.astype(str)\n",
    "    # Iterate string digits and append classes\n",
    "    for i, row in string_digits.iterrows():\n",
    "        if len(row['string']) != 4:\n",
    "            row['CC'] = '1'\n",
    "            row['D'] = '10'\n",
    "            row['Y'] = '10'\n",
    "        else:\n",
    "            row['D'] = row['string'][2]\n",
    "            row['Y'] = row['string'][3]\n",
    "            if row['string'][0:2] == '18':\n",
    "                row['CC']='0'\n",
    "            else:\n",
    "                row['CC']='1'\n",
    "    # End of class labeling on string_digits.\n",
    "    #\n",
    "    # Start: create img_df containing scaled images as 1D tensors\n",
    "    # Convert imagery to 1D arrays with tagged file names\n",
    "\n",
    "    #os.chdir(path_images)\n",
    "    image_array, filename = load_image_function('DIDA_12000_String_Digit_Images/DIDA_1')\n",
    "\n",
    "    # and convert to a img_df\n",
    "    img_df = pd.DataFrame({'filename': filename, 'img_value': list(image_array)}, \n",
    "                          columns=['filename', 'img_value'])\n",
    "    # Create proper index value in img_df to allow merge on string_digits\n",
    "    img_df['index'] = img_df['filename']\n",
    "    for i, row in img_df.iterrows():\n",
    "        row['index'] = str(img_df['index'][i]).split('.')[0]\n",
    "    img_df\n",
    "    # End of creating img_df\n",
    "    #\n",
    "    # Start: merge img_df with string_digits\n",
    "    # match index type on dataframes to merge\n",
    "    string_digits['index'] = string_digits['index'].astype(int)\n",
    "    img_df['index'] = img_df['index'].astype(int)\n",
    "    # Merge dataframes\n",
    "    df_img_classes = string_digits.merge(img_df)\n",
    "    # Rearrange order of dataframe\n",
    "    df_img_classes = df_img_classes.reindex(columns= ['index', 'string', 'CC', 'D', 'Y', 'img_value', 'filename'])\n",
    "    # End og merging data frames\n",
    "    return df_img_classes\n"
   ]
  },
  {
   "cell_type": "code",
   "execution_count": 5,
   "id": "1140d88c-d5d8-4b0b-8c67-051b037bc836",
   "metadata": {
    "tags": []
   },
   "outputs": [
    {
     "data": {
      "text/html": [
       "<div>\n",
       "<style scoped>\n",
       "    .dataframe tbody tr th:only-of-type {\n",
       "        vertical-align: middle;\n",
       "    }\n",
       "\n",
       "    .dataframe tbody tr th {\n",
       "        vertical-align: top;\n",
       "    }\n",
       "\n",
       "    .dataframe thead th {\n",
       "        text-align: right;\n",
       "    }\n",
       "</style>\n",
       "<table border=\"1\" class=\"dataframe\">\n",
       "  <thead>\n",
       "    <tr style=\"text-align: right;\">\n",
       "      <th></th>\n",
       "      <th>index</th>\n",
       "      <th>string</th>\n",
       "      <th>CC</th>\n",
       "      <th>D</th>\n",
       "      <th>Y</th>\n",
       "      <th>img_value</th>\n",
       "      <th>filename</th>\n",
       "    </tr>\n",
       "  </thead>\n",
       "  <tbody>\n",
       "    <tr>\n",
       "      <th>0</th>\n",
       "      <td>10082</td>\n",
       "      <td>1832</td>\n",
       "      <td>0</td>\n",
       "      <td>3</td>\n",
       "      <td>2</td>\n",
       "      <td>[[[180.0], [175.0], [183.0], [179.0], [182.0],...</td>\n",
       "      <td>10082.jpg</td>\n",
       "    </tr>\n",
       "    <tr>\n",
       "      <th>1</th>\n",
       "      <td>6743</td>\n",
       "      <td>1826</td>\n",
       "      <td>0</td>\n",
       "      <td>2</td>\n",
       "      <td>6</td>\n",
       "      <td>[[[136.0], [137.0], [138.0], [139.0], [135.0],...</td>\n",
       "      <td>6743.jpg</td>\n",
       "    </tr>\n",
       "    <tr>\n",
       "      <th>2</th>\n",
       "      <td>8678</td>\n",
       "      <td>1814</td>\n",
       "      <td>0</td>\n",
       "      <td>1</td>\n",
       "      <td>4</td>\n",
       "      <td>[[[85.0], [91.0], [93.0], [88.0], [89.0], [89....</td>\n",
       "      <td>8678.jpg</td>\n",
       "    </tr>\n",
       "    <tr>\n",
       "      <th>3</th>\n",
       "      <td>2230</td>\n",
       "      <td>1815</td>\n",
       "      <td>0</td>\n",
       "      <td>1</td>\n",
       "      <td>5</td>\n",
       "      <td>[[[176.0], [176.0], [173.0], [172.0], [172.0],...</td>\n",
       "      <td>2230.jpg</td>\n",
       "    </tr>\n",
       "    <tr>\n",
       "      <th>4</th>\n",
       "      <td>11471</td>\n",
       "      <td>1821</td>\n",
       "      <td>0</td>\n",
       "      <td>2</td>\n",
       "      <td>1</td>\n",
       "      <td>[[[159.0], [158.0], [153.0], [154.0], [158.0],...</td>\n",
       "      <td>11471.jpg</td>\n",
       "    </tr>\n",
       "    <tr>\n",
       "      <th>...</th>\n",
       "      <td>...</td>\n",
       "      <td>...</td>\n",
       "      <td>...</td>\n",
       "      <td>...</td>\n",
       "      <td>...</td>\n",
       "      <td>...</td>\n",
       "      <td>...</td>\n",
       "    </tr>\n",
       "    <tr>\n",
       "      <th>11995</th>\n",
       "      <td>9377</td>\n",
       "      <td>1831</td>\n",
       "      <td>0</td>\n",
       "      <td>3</td>\n",
       "      <td>1</td>\n",
       "      <td>[[[181.0], [181.0], [181.0], [180.0], [179.0],...</td>\n",
       "      <td>9377.jpg</td>\n",
       "    </tr>\n",
       "    <tr>\n",
       "      <th>11996</th>\n",
       "      <td>8267</td>\n",
       "      <td>1835</td>\n",
       "      <td>0</td>\n",
       "      <td>3</td>\n",
       "      <td>5</td>\n",
       "      <td>[[[133.0], [133.0], [136.0], [129.0], [141.0],...</td>\n",
       "      <td>8267.jpg</td>\n",
       "    </tr>\n",
       "    <tr>\n",
       "      <th>11997</th>\n",
       "      <td>6943</td>\n",
       "      <td>1833</td>\n",
       "      <td>0</td>\n",
       "      <td>3</td>\n",
       "      <td>3</td>\n",
       "      <td>[[[130.0], [131.0], [132.0], [132.0], [131.0],...</td>\n",
       "      <td>6943.jpg</td>\n",
       "    </tr>\n",
       "    <tr>\n",
       "      <th>11998</th>\n",
       "      <td>10708</td>\n",
       "      <td>1800</td>\n",
       "      <td>0</td>\n",
       "      <td>0</td>\n",
       "      <td>0</td>\n",
       "      <td>[[[181.0], [179.0], [179.0], [181.0], [181.0],...</td>\n",
       "      <td>10708.jpg</td>\n",
       "    </tr>\n",
       "    <tr>\n",
       "      <th>11999</th>\n",
       "      <td>5802</td>\n",
       "      <td>1839</td>\n",
       "      <td>0</td>\n",
       "      <td>3</td>\n",
       "      <td>9</td>\n",
       "      <td>[[[92.0], [91.0], [86.0], [87.0], [85.0], [87....</td>\n",
       "      <td>5802.jpg</td>\n",
       "    </tr>\n",
       "  </tbody>\n",
       "</table>\n",
       "<p>12000 rows × 7 columns</p>\n",
       "</div>"
      ],
      "text/plain": [
       "       index string CC  D  Y  \\\n",
       "0      10082   1832  0  3  2   \n",
       "1       6743   1826  0  2  6   \n",
       "2       8678   1814  0  1  4   \n",
       "3       2230   1815  0  1  5   \n",
       "4      11471   1821  0  2  1   \n",
       "...      ...    ... .. .. ..   \n",
       "11995   9377   1831  0  3  1   \n",
       "11996   8267   1835  0  3  5   \n",
       "11997   6943   1833  0  3  3   \n",
       "11998  10708   1800  0  0  0   \n",
       "11999   5802   1839  0  3  9   \n",
       "\n",
       "                                               img_value   filename  \n",
       "0      [[[180.0], [175.0], [183.0], [179.0], [182.0],...  10082.jpg  \n",
       "1      [[[136.0], [137.0], [138.0], [139.0], [135.0],...   6743.jpg  \n",
       "2      [[[85.0], [91.0], [93.0], [88.0], [89.0], [89....   8678.jpg  \n",
       "3      [[[176.0], [176.0], [173.0], [172.0], [172.0],...   2230.jpg  \n",
       "4      [[[159.0], [158.0], [153.0], [154.0], [158.0],...  11471.jpg  \n",
       "...                                                  ...        ...  \n",
       "11995  [[[181.0], [181.0], [181.0], [180.0], [179.0],...   9377.jpg  \n",
       "11996  [[[133.0], [133.0], [136.0], [129.0], [141.0],...   8267.jpg  \n",
       "11997  [[[130.0], [131.0], [132.0], [132.0], [131.0],...   6943.jpg  \n",
       "11998  [[[181.0], [179.0], [179.0], [181.0], [181.0],...  10708.jpg  \n",
       "11999  [[[92.0], [91.0], [86.0], [87.0], [85.0], [87....   5802.jpg  \n",
       "\n",
       "[12000 rows x 7 columns]"
      ]
     },
     "execution_count": 5,
     "metadata": {},
     "output_type": "execute_result"
    }
   ],
   "source": [
    "#load data and shuffle them around\n",
    "df = load_img_data()\n",
    "df = df.sample(frac=1).reset_index(drop=True)\n",
    "df"
   ]
  },
  {
   "cell_type": "markdown",
   "id": "0176f580-da57-43be-a3a2-757812a4a4a3",
   "metadata": {
    "jp-MarkdownHeadingCollapsed": true,
    "tags": []
   },
   "source": [
    "### Defining fixed train, test and valdiation sets."
   ]
  },
  {
   "cell_type": "code",
   "execution_count": 6,
   "id": "ca034d99-b8b1-4a9b-9559-5202dc43395c",
   "metadata": {},
   "outputs": [],
   "source": [
    "df = df.drop(columns=['index','string','filename'])"
   ]
  },
  {
   "cell_type": "markdown",
   "id": "434e33e1-a724-4b22-9781-f784b7576b15",
   "metadata": {
    "tags": []
   },
   "source": [
    "### Split train, val, test"
   ]
  },
  {
   "cell_type": "markdown",
   "id": "147ca397-7fc6-4f99-b753-5f9e6c0f88cc",
   "metadata": {
    "jp-MarkdownHeadingCollapsed": true,
    "tags": []
   },
   "source": [
    "#### Subsetting df"
   ]
  },
  {
   "cell_type": "code",
   "execution_count": 7,
   "id": "ef5e187f-e356-46f4-b942-63b1cab260dd",
   "metadata": {
    "tags": []
   },
   "outputs": [],
   "source": [
    "x_train = df.loc[0:7679]\n",
    "x_val = df.loc[7680:9599]\n",
    "x_test = df.loc[9600:11999]"
   ]
  },
  {
   "cell_type": "markdown",
   "id": "c280bd2f-bf56-445c-960c-93de1038bb13",
   "metadata": {
    "jp-MarkdownHeadingCollapsed": true,
    "tags": []
   },
   "source": [
    "#### Creating labels"
   ]
  },
  {
   "cell_type": "code",
   "execution_count": 8,
   "id": "1ee46b75-3d75-4701-aa69-dbcc1cbd871b",
   "metadata": {
    "tags": []
   },
   "outputs": [],
   "source": [
    "#### training labels ###\n",
    "Y_train = x_train['Y']\n",
    "Y_train = Y_train.astype(np.uint8)\n",
    "D_train = x_train['D']\n",
    "D_train = D_train.astype(np.uint8)\n",
    "CC_train = x_train['CC']\n",
    "CC_train = CC_train.astype(np.uint8)\n",
    "\n",
    "#### validation labels ###\n",
    "Y_val = x_val['Y']\n",
    "Y_val = Y_val.astype(np.uint8)\n",
    "D_val = x_val['D']\n",
    "D_val = D_val.astype(np.uint8)\n",
    "CC_val = x_val['CC']\n",
    "CC_val = CC_val.astype(np.uint8)\n",
    "\n",
    "#### test labels ###\n",
    "Y_test = x_test['Y']\n",
    "Y_test = Y_test.astype(np.uint8)\n",
    "D_test = x_test['D']\n",
    "D_test = D_test.astype(np.uint8)\n",
    "CC_test = x_test['CC']\n",
    "CC_test = CC_test.astype(np.uint8)\n"
   ]
  },
  {
   "cell_type": "markdown",
   "id": "63fae61a-515d-426e-8316-b4768ef128f0",
   "metadata": {
    "tags": []
   },
   "source": [
    "#### Creating image values"
   ]
  },
  {
   "cell_type": "code",
   "execution_count": 9,
   "id": "05a117f5-9a97-4a1c-a2a6-4bff6e86aa6a",
   "metadata": {
    "tags": []
   },
   "outputs": [],
   "source": [
    "# train\n",
    "values = np.zeros(shape=(len(x_train),56,106,1))\n",
    "i = 0\n",
    "j = 0\n",
    "while i < len(x_train):\n",
    "    values[i] = x_train['img_value'][j]\n",
    "    i += 1\n",
    "    j+=1\n",
    "x_train = values/255\n",
    "\n",
    "# val\n",
    "values = np.zeros(shape=(len(x_val),56,106,1))\n",
    "i = 0\n",
    "j = 7680\n",
    "while i < len(x_val):\n",
    "    values[i] = x_val['img_value'][j]\n",
    "    i += 1\n",
    "    j+=1\n",
    "x_val = values/255\n",
    "\n",
    "# test\n",
    "values = np.zeros(shape=(len(x_test),56,106,1))\n",
    "i = 0\n",
    "j = 9600\n",
    "while i < len(x_test):\n",
    "    values[i] = x_test['img_value'][j]\n",
    "    i += 1\n",
    "    j+=1\n",
    "x_test = values/255\n"
   ]
  },
  {
   "cell_type": "markdown",
   "id": "e9dd50e7-a716-45fa-bcc8-da25fbe86a6b",
   "metadata": {
    "tags": []
   },
   "source": [
    "## Question 2.3, Testing the final models"
   ]
  },
  {
   "cell_type": "markdown",
   "id": "250116d4-88f0-419f-833a-9e6e89e27d79",
   "metadata": {
    "jp-MarkdownHeadingCollapsed": true,
    "tags": []
   },
   "source": [
    "### Initializing CNN's"
   ]
  },
  {
   "cell_type": "code",
   "execution_count": 10,
   "id": "92321785-7ae8-4ad6-8d4c-81d4f6e6ef89",
   "metadata": {},
   "outputs": [],
   "source": [
    "import tensorflow as tf\n",
    "import data_loader as dl\n",
    "import numpy as np\n",
    "from numpy.random import seed\n",
    "import matplotlib.pyplot as plt"
   ]
  },
  {
   "cell_type": "code",
   "execution_count": 11,
   "id": "1d23f1eb-1e06-44bc-81a2-0380875cc741",
   "metadata": {
    "slideshow": {
     "slide_type": "-"
    }
   },
   "outputs": [],
   "source": [
    "data_augmentation = tf.keras.Sequential([\n",
    "    tf.keras.layers.experimental.preprocessing.RandomRotation(0.03, input_shape=(56, 106, 1))\n",
    "    ])\n"
   ]
  },
  {
   "cell_type": "markdown",
   "id": "1517caeb-b8e6-46c4-98da-0305f6f66ac3",
   "metadata": {
    "jp-MarkdownHeadingCollapsed": true,
    "tags": []
   },
   "source": [
    "#### Model CC"
   ]
  },
  {
   "cell_type": "code",
   "execution_count": 12,
   "id": "10c454e4-f681-47b5-baef-6232085343bb",
   "metadata": {
    "jupyter": {
     "source_hidden": true
    },
    "tags": []
   },
   "outputs": [
    {
     "data": {
      "image/png": "[encoded data removed]",
      "text/plain": [
       "<Figure size 960x288 with 2 Axes>"
      ]
     },
     "metadata": {
      "needs_background": "light"
     },
     "output_type": "display_data"
    }
   ],
   "source": [
    "### With Augmentation\n",
    "model_CC_aug = tf.keras.models.Sequential([\n",
    "    data_augmentation,\n",
    "    #Block 1\n",
    "    tf.keras.layers.Conv2D(filters=32, kernel_size=(3, 3), activation='relu', input_shape=(56, 106, 1)),\n",
    "    tf.keras.layers.SpatialDropout2D(0.5),\n",
    "    tf.keras.layers.BatchNormalization(),\n",
    "    tf.keras.layers.MaxPooling2D(pool_size=(2, 2)),\n",
    "\n",
    "    #Block 2\n",
    "    tf.keras.layers.Conv2D(filters=64, kernel_size=(3, 3), activation='relu'),\n",
    "    tf.keras.layers.SpatialDropout2D(0.5),\n",
    "    tf.keras.layers.BatchNormalization(),\n",
    "    tf.keras.layers.MaxPooling2D(pool_size=(2, 2)),\n",
    "\n",
    "    #Block 3\n",
    "    tf.keras.layers.Conv2D(filters=128, kernel_size=(3, 3), activation='relu'),\n",
    "    tf.keras.layers.SpatialDropout2D(0.5),\n",
    "    tf.keras.layers.BatchNormalization(),\n",
    "    tf.keras.layers.MaxPooling2D(pool_size=(2, 2)),\n",
    "\n",
    "    #Block 4\n",
    "    tf.keras.layers.Conv2D(filters=256, kernel_size=(3, 3), activation='relu'),\n",
    "    tf.keras.layers.SpatialDropout2D(0.5),\n",
    "    tf.keras.layers.BatchNormalization(),\n",
    "    tf.keras.layers.MaxPooling2D(pool_size=(2, 2)),\n",
    "\n",
    "    tf.keras.layers.Flatten(),\n",
    "    tf.keras.layers.Dense(64, activation='relu'),\n",
    "    tf.keras.layers.Dense(1, activation='sigmoid'),\n",
    "    ])\n",
    "\n",
    "model_CC_aug.compile(\n",
    "    optimizer=tf.keras.optimizers.Adam(learning_rate = 0.0008),\n",
    "    loss= 'binary_crossentropy',\n",
    "    metrics=['accuracy'],\n",
    "    ) \n",
    "\n",
    "history_CC_aug = model_CC_aug.fit(x_train, CC_train, validation_data=(x_val, CC_val), epochs=100, verbose=0,\n",
    "                   callbacks = tf.keras.callbacks.EarlyStopping(monitor='val_loss', patience=10))\n",
    "\n",
    "############################\n",
    "\n",
    "fig = plt.figure(figsize=plt.figaspect(0.3))\n",
    "\n",
    "ax = fig.add_subplot(1, 2, 1)\n",
    "ax.plot(history_CC_aug.history['loss'], label='Training loss')\n",
    "ax.plot(history_CC_aug.history['val_loss'], label = 'Val loss')\n",
    "plt.xlabel('Epoch')\n",
    "plt.ylabel('Loss')\n",
    "plt.legend()\n",
    "plt.title('Loss, Model CC')\n",
    "\n",
    "ax = fig.add_subplot(1, 2, 2)\n",
    "ax.plot(history_CC_aug.history['accuracy'], label='Train accuracy')\n",
    "ax.plot(history_CC_aug.history['val_accuracy'], label = 'Val accuracy')\n",
    "plt.xlabel('Epoch')\n",
    "plt.ylabel('Accuracy')\n",
    "plt.legend()\n",
    "plt.title('Accuracy, Model CC')\n",
    "\n",
    "plt.show()\n"
   ]
  },
  {
   "cell_type": "markdown",
   "id": "19cb4207-19e4-4d31-afdd-b3c5fc6f6f7c",
   "metadata": {},
   "source": [
    "Valdiation accuracy, before in report 0.9895"
   ]
  },
  {
   "cell_type": "code",
   "execution_count": 13,
   "id": "326fc635-612d-4c06-9eed-9313f5c86d27",
   "metadata": {},
   "outputs": [
    {
     "data": {
      "text/plain": [
       "0.9932291507720947"
      ]
     },
     "execution_count": 13,
     "metadata": {},
     "output_type": "execute_result"
    }
   ],
   "source": [
    "history_CC_aug.history['val_accuracy'][-1]"
   ]
  },
  {
   "cell_type": "markdown",
   "id": "b43d1e41-c3cf-485d-98be-7b73bdd103d4",
   "metadata": {},
   "source": [
    "Validation loss, before in report 0.0465"
   ]
  },
  {
   "cell_type": "code",
   "execution_count": 14,
   "id": "ac08748d-f117-4792-a13c-363345a98ec5",
   "metadata": {},
   "outputs": [
    {
     "data": {
      "text/plain": [
       "0.022422373294830322"
      ]
     },
     "execution_count": 14,
     "metadata": {},
     "output_type": "execute_result"
    }
   ],
   "source": [
    "history_CC_aug.history['val_loss'][-1]"
   ]
  },
  {
   "cell_type": "markdown",
   "id": "a195024b-22b2-434b-8147-5e059858f7fd",
   "metadata": {
    "jp-MarkdownHeadingCollapsed": true,
    "tags": []
   },
   "source": [
    "#### Model D"
   ]
  },
  {
   "cell_type": "code",
   "execution_count": 15,
   "id": "0b4bc6b3-eeac-4333-8bff-4c1573a95746",
   "metadata": {
    "jupyter": {
     "source_hidden": true
    },
    "tags": []
   },
   "outputs": [
    {
     "data": {
      "image/png": "[encoded data removed]",
      "text/plain": [
       "<Figure size 960x288 with 2 Axes>"
      ]
     },
     "metadata": {
      "needs_background": "light"
     },
     "output_type": "display_data"
    }
   ],
   "source": [
    "### With Augmentation\n",
    "model_D_aug = tf.keras.models.Sequential([\n",
    "    data_augmentation,\n",
    "    #Block 1\n",
    "    tf.keras.layers.Conv2D(filters=32, kernel_size=(3, 3), activation='relu', input_shape=(56, 106, 1)),\n",
    "    tf.keras.layers.BatchNormalization(),\n",
    "    tf.keras.layers.MaxPooling2D(pool_size=(2, 2)),\n",
    "    #Block 2\n",
    "    tf.keras.layers.Conv2D(filters=64, kernel_size=(3, 3), activation='relu'),\n",
    "    tf.keras.layers.BatchNormalization(),\n",
    "    tf.keras.layers.MaxPooling2D(pool_size=(2, 2)),\n",
    "    #Block 3\n",
    "    tf.keras.layers.Conv2D(filters=128, kernel_size=(3, 3), activation='relu'),\n",
    "    tf.keras.layers.SpatialDropout2D(0.5),\n",
    "    tf.keras.layers.BatchNormalization(),\n",
    "    tf.keras.layers.MaxPooling2D(pool_size=(2, 2)),\n",
    "    #Block 4\n",
    "    tf.keras.layers.Conv2D(filters=256, kernel_size=(3, 3), activation='relu'),\n",
    "    tf.keras.layers.SpatialDropout2D(0.5),\n",
    "    tf.keras.layers.BatchNormalization(),\n",
    "    tf.keras.layers.MaxPooling2D(pool_size=(2, 2)),\n",
    "    #Flatten\n",
    "    tf.keras.layers.Flatten(),\n",
    "    tf.keras.layers.Dense(64, activation='relu'),\n",
    "    tf.keras.layers.Dense(11, activation='softmax'),\n",
    "    ])\n",
    "\n",
    "model_D_aug.compile(\n",
    "    optimizer=tf.keras.optimizers.Adam(learning_rate = 0.0008),\n",
    "    loss= 'sparse_categorical_crossentropy',\n",
    "    metrics=['accuracy'],\n",
    "    ) \n",
    "\n",
    "history_D_aug = model_D_aug.fit(x_train, D_train, validation_data=(x_val, D_val), epochs=100, verbose=0,\n",
    "                   callbacks = tf.keras.callbacks.EarlyStopping(monitor='val_loss', patience=10))\n",
    "\n",
    "############################\n",
    "\n",
    "fig = plt.figure(figsize=plt.figaspect(0.3))\n",
    "\n",
    "ax = fig.add_subplot(1, 2, 1)\n",
    "ax.plot(history_D_aug.history['loss'], label='Training loss')\n",
    "ax.plot(history_D_aug.history['val_loss'], label = 'Val loss')\n",
    "plt.xlabel('Epoch')\n",
    "plt.ylabel('Loss')\n",
    "plt.legend()\n",
    "plt.title('Loss, Model D')\n",
    "\n",
    "ax = fig.add_subplot(1, 2, 2)\n",
    "ax.plot(history_D_aug.history['accuracy'], label='Train accuracy')\n",
    "ax.plot(history_D_aug.history['val_accuracy'], label = 'Val accuracy')\n",
    "plt.xlabel('Epoch')\n",
    "plt.ylabel('Accuracy')\n",
    "plt.legend()\n",
    "plt.title('Accuracy, Model D')\n",
    "\n",
    "plt.show()\n"
   ]
  },
  {
   "cell_type": "markdown",
   "id": "26a3e216-9f99-4d93-a834-4805d6822581",
   "metadata": {},
   "source": [
    "Valdiation accuracy, before in report 0.9494"
   ]
  },
  {
   "cell_type": "code",
   "execution_count": 16,
   "id": "6989a7e5-40f4-4faf-84c2-2a479244521a",
   "metadata": {},
   "outputs": [
    {
     "data": {
      "text/plain": [
       "0.9666666388511658"
      ]
     },
     "execution_count": 16,
     "metadata": {},
     "output_type": "execute_result"
    }
   ],
   "source": [
    "history_D_aug.history['val_accuracy'][-1]"
   ]
  },
  {
   "cell_type": "markdown",
   "id": "4d124970-14a8-4915-a860-a493f9a06e7b",
   "metadata": {},
   "source": [
    "Validation loss, before in report 0.1805"
   ]
  },
  {
   "cell_type": "code",
   "execution_count": 17,
   "id": "086071ee-6c9f-4465-9fd4-9097d96c2641",
   "metadata": {},
   "outputs": [
    {
     "data": {
      "text/plain": [
       "0.16185861825942993"
      ]
     },
     "execution_count": 17,
     "metadata": {},
     "output_type": "execute_result"
    }
   ],
   "source": [
    "history_D_aug.history['val_loss'][-1]"
   ]
  },
  {
   "cell_type": "markdown",
   "id": "75018526-151b-4ef3-afb4-c8a8ad283cca",
   "metadata": {
    "jp-MarkdownHeadingCollapsed": true,
    "tags": []
   },
   "source": [
    "#### Model Y"
   ]
  },
  {
   "cell_type": "code",
   "execution_count": 18,
   "id": "6d33c485-cfcb-4550-ab12-8e458f61afeb",
   "metadata": {
    "jupyter": {
     "source_hidden": true
    },
    "tags": []
   },
   "outputs": [
    {
     "data": {
      "image/png": "[encoded data removed]",
      "text/plain": [
       "<Figure size 960x288 with 2 Axes>"
      ]
     },
     "metadata": {
      "needs_background": "light"
     },
     "output_type": "display_data"
    }
   ],
   "source": [
    "### With Augmentation\n",
    "model_Y_aug = tf.keras.models.Sequential([\n",
    "    data_augmentation,\n",
    "    #Block 1\n",
    "    tf.keras.layers.Conv2D(filters=32, kernel_size=(3, 3), activation='relu', input_shape=(56, 106, 1)),\n",
    "    tf.keras.layers.SpatialDropout2D(0.5),\n",
    "    tf.keras.layers.BatchNormalization(),\n",
    "    tf.keras.layers.MaxPooling2D(pool_size=(2, 2)),\n",
    "    #Block 2\n",
    "    tf.keras.layers.Conv2D(filters=64, kernel_size=(3, 3), activation='relu'),\n",
    "    tf.keras.layers.SpatialDropout2D(0.5),\n",
    "    tf.keras.layers.BatchNormalization(),\n",
    "    tf.keras.layers.MaxPooling2D(pool_size=(2, 2)),\n",
    "    #Block 3\n",
    "    tf.keras.layers.Conv2D(filters=128, kernel_size=(3, 3), activation='relu'),\n",
    "    tf.keras.layers.SpatialDropout2D(0.5),\n",
    "    tf.keras.layers.BatchNormalization(),\n",
    "    tf.keras.layers.MaxPooling2D(pool_size=(2, 2)),\n",
    "    #Block 4\n",
    "    tf.keras.layers.Conv2D(filters=256, kernel_size=(3, 3), activation='relu'),\n",
    "    tf.keras.layers.SpatialDropout2D(0.5),\n",
    "    tf.keras.layers.BatchNormalization(),\n",
    "    tf.keras.layers.MaxPooling2D(pool_size=(2, 2)),\n",
    "\n",
    "    tf.keras.layers.Flatten(),\n",
    "    tf.keras.layers.Dense(64, activation='relu'),\n",
    "    tf.keras.layers.Dense(11, activation='softmax'),\n",
    "    ])\n",
    "\n",
    "model_Y_aug.compile(\n",
    "    optimizer=tf.keras.optimizers.Adam(learning_rate = 0.0008),\n",
    "    loss= 'sparse_categorical_crossentropy',\n",
    "    metrics=['accuracy'],\n",
    "    ) \n",
    "\n",
    "history_Y_aug = model_Y_aug.fit(x_train, Y_train, validation_data=(x_val, Y_val), epochs=100, verbose=0,\n",
    "                   callbacks = tf.keras.callbacks.EarlyStopping(monitor='val_loss', patience=10))\n",
    "\n",
    "############################\n",
    "\n",
    "fig = plt.figure(figsize=plt.figaspect(0.3))\n",
    "\n",
    "ax = fig.add_subplot(1, 2, 1)\n",
    "ax.plot(history_Y_aug.history['loss'], label='Training loss')\n",
    "ax.plot(history_Y_aug.history['val_loss'], label = 'Val loss')\n",
    "plt.xlabel('Epoch')\n",
    "plt.ylabel('Loss')\n",
    "plt.legend()\n",
    "plt.title('Loss, Model Y')\n",
    "\n",
    "ax = fig.add_subplot(1, 2, 2)\n",
    "ax.plot(history_Y_aug.history['accuracy'], label='Train accuracy')\n",
    "ax.plot(history_Y_aug.history['val_accuracy'], label = 'Val accuracy')\n",
    "plt.xlabel('Epoch')\n",
    "plt.ylabel('Accuracy')\n",
    "plt.legend()\n",
    "plt.title('Accuracy, Model Y')\n",
    "\n",
    "plt.show()\n"
   ]
  },
  {
   "cell_type": "markdown",
   "id": "16109949-eda8-4a91-b3fe-e221b8357001",
   "metadata": {},
   "source": [
    "Validation accuracy, before in report 0.9171"
   ]
  },
  {
   "cell_type": "code",
   "execution_count": 19,
   "id": "948d85b2-8063-42e7-8ba3-63074e102d45",
   "metadata": {},
   "outputs": [
    {
     "data": {
      "text/plain": [
       "0.9192708134651184"
      ]
     },
     "execution_count": 19,
     "metadata": {},
     "output_type": "execute_result"
    }
   ],
   "source": [
    "history_Y_aug.history['val_accuracy'][-1]"
   ]
  },
  {
   "cell_type": "markdown",
   "id": "9131f6e3-a211-4f27-9b78-99614e662242",
   "metadata": {},
   "source": [
    "Validation loss, before in report 0.3898"
   ]
  },
  {
   "cell_type": "code",
   "execution_count": 20,
   "id": "da7e30f7-b877-4ecc-b9a1-1540a02bdfee",
   "metadata": {},
   "outputs": [
    {
     "data": {
      "text/plain": [
       "0.3214839994907379"
      ]
     },
     "execution_count": 20,
     "metadata": {},
     "output_type": "execute_result"
    }
   ],
   "source": [
    "history_Y_aug.history['val_loss'][-1]"
   ]
  },
  {
   "cell_type": "markdown",
   "id": "e67583f7-24bc-4c4f-8e62-e6960879291f",
   "metadata": {},
   "source": [
    "### Measurign test set accuracy"
   ]
  },
  {
   "cell_type": "code",
   "execution_count": 23,
   "id": "c201255b-0696-4a81-8c54-7df0d28cc1c0",
   "metadata": {},
   "outputs": [
    {
     "name": "stdout",
     "output_type": "stream",
     "text": [
      "75/75 [==============================] - 0s 5ms/step - loss: 0.0389 - accuracy: 0.9925\n",
      "75/75 [==============================] - 0s 5ms/step - loss: 0.1641 - accuracy: 0.9708\n",
      "75/75 [==============================] - 0s 5ms/step - loss: 0.3498 - accuracy: 0.9204: 0s - loss: 0.3130 - accuracy: \n",
      "[0.038886893540620804, 0.9925000071525574]\n",
      "[0.1640990823507309, 0.9708333611488342]\n",
      "[0.3497786521911621, 0.9204166531562805]\n"
     ]
    }
   ],
   "source": [
    "CC_test_acc = model_CC_aug.evaluate(x_test,CC_test)\n",
    "D_test_acc = model_D_aug.evaluate(x_test,D_test)\n",
    "Y_test_acc = model_Y_aug.evaluate(x_test,Y_test)\n",
    "print(CC_test_acc)\n",
    "print(D_test_acc)\n",
    "print(Y_test_acc)"
   ]
  },
  {
   "cell_type": "code",
   "execution_count": 65,
   "id": "31658556-39ad-44f2-ae01-fd02dd383fc4",
   "metadata": {},
   "outputs": [],
   "source": [
    "def accuracy_calc(model,y_test,x_test):\n",
    "    preds = model.predict(x_test)\n",
    "    classes = np.argmax(preds, axis = 1)\n",
    "    score = 0.0\n",
    "    i = 0\n",
    "    for row in y_test:\n",
    "        if row == classes[i]:\n",
    "            score = score + (1/3)\n",
    "        i= i + 1\n",
    "    return score"
   ]
  },
  {
   "cell_type": "code",
   "execution_count": 66,
   "id": "06f097d2",
   "metadata": {},
   "outputs": [
    {
     "name": "stdout",
     "output_type": "stream",
     "text": [
      "771.3333333333511\n",
      "776.666666666685\n",
      "736.3333333333471\n"
     ]
    },
    {
     "data": {
      "text/plain": [
       "95.18055555555765"
      ]
     },
     "execution_count": 66,
     "metadata": {},
     "output_type": "execute_result"
    }
   ],
   "source": [
    "test_score_CC = accuracy_calc(model_CC_aug,CC_test,x_test)\n",
    "test_score_D = accuracy_calc(model_D_aug,D_test,x_test)\n",
    "test_score_Y = accuracy_calc(model_Y_aug,Y_test,x_test)\n",
    "print(test_score_CC)\n",
    "print(test_score_D)\n",
    "print(test_score_Y)\n",
    "score = ((test_score_Y+test_score_CC+test_score_D)/len(Y_test))*100\n",
    "score"
   ]
  },
  {
   "cell_type": "code",
   "execution_count": 72,
   "id": "6676d953",
   "metadata": {},
   "outputs": [
    {
     "name": "stdout",
     "output_type": "stream",
     "text": [
      "[0 0 0 ... 0 0 0]\n"
     ]
    }
   ],
   "source": [
    "array = np.array(CC_test)\n",
    "print(array)"
   ]
  },
  {
   "cell_type": "code",
   "execution_count": 73,
   "id": "3808b548",
   "metadata": {},
   "outputs": [],
   "source": [
    "def sequence_calc(model_CC,model_D,model_Y,CC_test,D_test,Y_test,x_test):\n",
    "    preds_CC = model_CC.predict(x_test)\n",
    "    preds_D = model_D.predict(x_test)\n",
    "    preds_Y = model_Y.predict(x_test)\n",
    "    classes_CC = np.argmax(preds_CC, axis = 1)\n",
    "    classes_D = np.argmax(preds_D, axis = 1)\n",
    "    classes_Y = np.argmax(preds_Y, axis = 1)\n",
    "    CC_array = np.array(CC_test)\n",
    "    D_array = np.array(D_test)\n",
    "    Y_array = np.array(Y_test)\n",
    "    score = 0.0\n",
    "    i = 0\n",
    "    while i < len(CC_test):\n",
    "        if CC_array[i] == classes_CC[i]:\n",
    "            if D_array[i] == classes_D[i]:\n",
    "                if Y_array[i] == classes_Y[i]:\n",
    "                    score = score + 1\n",
    "        i= i + 1\n",
    "    return score\n"
   ]
  },
  {
   "cell_type": "code",
   "execution_count": 75,
   "id": "2124516f",
   "metadata": {},
   "outputs": [
    {
     "data": {
      "text/plain": [
       "87.54166666666666"
      ]
     },
     "execution_count": 75,
     "metadata": {},
     "output_type": "execute_result"
    }
   ],
   "source": [
    "seq_acc = (sequence_calc(model_CC_aug,model_D_aug,model_Y_aug,CC_test,D_test,Y_test,x_test)/len(CC_test))*100\n",
    "seq_acc"
   ]
  }
 ],
 "metadata": {
  "kernelspec": {
   "display_name": "Python 3 (ipykernel)",
   "language": "python",
   "name": "python3"
  },
  "language_info": {
   "codemirror_mode": {
    "name": "ipython",
    "version": 3
   },
   "file_extension": ".py",
   "mimetype": "text/x-python",
   "name": "python",
   "nbconvert_exporter": "python",
   "pygments_lexer": "ipython3",
   "version": "3.9.2"
  }
 },
 "nbformat": 4,
 "nbformat_minor": 5
}
