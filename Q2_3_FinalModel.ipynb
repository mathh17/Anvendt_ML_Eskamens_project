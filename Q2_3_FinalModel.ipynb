{
 "cells": [
  {
   "cell_type": "markdown",
   "id": "b5126be6-6210-4c07-9108-8687393a5f01",
   "metadata": {
    "jp-MarkdownHeadingCollapsed": true,
    "tags": []
   },
   "source": [
    "## Preparation of data"
   ]
  },
  {
   "cell_type": "markdown",
   "id": "ca02af80-c582-43d6-b838-184b5e041dcf",
   "metadata": {
    "tags": []
   },
   "source": [
    "### Labeling Data and converting images to array values"
   ]
  },
  {
   "cell_type": "code",
   "execution_count": 4,
   "id": "ec58673c-2312-495f-8589-0c142b832966",
   "metadata": {
    "tags": []
   },
   "outputs": [],
   "source": [
    "#import packages for labelling and converting imagery data\n",
    "import pandas as pd\n",
    "import numpy as np\n",
    "import os\n",
    "from keras.preprocessing.image import load_img\n",
    "from keras.preprocessing.image import img_to_array\n",
    "from numpy import asarray"
   ]
  },
  {
   "cell_type": "code",
   "execution_count": 5,
   "id": "f05f4ec6-c4e7-4f4d-8e26-82a24f4c0f40",
   "metadata": {
    "tags": []
   },
   "outputs": [],
   "source": [
    "##############\n",
    "# Func for creating 1D image arrays\n",
    "\n",
    "def load_image_function(path):\n",
    "    images = [] # empty list placeholder\n",
    "    labels = [] # empty list placeholder\n",
    "    container = [] # container to validate correct labels\n",
    "    for filename in os.listdir(path):\n",
    "        container.append(filename) # add filename to container     \n",
    "        CCDY_img = load_img(path + f'/{filename}', target_size = (56, 106),\n",
    "        color_mode=\"grayscale\")                  \n",
    "        CCDY_img = img_to_array(CCDY_img)\n",
    "        images.append(CCDY_img) # append the photo to the images. The images list contains a list of arrays       \n",
    "    return asarray(images), container; # not interested in list of arrays, but array containing lists. Asarray does this. Returns three arrays\n"
   ]
  },
  {
   "cell_type": "code",
   "execution_count": 6,
   "id": "10d3597b-ab0e-4acb-b20b-ddfe936ade43",
   "metadata": {
    "tags": []
   },
   "outputs": [],
   "source": [
    "################\n",
    "# Func for creating df with classes and 3d img arrays\n",
    "\n",
    "def load_img_data ():\n",
    "    # Start: creatign classes ons string_digits\n",
    "    # load string digits\n",
    "\n",
    "    #os.chdir(path_string_digits)\n",
    "\n",
    "    string_digits = pd.read_csv('DIDA_12000_String_Digit_Labels.csv', \n",
    "                 header = None, \n",
    "                 names=[\"index\", \"string\"])\n",
    "    # create empty class columns\n",
    "    string_digits['CC'] = 0\n",
    "    string_digits['D'] = 0\n",
    "    string_digits['Y'] = 0\n",
    "    string_digits = string_digits.astype(str)\n",
    "    # Iterate string digits and append classes\n",
    "    for i, row in string_digits.iterrows():\n",
    "        if len(row['string']) != 4:\n",
    "            row['CC'] = '1'\n",
    "            row['D'] = '10'\n",
    "            row['Y'] = '10'\n",
    "        else:\n",
    "            row['D'] = row['string'][2]\n",
    "            row['Y'] = row['string'][3]\n",
    "            if row['string'][0:2] == '18':\n",
    "                row['CC']='0'\n",
    "            else:\n",
    "                row['CC']='1'\n",
    "    # End of class labeling on string_digits.\n",
    "    #\n",
    "    # Start: create img_df containing scaled images as 1D tensors\n",
    "    # Convert imagery to 1D arrays with tagged file names\n",
    "\n",
    "    #os.chdir(path_images)\n",
    "    image_array, filename = load_image_function('DIDA_12000_String_Digit_Images/DIDA_1')\n",
    "\n",
    "    # and convert to a img_df\n",
    "    img_df = pd.DataFrame({'filename': filename, 'img_value': list(image_array)}, \n",
    "                          columns=['filename', 'img_value'])\n",
    "    # Create proper index value in img_df to allow merge on string_digits\n",
    "    img_df['index'] = img_df['filename']\n",
    "    for i, row in img_df.iterrows():\n",
    "        row['index'] = str(img_df['index'][i]).split('.')[0]\n",
    "    img_df\n",
    "    # End of creating img_df\n",
    "    #\n",
    "    # Start: merge img_df with string_digits\n",
    "    # match index type on dataframes to merge\n",
    "    string_digits['index'] = string_digits['index'].astype(int)\n",
    "    img_df['index'] = img_df['index'].astype(int)\n",
    "    # Merge dataframes\n",
    "    df_img_classes = string_digits.merge(img_df)\n",
    "    # Rearrange order of dataframe\n",
    "    df_img_classes = df_img_classes.reindex(columns= ['index', 'string', 'CC', 'D', 'Y', 'img_value', 'filename'])\n",
    "    # End og merging data frames\n",
    "    return df_img_classes\n"
   ]
  },
  {
   "cell_type": "code",
   "execution_count": 7,
   "id": "1140d88c-d5d8-4b0b-8c67-051b037bc836",
   "metadata": {
    "tags": []
   },
   "outputs": [
    {
     "data": {
      "text/html": [
       "<div>\n",
       "<style scoped>\n",
       "    .dataframe tbody tr th:only-of-type {\n",
       "        vertical-align: middle;\n",
       "    }\n",
       "\n",
       "    .dataframe tbody tr th {\n",
       "        vertical-align: top;\n",
       "    }\n",
       "\n",
       "    .dataframe thead th {\n",
       "        text-align: right;\n",
       "    }\n",
       "</style>\n",
       "<table border=\"1\" class=\"dataframe\">\n",
       "  <thead>\n",
       "    <tr style=\"text-align: right;\">\n",
       "      <th></th>\n",
       "      <th>index</th>\n",
       "      <th>string</th>\n",
       "      <th>CC</th>\n",
       "      <th>D</th>\n",
       "      <th>Y</th>\n",
       "      <th>img_value</th>\n",
       "      <th>filename</th>\n",
       "    </tr>\n",
       "  </thead>\n",
       "  <tbody>\n",
       "    <tr>\n",
       "      <th>0</th>\n",
       "      <td>2694</td>\n",
       "      <td>1824</td>\n",
       "      <td>0</td>\n",
       "      <td>2</td>\n",
       "      <td>4</td>\n",
       "      <td>[[[176.0], [175.0], [173.0], [171.0], [167.0],...</td>\n",
       "      <td>2694.jpg</td>\n",
       "    </tr>\n",
       "    <tr>\n",
       "      <th>1</th>\n",
       "      <td>9085</td>\n",
       "      <td>1833</td>\n",
       "      <td>0</td>\n",
       "      <td>3</td>\n",
       "      <td>3</td>\n",
       "      <td>[[[165.0], [163.0], [166.0], [163.0], [166.0],...</td>\n",
       "      <td>9085.jpg</td>\n",
       "    </tr>\n",
       "    <tr>\n",
       "      <th>2</th>\n",
       "      <td>6911</td>\n",
       "      <td>1823</td>\n",
       "      <td>0</td>\n",
       "      <td>2</td>\n",
       "      <td>3</td>\n",
       "      <td>[[[67.0], [61.0], [43.0], [43.0], [137.0], [12...</td>\n",
       "      <td>6911.jpg</td>\n",
       "    </tr>\n",
       "    <tr>\n",
       "      <th>3</th>\n",
       "      <td>5178</td>\n",
       "      <td>1817</td>\n",
       "      <td>0</td>\n",
       "      <td>1</td>\n",
       "      <td>7</td>\n",
       "      <td>[[[180.0], [177.0], [177.0], [179.0], [182.0],...</td>\n",
       "      <td>5178.jpg</td>\n",
       "    </tr>\n",
       "    <tr>\n",
       "      <th>4</th>\n",
       "      <td>3921</td>\n",
       "      <td>1806</td>\n",
       "      <td>0</td>\n",
       "      <td>0</td>\n",
       "      <td>6</td>\n",
       "      <td>[[[136.0], [135.0], [136.0], [137.0], [135.0],...</td>\n",
       "      <td>3921.jpg</td>\n",
       "    </tr>\n",
       "    <tr>\n",
       "      <th>...</th>\n",
       "      <td>...</td>\n",
       "      <td>...</td>\n",
       "      <td>...</td>\n",
       "      <td>...</td>\n",
       "      <td>...</td>\n",
       "      <td>...</td>\n",
       "      <td>...</td>\n",
       "    </tr>\n",
       "    <tr>\n",
       "      <th>11995</th>\n",
       "      <td>9843</td>\n",
       "      <td>1835</td>\n",
       "      <td>0</td>\n",
       "      <td>3</td>\n",
       "      <td>5</td>\n",
       "      <td>[[[155.0], [158.0], [158.0], [157.0], [156.0],...</td>\n",
       "      <td>9843.jpg</td>\n",
       "    </tr>\n",
       "    <tr>\n",
       "      <th>11996</th>\n",
       "      <td>2836</td>\n",
       "      <td>1807</td>\n",
       "      <td>0</td>\n",
       "      <td>0</td>\n",
       "      <td>7</td>\n",
       "      <td>[[[134.0], [134.0], [133.0], [132.0], [132.0],...</td>\n",
       "      <td>2836.jpg</td>\n",
       "    </tr>\n",
       "    <tr>\n",
       "      <th>11997</th>\n",
       "      <td>4102</td>\n",
       "      <td>1822</td>\n",
       "      <td>0</td>\n",
       "      <td>2</td>\n",
       "      <td>2</td>\n",
       "      <td>[[[173.0], [173.0], [172.0], [171.0], [168.0],...</td>\n",
       "      <td>4102.jpg</td>\n",
       "    </tr>\n",
       "    <tr>\n",
       "      <th>11998</th>\n",
       "      <td>5399</td>\n",
       "      <td>1824</td>\n",
       "      <td>0</td>\n",
       "      <td>2</td>\n",
       "      <td>4</td>\n",
       "      <td>[[[155.0], [161.0], [165.0], [165.0], [164.0],...</td>\n",
       "      <td>5399.jpg</td>\n",
       "    </tr>\n",
       "    <tr>\n",
       "      <th>11999</th>\n",
       "      <td>11832</td>\n",
       "      <td>1837</td>\n",
       "      <td>0</td>\n",
       "      <td>3</td>\n",
       "      <td>7</td>\n",
       "      <td>[[[191.0], [188.0], [187.0], [190.0], [194.0],...</td>\n",
       "      <td>11832.jpg</td>\n",
       "    </tr>\n",
       "  </tbody>\n",
       "</table>\n",
       "<p>12000 rows × 7 columns</p>\n",
       "</div>"
      ],
      "text/plain": [
       "       index string CC  D  Y  \\\n",
       "0       2694   1824  0  2  4   \n",
       "1       9085   1833  0  3  3   \n",
       "2       6911   1823  0  2  3   \n",
       "3       5178   1817  0  1  7   \n",
       "4       3921   1806  0  0  6   \n",
       "...      ...    ... .. .. ..   \n",
       "11995   9843   1835  0  3  5   \n",
       "11996   2836   1807  0  0  7   \n",
       "11997   4102   1822  0  2  2   \n",
       "11998   5399   1824  0  2  4   \n",
       "11999  11832   1837  0  3  7   \n",
       "\n",
       "                                               img_value   filename  \n",
       "0      [[[176.0], [175.0], [173.0], [171.0], [167.0],...   2694.jpg  \n",
       "1      [[[165.0], [163.0], [166.0], [163.0], [166.0],...   9085.jpg  \n",
       "2      [[[67.0], [61.0], [43.0], [43.0], [137.0], [12...   6911.jpg  \n",
       "3      [[[180.0], [177.0], [177.0], [179.0], [182.0],...   5178.jpg  \n",
       "4      [[[136.0], [135.0], [136.0], [137.0], [135.0],...   3921.jpg  \n",
       "...                                                  ...        ...  \n",
       "11995  [[[155.0], [158.0], [158.0], [157.0], [156.0],...   9843.jpg  \n",
       "11996  [[[134.0], [134.0], [133.0], [132.0], [132.0],...   2836.jpg  \n",
       "11997  [[[173.0], [173.0], [172.0], [171.0], [168.0],...   4102.jpg  \n",
       "11998  [[[155.0], [161.0], [165.0], [165.0], [164.0],...   5399.jpg  \n",
       "11999  [[[191.0], [188.0], [187.0], [190.0], [194.0],...  11832.jpg  \n",
       "\n",
       "[12000 rows x 7 columns]"
      ]
     },
     "execution_count": 7,
     "metadata": {},
     "output_type": "execute_result"
    }
   ],
   "source": [
    "#load data and shuffle them around\n",
    "df = load_img_data()\n",
    "df = df.sample(frac=1).reset_index(drop=True)\n",
    "df"
   ]
  },
  {
   "cell_type": "markdown",
   "id": "0176f580-da57-43be-a3a2-757812a4a4a3",
   "metadata": {
    "jp-MarkdownHeadingCollapsed": true,
    "tags": []
   },
   "source": [
    "### Defining fixed train, test and valdiation sets."
   ]
  },
  {
   "cell_type": "code",
   "execution_count": 8,
   "id": "ca034d99-b8b1-4a9b-9559-5202dc43395c",
   "metadata": {},
   "outputs": [],
   "source": [
    "df = df.drop(columns=['index','string','filename'])"
   ]
  },
  {
   "cell_type": "markdown",
   "id": "434e33e1-a724-4b22-9781-f784b7576b15",
   "metadata": {
    "tags": []
   },
   "source": [
    "### Split train, val, test"
   ]
  },
  {
   "cell_type": "markdown",
   "id": "147ca397-7fc6-4f99-b753-5f9e6c0f88cc",
   "metadata": {
    "jp-MarkdownHeadingCollapsed": true,
    "tags": []
   },
   "source": [
    "#### Subsetting df"
   ]
  },
  {
   "cell_type": "code",
   "execution_count": 9,
   "id": "ef5e187f-e356-46f4-b942-63b1cab260dd",
   "metadata": {
    "tags": []
   },
   "outputs": [],
   "source": [
    "x_train = df.loc[0:7679]\n",
    "x_val = df.loc[7680:9599]\n",
    "x_test = df.loc[9600:11999]"
   ]
  },
  {
   "cell_type": "markdown",
   "id": "c280bd2f-bf56-445c-960c-93de1038bb13",
   "metadata": {
    "jp-MarkdownHeadingCollapsed": true,
    "tags": []
   },
   "source": [
    "#### Creating labels"
   ]
  },
  {
   "cell_type": "code",
   "execution_count": 10,
   "id": "1ee46b75-3d75-4701-aa69-dbcc1cbd871b",
   "metadata": {
    "tags": []
   },
   "outputs": [],
   "source": [
    "#### training labels ###\n",
    "Y_train = x_train['Y']\n",
    "Y_train = Y_train.astype(np.uint8)\n",
    "D_train = x_train['D']\n",
    "D_train = D_train.astype(np.uint8)\n",
    "CC_train = x_train['CC']\n",
    "CC_train = CC_train.astype(np.uint8)\n",
    "\n",
    "#### validation labels ###\n",
    "Y_val = x_val['Y']\n",
    "Y_val = Y_val.astype(np.uint8)\n",
    "D_val = x_val['D']\n",
    "D_val = D_val.astype(np.uint8)\n",
    "CC_val = x_val['CC']\n",
    "CC_val = CC_val.astype(np.uint8)\n",
    "\n",
    "#### test labels ###\n",
    "Y_test = x_test['Y']\n",
    "Y_test = Y_test.astype(np.uint8)\n",
    "D_test = x_test['D']\n",
    "D_test = D_test.astype(np.uint8)\n",
    "CC_test = x_test['CC']\n",
    "CC_test = CC_test.astype(np.uint8)\n"
   ]
  },
  {
   "cell_type": "markdown",
   "id": "63fae61a-515d-426e-8316-b4768ef128f0",
   "metadata": {
    "tags": []
   },
   "source": [
    "#### Creating image values"
   ]
  },
  {
   "cell_type": "code",
   "execution_count": 11,
   "id": "05a117f5-9a97-4a1c-a2a6-4bff6e86aa6a",
   "metadata": {
    "tags": []
   },
   "outputs": [],
   "source": [
    "# train\n",
    "values = np.zeros(shape=(len(x_train),56,106,1))\n",
    "i = 0\n",
    "j = 0\n",
    "while i < len(x_train):\n",
    "    values[i] = x_train['img_value'][j]\n",
    "    i += 1\n",
    "    j+=1\n",
    "x_train = values/255\n",
    "\n",
    "# val\n",
    "values = np.zeros(shape=(len(x_val),56,106,1))\n",
    "i = 0\n",
    "j = 7680\n",
    "while i < len(x_val):\n",
    "    values[i] = x_val['img_value'][j]\n",
    "    i += 1\n",
    "    j+=1\n",
    "x_val = values/255\n",
    "\n",
    "# test\n",
    "values = np.zeros(shape=(len(x_test),56,106,1))\n",
    "i = 0\n",
    "j = 9600\n",
    "while i < len(x_test):\n",
    "    values[i] = x_test['img_value'][j]\n",
    "    i += 1\n",
    "    j+=1\n",
    "x_test = values/255\n"
   ]
  },
  {
   "cell_type": "markdown",
   "id": "e9dd50e7-a716-45fa-bcc8-da25fbe86a6b",
   "metadata": {
    "tags": []
   },
   "source": [
    "## Question 2.3, Testing the final models"
   ]
  },
  {
   "cell_type": "markdown",
   "id": "250116d4-88f0-419f-833a-9e6e89e27d79",
   "metadata": {
    "jp-MarkdownHeadingCollapsed": true,
    "tags": []
   },
   "source": [
    "### Initializing CNN's"
   ]
  },
  {
   "cell_type": "code",
   "execution_count": 12,
   "id": "92321785-7ae8-4ad6-8d4c-81d4f6e6ef89",
   "metadata": {},
   "outputs": [],
   "source": [
    "import tensorflow as tf\n",
    "import data_loader as dl\n",
    "import numpy as np\n",
    "from numpy.random import seed\n",
    "import matplotlib.pyplot as plt"
   ]
  },
  {
   "cell_type": "code",
   "execution_count": 15,
   "id": "1d23f1eb-1e06-44bc-81a2-0380875cc741",
   "metadata": {
    "slideshow": {
     "slide_type": "-"
    }
   },
   "outputs": [],
   "source": [
    "data_augmentation = tf.keras.Sequential([\n",
    "    tf.keras.layers.experimental.preprocessing.RandomRotation(0.03, input_shape=(56, 106, 1))\n",
    "    ])\n"
   ]
  },
  {
   "cell_type": "markdown",
   "id": "1517caeb-b8e6-46c4-98da-0305f6f66ac3",
   "metadata": {
    "jp-MarkdownHeadingCollapsed": true,
    "tags": []
   },
   "source": [
    "#### Model CC"
   ]
  },
  {
   "cell_type": "code",
   "execution_count": 18,
   "id": "10c454e4-f681-47b5-baef-6232085343bb",
   "metadata": {
    "jupyter": {
     "source_hidden": true
    },
    "tags": []
   },
   "outputs": [
    {
     "data": {
      "image/png": "[encoded data removed]",
      "text/plain": [
       "<Figure size 960x288 with 2 Axes>"
      ]
     },
     "metadata": {
      "needs_background": "light"
     },
     "output_type": "display_data"
    }
   ],
   "source": [
    "### With Augmentation\n",
    "model_CC_aug = tf.keras.models.Sequential([\n",
    "    data_augmentation,\n",
    "    #Block 1\n",
    "    tf.keras.layers.Conv2D(filters=32, kernel_size=(3, 3), activation='relu', input_shape=(56, 106, 1)),\n",
    "    tf.keras.layers.SpatialDropout2D(0.5),\n",
    "    tf.keras.layers.BatchNormalization(),\n",
    "    tf.keras.layers.MaxPooling2D(pool_size=(2, 2)),\n",
    "\n",
    "    #Block 2\n",
    "    tf.keras.layers.Conv2D(filters=64, kernel_size=(3, 3), activation='relu'),\n",
    "    tf.keras.layers.SpatialDropout2D(0.5),\n",
    "    tf.keras.layers.BatchNormalization(),\n",
    "    tf.keras.layers.MaxPooling2D(pool_size=(2, 2)),\n",
    "\n",
    "    #Block 3\n",
    "    tf.keras.layers.Conv2D(filters=128, kernel_size=(3, 3), activation='relu'),\n",
    "    tf.keras.layers.SpatialDropout2D(0.5),\n",
    "    tf.keras.layers.BatchNormalization(),\n",
    "    tf.keras.layers.MaxPooling2D(pool_size=(2, 2)),\n",
    "\n",
    "    #Block 4\n",
    "    tf.keras.layers.Conv2D(filters=256, kernel_size=(3, 3), activation='relu'),\n",
    "    tf.keras.layers.SpatialDropout2D(0.5),\n",
    "    tf.keras.layers.BatchNormalization(),\n",
    "    tf.keras.layers.MaxPooling2D(pool_size=(2, 2)),\n",
    "\n",
    "    tf.keras.layers.Flatten(),\n",
    "    tf.keras.layers.Dense(64, activation='relu'),\n",
    "    tf.keras.layers.Dense(1, activation='sigmoid'),\n",
    "    ])\n",
    "\n",
    "model_CC_aug.compile(\n",
    "    optimizer=tf.keras.optimizers.Adam(learning_rate = 0.0008),\n",
    "    loss= 'binary_crossentropy',\n",
    "    metrics=['accuracy'],\n",
    "    ) \n",
    "\n",
    "history_CC_aug = model_CC_aug.fit(x_train, CC_train, validation_data=(x_val, CC_val), epochs=100, verbose=0,\n",
    "                   callbacks = tf.keras.callbacks.EarlyStopping(monitor='val_loss', patience=10))\n",
    "\n",
    "############################\n",
    "\n",
    "fig = plt.figure(figsize=plt.figaspect(0.3))\n",
    "\n",
    "ax = fig.add_subplot(1, 2, 1)\n",
    "ax.plot(history_CC_aug.history['loss'], label='Training loss')\n",
    "ax.plot(history_CC_aug.history['val_loss'], label = 'Val loss')\n",
    "plt.xlabel('Epoch')\n",
    "plt.ylabel('Loss')\n",
    "plt.legend()\n",
    "plt.title('Loss, Model CC')\n",
    "\n",
    "ax = fig.add_subplot(1, 2, 2)\n",
    "ax.plot(history_CC_aug.history['accuracy'], label='Train accuracy')\n",
    "ax.plot(history_CC_aug.history['val_accuracy'], label = 'Val accuracy')\n",
    "plt.xlabel('Epoch')\n",
    "plt.ylabel('Accuracy')\n",
    "plt.legend()\n",
    "plt.title('Accuracy, Model CC')\n",
    "\n",
    "plt.show()\n"
   ]
  },
  {
   "cell_type": "markdown",
   "id": "19cb4207-19e4-4d31-afdd-b3c5fc6f6f7c",
   "metadata": {},
   "source": [
    "Valdiation accuracy, before in report 0.9895"
   ]
  },
  {
   "cell_type": "code",
   "execution_count": 19,
   "id": "326fc635-612d-4c06-9eed-9313f5c86d27",
   "metadata": {},
   "outputs": [
    {
     "data": {
      "text/plain": [
       "0.9854166507720947"
      ]
     },
     "execution_count": 19,
     "metadata": {},
     "output_type": "execute_result"
    }
   ],
   "source": [
    "history_CC_aug.history['val_accuracy'][-1]"
   ]
  },
  {
   "cell_type": "markdown",
   "id": "b43d1e41-c3cf-485d-98be-7b73bdd103d4",
   "metadata": {},
   "source": [
    "Validation loss, before in report 0.0465"
   ]
  },
  {
   "cell_type": "code",
   "execution_count": 20,
   "id": "ac08748d-f117-4792-a13c-363345a98ec5",
   "metadata": {},
   "outputs": [
    {
     "data": {
      "text/plain": [
       "0.048350583761930466"
      ]
     },
     "execution_count": 20,
     "metadata": {},
     "output_type": "execute_result"
    }
   ],
   "source": [
    "history_CC_aug.history['val_loss'][-1]"
   ]
  },
  {
   "cell_type": "markdown",
   "id": "a195024b-22b2-434b-8147-5e059858f7fd",
   "metadata": {
    "jp-MarkdownHeadingCollapsed": true,
    "tags": []
   },
   "source": [
    "#### Model D"
   ]
  },
  {
   "cell_type": "code",
   "execution_count": 17,
   "id": "0b4bc6b3-eeac-4333-8bff-4c1573a95746",
   "metadata": {
    "jupyter": {
     "source_hidden": true
    },
    "tags": []
   },
   "outputs": [
    {
     "data": {
      "image/png": "[encoded data removed]",
      "text/plain": [
       "<Figure size 960x288 with 2 Axes>"
      ]
     },
     "metadata": {
      "needs_background": "light"
     },
     "output_type": "display_data"
    }
   ],
   "source": [
    "### With Augmentation\n",
    "model_D_aug = tf.keras.models.Sequential([\n",
    "    data_augmentation,\n",
    "    #Block 1\n",
    "    tf.keras.layers.Conv2D(filters=32, kernel_size=(3, 3), activation='relu', input_shape=(56, 106, 1)),\n",
    "    tf.keras.layers.BatchNormalization(),\n",
    "    tf.keras.layers.MaxPooling2D(pool_size=(2, 2)),\n",
    "    #Block 2\n",
    "    tf.keras.layers.Conv2D(filters=64, kernel_size=(3, 3), activation='relu'),\n",
    "    tf.keras.layers.BatchNormalization(),\n",
    "    tf.keras.layers.MaxPooling2D(pool_size=(2, 2)),\n",
    "    #Block 3\n",
    "    tf.keras.layers.Conv2D(filters=128, kernel_size=(3, 3), activation='relu'),\n",
    "    tf.keras.layers.SpatialDropout2D(0.5),\n",
    "    tf.keras.layers.BatchNormalization(),\n",
    "    tf.keras.layers.MaxPooling2D(pool_size=(2, 2)),\n",
    "    #Block 4\n",
    "    tf.keras.layers.Conv2D(filters=256, kernel_size=(3, 3), activation='relu'),\n",
    "    tf.keras.layers.SpatialDropout2D(0.5),\n",
    "    tf.keras.layers.BatchNormalization(),\n",
    "    tf.keras.layers.MaxPooling2D(pool_size=(2, 2)),\n",
    "    #Flatten\n",
    "    tf.keras.layers.Flatten(),\n",
    "    tf.keras.layers.Dense(64, activation='relu'),\n",
    "    tf.keras.layers.Dense(11, activation='softmax'),\n",
    "    ])\n",
    "\n",
    "model_D_aug.compile(\n",
    "    optimizer=tf.keras.optimizers.Adam(learning_rate = 0.0008),\n",
    "    loss= 'sparse_categorical_crossentropy',\n",
    "    metrics=['accuracy'],\n",
    "    ) \n",
    "\n",
    "history_D_aug = model_D_aug.fit(x_train, D_train, validation_data=(x_val, D_val), epochs=100, verbose=0,\n",
    "                   callbacks = tf.keras.callbacks.EarlyStopping(monitor='val_loss', patience=10))\n",
    "\n",
    "############################\n",
    "\n",
    "fig = plt.figure(figsize=plt.figaspect(0.3))\n",
    "\n",
    "ax = fig.add_subplot(1, 2, 1)\n",
    "ax.plot(history_D_aug.history['loss'], label='Training loss')\n",
    "ax.plot(history_D_aug.history['val_loss'], label = 'Val loss')\n",
    "plt.xlabel('Epoch')\n",
    "plt.ylabel('Loss')\n",
    "plt.legend()\n",
    "plt.title('Loss, Model D')\n",
    "\n",
    "ax = fig.add_subplot(1, 2, 2)\n",
    "ax.plot(history_D_aug.history['accuracy'], label='Train accuracy')\n",
    "ax.plot(history_D_aug.history['val_accuracy'], label = 'Val accuracy')\n",
    "plt.xlabel('Epoch')\n",
    "plt.ylabel('Accuracy')\n",
    "plt.legend()\n",
    "plt.title('Accuracy, Model D')\n",
    "\n",
    "plt.show()\n"
   ]
  },
  {
   "cell_type": "markdown",
   "id": "26a3e216-9f99-4d93-a834-4805d6822581",
   "metadata": {},
   "source": [
    "Valdiation accuracy, before in report 0.9494"
   ]
  },
  {
   "cell_type": "code",
   "execution_count": 21,
   "id": "6989a7e5-40f4-4faf-84c2-2a479244521a",
   "metadata": {},
   "outputs": [
    {
     "data": {
      "text/plain": [
       "0.9557291865348816"
      ]
     },
     "execution_count": 21,
     "metadata": {},
     "output_type": "execute_result"
    }
   ],
   "source": [
    "history_D_aug.history['val_accuracy'][-1]"
   ]
  },
  {
   "cell_type": "markdown",
   "id": "4d124970-14a8-4915-a860-a493f9a06e7b",
   "metadata": {},
   "source": [
    "Validation loss, before in report 0.1805"
   ]
  },
  {
   "cell_type": "code",
   "execution_count": 22,
   "id": "086071ee-6c9f-4465-9fd4-9097d96c2641",
   "metadata": {},
   "outputs": [
    {
     "data": {
      "text/plain": [
       "0.1767015904188156"
      ]
     },
     "execution_count": 22,
     "metadata": {},
     "output_type": "execute_result"
    }
   ],
   "source": [
    "history_D_aug.history['val_loss'][-1]"
   ]
  },
  {
   "cell_type": "markdown",
   "id": "75018526-151b-4ef3-afb4-c8a8ad283cca",
   "metadata": {
    "jp-MarkdownHeadingCollapsed": true,
    "tags": []
   },
   "source": [
    "#### Model Y"
   ]
  },
  {
   "cell_type": "code",
   "execution_count": 16,
   "id": "6d33c485-cfcb-4550-ab12-8e458f61afeb",
   "metadata": {
    "jupyter": {
     "source_hidden": true
    },
    "tags": []
   },
   "outputs": [
    {
     "data": {
      "image/png": "[encoded data removed]",
      "text/plain": [
       "<Figure size 960x288 with 2 Axes>"
      ]
     },
     "metadata": {
      "needs_background": "light"
     },
     "output_type": "display_data"
    }
   ],
   "source": [
    "### With Augmentation\n",
    "model_Y_aug = tf.keras.models.Sequential([\n",
    "    data_augmentation,\n",
    "    #Block 1\n",
    "    tf.keras.layers.Conv2D(filters=32, kernel_size=(3, 3), activation='relu', input_shape=(56, 106, 1)),\n",
    "    tf.keras.layers.SpatialDropout2D(0.5),\n",
    "    tf.keras.layers.BatchNormalization(),\n",
    "    tf.keras.layers.MaxPooling2D(pool_size=(2, 2)),\n",
    "    #Block 2\n",
    "    tf.keras.layers.Conv2D(filters=64, kernel_size=(3, 3), activation='relu'),\n",
    "    tf.keras.layers.SpatialDropout2D(0.5),\n",
    "    tf.keras.layers.BatchNormalization(),\n",
    "    tf.keras.layers.MaxPooling2D(pool_size=(2, 2)),\n",
    "    #Block 3\n",
    "    tf.keras.layers.Conv2D(filters=128, kernel_size=(3, 3), activation='relu'),\n",
    "    tf.keras.layers.SpatialDropout2D(0.5),\n",
    "    tf.keras.layers.BatchNormalization(),\n",
    "    tf.keras.layers.MaxPooling2D(pool_size=(2, 2)),\n",
    "    #Block 4\n",
    "    tf.keras.layers.Conv2D(filters=256, kernel_size=(3, 3), activation='relu'),\n",
    "    tf.keras.layers.SpatialDropout2D(0.5),\n",
    "    tf.keras.layers.BatchNormalization(),\n",
    "    tf.keras.layers.MaxPooling2D(pool_size=(2, 2)),\n",
    "\n",
    "    tf.keras.layers.Flatten(),\n",
    "    tf.keras.layers.Dense(64, activation='relu'),\n",
    "    tf.keras.layers.Dense(11, activation='softmax'),\n",
    "    ])\n",
    "\n",
    "model_Y_aug.compile(\n",
    "    optimizer=tf.keras.optimizers.Adam(learning_rate = 0.0008),\n",
    "    loss= 'sparse_categorical_crossentropy',\n",
    "    metrics=['accuracy'],\n",
    "    ) \n",
    "\n",
    "history_Y_aug = model_Y_aug.fit(x_train, Y_train, validation_data=(x_val, Y_val), epochs=100, verbose=0,\n",
    "                   callbacks = tf.keras.callbacks.EarlyStopping(monitor='val_loss', patience=10))\n",
    "\n",
    "############################\n",
    "\n",
    "fig = plt.figure(figsize=plt.figaspect(0.3))\n",
    "\n",
    "ax = fig.add_subplot(1, 2, 1)\n",
    "ax.plot(history_Y_aug.history['loss'], label='Training loss')\n",
    "ax.plot(history_Y_aug.history['val_loss'], label = 'Val loss')\n",
    "plt.xlabel('Epoch')\n",
    "plt.ylabel('Loss')\n",
    "plt.legend()\n",
    "plt.title('Loss, Model Y')\n",
    "\n",
    "ax = fig.add_subplot(1, 2, 2)\n",
    "ax.plot(history_Y_aug.history['accuracy'], label='Train accuracy')\n",
    "ax.plot(history_Y_aug.history['val_accuracy'], label = 'Val accuracy')\n",
    "plt.xlabel('Epoch')\n",
    "plt.ylabel('Accuracy')\n",
    "plt.legend()\n",
    "plt.title('Accuracy, Model Y')\n",
    "\n",
    "plt.show()\n"
   ]
  },
  {
   "cell_type": "markdown",
   "id": "16109949-eda8-4a91-b3fe-e221b8357001",
   "metadata": {},
   "source": [
    "Validation accuracy, before in report 0.9171"
   ]
  },
  {
   "cell_type": "code",
   "execution_count": 23,
   "id": "948d85b2-8063-42e7-8ba3-63074e102d45",
   "metadata": {},
   "outputs": [
    {
     "data": {
      "text/plain": [
       "0.9140625"
      ]
     },
     "execution_count": 23,
     "metadata": {},
     "output_type": "execute_result"
    }
   ],
   "source": [
    "history_Y_aug.history['val_accuracy'][-1]"
   ]
  },
  {
   "cell_type": "markdown",
   "id": "9131f6e3-a211-4f27-9b78-99614e662242",
   "metadata": {},
   "source": [
    "Validation loss, before in report 0.3898"
   ]
  },
  {
   "cell_type": "code",
   "execution_count": 24,
   "id": "da7e30f7-b877-4ecc-b9a1-1540a02bdfee",
   "metadata": {},
   "outputs": [
    {
     "data": {
      "text/plain": [
       "0.3257203996181488"
      ]
     },
     "execution_count": 24,
     "metadata": {},
     "output_type": "execute_result"
    }
   ],
   "source": [
    "history_Y_aug.history['val_loss'][-1]"
   ]
  },
  {
   "cell_type": "markdown",
   "id": "e67583f7-24bc-4c4f-8e62-e6960879291f",
   "metadata": {},
   "source": [
    "### Measurign test set accuracy"
   ]
  },
  {
   "cell_type": "code",
   "execution_count": null,
   "id": "c201255b-0696-4a81-8c54-7df0d28cc1c0",
   "metadata": {},
   "outputs": [],
   "source": []
  },
  {
   "cell_type": "code",
   "execution_count": null,
   "id": "31658556-39ad-44f2-ae01-fd02dd383fc4",
   "metadata": {},
   "outputs": [],
   "source": []
  }
 ],
 "metadata": {
  "kernelspec": {
   "display_name": "Python 3 (ipykernel)",
   "language": "python",
   "name": "python3"
  },
  "language_info": {
   "codemirror_mode": {
    "name": "ipython",
    "version": 3
   },
   "file_extension": ".py",
   "mimetype": "text/x-python",
   "name": "python",
   "nbconvert_exporter": "python",
   "pygments_lexer": "ipython3",
   "version": "3.9.7"
  }
 },
 "nbformat": 4,
 "nbformat_minor": 5
}
