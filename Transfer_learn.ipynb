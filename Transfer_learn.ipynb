{
 "cells": [
  {
   "cell_type": "code",
   "execution_count": 1,
   "id": "3a2d3ff0",
   "metadata": {},
   "outputs": [
    {
     "name": "stderr",
     "output_type": "stream",
     "text": [
      "'conda' is not recognized as an internal or external command,\n",
      "operable program or batch file.\n"
     ]
    }
   ],
   "source": [
    "!conda activate asl"
   ]
  },
  {
   "cell_type": "markdown",
   "id": "bb425444",
   "metadata": {},
   "source": [
    "# Exam DS807"
   ]
  },
  {
   "cell_type": "markdown",
   "id": "1f8e7c09",
   "metadata": {
    "jp-MarkdownHeadingCollapsed": true,
    "tags": []
   },
   "source": [
    "## Preparation of data"
   ]
  },
  {
   "cell_type": "markdown",
   "id": "307437e5",
   "metadata": {
    "tags": []
   },
   "source": [
    "### Labeling Data and converting images to array values"
   ]
  },
  {
   "cell_type": "code",
   "execution_count": 70,
   "metadata": {
    "tags": []
   },
   "outputs": [],
   "source": [
    "#import packages for labelling and converting imagery data\n",
    "import pandas as pd\n",
    "import numpy as np\n",
    "import os\n",
    "from keras.preprocessing.image import load_img\n",
    "from keras.preprocessing.image import img_to_array\n",
    "from keras.applications.vgg16 import VGG16\n",
    "from numpy import asarray\n",
    "from sklearn import svm\n",
    "from sklearn.metrics import accuracy_score\n",
    "from catboost import CatBoostClassifier\n",
    "from keras import layers\n",
    "from keras import models\n",
    "from keras.applications.vgg16 import VGG16\n",
    "from keras import optimizers\n",
    "import tensorflow as tf\n",
    "import matplotlib.pyplot as plt"
   ]
  },
  {
   "cell_type": "code",
   "execution_count": 3,
   "id": "28d30167",
   "metadata": {
    "tags": []
   },
   "outputs": [],
   "source": [
    "##############\n",
    "# Func for creating 1D image arrays\n",
    "\n",
    "def load_image_function(path):\n",
    "    images = [] # empty list placeholder\n",
    "    labels = [] # empty list placeholder\n",
    "    container = [] # container to validate correct labels\n",
    "    for filename in os.listdir(path):\n",
    "        container.append(filename) # add filename to container     \n",
    "        CCDY_img = load_img(path + f'/{filename}', target_size = (56, 106),\n",
    "        color_mode=\"grayscale\")                  \n",
    "        CCDY_img = img_to_array(CCDY_img)\n",
    "        images.append(CCDY_img) # append the photo to the images. The images list contains a list of arrays       \n",
    "    return asarray(images), container; # not interested in list of arrays, but array containing lists. Asarray does this. Returns three arrays\n"
   ]
  },
  {
   "cell_type": "code",
   "execution_count": 4,
   "id": "e54d325c",
   "metadata": {
    "tags": []
   },
   "outputs": [],
   "source": [
    "################\n",
    "# Func for creating df with classes and 3d img arrays\n",
    "\n",
    "def load_img_data ():\n",
    "    # Start: creatign classes ons string_digits\n",
    "    # load string digits\n",
    "\n",
    "    #os.chdir(path_string_digits)\n",
    "\n",
    "    string_digits = pd.read_csv('DIDA_12000_String_Digit_Labels.csv', \n",
    "                 header = None, \n",
    "                 names=[\"index\", \"string\"])\n",
    "    # create empty class columns\n",
    "    string_digits['CC'] = 0\n",
    "    string_digits['D'] = 0\n",
    "    string_digits['Y'] = 0\n",
    "    string_digits = string_digits.astype(str)\n",
    "    # Iterate string digits and append classes\n",
    "    for i, row in string_digits.iterrows():\n",
    "        if len(row['string']) != 4:\n",
    "            row['CC'] = '1'\n",
    "            row['D'] = '10'\n",
    "            row['Y'] = '10'\n",
    "        else:\n",
    "            row['D'] = row['string'][2]\n",
    "            row['Y'] = row['string'][3]\n",
    "            if row['string'][0:2] == '18':\n",
    "                row['CC']='0'\n",
    "            else:\n",
    "                row['CC']='1'\n",
    "    # End of class labeling on string_digits.\n",
    "    #\n",
    "    # Start: create img_df containing scaled images as 1D tensors\n",
    "    # Convert imagery to 1D arrays with tagged file names\n",
    "\n",
    "    #os.chdir(path_images)\n",
    "    image_array, filename = load_image_function('DIDA_12000_String_Digit_Images/DIDA_1')\n",
    "\n",
    "    # and convert to a img_df\n",
    "    img_df = pd.DataFrame({'filename': filename, 'img_value': list(image_array)}, \n",
    "                          columns=['filename', 'img_value'])\n",
    "    # Create proper index value in img_df to allow merge on string_digits\n",
    "    img_df['index'] = img_df['filename']\n",
    "    for i, row in img_df.iterrows():\n",
    "        row['index'] = str(img_df['index'][i]).split('.')[0]\n",
    "    img_df\n",
    "    # End of creating img_df\n",
    "    #\n",
    "    # Start: merge img_df with string_digits\n",
    "    # match index type on dataframes to merge\n",
    "    string_digits['index'] = string_digits['index'].astype(int)\n",
    "    img_df['index'] = img_df['index'].astype(int)\n",
    "    # Merge dataframes\n",
    "    df_img_classes = string_digits.merge(img_df)\n",
    "    # Rearrange order of dataframe\n",
    "    df_img_classes = df_img_classes.reindex(columns= ['index', 'string', 'CC', 'D', 'Y', 'img_value', 'filename'])\n",
    "    # End og merging data frames\n",
    "    return df_img_classes\n"
   ]
  },
  {
   "cell_type": "code",
   "execution_count": 5,
   "id": "7cef146f",
   "metadata": {
    "tags": []
   },
   "outputs": [
    {
     "data": {
      "text/html": [
       "<div>\n",
       "<style scoped>\n",
       "    .dataframe tbody tr th:only-of-type {\n",
       "        vertical-align: middle;\n",
       "    }\n",
       "\n",
       "    .dataframe tbody tr th {\n",
       "        vertical-align: top;\n",
       "    }\n",
       "\n",
       "    .dataframe thead th {\n",
       "        text-align: right;\n",
       "    }\n",
       "</style>\n",
       "<table border=\"1\" class=\"dataframe\">\n",
       "  <thead>\n",
       "    <tr style=\"text-align: right;\">\n",
       "      <th></th>\n",
       "      <th>index</th>\n",
       "      <th>string</th>\n",
       "      <th>CC</th>\n",
       "      <th>D</th>\n",
       "      <th>Y</th>\n",
       "      <th>img_value</th>\n",
       "      <th>filename</th>\n",
       "    </tr>\n",
       "  </thead>\n",
       "  <tbody>\n",
       "    <tr>\n",
       "      <th>0</th>\n",
       "      <td>9731</td>\n",
       "      <td>1812</td>\n",
       "      <td>0</td>\n",
       "      <td>1</td>\n",
       "      <td>2</td>\n",
       "      <td>[[[38.0], [33.0], [64.0], [121.0], [140.0], [1...</td>\n",
       "      <td>9731.jpg</td>\n",
       "    </tr>\n",
       "    <tr>\n",
       "      <th>1</th>\n",
       "      <td>10592</td>\n",
       "      <td>1828</td>\n",
       "      <td>0</td>\n",
       "      <td>2</td>\n",
       "      <td>8</td>\n",
       "      <td>[[[86.0], [83.0], [79.0], [75.0], [78.0], [76....</td>\n",
       "      <td>10592.jpg</td>\n",
       "    </tr>\n",
       "    <tr>\n",
       "      <th>2</th>\n",
       "      <td>680</td>\n",
       "      <td>1825</td>\n",
       "      <td>0</td>\n",
       "      <td>2</td>\n",
       "      <td>5</td>\n",
       "      <td>[[[126.0], [124.0], [123.0], [124.0], [125.0],...</td>\n",
       "      <td>680.jpg</td>\n",
       "    </tr>\n",
       "    <tr>\n",
       "      <th>3</th>\n",
       "      <td>6124</td>\n",
       "      <td>1803</td>\n",
       "      <td>0</td>\n",
       "      <td>0</td>\n",
       "      <td>3</td>\n",
       "      <td>[[[184.0], [185.0], [185.0], [184.0], [183.0],...</td>\n",
       "      <td>6124.jpg</td>\n",
       "    </tr>\n",
       "    <tr>\n",
       "      <th>4</th>\n",
       "      <td>10120</td>\n",
       "      <td>1801</td>\n",
       "      <td>0</td>\n",
       "      <td>0</td>\n",
       "      <td>1</td>\n",
       "      <td>[[[158.0], [158.0], [157.0], [157.0], [153.0],...</td>\n",
       "      <td>10120.jpg</td>\n",
       "    </tr>\n",
       "    <tr>\n",
       "      <th>...</th>\n",
       "      <td>...</td>\n",
       "      <td>...</td>\n",
       "      <td>...</td>\n",
       "      <td>...</td>\n",
       "      <td>...</td>\n",
       "      <td>...</td>\n",
       "      <td>...</td>\n",
       "    </tr>\n",
       "    <tr>\n",
       "      <th>11995</th>\n",
       "      <td>2904</td>\n",
       "      <td>9325</td>\n",
       "      <td>1</td>\n",
       "      <td>2</td>\n",
       "      <td>5</td>\n",
       "      <td>[[[189.0], [191.0], [193.0], [194.0], [194.0],...</td>\n",
       "      <td>2904.jpg</td>\n",
       "    </tr>\n",
       "    <tr>\n",
       "      <th>11996</th>\n",
       "      <td>5758</td>\n",
       "      <td>1821</td>\n",
       "      <td>0</td>\n",
       "      <td>2</td>\n",
       "      <td>1</td>\n",
       "      <td>[[[13.0], [12.0], [11.0], [12.0], [12.0], [12....</td>\n",
       "      <td>5758.jpg</td>\n",
       "    </tr>\n",
       "    <tr>\n",
       "      <th>11997</th>\n",
       "      <td>7718</td>\n",
       "      <td>1815</td>\n",
       "      <td>0</td>\n",
       "      <td>1</td>\n",
       "      <td>5</td>\n",
       "      <td>[[[25.0], [26.0], [25.0], [21.0], [19.0], [21....</td>\n",
       "      <td>7718.jpg</td>\n",
       "    </tr>\n",
       "    <tr>\n",
       "      <th>11998</th>\n",
       "      <td>1808</td>\n",
       "      <td>1821</td>\n",
       "      <td>0</td>\n",
       "      <td>2</td>\n",
       "      <td>1</td>\n",
       "      <td>[[[147.0], [148.0], [148.0], [146.0], [145.0],...</td>\n",
       "      <td>1808.jpg</td>\n",
       "    </tr>\n",
       "    <tr>\n",
       "      <th>11999</th>\n",
       "      <td>7086</td>\n",
       "      <td>1816</td>\n",
       "      <td>0</td>\n",
       "      <td>1</td>\n",
       "      <td>6</td>\n",
       "      <td>[[[33.0], [31.0], [18.0], [18.0], [20.0], [25....</td>\n",
       "      <td>7086.jpg</td>\n",
       "    </tr>\n",
       "  </tbody>\n",
       "</table>\n",
       "<p>12000 rows × 7 columns</p>\n",
       "</div>"
      ],
      "text/plain": [
       "       index string CC  D  Y  \\\n",
       "0       9731   1812  0  1  2   \n",
       "1      10592   1828  0  2  8   \n",
       "2        680   1825  0  2  5   \n",
       "3       6124   1803  0  0  3   \n",
       "4      10120   1801  0  0  1   \n",
       "...      ...    ... .. .. ..   \n",
       "11995   2904   9325  1  2  5   \n",
       "11996   5758   1821  0  2  1   \n",
       "11997   7718   1815  0  1  5   \n",
       "11998   1808   1821  0  2  1   \n",
       "11999   7086   1816  0  1  6   \n",
       "\n",
       "                                               img_value   filename  \n",
       "0      [[[38.0], [33.0], [64.0], [121.0], [140.0], [1...   9731.jpg  \n",
       "1      [[[86.0], [83.0], [79.0], [75.0], [78.0], [76....  10592.jpg  \n",
       "2      [[[126.0], [124.0], [123.0], [124.0], [125.0],...    680.jpg  \n",
       "3      [[[184.0], [185.0], [185.0], [184.0], [183.0],...   6124.jpg  \n",
       "4      [[[158.0], [158.0], [157.0], [157.0], [153.0],...  10120.jpg  \n",
       "...                                                  ...        ...  \n",
       "11995  [[[189.0], [191.0], [193.0], [194.0], [194.0],...   2904.jpg  \n",
       "11996  [[[13.0], [12.0], [11.0], [12.0], [12.0], [12....   5758.jpg  \n",
       "11997  [[[25.0], [26.0], [25.0], [21.0], [19.0], [21....   7718.jpg  \n",
       "11998  [[[147.0], [148.0], [148.0], [146.0], [145.0],...   1808.jpg  \n",
       "11999  [[[33.0], [31.0], [18.0], [18.0], [20.0], [25....   7086.jpg  \n",
       "\n",
       "[12000 rows x 7 columns]"
      ]
     },
     "execution_count": 5,
     "metadata": {},
     "output_type": "execute_result"
    }
   ],
   "source": [
    "#load data and shuffle them around\n",
    "df = load_img_data()\n",
    "df = df.sample(frac=1).reset_index(drop=True)\n",
    "df"
   ]
  },
  {
   "cell_type": "markdown",
   "id": "9e941a75",
   "metadata": {
    "tags": []
   },
   "source": [
    "### Defining fixed train, test and valdiation sets."
   ]
  },
  {
   "cell_type": "code",
   "execution_count": 6,
   "id": "fbdf19fb",
   "metadata": {},
   "outputs": [],
   "source": [
    "df = df.drop(columns=['index','string','filename'])"
   ]
  },
  {
   "cell_type": "markdown",
   "id": "c85a00a8",
   "metadata": {
    "tags": []
   },
   "source": [
    "### Split train, val, test"
   ]
  },
  {
   "cell_type": "markdown",
   "id": "613f5ef5",
   "metadata": {
    "tags": []
   },
   "source": [
    "#### Subsetting df"
   ]
  },
  {
   "cell_type": "code",
   "execution_count": 7,
   "id": "d9f7ee9d",
   "metadata": {
    "tags": []
   },
   "outputs": [],
   "source": [
    "x_train = df.loc[0:7679]\n",
    "x_val = df.loc[7680:9599]\n",
    "x_test = df.loc[9600:11999]"
   ]
  },
  {
   "cell_type": "markdown",
   "id": "f87a200e",
   "metadata": {
    "tags": []
   },
   "source": [
    "#### Creating labels"
   ]
  },
  {
   "cell_type": "code",
   "execution_count": 8,
   "id": "fe2a1fbc",
   "metadata": {
    "tags": []
   },
   "outputs": [],
   "source": [
    "#### training labels ###\n",
    "Y_train = x_train['Y']\n",
    "Y_train = Y_train.astype(np.uint8)\n",
    "D_train = x_train['D']\n",
    "D_train = D_train.astype(np.uint8)\n",
    "CC_train = x_train['CC']\n",
    "CC_train = CC_train.astype(np.uint8)\n",
    "\n",
    "#### validation labels ###\n",
    "Y_val = x_val['Y']\n",
    "Y_val = Y_val.astype(np.uint8)\n",
    "D_val = x_val['D']\n",
    "D_val = D_val.astype(np.uint8)\n",
    "CC_val = x_val['CC']\n",
    "CC_val = CC_val.astype(np.uint8)\n",
    "\n",
    "#### test labels ###\n",
    "Y_test = x_test['Y']\n",
    "Y_test = Y_test.astype(np.uint8)\n",
    "D_test = x_test['D']\n",
    "D_test = D_test.astype(np.uint8)\n",
    "CC_test = x_test['CC']\n",
    "CC_test = CC_test.astype(np.uint8)\n"
   ]
  },
  {
   "cell_type": "markdown",
   "id": "8db5145b",
   "metadata": {
    "tags": []
   },
   "source": [
    "#### Creating image values"
   ]
  },
  {
   "cell_type": "code",
   "execution_count": 9,
   "id": "54a43c88",
   "metadata": {
    "tags": []
   },
   "outputs": [],
   "source": [
    "# train\n",
    "values = np.zeros(shape=(len(x_train),56,106,1))\n",
    "i = 0\n",
    "j = 0\n",
    "while i < len(x_train):\n",
    "    values[i] = x_train['img_value'][j]\n",
    "    i += 1\n",
    "    j+=1\n",
    "x_train = values/255\n",
    "\n",
    "# val\n",
    "values = np.zeros(shape=(len(x_val),56,106,1))\n",
    "i = 0\n",
    "j = 7680\n",
    "while i < len(x_val):\n",
    "    values[i] = x_val['img_value'][j]\n",
    "    i += 1\n",
    "    j+=1\n",
    "x_val = values/255\n",
    "\n",
    "# test\n",
    "values = np.zeros(shape=(len(x_test),56,106,1))\n",
    "i = 0\n",
    "j = 9600\n",
    "while i < len(x_test):\n",
    "    values[i] = x_test['img_value'][j]\n",
    "    i += 1\n",
    "    j+=1\n",
    "x_test = values/255\n"
   ]
  },
  {
   "cell_type": "markdown",
   "id": "a8cafc15",
   "metadata": {
    "tags": []
   },
   "source": [
    "## Question 1"
   ]
  },
  {
   "cell_type": "markdown",
   "id": "ab4319cf",
   "metadata": {
    "tags": []
   },
   "source": [
    "### 1.2 Non-deeplearning CC-D-Y models"
   ]
  },
  {
   "cell_type": "code",
   "execution_count": 10,
   "id": "b0478f42",
   "metadata": {},
   "outputs": [],
   "source": [
    "x_train_flat = x_train.reshape((len(x_train), -1))\n",
    "x_val_flat = x_val.reshape((len(x_val), -1))\n",
    "x_test_flat = x_test.reshape((len(x_test), -1))"
   ]
  },
  {
   "cell_type": "code",
   "execution_count": 24,
   "id": "ede4b281",
   "metadata": {},
   "outputs": [],
   "source": [
    "def score_calc(model,y_test,x_test):\n",
    "    score = 0.0\n",
    "    preds = model.predict(x_test)\n",
    "    i = 0\n",
    "    for row in y_test:\n",
    "        if str(row) == str(preds[i][0]):\n",
    "            score = score + (1/3)\n",
    "        i= i + 1\n",
    "    return score"
   ]
  },
  {
   "cell_type": "markdown",
   "id": "b9b75e5e",
   "metadata": {
    "tags": []
   },
   "source": [
    "#### SVM, modelCC"
   ]
  },
  {
   "cell_type": "code",
   "execution_count": 11,
   "id": "2de3b475",
   "metadata": {},
   "outputs": [
    {
     "data": {
      "text/plain": [
       "97.55208333333333"
      ]
     },
     "execution_count": 11,
     "metadata": {},
     "output_type": "execute_result"
    }
   ],
   "source": [
    "model = svm.SVC()\n",
    "model.fit(x_train_flat, CC_train)\n",
    "val_hat = model.predict(x_val_flat)\n",
    "accuracy = accuracy_score(val_hat, CC_val)*100\n",
    "accuracy"
   ]
  },
  {
   "cell_type": "markdown",
   "id": "92448366",
   "metadata": {
    "jp-MarkdownHeadingCollapsed": true,
    "tags": []
   },
   "source": [
    "#### Catboost, modelD"
   ]
  },
  {
   "cell_type": "code",
   "execution_count": 16,
   "metadata": {},
   "outputs": [
    {
     "name": "stdout",
     "output_type": "stream",
     "text": [
      "0:\tlearn: 2.2887629\ttotal: 136ms\tremaining: 13.5s\n",
      "50:\tlearn: 1.8662520\ttotal: 4.91s\tremaining: 4.72s\n",
      "99:\tlearn: 1.6777988\ttotal: 9.37s\tremaining: 0us\n",
      "[0.396875, 0.01, 100, 4]\n",
      "0:\tlearn: 2.2886103\ttotal: 330ms\tremaining: 32.7s\n",
      "50:\tlearn: 1.8515984\ttotal: 16.2s\tremaining: 15.6s\n",
      "99:\tlearn: 1.6450200\ttotal: 31.7s\tremaining: 0us\n",
      "[0.44114583333333335, 0.01, 100, 6]\n",
      "0:\tlearn: 2.1705851\ttotal: 115ms\tremaining: 11.3s\n",
      "50:\tlearn: 1.3272531\ttotal: 4.69s\tremaining: 4.51s\n",
      "99:\tlearn: 1.1892576\ttotal: 9.17s\tremaining: 0us\n",
      "[0.5171875, 0.1, 100, 4]\n",
      "0:\tlearn: 2.1687604\ttotal: 328ms\tremaining: 32.5s\n",
      "50:\tlearn: 1.2001364\ttotal: 16.6s\tremaining: 16s\n",
      "99:\tlearn: 1.0085116\ttotal: 32.4s\tremaining: 0us\n",
      "[0.5536458333333333, 0.1, 100, 6]\n",
      "0:\tlearn: 2.2887634\ttotal: 116ms\tremaining: 23s\n",
      "50:\tlearn: 1.8662523\ttotal: 4.79s\tremaining: 14s\n",
      "100:\tlearn: 1.6750856\ttotal: 9.27s\tremaining: 9.08s\n",
      "150:\tlearn: 1.5682842\ttotal: 13.3s\tremaining: 4.33s\n",
      "199:\tlearn: 1.5017392\ttotal: 17.6s\tremaining: 0us\n",
      "[0.4395833333333333, 0.01, 200, 4]\n",
      "0:\tlearn: 2.2886103\ttotal: 283ms\tremaining: 56.3s\n",
      "50:\tlearn: 1.8515985\ttotal: 14.1s\tremaining: 41.2s\n",
      "100:\tlearn: 1.6420564\ttotal: 28.1s\tremaining: 27.5s\n",
      "150:\tlearn: 1.5181227\ttotal: 42.1s\tremaining: 13.6s\n",
      "199:\tlearn: 1.4345968\ttotal: 56s\tremaining: 0us\n",
      "[0.5041666666666667, 0.01, 200, 6]\n",
      "0:\tlearn: 2.1705851\ttotal: 104ms\tremaining: 20.7s\n",
      "50:\tlearn: 1.3272531\ttotal: 4.17s\tremaining: 12.2s\n",
      "100:\tlearn: 1.1876480\ttotal: 8.12s\tremaining: 7.96s\n",
      "150:\tlearn: 1.0815834\ttotal: 12s\tremaining: 3.9s\n",
      "199:\tlearn: 0.9949005\ttotal: 15.8s\tremaining: 0us\n",
      "[0.5494791666666666, 0.1, 200, 4]\n",
      "0:\tlearn: 2.1687602\ttotal: 281ms\tremaining: 55.9s\n",
      "50:\tlearn: 1.2001363\ttotal: 13.9s\tremaining: 40.7s\n",
      "100:\tlearn: 1.0046029\ttotal: 27.3s\tremaining: 26.8s\n",
      "150:\tlearn: 0.8669083\ttotal: 40.5s\tremaining: 13.1s\n",
      "199:\tlearn: 0.7571209\ttotal: 53.3s\tremaining: 0us\n",
      "[0.5854166666666667, 0.1, 200, 6]\n",
      "0:\tlearn: 2.2887632\ttotal: 101ms\tremaining: 50.2s\n",
      "50:\tlearn: 1.8662523\ttotal: 4.07s\tremaining: 35.8s\n",
      "100:\tlearn: 1.6750857\ttotal: 8.03s\tremaining: 31.7s\n",
      "150:\tlearn: 1.5682840\ttotal: 12s\tremaining: 27.8s\n",
      "200:\tlearn: 1.5006535\ttotal: 16s\tremaining: 23.8s\n",
      "250:\tlearn: 1.4544815\ttotal: 20s\tremaining: 19.9s\n",
      "300:\tlearn: 1.4190783\ttotal: 24s\tremaining: 15.9s\n",
      "350:\tlearn: 1.3907672\ttotal: 28s\tremaining: 11.9s\n",
      "400:\tlearn: 1.3665231\ttotal: 32s\tremaining: 7.89s\n",
      "450:\tlearn: 1.3449716\ttotal: 35.9s\tremaining: 3.9s\n",
      "499:\tlearn: 1.3274111\ttotal: 39.8s\tremaining: 0us\n",
      "[0.5057291666666667, 0.01, 500, 4]\n",
      "0:\tlearn: 2.2886106\ttotal: 292ms\tremaining: 2m 25s\n",
      "50:\tlearn: 1.8515984\ttotal: 13.9s\tremaining: 2m 2s\n",
      "100:\tlearn: 1.6420567\ttotal: 27.4s\tremaining: 1m 48s\n",
      "150:\tlearn: 1.5181229\ttotal: 41.3s\tremaining: 1m 35s\n",
      "200:\tlearn: 1.4333029\ttotal: 55s\tremaining: 1m 21s\n",
      "250:\tlearn: 1.3721158\ttotal: 1m 9s\tremaining: 1m 8s\n",
      "300:\tlearn: 1.3240788\ttotal: 1m 23s\tremaining: 54.9s\n",
      "350:\tlearn: 1.2839793\ttotal: 1m 37s\tremaining: 41.2s\n",
      "400:\tlearn: 1.2515505\ttotal: 1m 50s\tremaining: 27.3s\n",
      "450:\tlearn: 1.2226114\ttotal: 2m 4s\tremaining: 13.5s\n",
      "499:\tlearn: 1.1964094\ttotal: 2m 17s\tremaining: 0us\n",
      "[0.5536458333333333, 0.01, 500, 6]\n",
      "0:\tlearn: 2.1705851\ttotal: 99.4ms\tremaining: 49.6s\n",
      "50:\tlearn: 1.3272533\ttotal: 4.04s\tremaining: 35.6s\n",
      "100:\tlearn: 1.1876478\ttotal: 7.96s\tremaining: 31.5s\n",
      "150:\tlearn: 1.0815834\ttotal: 11.8s\tremaining: 27.4s\n",
      "200:\tlearn: 0.9933717\ttotal: 15.7s\tremaining: 23.4s\n",
      "250:\tlearn: 0.9257139\ttotal: 19.6s\tremaining: 19.4s\n",
      "300:\tlearn: 0.8651268\ttotal: 23.4s\tremaining: 15.5s\n",
      "350:\tlearn: 0.8082417\ttotal: 27.5s\tremaining: 11.7s\n",
      "400:\tlearn: 0.7640357\ttotal: 31.4s\tremaining: 7.76s\n",
      "450:\tlearn: 0.7215193\ttotal: 35.3s\tremaining: 3.84s\n",
      "499:\tlearn: 0.6852338\ttotal: 39.1s\tremaining: 0us\n",
      "[0.59375, 0.1, 500, 4]\n",
      "0:\tlearn: 2.1687604\ttotal: 289ms\tremaining: 2m 24s\n",
      "50:\tlearn: 1.2001364\ttotal: 14s\tremaining: 2m 2s\n",
      "100:\tlearn: 1.0046030\ttotal: 27.7s\tremaining: 1m 49s\n",
      "150:\tlearn: 0.8669083\ttotal: 41.1s\tremaining: 1m 34s\n",
      "200:\tlearn: 0.7563420\ttotal: 54.1s\tremaining: 1m 20s\n",
      "250:\tlearn: 0.6705923\ttotal: 1m 7s\tremaining: 1m 6s\n",
      "300:\tlearn: 0.6043176\ttotal: 1m 20s\tremaining: 53s\n",
      "350:\tlearn: 0.5444080\ttotal: 1m 32s\tremaining: 39.4s\n",
      "400:\tlearn: 0.4939878\ttotal: 1m 45s\tremaining: 26s\n",
      "450:\tlearn: 0.4500450\ttotal: 1m 57s\tremaining: 12.8s\n",
      "499:\tlearn: 0.4112119\ttotal: 2m 10s\tremaining: 0us\n",
      "[0.6276041666666666, 0.1, 500, 6]\n"
     ]
    },
    {
     "data": {
      "text/html": [
       "<div>\n",
       "<style scoped>\n",
       "    .dataframe tbody tr th:only-of-type {\n",
       "        vertical-align: middle;\n",
       "    }\n",
       "\n",
       "    .dataframe tbody tr th {\n",
       "        vertical-align: top;\n",
       "    }\n",
       "\n",
       "    .dataframe thead th {\n",
       "        text-align: right;\n",
       "    }\n",
       "</style>\n",
       "<table border=\"1\" class=\"dataframe\">\n",
       "  <thead>\n",
       "    <tr style=\"text-align: right;\">\n",
       "      <th></th>\n",
       "      <th>accuracy</th>\n",
       "      <th>learning_rate</th>\n",
       "      <th>n_estimators</th>\n",
       "      <th>depth</th>\n",
       "    </tr>\n",
       "  </thead>\n",
       "  <tbody>\n",
       "    <tr>\n",
       "      <th>11</th>\n",
       "      <td>0.627604</td>\n",
       "      <td>0.10</td>\n",
       "      <td>500</td>\n",
       "      <td>6</td>\n",
       "    </tr>\n",
       "    <tr>\n",
       "      <th>10</th>\n",
       "      <td>0.593750</td>\n",
       "      <td>0.10</td>\n",
       "      <td>500</td>\n",
       "      <td>4</td>\n",
       "    </tr>\n",
       "    <tr>\n",
       "      <th>7</th>\n",
       "      <td>0.585417</td>\n",
       "      <td>0.10</td>\n",
       "      <td>200</td>\n",
       "      <td>6</td>\n",
       "    </tr>\n",
       "    <tr>\n",
       "      <th>3</th>\n",
       "      <td>0.553646</td>\n",
       "      <td>0.10</td>\n",
       "      <td>100</td>\n",
       "      <td>6</td>\n",
       "    </tr>\n",
       "    <tr>\n",
       "      <th>9</th>\n",
       "      <td>0.553646</td>\n",
       "      <td>0.01</td>\n",
       "      <td>500</td>\n",
       "      <td>6</td>\n",
       "    </tr>\n",
       "    <tr>\n",
       "      <th>6</th>\n",
       "      <td>0.549479</td>\n",
       "      <td>0.10</td>\n",
       "      <td>200</td>\n",
       "      <td>4</td>\n",
       "    </tr>\n",
       "    <tr>\n",
       "      <th>2</th>\n",
       "      <td>0.517188</td>\n",
       "      <td>0.10</td>\n",
       "      <td>100</td>\n",
       "      <td>4</td>\n",
       "    </tr>\n",
       "    <tr>\n",
       "      <th>8</th>\n",
       "      <td>0.505729</td>\n",
       "      <td>0.01</td>\n",
       "      <td>500</td>\n",
       "      <td>4</td>\n",
       "    </tr>\n",
       "    <tr>\n",
       "      <th>5</th>\n",
       "      <td>0.504167</td>\n",
       "      <td>0.01</td>\n",
       "      <td>200</td>\n",
       "      <td>6</td>\n",
       "    </tr>\n",
       "    <tr>\n",
       "      <th>1</th>\n",
       "      <td>0.441146</td>\n",
       "      <td>0.01</td>\n",
       "      <td>100</td>\n",
       "      <td>6</td>\n",
       "    </tr>\n",
       "    <tr>\n",
       "      <th>4</th>\n",
       "      <td>0.439583</td>\n",
       "      <td>0.01</td>\n",
       "      <td>200</td>\n",
       "      <td>4</td>\n",
       "    </tr>\n",
       "    <tr>\n",
       "      <th>0</th>\n",
       "      <td>0.396875</td>\n",
       "      <td>0.01</td>\n",
       "      <td>100</td>\n",
       "      <td>4</td>\n",
       "    </tr>\n",
       "  </tbody>\n",
       "</table>\n",
       "</div>"
      ],
      "text/plain": [
       "    accuracy  learning_rate  n_estimators  depth\n",
       "11  0.627604           0.10           500      6\n",
       "10  0.593750           0.10           500      4\n",
       "7   0.585417           0.10           200      6\n",
       "3   0.553646           0.10           100      6\n",
       "9   0.553646           0.01           500      6\n",
       "6   0.549479           0.10           200      4\n",
       "2   0.517188           0.10           100      4\n",
       "8   0.505729           0.01           500      4\n",
       "5   0.504167           0.01           200      6\n",
       "1   0.441146           0.01           100      6\n",
       "4   0.439583           0.01           200      4\n",
       "0   0.396875           0.01           100      4"
      ]
     },
     "execution_count": 16,
     "metadata": {},
     "output_type": "execute_result"
    }
   ],
   "source": [
    "results_catboost_D = []\n",
    "n_iterations = [100,200,500]\n",
    "lr = [0.01,0.1]\n",
    "n_depth = [4,6]\n",
    "loss_f = 'MultiClass'\n",
    "\n",
    "for iters in n_iterations:\n",
    "    for ls in lr:\n",
    "        for depths in n_depth:\n",
    "            model_D = CatBoostClassifier(iterations=iters,\n",
    "                                        learning_rate=ls,\n",
    "                                        depth=depths,\n",
    "                                        loss_function=loss_f,\n",
    "                                        task_type=\"GPU\",\n",
    "                                        devices='0:1')\n",
    "\n",
    "            model_D.fit(x_train_flat, D_train, verbose=50)\n",
    "            acc = model_D.score(x_val_flat,D_val)\n",
    "            # the results from the different hyperparameters are then stored so we can get the best one\n",
    "            results_catboost_D.append([acc,ls,iters, depths])\n",
    "            print([acc,ls,iters, depths])\n",
    "results_df_catboost_D = pd.DataFrame(results_catboost_D)\n",
    "results_df_catboost_D.columns=['accuracy',\"learning_rate\",\"n_estimators\", \"depth\"]\n",
    "#prints the results from best to worst in regards to accuracy, listting the hyperparameters for the result\n",
    "results_df_catboost_D = results_df_catboost_D.sort_values('accuracy', ascending=False)\n",
    "results_df_catboost_D\n"
   ]
  },
  {
   "cell_type": "code",
   "execution_count": 17,
   "id": "84a59dff",
   "metadata": {},
   "outputs": [],
   "source": [
    "results_df_catboost_D.to_csv('Catboost_results_DECADE')"
   ]
  },
  {
   "cell_type": "code",
   "execution_count": 18,
   "id": "3b2f61e8",
   "metadata": {},
   "outputs": [
    {
     "data": {
      "text/plain": [
       "0.6420833333333333"
      ]
     },
     "execution_count": 18,
     "metadata": {},
     "output_type": "execute_result"
    }
   ],
   "source": [
    "test_acc = model_D.score(x_test_flat,D_test)\n",
    "test_acc"
   ]
  },
  {
   "cell_type": "code",
   "execution_count": 25,
   "id": "1021b564",
   "metadata": {},
   "outputs": [
    {
     "data": {
      "text/plain": [
       "513.6666666666551"
      ]
     },
     "execution_count": 25,
     "metadata": {},
     "output_type": "execute_result"
    }
   ],
   "source": [
    "test_Score = score_calc(model_D,D_test,x_test_flat)\n",
    "test_Score"
   ]
  },
  {
   "cell_type": "markdown",
   "id": "3f17ee74",
   "metadata": {
    "jp-MarkdownHeadingCollapsed": true,
    "tags": []
   },
   "source": [
    "#### Catboost, modelY"
   ]
  },
  {
   "cell_type": "code",
   "execution_count": 19,
   "metadata": {},
   "outputs": [
    {
     "name": "stdout",
     "output_type": "stream",
     "text": [
      "0:\tlearn: 2.3600619\ttotal: 396ms\tremaining: 3m 17s\n",
      "50:\tlearn: 1.7120842\ttotal: 18.4s\tremaining: 2m 42s\n",
      "100:\tlearn: 1.4128335\ttotal: 36.3s\tremaining: 2m 23s\n",
      "150:\tlearn: 1.2094868\ttotal: 53s\tremaining: 2m 2s\n",
      "200:\tlearn: 1.0706529\ttotal: 1m 9s\tremaining: 1m 43s\n",
      "250:\tlearn: 0.9751101\ttotal: 1m 24s\tremaining: 1m 24s\n",
      "300:\tlearn: 0.8843965\ttotal: 1m 40s\tremaining: 1m 6s\n",
      "350:\tlearn: 0.8116300\ttotal: 1m 55s\tremaining: 49.2s\n",
      "400:\tlearn: 0.7521682\ttotal: 2m 10s\tremaining: 32.3s\n",
      "450:\tlearn: 0.7016064\ttotal: 2m 25s\tremaining: 15.9s\n",
      "499:\tlearn: 0.6563481\ttotal: 2m 40s\tremaining: 0us\n"
     ]
    },
    {
     "data": {
      "text/html": [
       "<div>\n",
       "<style scoped>\n",
       "    .dataframe tbody tr th:only-of-type {\n",
       "        vertical-align: middle;\n",
       "    }\n",
       "\n",
       "    .dataframe tbody tr th {\n",
       "        vertical-align: top;\n",
       "    }\n",
       "\n",
       "    .dataframe thead th {\n",
       "        text-align: right;\n",
       "    }\n",
       "</style>\n",
       "<table border=\"1\" class=\"dataframe\">\n",
       "  <thead>\n",
       "    <tr style=\"text-align: right;\">\n",
       "      <th></th>\n",
       "      <th>accuracy</th>\n",
       "      <th>learning_rate</th>\n",
       "      <th>n_estimators</th>\n",
       "      <th>depth</th>\n",
       "    </tr>\n",
       "  </thead>\n",
       "  <tbody>\n",
       "    <tr>\n",
       "      <th>0</th>\n",
       "      <td>0.547396</td>\n",
       "      <td>0.1</td>\n",
       "      <td>500</td>\n",
       "      <td>6</td>\n",
       "    </tr>\n",
       "  </tbody>\n",
       "</table>\n",
       "</div>"
      ],
      "text/plain": [
       "   accuracy  learning_rate  n_estimators  depth\n",
       "0  0.547396            0.1           500      6"
      ]
     },
     "execution_count": 19,
     "metadata": {},
     "output_type": "execute_result"
    }
   ],
   "source": [
    "results_cat_Y = []\n",
    "n_iterations = [500]#,200,100]\n",
    "lr = [0.1]#,0.01]\n",
    "n_depth = [6]#,4]\n",
    "loss_f = 'MultiClass'\n",
    "\n",
    "for iters in n_iterations:\n",
    "    for ls in lr:\n",
    "        for depths in n_depth:\n",
    "            model_Y = CatBoostClassifier(iterations=iters,\n",
    "                                        learning_rate=ls,\n",
    "                                        depth=depths,\n",
    "                                        loss_function=loss_f,\n",
    "                                        task_type=\"GPU\",\n",
    "                                        devices='0:1')\n",
    "\n",
    "            model_Y.fit(x_train_flat, Y_train, verbose=50)\n",
    "            acc = model_Y.score(x_val_flat,Y_val)\n",
    "            # the results from the different hyperparameters are then stored so we can get the best one\n",
    "            results_cat_Y.append([acc,ls,iters, depths])\n",
    "results_df_cat_Y = pd.DataFrame(results_cat_Y)\n",
    "results_df_cat_Y.columns=['accuracy',\"learning_rate\",\"n_estimators\", \"depth\"]\n",
    "#prints the results from best to worst in regards to accuracy, listting the hyperparameters for the result\n",
    "results_df_cat_Y = results_df_cat_Y.sort_values('accuracy', ascending=False)\n",
    "results_df_cat_Y"
   ]
  },
  {
   "cell_type": "code",
   "execution_count": 19,
   "id": "e614d157",
   "metadata": {},
   "outputs": [],
   "source": [
    "results_df_cat_Y.to_csv('Catboost_results_YEAR')"
   ]
  },
  {
   "cell_type": "code",
   "execution_count": 20,
   "id": "4b0431ea",
   "metadata": {},
   "outputs": [
    {
     "data": {
      "text/plain": [
       "0.5541666666666667"
      ]
     },
     "execution_count": 20,
     "metadata": {},
     "output_type": "execute_result"
    }
   ],
   "source": [
    "test_acc = model_Y.score(x_test_flat,Y_test)\n",
    "test_acc"
   ]
  },
  {
   "cell_type": "code",
   "execution_count": 26,
   "id": "9547247e",
   "metadata": {},
   "outputs": [
    {
     "data": {
      "text/plain": [
       "443.3333333333256"
      ]
     },
     "execution_count": 26,
     "metadata": {},
     "output_type": "execute_result"
    }
   ],
   "source": [
    "test_Score = score_calc(model_Y,Y_test,x_test_flat)\n",
    "test_Score"
   ]
  },
  {
   "cell_type": "markdown",
   "id": "68d04c32",
   "metadata": {
    "tags": []
   },
   "source": [
    "## Question 2"
   ]
  },
  {
   "cell_type": "markdown",
   "id": "34bd87c3",
   "metadata": {
    "jp-MarkdownHeadingCollapsed": true,
    "tags": []
   },
   "source": [
    "### 2.2.A Construct a CNN"
   ]
  },
  {
   "cell_type": "code",
   "execution_count": null,
   "id": "52c5da04",
   "metadata": {},
   "outputs": [],
   "source": []
  },
  {
   "cell_type": "markdown",
   "id": "864bf950",
   "metadata": {
    "jp-MarkdownHeadingCollapsed": true,
    "tags": []
   },
   "source": [
    "### 2.2.B Regularization"
   ]
  },
  {
   "cell_type": "code",
   "execution_count": null,
   "id": "fbc0a33c",
   "metadata": {},
   "outputs": [],
   "source": []
  },
  {
   "cell_type": "markdown",
   "id": "b3daf808",
   "metadata": {
    "jp-MarkdownHeadingCollapsed": true,
    "tags": []
   },
   "source": [
    "### 2.2.C Augmentation"
   ]
  },
  {
   "cell_type": "code",
   "execution_count": null,
   "id": "ebaac708",
   "metadata": {},
   "outputs": [],
   "source": []
  },
  {
   "cell_type": "markdown",
   "id": "c74fe462",
   "metadata": {
    "jp-MarkdownHeadingCollapsed": true,
    "tags": []
   },
   "source": [
    "### 2.2.D Transfer learning"
   ]
  },
  {
   "cell_type": "markdown",
   "id": "164b6190",
   "metadata": {},
   "source": [
    "#### CC model"
   ]
  },
  {
   "cell_type": "code",
   "execution_count": 49,
   "id": "803159f9",
   "metadata": {},
   "outputs": [],
   "source": [
    "x_train_transfer = tf.image.grayscale_to_rgb(tf.constant(x_train))\n",
    "x_test_transfer = tf.image.grayscale_to_rgb(tf.constant(x_test))\n",
    "x_val_transfer = tf.image.grayscale_to_rgb(tf.constant(x_val))"
   ]
  },
  {
   "cell_type": "code",
   "execution_count": 64,
   "id": "76365c33",
   "metadata": {},
   "outputs": [
    {
     "name": "stdout",
     "output_type": "stream",
     "text": [
      "Model: \"model_15\"\n",
      "_________________________________________________________________\n",
      " Layer (type)                Output Shape              Param #   \n",
      "=================================================================\n",
      " input_16 (InputLayer)       [(None, 56, 106, 3)]      0         \n",
      "                                                                 \n",
      " block1_conv1 (Conv2D)       (None, 56, 106, 64)       1792      \n",
      "                                                                 \n",
      " block1_conv2 (Conv2D)       (None, 56, 106, 64)       36928     \n",
      "                                                                 \n",
      " block1_pool (MaxPooling2D)  (None, 28, 53, 64)        0         \n",
      "                                                                 \n",
      " block2_conv1 (Conv2D)       (None, 28, 53, 128)       73856     \n",
      "                                                                 \n",
      " block2_conv2 (Conv2D)       (None, 28, 53, 128)       147584    \n",
      "                                                                 \n",
      " block2_pool (MaxPooling2D)  (None, 14, 26, 128)       0         \n",
      "                                                                 \n",
      " block3_conv1 (Conv2D)       (None, 14, 26, 256)       295168    \n",
      "                                                                 \n",
      " block3_conv2 (Conv2D)       (None, 14, 26, 256)       590080    \n",
      "                                                                 \n",
      " block3_conv3 (Conv2D)       (None, 14, 26, 256)       590080    \n",
      "                                                                 \n",
      " block3_pool (MaxPooling2D)  (None, 7, 13, 256)        0         \n",
      "                                                                 \n",
      " block4_conv1 (Conv2D)       (None, 7, 13, 512)        1180160   \n",
      "                                                                 \n",
      " block4_conv2 (Conv2D)       (None, 7, 13, 512)        2359808   \n",
      "                                                                 \n",
      " block4_conv3 (Conv2D)       (None, 7, 13, 512)        2359808   \n",
      "                                                                 \n",
      " block4_pool (MaxPooling2D)  (None, 3, 6, 512)         0         \n",
      "                                                                 \n",
      " block5_conv1 (Conv2D)       (None, 3, 6, 512)         2359808   \n",
      "                                                                 \n",
      " block5_conv2 (Conv2D)       (None, 3, 6, 512)         2359808   \n",
      "                                                                 \n",
      " block5_conv3 (Conv2D)       (None, 3, 6, 512)         2359808   \n",
      "                                                                 \n",
      " block5_pool (MaxPooling2D)  (None, 1, 3, 512)         0         \n",
      "                                                                 \n",
      " flatten_15 (Flatten)        (None, 1536)              0         \n",
      "                                                                 \n",
      " dense_30 (Dense)            (None, 128)               196736    \n",
      "                                                                 \n",
      " dense_31 (Dense)            (None, 1)                 129       \n",
      "                                                                 \n",
      "=================================================================\n",
      "Total params: 14,911,553\n",
      "Trainable params: 196,865\n",
      "Non-trainable params: 14,714,688\n",
      "_________________________________________________________________\n"
     ]
    }
   ],
   "source": [
    "\n",
    "transfer_model = VGG16(include_top=False, input_shape=(56, 106, 3))\n",
    "# mark loaded layers as not trainable\n",
    "for layer in transfer_model.layers:\n",
    "\tlayer.trainable = False\n",
    "# add new classifier layers\n",
    "flat1 = layers.Flatten()(transfer_model.layers[-1].output)\n",
    "class1 = layers.Dense(128, activation='relu', kernel_initializer='he_uniform')(flat1)\n",
    "output = layers.Dense(1, activation='sigmoid')(class1)\n",
    "# define new model\n",
    "transfer_model = models.Model(inputs=transfer_model.inputs, outputs=output)\n",
    "\n",
    "transfer_model.compile(optimizer='Adam', loss='binary_crossentropy', metrics=['accuracy'])\n",
    "transfer_model.summary()"
   ]
  },
  {
   "cell_type": "code",
   "execution_count": 72,
   "id": "e1638d42",
   "metadata": {},
   "outputs": [
    {
     "name": "stdout",
     "output_type": "stream",
     "text": [
      "Epoch 1/10\n",
      "7680/7680 [==============================] - 68s 9ms/step - loss: 0.0322 - accuracy: 0.9909 - val_loss: 0.0556 - val_accuracy: 0.9896\n",
      "Epoch 2/10\n",
      "7680/7680 [==============================] - 72s 9ms/step - loss: 0.0253 - accuracy: 0.9923 - val_loss: 0.0615 - val_accuracy: 0.9896\n",
      "Epoch 3/10\n",
      "7680/7680 [==============================] - 68s 9ms/step - loss: 0.0200 - accuracy: 0.9937 - val_loss: 0.0531 - val_accuracy: 0.9880\n",
      "Epoch 4/10\n",
      "7680/7680 [==============================] - 69s 9ms/step - loss: 0.0199 - accuracy: 0.9937 - val_loss: 0.0663 - val_accuracy: 0.9891\n",
      "Epoch 5/10\n",
      "7680/7680 [==============================] - 68s 9ms/step - loss: 0.0174 - accuracy: 0.9948 - val_loss: 0.0688 - val_accuracy: 0.9901\n",
      "Epoch 6/10\n",
      "7680/7680 [==============================] - 71s 9ms/step - loss: 0.0154 - accuracy: 0.9948 - val_loss: 0.0638 - val_accuracy: 0.9875\n",
      "Epoch 7/10\n",
      "7680/7680 [==============================] - 67s 9ms/step - loss: 0.0146 - accuracy: 0.9954 - val_loss: 0.0716 - val_accuracy: 0.9885\n",
      "Epoch 8/10\n",
      "7680/7680 [==============================] - 69s 9ms/step - loss: 0.0116 - accuracy: 0.9965 - val_loss: 0.0812 - val_accuracy: 0.9792\n",
      "Epoch 9/10\n",
      "7680/7680 [==============================] - 66s 9ms/step - loss: 0.0143 - accuracy: 0.9956 - val_loss: 0.0644 - val_accuracy: 0.9891\n",
      "Epoch 10/10\n",
      "7680/7680 [==============================] - 68s 9ms/step - loss: 0.0093 - accuracy: 0.9969 - val_loss: 0.0794 - val_accuracy: 0.9891\n"
     ]
    }
   ],
   "source": [
    "transfer_history = transfer_model.fit(x_train_transfer,CC_train, steps_per_epoch=len(x_train_transfer), epochs=10,validation_data=(x_val_transfer,CC_val), validation_steps=len(x_val_transfer))"
   ]
  },
  {
   "cell_type": "code",
   "execution_count": 81,
   "id": "4180c41a",
   "metadata": {},
   "outputs": [
    {
     "name": "stdout",
     "output_type": "stream",
     "text": [
      "75/75 [==============================] - 2s 23ms/step - loss: 0.8449 - accuracy: 0.6817\n"
     ]
    },
    {
     "data": {
      "text/plain": [
       "[0.8449097871780396, 0.6816666722297668]"
      ]
     },
     "execution_count": 81,
     "metadata": {},
     "output_type": "execute_result"
    }
   ],
   "source": [
    "transfer_model.evaluate(x_test_transfer,D_test)"
   ]
  },
  {
   "cell_type": "code",
   "execution_count": 80,
   "id": "ca70ab55",
   "metadata": {},
   "outputs": [
    {
     "data": {
      "image/png": "[encoded data removed]",
      "text/plain": [
       "<Figure size 960x288 with 2 Axes>"
      ]
     },
     "metadata": {
      "needs_background": "light"
     },
     "output_type": "display_data"
    }
   ],
   "source": [
    "fig = plt.figure(figsize=plt.figaspect(0.3))\n",
    "\n",
    "ax = fig.add_subplot(1, 2, 1)\n",
    "ax.plot(transfer_history.history['loss'], label='Training loss')\n",
    "ax.plot(transfer_history.history['val_loss'], label = 'Val loss')\n",
    "plt.xlabel('Epoch')\n",
    "plt.ylabel('Loss')\n",
    "plt.legend()\n",
    "plt.title('Loss, Model D')\n",
    "\n",
    "ax = fig.add_subplot(1, 2, 2)\n",
    "ax.plot(transfer_history.history['accuracy'], label='Train')\n",
    "ax.plot(transfer_history.history['val_accuracy'], label = 'Val')\n",
    "plt.xlabel('Epoch')\n",
    "plt.ylabel('Accuracy')\n",
    "plt.legend()\n",
    "plt.title('Accuracy, Model D')\n",
    "\n",
    "plt.show()"
   ]
  },
  {
   "cell_type": "markdown",
   "id": "a930edaa",
   "metadata": {},
   "source": [
    "#### D Model"
   ]
  },
  {
   "cell_type": "code",
   "execution_count": 78,
   "id": "86f81e35",
   "metadata": {},
   "outputs": [
    {
     "name": "stdout",
     "output_type": "stream",
     "text": [
      "Model: \"model_16\"\n",
      "_________________________________________________________________\n",
      " Layer (type)                Output Shape              Param #   \n",
      "=================================================================\n",
      " input_17 (InputLayer)       [(None, 56, 106, 3)]      0         \n",
      "                                                                 \n",
      " block1_conv1 (Conv2D)       (None, 56, 106, 64)       1792      \n",
      "                                                                 \n",
      " block1_conv2 (Conv2D)       (None, 56, 106, 64)       36928     \n",
      "                                                                 \n",
      " block1_pool (MaxPooling2D)  (None, 28, 53, 64)        0         \n",
      "                                                                 \n",
      " block2_conv1 (Conv2D)       (None, 28, 53, 128)       73856     \n",
      "                                                                 \n",
      " block2_conv2 (Conv2D)       (None, 28, 53, 128)       147584    \n",
      "                                                                 \n",
      " block2_pool (MaxPooling2D)  (None, 14, 26, 128)       0         \n",
      "                                                                 \n",
      " block3_conv1 (Conv2D)       (None, 14, 26, 256)       295168    \n",
      "                                                                 \n",
      " block3_conv2 (Conv2D)       (None, 14, 26, 256)       590080    \n",
      "                                                                 \n",
      " block3_conv3 (Conv2D)       (None, 14, 26, 256)       590080    \n",
      "                                                                 \n",
      " block3_pool (MaxPooling2D)  (None, 7, 13, 256)        0         \n",
      "                                                                 \n",
      " block4_conv1 (Conv2D)       (None, 7, 13, 512)        1180160   \n",
      "                                                                 \n",
      " block4_conv2 (Conv2D)       (None, 7, 13, 512)        2359808   \n",
      "                                                                 \n",
      " block4_conv3 (Conv2D)       (None, 7, 13, 512)        2359808   \n",
      "                                                                 \n",
      " block4_pool (MaxPooling2D)  (None, 3, 6, 512)         0         \n",
      "                                                                 \n",
      " block5_conv1 (Conv2D)       (None, 3, 6, 512)         2359808   \n",
      "                                                                 \n",
      " block5_conv2 (Conv2D)       (None, 3, 6, 512)         2359808   \n",
      "                                                                 \n",
      " block5_conv3 (Conv2D)       (None, 3, 6, 512)         2359808   \n",
      "                                                                 \n",
      " block5_pool (MaxPooling2D)  (None, 1, 3, 512)         0         \n",
      "                                                                 \n",
      " flatten_16 (Flatten)        (None, 1536)              0         \n",
      "                                                                 \n",
      " dense_32 (Dense)            (None, 128)               196736    \n",
      "                                                                 \n",
      " dense_33 (Dense)            (None, 11)                1419      \n",
      "                                                                 \n",
      "=================================================================\n",
      "Total params: 14,912,843\n",
      "Trainable params: 198,155\n",
      "Non-trainable params: 14,714,688\n",
      "_________________________________________________________________\n"
     ]
    }
   ],
   "source": [
    "transfer_model = VGG16(include_top=False, input_shape=(56, 106, 3))\n",
    "# mark loaded layers as not trainable\n",
    "for layer in transfer_model.layers[0:100]:\n",
    "\tlayer.trainable = False\n",
    "# add new classifier layers\n",
    "flat1 = layers.Flatten()(transfer_model.layers[-1].output)\n",
    "class1 = layers.Dense(128, activation='relu', kernel_initializer='he_uniform')(flat1)\n",
    "output = layers.Dense(11, activation='softmax')(class1)\n",
    "# define new model\n",
    "transfer_model = models.Model(inputs=transfer_model.inputs, outputs=output)\n",
    "\n",
    "transfer_model.compile(optimizer='Adam', loss='sparse_categorical_crossentropy', metrics=['accuracy'])\n",
    "transfer_model.summary()"
   ]
  },
  {
   "cell_type": "code",
   "execution_count": 79,
   "id": "2aacbdde",
   "metadata": {},
   "outputs": [
    {
     "name": "stdout",
     "output_type": "stream",
     "text": [
      "Epoch 1/10\n",
      "7680/7680 [==============================] - 68s 9ms/step - loss: 1.2422 - accuracy: 0.4812 - val_loss: 1.0841 - val_accuracy: 0.5521\n",
      "Epoch 2/10\n",
      "7680/7680 [==============================] - 65s 8ms/step - loss: 0.9972 - accuracy: 0.6029 - val_loss: 0.9824 - val_accuracy: 0.6057\n",
      "Epoch 3/10\n",
      "7680/7680 [==============================] - 65s 8ms/step - loss: 0.8838 - accuracy: 0.6517 - val_loss: 0.9373 - val_accuracy: 0.6536\n",
      "Epoch 4/10\n",
      "7680/7680 [==============================] - 65s 9ms/step - loss: 0.8074 - accuracy: 0.6840 - val_loss: 0.9516 - val_accuracy: 0.6193\n",
      "Epoch 5/10\n",
      "7680/7680 [==============================] - 93s 12ms/step - loss: 0.7598 - accuracy: 0.7003 - val_loss: 1.1398 - val_accuracy: 0.5792\n",
      "Epoch 6/10\n",
      "7680/7680 [==============================] - 63s 8ms/step - loss: 0.7152 - accuracy: 0.7203 - val_loss: 0.9349 - val_accuracy: 0.6500\n",
      "Epoch 7/10\n",
      "7680/7680 [==============================] - 63s 8ms/step - loss: 0.6860 - accuracy: 0.7319 - val_loss: 0.9164 - val_accuracy: 0.6635\n",
      "Epoch 8/10\n",
      "7680/7680 [==============================] - 63s 8ms/step - loss: 0.6577 - accuracy: 0.7406 - val_loss: 0.9831 - val_accuracy: 0.6661\n",
      "Epoch 9/10\n",
      "7680/7680 [==============================] - 64s 8ms/step - loss: 0.6435 - accuracy: 0.7457 - val_loss: 0.8505 - val_accuracy: 0.6969\n",
      "Epoch 10/10\n",
      "7680/7680 [==============================] - 64s 8ms/step - loss: 0.6085 - accuracy: 0.7647 - val_loss: 0.8490 - val_accuracy: 0.6984\n"
     ]
    }
   ],
   "source": [
    "transfer_history = transfer_model.fit(x_train_transfer,D_train, steps_per_epoch=len(x_train_transfer), epochs=10,validation_data=(x_val_transfer,D_val), validation_steps=len(x_val_transfer))"
   ]
  },
  {
   "cell_type": "markdown",
   "id": "752c1b4d",
   "metadata": {},
   "source": [
    "#### Y Model\n"
   ]
  },
  {
   "cell_type": "code",
   "execution_count": null,
   "id": "6645d228",
   "metadata": {},
   "outputs": [],
   "source": [
    "transfer_model = VGG16(include_top=False, input_shape=(56, 106, 3))\n",
    "# mark loaded layers as not trainable\n",
    "for layer in transfer_model.layers:\n",
    "\tlayer.trainable = False\n",
    "# add new classifier layers\n",
    "flat1 = layers.Flatten()(transfer_model.layers[-1].output)\n",
    "class1 = layers.Dense(128, activation='relu', kernel_initializer='he_uniform')(flat1)\n",
    "output = layers.Dense(11, activation='softmax')(class1)\n",
    "# define new model\n",
    "transfer_model = models.Model(inputs=transfer_model.inputs, outputs=output)\n",
    "\n",
    "transfer_model.compile(optimizer='Adam', loss='sparse_categorical_crossentropy', metrics=['accuracy'])\n",
    "transfer_model.summary()"
   ]
  },
  {
   "cell_type": "code",
   "execution_count": null,
   "id": "0f0b02d7",
   "metadata": {},
   "outputs": [],
   "source": [
    "transfer_history = transfer_model.fit(x_train_transfer,D_train, steps_per_epoch=len(x_train_transfer), epochs=10,validation_data=(x_val_transfer,D_val), validation_steps=len(x_val_transfer))"
   ]
  },
  {
   "cell_type": "markdown",
   "id": "45ac6e03",
   "metadata": {
    "jp-MarkdownHeadingCollapsed": true,
    "tags": []
   },
   "source": [
    "## 2.3 Prefered CNN model"
   ]
  },
  {
   "cell_type": "code",
   "execution_count": null,
   "id": "25d6afa7",
   "metadata": {},
   "outputs": [],
   "source": []
  },
  {
   "cell_type": "markdown",
   "id": "1ddcfb1a",
   "metadata": {},
   "source": [
    "## Question 3"
   ]
  },
  {
   "cell_type": "markdown",
   "id": "319a3565",
   "metadata": {
    "jp-MarkdownHeadingCollapsed": true,
    "tags": []
   },
   "source": [
    "### 3.1 Visualization of activation maps"
   ]
  },
  {
   "cell_type": "code",
   "execution_count": null,
   "id": "c8c29945",
   "metadata": {},
   "outputs": [],
   "source": []
  },
  {
   "cell_type": "markdown",
   "id": "a5e5f284",
   "metadata": {
    "jp-MarkdownHeadingCollapsed": true,
    "tags": []
   },
   "source": [
    "### 3.2 Investigating model performance"
   ]
  },
  {
   "cell_type": "code",
   "execution_count": null,
   "id": "b1daf971",
   "metadata": {},
   "outputs": [],
   "source": []
  }
 ],
 "metadata": {
  "kernelspec": {
   "display_name": "Python 3 (ipykernel)",
   "language": "python",
   "name": "python3"
  },
  "language_info": {
   "codemirror_mode": {
    "name": "ipython",
    "version": 3
   },
   "file_extension": ".py",
   "mimetype": "text/x-python",
   "name": "python",
   "nbconvert_exporter": "python",
   "pygments_lexer": "ipython3",
   "version": "3.9.2"
  }
 },
 "nbformat": 4,
 "nbformat_minor": 5
}
