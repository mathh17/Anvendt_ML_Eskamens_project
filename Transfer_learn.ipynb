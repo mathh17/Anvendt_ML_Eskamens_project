{
 "cells": [
  {
   "cell_type": "code",
   "execution_count": 14,
   "id": "3a2d3ff0",
   "metadata": {},
   "outputs": [
    {
     "name": "stderr",
     "output_type": "stream",
     "text": [
      "'conda' is not recognized as an internal or external command,\n",
      "operable program or batch file.\n"
     ]
    }
   ],
   "source": [
    "!conda activate asl"
   ]
  },
  {
   "cell_type": "markdown",
   "id": "bb425444",
   "metadata": {},
   "source": [
    "# Exam DS807"
   ]
  },
  {
   "cell_type": "markdown",
   "id": "1f8e7c09",
   "metadata": {
    "jp-MarkdownHeadingCollapsed": true,
    "tags": []
   },
   "source": [
    "## Preparation of data"
   ]
  },
  {
   "cell_type": "markdown",
   "id": "307437e5",
   "metadata": {
    "tags": []
   },
   "source": [
    "### Labeling Data and converting images to array values"
   ]
  },
  {
   "cell_type": "code",
   "execution_count": 15,
   "id": "e1ae6b28",
   "metadata": {
    "tags": []
   },
   "outputs": [],
   "source": [
    "#import packages for labelling and converting imagery data\n",
    "import pandas as pd\n",
    "import numpy as np\n",
    "import os\n",
    "from keras.preprocessing.image import load_img\n",
    "from keras.preprocessing.image import img_to_array\n",
    "from keras.applications.vgg16 import VGG16\n",
    "from numpy import asarray\n",
    "from sklearn import svm\n",
    "from sklearn.metrics import accuracy_score\n",
    "from catboost import CatBoostClassifier\n",
    "from keras import layers\n",
    "from keras import models\n",
    "from keras.applications.vgg16 import VGG16\n",
    "from keras import optimizers\n",
    "import tensorflow as tf\n",
    "import matplotlib.pyplot as plt"
   ]
  },
  {
   "cell_type": "code",
   "execution_count": 16,
   "id": "28d30167",
   "metadata": {
    "tags": []
   },
   "outputs": [],
   "source": [
    "##############\n",
    "# Func for creating 1D image arrays\n",
    "\n",
    "def load_image_function(path):\n",
    "    images = [] # empty list placeholder\n",
    "    labels = [] # empty list placeholder\n",
    "    container = [] # container to validate correct labels\n",
    "    for filename in os.listdir(path):\n",
    "        container.append(filename) # add filename to container     \n",
    "        CCDY_img = load_img(path + f'/{filename}', target_size = (56, 106),\n",
    "        color_mode=\"grayscale\")                  \n",
    "        CCDY_img = img_to_array(CCDY_img)\n",
    "        images.append(CCDY_img) # append the photo to the images. The images list contains a list of arrays       \n",
    "    return asarray(images), container; # not interested in list of arrays, but array containing lists. Asarray does this. Returns three arrays\n"
   ]
  },
  {
   "cell_type": "code",
   "execution_count": 17,
   "id": "e54d325c",
   "metadata": {
    "tags": []
   },
   "outputs": [],
   "source": [
    "################\n",
    "# Func for creating df with classes and 3d img arrays\n",
    "\n",
    "def load_img_data ():\n",
    "    # Start: creatign classes ons string_digits\n",
    "    # load string digits\n",
    "\n",
    "    #os.chdir(path_string_digits)\n",
    "\n",
    "    string_digits = pd.read_csv('DIDA_12000_String_Digit_Labels.csv', \n",
    "                 header = None, \n",
    "                 names=[\"index\", \"string\"])\n",
    "    # create empty class columns\n",
    "    string_digits['CC'] = 0\n",
    "    string_digits['D'] = 0\n",
    "    string_digits['Y'] = 0\n",
    "    string_digits = string_digits.astype(str)\n",
    "    # Iterate string digits and append classes\n",
    "    for i, row in string_digits.iterrows():\n",
    "        if len(row['string']) != 4:\n",
    "            row['CC'] = '1'\n",
    "            row['D'] = '10'\n",
    "            row['Y'] = '10'\n",
    "        else:\n",
    "            row['D'] = row['string'][2]\n",
    "            row['Y'] = row['string'][3]\n",
    "            if row['string'][0:2] == '18':\n",
    "                row['CC']='0'\n",
    "            else:\n",
    "                row['CC']='1'\n",
    "    # End of class labeling on string_digits.\n",
    "    #\n",
    "    # Start: create img_df containing scaled images as 1D tensors\n",
    "    # Convert imagery to 1D arrays with tagged file names\n",
    "\n",
    "    #os.chdir(path_images)\n",
    "    image_array, filename = load_image_function('DIDA_12000_String_Digit_Images/DIDA_1')\n",
    "\n",
    "    # and convert to a img_df\n",
    "    img_df = pd.DataFrame({'filename': filename, 'img_value': list(image_array)}, \n",
    "                          columns=['filename', 'img_value'])\n",
    "    # Create proper index value in img_df to allow merge on string_digits\n",
    "    img_df['index'] = img_df['filename']\n",
    "    for i, row in img_df.iterrows():\n",
    "        row['index'] = str(img_df['index'][i]).split('.')[0]\n",
    "    img_df\n",
    "    # End of creating img_df\n",
    "    #\n",
    "    # Start: merge img_df with string_digits\n",
    "    # match index type on dataframes to merge\n",
    "    string_digits['index'] = string_digits['index'].astype(int)\n",
    "    img_df['index'] = img_df['index'].astype(int)\n",
    "    # Merge dataframes\n",
    "    df_img_classes = string_digits.merge(img_df)\n",
    "    # Rearrange order of dataframe\n",
    "    df_img_classes = df_img_classes.reindex(columns= ['index', 'string', 'CC', 'D', 'Y', 'img_value', 'filename'])\n",
    "    # End og merging data frames\n",
    "    return df_img_classes\n"
   ]
  },
  {
   "cell_type": "code",
   "execution_count": 18,
   "id": "7cef146f",
   "metadata": {
    "tags": []
   },
   "outputs": [
    {
     "data": {
      "text/html": [
       "<div>\n",
       "<style scoped>\n",
       "    .dataframe tbody tr th:only-of-type {\n",
       "        vertical-align: middle;\n",
       "    }\n",
       "\n",
       "    .dataframe tbody tr th {\n",
       "        vertical-align: top;\n",
       "    }\n",
       "\n",
       "    .dataframe thead th {\n",
       "        text-align: right;\n",
       "    }\n",
       "</style>\n",
       "<table border=\"1\" class=\"dataframe\">\n",
       "  <thead>\n",
       "    <tr style=\"text-align: right;\">\n",
       "      <th></th>\n",
       "      <th>index</th>\n",
       "      <th>string</th>\n",
       "      <th>CC</th>\n",
       "      <th>D</th>\n",
       "      <th>Y</th>\n",
       "      <th>img_value</th>\n",
       "      <th>filename</th>\n",
       "    </tr>\n",
       "  </thead>\n",
       "  <tbody>\n",
       "    <tr>\n",
       "      <th>0</th>\n",
       "      <td>2349</td>\n",
       "      <td>1817</td>\n",
       "      <td>0</td>\n",
       "      <td>1</td>\n",
       "      <td>7</td>\n",
       "      <td>[[[156.0], [157.0], [158.0], [158.0], [159.0],...</td>\n",
       "      <td>2349.jpg</td>\n",
       "    </tr>\n",
       "    <tr>\n",
       "      <th>1</th>\n",
       "      <td>6395</td>\n",
       "      <td>1821</td>\n",
       "      <td>0</td>\n",
       "      <td>2</td>\n",
       "      <td>1</td>\n",
       "      <td>[[[80.0], [86.0], [81.0], [80.0], [85.0], [90....</td>\n",
       "      <td>6395.jpg</td>\n",
       "    </tr>\n",
       "    <tr>\n",
       "      <th>2</th>\n",
       "      <td>10992</td>\n",
       "      <td>1818</td>\n",
       "      <td>0</td>\n",
       "      <td>1</td>\n",
       "      <td>8</td>\n",
       "      <td>[[[157.0], [162.0], [164.0], [160.0], [158.0],...</td>\n",
       "      <td>10992.jpg</td>\n",
       "    </tr>\n",
       "    <tr>\n",
       "      <th>3</th>\n",
       "      <td>1619</td>\n",
       "      <td>1824</td>\n",
       "      <td>0</td>\n",
       "      <td>2</td>\n",
       "      <td>4</td>\n",
       "      <td>[[[140.0], [138.0], [137.0], [136.0], [138.0],...</td>\n",
       "      <td>1619.jpg</td>\n",
       "    </tr>\n",
       "    <tr>\n",
       "      <th>4</th>\n",
       "      <td>4629</td>\n",
       "      <td>1812</td>\n",
       "      <td>0</td>\n",
       "      <td>1</td>\n",
       "      <td>2</td>\n",
       "      <td>[[[205.0], [204.0], [205.0], [200.0], [202.0],...</td>\n",
       "      <td>4629.jpg</td>\n",
       "    </tr>\n",
       "    <tr>\n",
       "      <th>...</th>\n",
       "      <td>...</td>\n",
       "      <td>...</td>\n",
       "      <td>...</td>\n",
       "      <td>...</td>\n",
       "      <td>...</td>\n",
       "      <td>...</td>\n",
       "      <td>...</td>\n",
       "    </tr>\n",
       "    <tr>\n",
       "      <th>11995</th>\n",
       "      <td>7912</td>\n",
       "      <td>1816</td>\n",
       "      <td>0</td>\n",
       "      <td>1</td>\n",
       "      <td>6</td>\n",
       "      <td>[[[153.0], [144.0], [143.0], [144.0], [137.0],...</td>\n",
       "      <td>7912.jpg</td>\n",
       "    </tr>\n",
       "    <tr>\n",
       "      <th>11996</th>\n",
       "      <td>9799</td>\n",
       "      <td>1836</td>\n",
       "      <td>0</td>\n",
       "      <td>3</td>\n",
       "      <td>6</td>\n",
       "      <td>[[[170.0], [171.0], [172.0], [173.0], [173.0],...</td>\n",
       "      <td>9799.jpg</td>\n",
       "    </tr>\n",
       "    <tr>\n",
       "      <th>11997</th>\n",
       "      <td>324</td>\n",
       "      <td>1804</td>\n",
       "      <td>0</td>\n",
       "      <td>0</td>\n",
       "      <td>4</td>\n",
       "      <td>[[[141.0], [141.0], [142.0], [141.0], [139.0],...</td>\n",
       "      <td>324.jpg</td>\n",
       "    </tr>\n",
       "    <tr>\n",
       "      <th>11998</th>\n",
       "      <td>8563</td>\n",
       "      <td>1820</td>\n",
       "      <td>0</td>\n",
       "      <td>2</td>\n",
       "      <td>0</td>\n",
       "      <td>[[[122.0], [128.0], [126.0], [128.0], [133.0],...</td>\n",
       "      <td>8563.jpg</td>\n",
       "    </tr>\n",
       "    <tr>\n",
       "      <th>11999</th>\n",
       "      <td>9638</td>\n",
       "      <td>1835</td>\n",
       "      <td>0</td>\n",
       "      <td>3</td>\n",
       "      <td>5</td>\n",
       "      <td>[[[161.0], [159.0], [162.0], [161.0], [159.0],...</td>\n",
       "      <td>9638.jpg</td>\n",
       "    </tr>\n",
       "  </tbody>\n",
       "</table>\n",
       "<p>12000 rows × 7 columns</p>\n",
       "</div>"
      ],
      "text/plain": [
       "       index string CC  D  Y  \\\n",
       "0       2349   1817  0  1  7   \n",
       "1       6395   1821  0  2  1   \n",
       "2      10992   1818  0  1  8   \n",
       "3       1619   1824  0  2  4   \n",
       "4       4629   1812  0  1  2   \n",
       "...      ...    ... .. .. ..   \n",
       "11995   7912   1816  0  1  6   \n",
       "11996   9799   1836  0  3  6   \n",
       "11997    324   1804  0  0  4   \n",
       "11998   8563   1820  0  2  0   \n",
       "11999   9638   1835  0  3  5   \n",
       "\n",
       "                                               img_value   filename  \n",
       "0      [[[156.0], [157.0], [158.0], [158.0], [159.0],...   2349.jpg  \n",
       "1      [[[80.0], [86.0], [81.0], [80.0], [85.0], [90....   6395.jpg  \n",
       "2      [[[157.0], [162.0], [164.0], [160.0], [158.0],...  10992.jpg  \n",
       "3      [[[140.0], [138.0], [137.0], [136.0], [138.0],...   1619.jpg  \n",
       "4      [[[205.0], [204.0], [205.0], [200.0], [202.0],...   4629.jpg  \n",
       "...                                                  ...        ...  \n",
       "11995  [[[153.0], [144.0], [143.0], [144.0], [137.0],...   7912.jpg  \n",
       "11996  [[[170.0], [171.0], [172.0], [173.0], [173.0],...   9799.jpg  \n",
       "11997  [[[141.0], [141.0], [142.0], [141.0], [139.0],...    324.jpg  \n",
       "11998  [[[122.0], [128.0], [126.0], [128.0], [133.0],...   8563.jpg  \n",
       "11999  [[[161.0], [159.0], [162.0], [161.0], [159.0],...   9638.jpg  \n",
       "\n",
       "[12000 rows x 7 columns]"
      ]
     },
     "execution_count": 18,
     "metadata": {},
     "output_type": "execute_result"
    }
   ],
   "source": [
    "#load data and shuffle them around\n",
    "df = load_img_data()\n",
    "df = df.sample(frac=1).reset_index(drop=True)\n",
    "df"
   ]
  },
  {
   "cell_type": "markdown",
   "id": "9e941a75",
   "metadata": {
    "tags": []
   },
   "source": [
    "### Defining fixed train, test and valdiation sets."
   ]
  },
  {
   "cell_type": "code",
   "execution_count": 19,
   "id": "fbdf19fb",
   "metadata": {},
   "outputs": [],
   "source": [
    "df = df.drop(columns=['index','string','filename'])"
   ]
  },
  {
   "cell_type": "markdown",
   "id": "c85a00a8",
   "metadata": {
    "tags": []
   },
   "source": [
    "### Split train, val, test"
   ]
  },
  {
   "cell_type": "markdown",
   "id": "613f5ef5",
   "metadata": {
    "tags": []
   },
   "source": [
    "#### Subsetting df"
   ]
  },
  {
   "cell_type": "code",
   "execution_count": 20,
   "id": "d9f7ee9d",
   "metadata": {
    "tags": []
   },
   "outputs": [],
   "source": [
    "x_train = df.loc[0:7679]\n",
    "x_val = df.loc[7680:9599]\n",
    "x_test = df.loc[9600:11999]"
   ]
  },
  {
   "cell_type": "markdown",
   "id": "f87a200e",
   "metadata": {
    "tags": []
   },
   "source": [
    "#### Creating labels"
   ]
  },
  {
   "cell_type": "code",
   "execution_count": 21,
   "id": "fe2a1fbc",
   "metadata": {
    "tags": []
   },
   "outputs": [],
   "source": [
    "#### training labels ###\n",
    "Y_train = x_train['Y']\n",
    "Y_train = Y_train.astype(np.uint8)\n",
    "D_train = x_train['D']\n",
    "D_train = D_train.astype(np.uint8)\n",
    "CC_train = x_train['CC']\n",
    "CC_train = CC_train.astype(np.uint8)\n",
    "\n",
    "#### validation labels ###\n",
    "Y_val = x_val['Y']\n",
    "Y_val = Y_val.astype(np.uint8)\n",
    "D_val = x_val['D']\n",
    "D_val = D_val.astype(np.uint8)\n",
    "CC_val = x_val['CC']\n",
    "CC_val = CC_val.astype(np.uint8)\n",
    "\n",
    "#### test labels ###\n",
    "Y_test = x_test['Y']\n",
    "Y_test = Y_test.astype(np.uint8)\n",
    "D_test = x_test['D']\n",
    "D_test = D_test.astype(np.uint8)\n",
    "CC_test = x_test['CC']\n",
    "CC_test = CC_test.astype(np.uint8)\n"
   ]
  },
  {
   "cell_type": "markdown",
   "id": "8db5145b",
   "metadata": {
    "tags": []
   },
   "source": [
    "#### Creating image values"
   ]
  },
  {
   "cell_type": "code",
   "execution_count": 22,
   "id": "54a43c88",
   "metadata": {
    "tags": []
   },
   "outputs": [],
   "source": [
    "# train\n",
    "values = np.zeros(shape=(len(x_train),56,106,1))\n",
    "i = 0\n",
    "j = 0\n",
    "while i < len(x_train):\n",
    "    values[i] = x_train['img_value'][j]\n",
    "    i += 1\n",
    "    j+=1\n",
    "x_train = values/255\n",
    "\n",
    "# val\n",
    "values = np.zeros(shape=(len(x_val),56,106,1))\n",
    "i = 0\n",
    "j = 7680\n",
    "while i < len(x_val):\n",
    "    values[i] = x_val['img_value'][j]\n",
    "    i += 1\n",
    "    j+=1\n",
    "x_val = values/255\n",
    "\n",
    "# test\n",
    "values = np.zeros(shape=(len(x_test),56,106,1))\n",
    "i = 0\n",
    "j = 9600\n",
    "while i < len(x_test):\n",
    "    values[i] = x_test['img_value'][j]\n",
    "    i += 1\n",
    "    j+=1\n",
    "x_test = values/255\n"
   ]
  },
  {
   "cell_type": "markdown",
   "id": "a8cafc15",
   "metadata": {
    "tags": []
   },
   "source": [
    "## Question 1"
   ]
  },
  {
   "cell_type": "markdown",
   "id": "ab4319cf",
   "metadata": {
    "tags": []
   },
   "source": [
    "### 1.2 Non-deeplearning CC-D-Y models"
   ]
  },
  {
   "cell_type": "code",
   "execution_count": 10,
   "id": "b0478f42",
   "metadata": {},
   "outputs": [],
   "source": [
    "x_train_flat = x_train.reshape((len(x_train), -1))\n",
    "x_val_flat = x_val.reshape((len(x_val), -1))\n",
    "x_test_flat = x_test.reshape((len(x_test), -1))"
   ]
  },
  {
   "cell_type": "code",
   "execution_count": 24,
   "id": "ede4b281",
   "metadata": {},
   "outputs": [],
   "source": [
    "def score_calc(model,y_test,x_test):\n",
    "    score = 0.0\n",
    "    preds = model.predict(x_test)\n",
    "    i = 0\n",
    "    for row in y_test:\n",
    "        if str(row) == str(preds[i][0]):\n",
    "            score = score + (1/3)\n",
    "        i= i + 1\n",
    "    return score"
   ]
  },
  {
   "cell_type": "markdown",
   "id": "b9b75e5e",
   "metadata": {
    "tags": []
   },
   "source": [
    "#### SVM, modelCC"
   ]
  },
  {
   "cell_type": "code",
   "execution_count": 11,
   "id": "2de3b475",
   "metadata": {},
   "outputs": [
    {
     "data": {
      "text/plain": [
       "97.55208333333333"
      ]
     },
     "execution_count": 11,
     "metadata": {},
     "output_type": "execute_result"
    }
   ],
   "source": [
    "model = svm.SVC()\n",
    "model.fit(x_train_flat, CC_train)\n",
    "val_hat = model.predict(x_val_flat)\n",
    "accuracy = accuracy_score(val_hat, CC_val)*100\n",
    "accuracy"
   ]
  },
  {
   "cell_type": "markdown",
   "id": "92448366",
   "metadata": {
    "jp-MarkdownHeadingCollapsed": true,
    "tags": []
   },
   "source": [
    "#### Catboost, modelD"
   ]
  },
  {
   "cell_type": "code",
   "execution_count": 16,
   "id": "6435379c",
   "metadata": {},
   "outputs": [
    {
     "name": "stdout",
     "output_type": "stream",
     "text": [
      "0:\tlearn: 2.2887629\ttotal: 136ms\tremaining: 13.5s\n",
      "50:\tlearn: 1.8662520\ttotal: 4.91s\tremaining: 4.72s\n",
      "99:\tlearn: 1.6777988\ttotal: 9.37s\tremaining: 0us\n",
      "[0.396875, 0.01, 100, 4]\n",
      "0:\tlearn: 2.2886103\ttotal: 330ms\tremaining: 32.7s\n",
      "50:\tlearn: 1.8515984\ttotal: 16.2s\tremaining: 15.6s\n",
      "99:\tlearn: 1.6450200\ttotal: 31.7s\tremaining: 0us\n",
      "[0.44114583333333335, 0.01, 100, 6]\n",
      "0:\tlearn: 2.1705851\ttotal: 115ms\tremaining: 11.3s\n",
      "50:\tlearn: 1.3272531\ttotal: 4.69s\tremaining: 4.51s\n",
      "99:\tlearn: 1.1892576\ttotal: 9.17s\tremaining: 0us\n",
      "[0.5171875, 0.1, 100, 4]\n",
      "0:\tlearn: 2.1687604\ttotal: 328ms\tremaining: 32.5s\n",
      "50:\tlearn: 1.2001364\ttotal: 16.6s\tremaining: 16s\n",
      "99:\tlearn: 1.0085116\ttotal: 32.4s\tremaining: 0us\n",
      "[0.5536458333333333, 0.1, 100, 6]\n",
      "0:\tlearn: 2.2887634\ttotal: 116ms\tremaining: 23s\n",
      "50:\tlearn: 1.8662523\ttotal: 4.79s\tremaining: 14s\n",
      "100:\tlearn: 1.6750856\ttotal: 9.27s\tremaining: 9.08s\n",
      "150:\tlearn: 1.5682842\ttotal: 13.3s\tremaining: 4.33s\n",
      "199:\tlearn: 1.5017392\ttotal: 17.6s\tremaining: 0us\n",
      "[0.4395833333333333, 0.01, 200, 4]\n",
      "0:\tlearn: 2.2886103\ttotal: 283ms\tremaining: 56.3s\n",
      "50:\tlearn: 1.8515985\ttotal: 14.1s\tremaining: 41.2s\n",
      "100:\tlearn: 1.6420564\ttotal: 28.1s\tremaining: 27.5s\n",
      "150:\tlearn: 1.5181227\ttotal: 42.1s\tremaining: 13.6s\n",
      "199:\tlearn: 1.4345968\ttotal: 56s\tremaining: 0us\n",
      "[0.5041666666666667, 0.01, 200, 6]\n",
      "0:\tlearn: 2.1705851\ttotal: 104ms\tremaining: 20.7s\n",
      "50:\tlearn: 1.3272531\ttotal: 4.17s\tremaining: 12.2s\n",
      "100:\tlearn: 1.1876480\ttotal: 8.12s\tremaining: 7.96s\n",
      "150:\tlearn: 1.0815834\ttotal: 12s\tremaining: 3.9s\n",
      "199:\tlearn: 0.9949005\ttotal: 15.8s\tremaining: 0us\n",
      "[0.5494791666666666, 0.1, 200, 4]\n",
      "0:\tlearn: 2.1687602\ttotal: 281ms\tremaining: 55.9s\n",
      "50:\tlearn: 1.2001363\ttotal: 13.9s\tremaining: 40.7s\n",
      "100:\tlearn: 1.0046029\ttotal: 27.3s\tremaining: 26.8s\n",
      "150:\tlearn: 0.8669083\ttotal: 40.5s\tremaining: 13.1s\n",
      "199:\tlearn: 0.7571209\ttotal: 53.3s\tremaining: 0us\n",
      "[0.5854166666666667, 0.1, 200, 6]\n",
      "0:\tlearn: 2.2887632\ttotal: 101ms\tremaining: 50.2s\n",
      "50:\tlearn: 1.8662523\ttotal: 4.07s\tremaining: 35.8s\n",
      "100:\tlearn: 1.6750857\ttotal: 8.03s\tremaining: 31.7s\n",
      "150:\tlearn: 1.5682840\ttotal: 12s\tremaining: 27.8s\n",
      "200:\tlearn: 1.5006535\ttotal: 16s\tremaining: 23.8s\n",
      "250:\tlearn: 1.4544815\ttotal: 20s\tremaining: 19.9s\n",
      "300:\tlearn: 1.4190783\ttotal: 24s\tremaining: 15.9s\n",
      "350:\tlearn: 1.3907672\ttotal: 28s\tremaining: 11.9s\n",
      "400:\tlearn: 1.3665231\ttotal: 32s\tremaining: 7.89s\n",
      "450:\tlearn: 1.3449716\ttotal: 35.9s\tremaining: 3.9s\n",
      "499:\tlearn: 1.3274111\ttotal: 39.8s\tremaining: 0us\n",
      "[0.5057291666666667, 0.01, 500, 4]\n",
      "0:\tlearn: 2.2886106\ttotal: 292ms\tremaining: 2m 25s\n",
      "50:\tlearn: 1.8515984\ttotal: 13.9s\tremaining: 2m 2s\n",
      "100:\tlearn: 1.6420567\ttotal: 27.4s\tremaining: 1m 48s\n",
      "150:\tlearn: 1.5181229\ttotal: 41.3s\tremaining: 1m 35s\n",
      "200:\tlearn: 1.4333029\ttotal: 55s\tremaining: 1m 21s\n",
      "250:\tlearn: 1.3721158\ttotal: 1m 9s\tremaining: 1m 8s\n",
      "300:\tlearn: 1.3240788\ttotal: 1m 23s\tremaining: 54.9s\n",
      "350:\tlearn: 1.2839793\ttotal: 1m 37s\tremaining: 41.2s\n",
      "400:\tlearn: 1.2515505\ttotal: 1m 50s\tremaining: 27.3s\n",
      "450:\tlearn: 1.2226114\ttotal: 2m 4s\tremaining: 13.5s\n",
      "499:\tlearn: 1.1964094\ttotal: 2m 17s\tremaining: 0us\n",
      "[0.5536458333333333, 0.01, 500, 6]\n",
      "0:\tlearn: 2.1705851\ttotal: 99.4ms\tremaining: 49.6s\n",
      "50:\tlearn: 1.3272533\ttotal: 4.04s\tremaining: 35.6s\n",
      "100:\tlearn: 1.1876478\ttotal: 7.96s\tremaining: 31.5s\n",
      "150:\tlearn: 1.0815834\ttotal: 11.8s\tremaining: 27.4s\n",
      "200:\tlearn: 0.9933717\ttotal: 15.7s\tremaining: 23.4s\n",
      "250:\tlearn: 0.9257139\ttotal: 19.6s\tremaining: 19.4s\n",
      "300:\tlearn: 0.8651268\ttotal: 23.4s\tremaining: 15.5s\n",
      "350:\tlearn: 0.8082417\ttotal: 27.5s\tremaining: 11.7s\n",
      "400:\tlearn: 0.7640357\ttotal: 31.4s\tremaining: 7.76s\n",
      "450:\tlearn: 0.7215193\ttotal: 35.3s\tremaining: 3.84s\n",
      "499:\tlearn: 0.6852338\ttotal: 39.1s\tremaining: 0us\n",
      "[0.59375, 0.1, 500, 4]\n",
      "0:\tlearn: 2.1687604\ttotal: 289ms\tremaining: 2m 24s\n",
      "50:\tlearn: 1.2001364\ttotal: 14s\tremaining: 2m 2s\n",
      "100:\tlearn: 1.0046030\ttotal: 27.7s\tremaining: 1m 49s\n",
      "150:\tlearn: 0.8669083\ttotal: 41.1s\tremaining: 1m 34s\n",
      "200:\tlearn: 0.7563420\ttotal: 54.1s\tremaining: 1m 20s\n",
      "250:\tlearn: 0.6705923\ttotal: 1m 7s\tremaining: 1m 6s\n",
      "300:\tlearn: 0.6043176\ttotal: 1m 20s\tremaining: 53s\n",
      "350:\tlearn: 0.5444080\ttotal: 1m 32s\tremaining: 39.4s\n",
      "400:\tlearn: 0.4939878\ttotal: 1m 45s\tremaining: 26s\n",
      "450:\tlearn: 0.4500450\ttotal: 1m 57s\tremaining: 12.8s\n",
      "499:\tlearn: 0.4112119\ttotal: 2m 10s\tremaining: 0us\n",
      "[0.6276041666666666, 0.1, 500, 6]\n"
     ]
    },
    {
     "data": {
      "text/html": [
       "<div>\n",
       "<style scoped>\n",
       "    .dataframe tbody tr th:only-of-type {\n",
       "        vertical-align: middle;\n",
       "    }\n",
       "\n",
       "    .dataframe tbody tr th {\n",
       "        vertical-align: top;\n",
       "    }\n",
       "\n",
       "    .dataframe thead th {\n",
       "        text-align: right;\n",
       "    }\n",
       "</style>\n",
       "<table border=\"1\" class=\"dataframe\">\n",
       "  <thead>\n",
       "    <tr style=\"text-align: right;\">\n",
       "      <th></th>\n",
       "      <th>accuracy</th>\n",
       "      <th>learning_rate</th>\n",
       "      <th>n_estimators</th>\n",
       "      <th>depth</th>\n",
       "    </tr>\n",
       "  </thead>\n",
       "  <tbody>\n",
       "    <tr>\n",
       "      <th>11</th>\n",
       "      <td>0.627604</td>\n",
       "      <td>0.10</td>\n",
       "      <td>500</td>\n",
       "      <td>6</td>\n",
       "    </tr>\n",
       "    <tr>\n",
       "      <th>10</th>\n",
       "      <td>0.593750</td>\n",
       "      <td>0.10</td>\n",
       "      <td>500</td>\n",
       "      <td>4</td>\n",
       "    </tr>\n",
       "    <tr>\n",
       "      <th>7</th>\n",
       "      <td>0.585417</td>\n",
       "      <td>0.10</td>\n",
       "      <td>200</td>\n",
       "      <td>6</td>\n",
       "    </tr>\n",
       "    <tr>\n",
       "      <th>3</th>\n",
       "      <td>0.553646</td>\n",
       "      <td>0.10</td>\n",
       "      <td>100</td>\n",
       "      <td>6</td>\n",
       "    </tr>\n",
       "    <tr>\n",
       "      <th>9</th>\n",
       "      <td>0.553646</td>\n",
       "      <td>0.01</td>\n",
       "      <td>500</td>\n",
       "      <td>6</td>\n",
       "    </tr>\n",
       "    <tr>\n",
       "      <th>6</th>\n",
       "      <td>0.549479</td>\n",
       "      <td>0.10</td>\n",
       "      <td>200</td>\n",
       "      <td>4</td>\n",
       "    </tr>\n",
       "    <tr>\n",
       "      <th>2</th>\n",
       "      <td>0.517188</td>\n",
       "      <td>0.10</td>\n",
       "      <td>100</td>\n",
       "      <td>4</td>\n",
       "    </tr>\n",
       "    <tr>\n",
       "      <th>8</th>\n",
       "      <td>0.505729</td>\n",
       "      <td>0.01</td>\n",
       "      <td>500</td>\n",
       "      <td>4</td>\n",
       "    </tr>\n",
       "    <tr>\n",
       "      <th>5</th>\n",
       "      <td>0.504167</td>\n",
       "      <td>0.01</td>\n",
       "      <td>200</td>\n",
       "      <td>6</td>\n",
       "    </tr>\n",
       "    <tr>\n",
       "      <th>1</th>\n",
       "      <td>0.441146</td>\n",
       "      <td>0.01</td>\n",
       "      <td>100</td>\n",
       "      <td>6</td>\n",
       "    </tr>\n",
       "    <tr>\n",
       "      <th>4</th>\n",
       "      <td>0.439583</td>\n",
       "      <td>0.01</td>\n",
       "      <td>200</td>\n",
       "      <td>4</td>\n",
       "    </tr>\n",
       "    <tr>\n",
       "      <th>0</th>\n",
       "      <td>0.396875</td>\n",
       "      <td>0.01</td>\n",
       "      <td>100</td>\n",
       "      <td>4</td>\n",
       "    </tr>\n",
       "  </tbody>\n",
       "</table>\n",
       "</div>"
      ],
      "text/plain": [
       "    accuracy  learning_rate  n_estimators  depth\n",
       "11  0.627604           0.10           500      6\n",
       "10  0.593750           0.10           500      4\n",
       "7   0.585417           0.10           200      6\n",
       "3   0.553646           0.10           100      6\n",
       "9   0.553646           0.01           500      6\n",
       "6   0.549479           0.10           200      4\n",
       "2   0.517188           0.10           100      4\n",
       "8   0.505729           0.01           500      4\n",
       "5   0.504167           0.01           200      6\n",
       "1   0.441146           0.01           100      6\n",
       "4   0.439583           0.01           200      4\n",
       "0   0.396875           0.01           100      4"
      ]
     },
     "execution_count": 16,
     "metadata": {},
     "output_type": "execute_result"
    }
   ],
   "source": [
    "results_catboost_D = []\n",
    "n_iterations = [100,200,500]\n",
    "lr = [0.01,0.1]\n",
    "n_depth = [4,6]\n",
    "loss_f = 'MultiClass'\n",
    "\n",
    "for iters in n_iterations:\n",
    "    for ls in lr:\n",
    "        for depths in n_depth:\n",
    "            model_D = CatBoostClassifier(iterations=iters,\n",
    "                                        learning_rate=ls,\n",
    "                                        depth=depths,\n",
    "                                        loss_function=loss_f,\n",
    "                                        task_type=\"GPU\",\n",
    "                                        devices='0:1')\n",
    "\n",
    "            model_D.fit(x_train_flat, D_train, verbose=50)\n",
    "            acc = model_D.score(x_val_flat,D_val)\n",
    "            # the results from the different hyperparameters are then stored so we can get the best one\n",
    "            results_catboost_D.append([acc,ls,iters, depths])\n",
    "            print([acc,ls,iters, depths])\n",
    "results_df_catboost_D = pd.DataFrame(results_catboost_D)\n",
    "results_df_catboost_D.columns=['accuracy',\"learning_rate\",\"n_estimators\", \"depth\"]\n",
    "#prints the results from best to worst in regards to accuracy, listting the hyperparameters for the result\n",
    "results_df_catboost_D = results_df_catboost_D.sort_values('accuracy', ascending=False)\n",
    "results_df_catboost_D\n"
   ]
  },
  {
   "cell_type": "code",
   "execution_count": 17,
   "id": "84a59dff",
   "metadata": {},
   "outputs": [],
   "source": [
    "results_df_catboost_D.to_csv('Catboost_results_DECADE')"
   ]
  },
  {
   "cell_type": "code",
   "execution_count": 18,
   "id": "3b2f61e8",
   "metadata": {},
   "outputs": [
    {
     "data": {
      "text/plain": [
       "0.6420833333333333"
      ]
     },
     "execution_count": 18,
     "metadata": {},
     "output_type": "execute_result"
    }
   ],
   "source": [
    "test_acc = model_D.score(x_test_flat,D_test)\n",
    "test_acc"
   ]
  },
  {
   "cell_type": "code",
   "execution_count": 25,
   "id": "1021b564",
   "metadata": {},
   "outputs": [
    {
     "data": {
      "text/plain": [
       "513.6666666666551"
      ]
     },
     "execution_count": 25,
     "metadata": {},
     "output_type": "execute_result"
    }
   ],
   "source": [
    "test_Score = score_calc(model_D,D_test,x_test_flat)\n",
    "test_Score"
   ]
  },
  {
   "cell_type": "markdown",
   "id": "3f17ee74",
   "metadata": {
    "jp-MarkdownHeadingCollapsed": true,
    "tags": []
   },
   "source": [
    "#### Catboost, modelY"
   ]
  },
  {
   "cell_type": "code",
   "execution_count": 19,
   "id": "1bed6f2b",
   "metadata": {},
   "outputs": [
    {
     "name": "stdout",
     "output_type": "stream",
     "text": [
      "0:\tlearn: 2.3600619\ttotal: 396ms\tremaining: 3m 17s\n",
      "50:\tlearn: 1.7120842\ttotal: 18.4s\tremaining: 2m 42s\n",
      "100:\tlearn: 1.4128335\ttotal: 36.3s\tremaining: 2m 23s\n",
      "150:\tlearn: 1.2094868\ttotal: 53s\tremaining: 2m 2s\n",
      "200:\tlearn: 1.0706529\ttotal: 1m 9s\tremaining: 1m 43s\n",
      "250:\tlearn: 0.9751101\ttotal: 1m 24s\tremaining: 1m 24s\n",
      "300:\tlearn: 0.8843965\ttotal: 1m 40s\tremaining: 1m 6s\n",
      "350:\tlearn: 0.8116300\ttotal: 1m 55s\tremaining: 49.2s\n",
      "400:\tlearn: 0.7521682\ttotal: 2m 10s\tremaining: 32.3s\n",
      "450:\tlearn: 0.7016064\ttotal: 2m 25s\tremaining: 15.9s\n",
      "499:\tlearn: 0.6563481\ttotal: 2m 40s\tremaining: 0us\n"
     ]
    },
    {
     "data": {
      "text/html": [
       "<div>\n",
       "<style scoped>\n",
       "    .dataframe tbody tr th:only-of-type {\n",
       "        vertical-align: middle;\n",
       "    }\n",
       "\n",
       "    .dataframe tbody tr th {\n",
       "        vertical-align: top;\n",
       "    }\n",
       "\n",
       "    .dataframe thead th {\n",
       "        text-align: right;\n",
       "    }\n",
       "</style>\n",
       "<table border=\"1\" class=\"dataframe\">\n",
       "  <thead>\n",
       "    <tr style=\"text-align: right;\">\n",
       "      <th></th>\n",
       "      <th>accuracy</th>\n",
       "      <th>learning_rate</th>\n",
       "      <th>n_estimators</th>\n",
       "      <th>depth</th>\n",
       "    </tr>\n",
       "  </thead>\n",
       "  <tbody>\n",
       "    <tr>\n",
       "      <th>0</th>\n",
       "      <td>0.547396</td>\n",
       "      <td>0.1</td>\n",
       "      <td>500</td>\n",
       "      <td>6</td>\n",
       "    </tr>\n",
       "  </tbody>\n",
       "</table>\n",
       "</div>"
      ],
      "text/plain": [
       "   accuracy  learning_rate  n_estimators  depth\n",
       "0  0.547396            0.1           500      6"
      ]
     },
     "execution_count": 19,
     "metadata": {},
     "output_type": "execute_result"
    }
   ],
   "source": [
    "results_cat_Y = []\n",
    "n_iterations = [500]#,200,100]\n",
    "lr = [0.1]#,0.01]\n",
    "n_depth = [6]#,4]\n",
    "loss_f = 'MultiClass'\n",
    "\n",
    "for iters in n_iterations:\n",
    "    for ls in lr:\n",
    "        for depths in n_depth:\n",
    "            model_Y = CatBoostClassifier(iterations=iters,\n",
    "                                        learning_rate=ls,\n",
    "                                        depth=depths,\n",
    "                                        loss_function=loss_f,\n",
    "                                        task_type=\"GPU\",\n",
    "                                        devices='0:1')\n",
    "\n",
    "            model_Y.fit(x_train_flat, Y_train, verbose=50)\n",
    "            acc = model_Y.score(x_val_flat,Y_val)\n",
    "            # the results from the different hyperparameters are then stored so we can get the best one\n",
    "            results_cat_Y.append([acc,ls,iters, depths])\n",
    "results_df_cat_Y = pd.DataFrame(results_cat_Y)\n",
    "results_df_cat_Y.columns=['accuracy',\"learning_rate\",\"n_estimators\", \"depth\"]\n",
    "#prints the results from best to worst in regards to accuracy, listting the hyperparameters for the result\n",
    "results_df_cat_Y = results_df_cat_Y.sort_values('accuracy', ascending=False)\n",
    "results_df_cat_Y"
   ]
  },
  {
   "cell_type": "code",
   "execution_count": 19,
   "id": "e614d157",
   "metadata": {},
   "outputs": [],
   "source": [
    "results_df_cat_Y.to_csv('Catboost_results_YEAR')"
   ]
  },
  {
   "cell_type": "code",
   "execution_count": 20,
   "id": "4b0431ea",
   "metadata": {},
   "outputs": [
    {
     "data": {
      "text/plain": [
       "0.5541666666666667"
      ]
     },
     "execution_count": 20,
     "metadata": {},
     "output_type": "execute_result"
    }
   ],
   "source": [
    "test_acc = model_Y.score(x_test_flat,Y_test)\n",
    "test_acc"
   ]
  },
  {
   "cell_type": "code",
   "execution_count": 26,
   "id": "9547247e",
   "metadata": {},
   "outputs": [
    {
     "data": {
      "text/plain": [
       "443.3333333333256"
      ]
     },
     "execution_count": 26,
     "metadata": {},
     "output_type": "execute_result"
    }
   ],
   "source": [
    "test_Score = score_calc(model_Y,Y_test,x_test_flat)\n",
    "test_Score"
   ]
  },
  {
   "cell_type": "markdown",
   "id": "68d04c32",
   "metadata": {
    "tags": []
   },
   "source": [
    "## Question 2"
   ]
  },
  {
   "cell_type": "markdown",
   "id": "34bd87c3",
   "metadata": {
    "jp-MarkdownHeadingCollapsed": true,
    "tags": []
   },
   "source": [
    "### 2.2.A Construct a CNN"
   ]
  },
  {
   "cell_type": "code",
   "execution_count": null,
   "id": "52c5da04",
   "metadata": {},
   "outputs": [],
   "source": []
  },
  {
   "cell_type": "markdown",
   "id": "864bf950",
   "metadata": {
    "jp-MarkdownHeadingCollapsed": true,
    "tags": []
   },
   "source": [
    "### 2.2.B Regularization"
   ]
  },
  {
   "cell_type": "code",
   "execution_count": null,
   "id": "fbc0a33c",
   "metadata": {},
   "outputs": [],
   "source": []
  },
  {
   "cell_type": "markdown",
   "id": "b3daf808",
   "metadata": {
    "jp-MarkdownHeadingCollapsed": true,
    "tags": []
   },
   "source": [
    "### 2.2.C Augmentation"
   ]
  },
  {
   "cell_type": "code",
   "execution_count": null,
   "id": "ebaac708",
   "metadata": {},
   "outputs": [],
   "source": []
  },
  {
   "cell_type": "markdown",
   "id": "c74fe462",
   "metadata": {
    "jp-MarkdownHeadingCollapsed": true,
    "tags": []
   },
   "source": [
    "### 2.2.D Transfer learning"
   ]
  },
  {
   "cell_type": "markdown",
   "id": "164b6190",
   "metadata": {},
   "source": [
    "#### CC model"
   ]
  },
  {
   "cell_type": "code",
   "execution_count": 23,
   "id": "803159f9",
   "metadata": {},
   "outputs": [],
   "source": [
    "x_train_transfer = tf.image.grayscale_to_rgb(tf.constant(x_train))\n",
    "x_test_transfer = tf.image.grayscale_to_rgb(tf.constant(x_test))\n",
    "x_val_transfer = tf.image.grayscale_to_rgb(tf.constant(x_val))"
   ]
  },
  {
   "cell_type": "code",
   "execution_count": 29,
   "id": "76365c33",
   "metadata": {},
   "outputs": [
    {
     "name": "stdout",
     "output_type": "stream",
     "text": [
      "Model: \"model_4\"\n",
      "_________________________________________________________________\n",
      " Layer (type)                Output Shape              Param #   \n",
      "=================================================================\n",
      " input_5 (InputLayer)        [(None, 56, 106, 3)]      0         \n",
      "                                                                 \n",
      " block1_conv1 (Conv2D)       (None, 56, 106, 64)       1792      \n",
      "                                                                 \n",
      " block1_conv2 (Conv2D)       (None, 56, 106, 64)       36928     \n",
      "                                                                 \n",
      " block1_pool (MaxPooling2D)  (None, 28, 53, 64)        0         \n",
      "                                                                 \n",
      " block2_conv1 (Conv2D)       (None, 28, 53, 128)       73856     \n",
      "                                                                 \n",
      " block2_conv2 (Conv2D)       (None, 28, 53, 128)       147584    \n",
      "                                                                 \n",
      " block2_pool (MaxPooling2D)  (None, 14, 26, 128)       0         \n",
      "                                                                 \n",
      " block3_conv1 (Conv2D)       (None, 14, 26, 256)       295168    \n",
      "                                                                 \n",
      " block3_conv2 (Conv2D)       (None, 14, 26, 256)       590080    \n",
      "                                                                 \n",
      " block3_conv3 (Conv2D)       (None, 14, 26, 256)       590080    \n",
      "                                                                 \n",
      " block3_pool (MaxPooling2D)  (None, 7, 13, 256)        0         \n",
      "                                                                 \n",
      " block4_conv1 (Conv2D)       (None, 7, 13, 512)        1180160   \n",
      "                                                                 \n",
      " block4_conv2 (Conv2D)       (None, 7, 13, 512)        2359808   \n",
      "                                                                 \n",
      " block4_conv3 (Conv2D)       (None, 7, 13, 512)        2359808   \n",
      "                                                                 \n",
      " block4_pool (MaxPooling2D)  (None, 3, 6, 512)         0         \n",
      "                                                                 \n",
      " block5_conv1 (Conv2D)       (None, 3, 6, 512)         2359808   \n",
      "                                                                 \n",
      " block5_conv2 (Conv2D)       (None, 3, 6, 512)         2359808   \n",
      "                                                                 \n",
      " block5_conv3 (Conv2D)       (None, 3, 6, 512)         2359808   \n",
      "                                                                 \n",
      " block5_pool (MaxPooling2D)  (None, 1, 3, 512)         0         \n",
      "                                                                 \n",
      " flatten_4 (Flatten)         (None, 1536)              0         \n",
      "                                                                 \n",
      " dense_8 (Dense)             (None, 128)               196736    \n",
      "                                                                 \n",
      " dropout_4 (Dropout)         (None, 128)               0         \n",
      "                                                                 \n",
      " dense_9 (Dense)             (None, 1)                 129       \n",
      "                                                                 \n",
      "=================================================================\n",
      "Total params: 14,911,553\n",
      "Trainable params: 196,865\n",
      "Non-trainable params: 14,714,688\n",
      "_________________________________________________________________\n"
     ]
    },
    {
     "name": "stderr",
     "output_type": "stream",
     "text": [
      "C:\\Users\\oeste\\AppData\\Roaming\\Python\\Python39\\site-packages\\keras\\optimizer_v2\\adam.py:105: UserWarning: The `lr` argument is deprecated, use `learning_rate` instead.\n",
      "  super(Adam, self).__init__(name, **kwargs)\n"
     ]
    }
   ],
   "source": [
    "\n",
    "transfer_model_CC = VGG16(include_top=False, input_shape=(56, 106, 3))\n",
    "# mark loaded layers as not trainable\n",
    "for layer in transfer_model_CC.layers:\n",
    "\tlayer.trainable = False\n",
    "# add new classifier layers\n",
    "flat1 = layers.Flatten()(transfer_model_CC.layers[-1].output)\n",
    "class1 = layers.Dense(128, activation='relu', kernel_initializer='he_uniform')(flat1)\n",
    "drop1 = layers.Dropout(0.2)(class1)\n",
    "output = layers.Dense(1, activation='sigmoid')(drop1)\n",
    "# define new model\n",
    "transfer_model_CC = models.Model(inputs=transfer_model_CC.inputs, outputs=output)\n",
    "\n",
    "transfer_model_CC.compile(optimizer=tf.keras.optimizers.Adam(lr=0.0008), loss='binary_crossentropy', metrics=['accuracy'])\n",
    "transfer_model_CC.summary()"
   ]
  },
  {
   "cell_type": "code",
   "execution_count": 30,
   "id": "e1638d42",
   "metadata": {},
   "outputs": [
    {
     "name": "stdout",
     "output_type": "stream",
     "text": [
      "Epoch 1/50\n",
      "7680/7680 [==============================] - 60s 8ms/step - loss: 0.0836 - accuracy: 0.9790 - val_loss: 0.0824 - val_accuracy: 0.9755\n",
      "Epoch 2/50\n",
      "7680/7680 [==============================] - 66s 9ms/step - loss: 0.0510 - accuracy: 0.9863 - val_loss: 0.0539 - val_accuracy: 0.9859\n",
      "Epoch 3/50\n",
      "7680/7680 [==============================] - 63s 8ms/step - loss: 0.0438 - accuracy: 0.9880 - val_loss: 0.0564 - val_accuracy: 0.9865\n",
      "Epoch 4/50\n",
      "7680/7680 [==============================] - 66s 9ms/step - loss: 0.0386 - accuracy: 0.9896 - val_loss: 0.0529 - val_accuracy: 0.9859\n",
      "Epoch 5/50\n",
      "7680/7680 [==============================] - 67s 9ms/step - loss: 0.0338 - accuracy: 0.9902 - val_loss: 0.0545 - val_accuracy: 0.9870\n",
      "Epoch 6/50\n",
      "7680/7680 [==============================] - 68s 9ms/step - loss: 0.0338 - accuracy: 0.9901 - val_loss: 0.0650 - val_accuracy: 0.9859\n",
      "Epoch 7/50\n",
      "7680/7680 [==============================] - 67s 9ms/step - loss: 0.0306 - accuracy: 0.9919 - val_loss: 0.0649 - val_accuracy: 0.9870\n",
      "Epoch 8/50\n",
      "7680/7680 [==============================] - 67s 9ms/step - loss: 0.0274 - accuracy: 0.9917 - val_loss: 0.0571 - val_accuracy: 0.9896\n",
      "Epoch 9/50\n",
      "7680/7680 [==============================] - 64s 8ms/step - loss: 0.0263 - accuracy: 0.9926 - val_loss: 0.0673 - val_accuracy: 0.9875\n"
     ]
    }
   ],
   "source": [
    "transfer_history_CC = transfer_model_CC.fit(x_train_transfer,CC_train, \n",
    "                                            steps_per_epoch=len(x_train_transfer), \n",
    "                                            epochs=50,\n",
    "                                            validation_data=(x_val_transfer,CC_val), \n",
    "                                            validation_steps=len(x_val_transfer), \n",
    "                                            callbacks = tf.keras.callbacks.EarlyStopping(monitor='val_loss', patience=5))"
   ]
  },
  {
   "cell_type": "code",
   "execution_count": 31,
   "id": "4180c41a",
   "metadata": {},
   "outputs": [
    {
     "name": "stdout",
     "output_type": "stream",
     "text": [
      "75/75 [==============================] - 2s 24ms/step - loss: 0.0615 - accuracy: 0.9833\n"
     ]
    },
    {
     "data": {
      "text/plain": [
       "[0.06154831498861313, 0.9833333492279053]"
      ]
     },
     "execution_count": 31,
     "metadata": {},
     "output_type": "execute_result"
    }
   ],
   "source": [
    "transfer_model_CC.evaluate(x_test_transfer,CC_test)"
   ]
  },
  {
   "cell_type": "code",
   "execution_count": 32,
   "id": "ca70ab55",
   "metadata": {},
   "outputs": [
    {
     "data": {
      "image/png": "[encoded data removed]",
      "text/plain": [
       "<Figure size 960x288 with 2 Axes>"
      ]
     },
     "metadata": {
      "needs_background": "light"
     },
     "output_type": "display_data"
    }
   ],
   "source": [
    "fig = plt.figure(figsize=plt.figaspect(0.3))\n",
    "\n",
    "ax = fig.add_subplot(1, 2, 1)\n",
    "ax.plot(transfer_history_CC.history['loss'], label='Training loss')\n",
    "ax.plot(transfer_history_CC.history['val_loss'], label = 'Val loss')\n",
    "plt.xlabel('Epoch')\n",
    "plt.ylabel('Loss')\n",
    "plt.legend()\n",
    "plt.title('Loss, Model CC')\n",
    "\n",
    "ax = fig.add_subplot(1, 2, 2)\n",
    "ax.plot(transfer_history_CC.history['accuracy'], label='Train')\n",
    "ax.plot(transfer_history_CC.history['val_accuracy'], label = 'Val')\n",
    "plt.xlabel('Epoch')\n",
    "plt.ylabel('Accuracy')\n",
    "plt.legend()\n",
    "plt.title('Accuracy, Model CC')\n",
    "\n",
    "plt.show()"
   ]
  },
  {
   "cell_type": "markdown",
   "id": "a930edaa",
   "metadata": {},
   "source": [
    "#### Y Model"
   ]
  },
  {
   "cell_type": "code",
   "execution_count": 33,
   "id": "86f81e35",
   "metadata": {},
   "outputs": [
    {
     "name": "stdout",
     "output_type": "stream",
     "text": [
      "Model: \"model_5\"\n",
      "_________________________________________________________________\n",
      " Layer (type)                Output Shape              Param #   \n",
      "=================================================================\n",
      " input_6 (InputLayer)        [(None, 56, 106, 3)]      0         \n",
      "                                                                 \n",
      " block1_conv1 (Conv2D)       (None, 56, 106, 64)       1792      \n",
      "                                                                 \n",
      " block1_conv2 (Conv2D)       (None, 56, 106, 64)       36928     \n",
      "                                                                 \n",
      " block1_pool (MaxPooling2D)  (None, 28, 53, 64)        0         \n",
      "                                                                 \n",
      " block2_conv1 (Conv2D)       (None, 28, 53, 128)       73856     \n",
      "                                                                 \n",
      " block2_conv2 (Conv2D)       (None, 28, 53, 128)       147584    \n",
      "                                                                 \n",
      " block2_pool (MaxPooling2D)  (None, 14, 26, 128)       0         \n",
      "                                                                 \n",
      " block3_conv1 (Conv2D)       (None, 14, 26, 256)       295168    \n",
      "                                                                 \n",
      " block3_conv2 (Conv2D)       (None, 14, 26, 256)       590080    \n",
      "                                                                 \n",
      " block3_conv3 (Conv2D)       (None, 14, 26, 256)       590080    \n",
      "                                                                 \n",
      " block3_pool (MaxPooling2D)  (None, 7, 13, 256)        0         \n",
      "                                                                 \n",
      " block4_conv1 (Conv2D)       (None, 7, 13, 512)        1180160   \n",
      "                                                                 \n",
      " block4_conv2 (Conv2D)       (None, 7, 13, 512)        2359808   \n",
      "                                                                 \n",
      " block4_conv3 (Conv2D)       (None, 7, 13, 512)        2359808   \n",
      "                                                                 \n",
      " block4_pool (MaxPooling2D)  (None, 3, 6, 512)         0         \n",
      "                                                                 \n",
      " block5_conv1 (Conv2D)       (None, 3, 6, 512)         2359808   \n",
      "                                                                 \n",
      " block5_conv2 (Conv2D)       (None, 3, 6, 512)         2359808   \n",
      "                                                                 \n",
      " block5_conv3 (Conv2D)       (None, 3, 6, 512)         2359808   \n",
      "                                                                 \n",
      " block5_pool (MaxPooling2D)  (None, 1, 3, 512)         0         \n",
      "                                                                 \n",
      " flatten_5 (Flatten)         (None, 1536)              0         \n",
      "                                                                 \n",
      " dense_10 (Dense)            (None, 128)               196736    \n",
      "                                                                 \n",
      " dropout_5 (Dropout)         (None, 128)               0         \n",
      "                                                                 \n",
      " dense_11 (Dense)            (None, 11)                1419      \n",
      "                                                                 \n",
      "=================================================================\n",
      "Total params: 14,912,843\n",
      "Trainable params: 198,155\n",
      "Non-trainable params: 14,714,688\n",
      "_________________________________________________________________\n"
     ]
    }
   ],
   "source": [
    "transfer_model_Y = VGG16(include_top=False, input_shape=(56, 106, 3))\n",
    "# mark loaded layers as not trainable\n",
    "for layer in transfer_model_Y.layers:\n",
    "\tlayer.trainable = False\n",
    "# add new classifier layers\n",
    "flat1 = layers.Flatten()(transfer_model_Y.layers[-1].output)\n",
    "class1 = layers.Dense(128, activation='relu', kernel_initializer='he_uniform')(flat1)\n",
    "drop1 = layers.Dropout(0.2)(class1)\n",
    "output = layers.Dense(11, activation='softmax')(drop1)\n",
    "# define new model\n",
    "transfer_model_Y = models.Model(inputs=transfer_model_Y.inputs, outputs=output)\n",
    "\n",
    "transfer_model_Y.compile(optimizer=tf.keras.optimizers.Adam(lr=0.0008), loss='sparse_categorical_crossentropy', metrics=['accuracy'])\n",
    "transfer_model_Y.summary()"
   ]
  },
  {
   "cell_type": "code",
   "execution_count": 34,
   "id": "2aacbdde",
   "metadata": {},
   "outputs": [
    {
     "name": "stdout",
     "output_type": "stream",
     "text": [
      "Epoch 1/50\n",
      "7680/7680 [==============================] - 65s 8ms/step - loss: 2.0187 - accuracy: 0.2758 - val_loss: 1.7129 - val_accuracy: 0.3974\n",
      "Epoch 2/50\n",
      "7680/7680 [==============================] - 65s 8ms/step - loss: 1.6449 - accuracy: 0.4089 - val_loss: 1.4107 - val_accuracy: 0.5297\n",
      "Epoch 3/50\n",
      "7680/7680 [==============================] - 62s 8ms/step - loss: 1.4826 - accuracy: 0.4723 - val_loss: 1.3764 - val_accuracy: 0.5281\n",
      "Epoch 4/50\n",
      "7680/7680 [==============================] - 64s 8ms/step - loss: 1.4019 - accuracy: 0.5039 - val_loss: 1.3207 - val_accuracy: 0.5385\n",
      "Epoch 5/50\n",
      "7680/7680 [==============================] - 65s 8ms/step - loss: 1.3485 - accuracy: 0.5158 - val_loss: 1.2212 - val_accuracy: 0.5932\n",
      "Epoch 6/50\n",
      "7680/7680 [==============================] - 66s 9ms/step - loss: 1.2865 - accuracy: 0.5431 - val_loss: 1.2060 - val_accuracy: 0.5849\n",
      "Epoch 7/50\n",
      "7680/7680 [==============================] - 63s 8ms/step - loss: 1.2549 - accuracy: 0.5531 - val_loss: 1.1837 - val_accuracy: 0.6094\n",
      "Epoch 8/50\n",
      "7680/7680 [==============================] - 62s 8ms/step - loss: 1.2320 - accuracy: 0.5555 - val_loss: 1.2103 - val_accuracy: 0.5979\n",
      "Epoch 9/50\n",
      "7680/7680 [==============================] - 64s 8ms/step - loss: 1.1964 - accuracy: 0.5703 - val_loss: 1.1499 - val_accuracy: 0.6219\n",
      "Epoch 10/50\n",
      "7680/7680 [==============================] - 64s 8ms/step - loss: 1.1822 - accuracy: 0.5760 - val_loss: 1.1786 - val_accuracy: 0.6203\n",
      "Epoch 11/50\n",
      "7680/7680 [==============================] - 64s 8ms/step - loss: 1.1597 - accuracy: 0.5792 - val_loss: 1.2190 - val_accuracy: 0.6026\n",
      "Epoch 12/50\n",
      "7680/7680 [==============================] - 64s 8ms/step - loss: 1.1376 - accuracy: 0.5944 - val_loss: 1.2117 - val_accuracy: 0.6099\n",
      "Epoch 13/50\n",
      "7680/7680 [==============================] - 63s 8ms/step - loss: 1.1266 - accuracy: 0.5927 - val_loss: 1.1372 - val_accuracy: 0.6286\n",
      "Epoch 14/50\n",
      "7680/7680 [==============================] - 65s 8ms/step - loss: 1.1143 - accuracy: 0.5967 - val_loss: 1.1410 - val_accuracy: 0.6318\n",
      "Epoch 15/50\n",
      "7680/7680 [==============================] - 60s 8ms/step - loss: 1.0870 - accuracy: 0.6092 - val_loss: 1.1535 - val_accuracy: 0.6339\n",
      "Epoch 16/50\n",
      "7680/7680 [==============================] - 63s 8ms/step - loss: 1.0758 - accuracy: 0.6124 - val_loss: 1.1668 - val_accuracy: 0.6161\n",
      "Epoch 17/50\n",
      "7680/7680 [==============================] - 67s 9ms/step - loss: 1.0806 - accuracy: 0.6117 - val_loss: 1.2008 - val_accuracy: 0.6172\n",
      "Epoch 18/50\n",
      "7680/7680 [==============================] - 66s 9ms/step - loss: 1.0689 - accuracy: 0.6124 - val_loss: 1.1637 - val_accuracy: 0.6401\n"
     ]
    }
   ],
   "source": [
    "transfer_history_Y = transfer_model_Y.fit(x_train_transfer,Y_train, \n",
    "                                            steps_per_epoch=len(x_train_transfer), \n",
    "                                            epochs=50,\n",
    "                                            validation_data=(x_val_transfer,Y_val), \n",
    "                                            validation_steps=len(x_val_transfer), \n",
    "                                            callbacks = tf.keras.callbacks.EarlyStopping(monitor='val_loss', patience=5))"
   ]
  },
  {
   "cell_type": "code",
   "execution_count": 35,
   "id": "6212eb3c",
   "metadata": {},
   "outputs": [
    {
     "name": "stdout",
     "output_type": "stream",
     "text": [
      "75/75 [==============================] - 2s 23ms/step - loss: 1.0634 - accuracy: 0.6662\n"
     ]
    },
    {
     "data": {
      "text/plain": [
       "[1.0634398460388184, 0.6662499904632568]"
      ]
     },
     "execution_count": 35,
     "metadata": {},
     "output_type": "execute_result"
    }
   ],
   "source": [
    "transfer_model_Y.evaluate(x_test_transfer,Y_test)"
   ]
  },
  {
   "cell_type": "code",
   "execution_count": 36,
   "id": "a8c9990a",
   "metadata": {},
   "outputs": [
    {
     "data": {
      "image/png": "[encoded data removed]",
      "text/plain": [
       "<Figure size 960x288 with 2 Axes>"
      ]
     },
     "metadata": {
      "needs_background": "light"
     },
     "output_type": "display_data"
    }
   ],
   "source": [
    "fig = plt.figure(figsize=plt.figaspect(0.3))\n",
    "\n",
    "ax = fig.add_subplot(1, 2, 1)\n",
    "ax.plot(transfer_history_Y.history['loss'], label='Training loss')\n",
    "ax.plot(transfer_history_Y.history['val_loss'], label = 'Val loss')\n",
    "plt.xlabel('Epoch')\n",
    "plt.ylabel('Loss')\n",
    "plt.legend()\n",
    "plt.title('Loss, Model Y')\n",
    "\n",
    "ax = fig.add_subplot(1, 2, 2)\n",
    "ax.plot(transfer_history_Y.history['accuracy'], label='Train')\n",
    "ax.plot(transfer_history_Y.history['val_accuracy'], label = 'Val')\n",
    "plt.xlabel('Epoch')\n",
    "plt.ylabel('Accuracy')\n",
    "plt.legend()\n",
    "plt.title('Accuracy, Model Y')\n",
    "\n",
    "plt.show()"
   ]
  },
  {
   "cell_type": "markdown",
   "id": "752c1b4d",
   "metadata": {},
   "source": [
    "#### D Model\n"
   ]
  },
  {
   "cell_type": "code",
   "execution_count": 12,
   "id": "6645d228",
   "metadata": {},
   "outputs": [
    {
     "name": "stdout",
     "output_type": "stream",
     "text": [
      "Model: \"model\"\n",
      "_________________________________________________________________\n",
      " Layer (type)                Output Shape              Param #   \n",
      "=================================================================\n",
      " input_1 (InputLayer)        [(None, 56, 106, 3)]      0         \n",
      "                                                                 \n",
      " block1_conv1 (Conv2D)       (None, 56, 106, 64)       1792      \n",
      "                                                                 \n",
      " block1_conv2 (Conv2D)       (None, 56, 106, 64)       36928     \n",
      "                                                                 \n",
      " block1_pool (MaxPooling2D)  (None, 28, 53, 64)        0         \n",
      "                                                                 \n",
      " block2_conv1 (Conv2D)       (None, 28, 53, 128)       73856     \n",
      "                                                                 \n",
      " block2_conv2 (Conv2D)       (None, 28, 53, 128)       147584    \n",
      "                                                                 \n",
      " block2_pool (MaxPooling2D)  (None, 14, 26, 128)       0         \n",
      "                                                                 \n",
      " block3_conv1 (Conv2D)       (None, 14, 26, 256)       295168    \n",
      "                                                                 \n",
      " block3_conv2 (Conv2D)       (None, 14, 26, 256)       590080    \n",
      "                                                                 \n",
      " block3_conv3 (Conv2D)       (None, 14, 26, 256)       590080    \n",
      "                                                                 \n",
      " block3_pool (MaxPooling2D)  (None, 7, 13, 256)        0         \n",
      "                                                                 \n",
      " block4_conv1 (Conv2D)       (None, 7, 13, 512)        1180160   \n",
      "                                                                 \n",
      " block4_conv2 (Conv2D)       (None, 7, 13, 512)        2359808   \n",
      "                                                                 \n",
      " block4_conv3 (Conv2D)       (None, 7, 13, 512)        2359808   \n",
      "                                                                 \n",
      " block4_pool (MaxPooling2D)  (None, 3, 6, 512)         0         \n",
      "                                                                 \n",
      " block5_conv1 (Conv2D)       (None, 3, 6, 512)         2359808   \n",
      "                                                                 \n",
      " block5_conv2 (Conv2D)       (None, 3, 6, 512)         2359808   \n",
      "                                                                 \n",
      " block5_conv3 (Conv2D)       (None, 3, 6, 512)         2359808   \n",
      "                                                                 \n",
      " block5_pool (MaxPooling2D)  (None, 1, 3, 512)         0         \n",
      "                                                                 \n",
      " flatten (Flatten)           (None, 1536)              0         \n",
      "                                                                 \n",
      " dense (Dense)               (None, 1600)              2459200   \n",
      "                                                                 \n",
      " dropout (Dropout)           (None, 1600)              0         \n",
      "                                                                 \n",
      " dense_1 (Dense)             (None, 800)               1280800   \n",
      "                                                                 \n",
      " dropout_1 (Dropout)         (None, 800)               0         \n",
      "                                                                 \n",
      " dense_2 (Dense)             (None, 256)               205056    \n",
      "                                                                 \n",
      " dropout_2 (Dropout)         (None, 256)               0         \n",
      "                                                                 \n",
      " dense_3 (Dense)             (None, 11)                2827      \n",
      "                                                                 \n",
      "=================================================================\n",
      "Total params: 18,662,571\n",
      "Trainable params: 3,947,883\n",
      "Non-trainable params: 14,714,688\n",
      "_________________________________________________________________\n"
     ]
    },
    {
     "name": "stderr",
     "output_type": "stream",
     "text": [
      "C:\\Users\\oeste\\AppData\\Roaming\\Python\\Python39\\site-packages\\keras\\optimizer_v2\\adam.py:105: UserWarning: The `lr` argument is deprecated, use `learning_rate` instead.\n",
      "  super(Adam, self).__init__(name, **kwargs)\n"
     ]
    }
   ],
   "source": [
    "transfer_model_D = VGG16(include_top=False, input_shape=(56, 106, 3))\n",
    "# mark loaded layers as not trainable\n",
    "for layer in transfer_model_D.layers:\n",
    "\tlayer.trainable = False\n",
    "# add new classifier layers\n",
    "flat1 = layers.Flatten()(transfer_model_D.layers[-1].output)\n",
    "class1 = layers.Dense(128, activation='relu', kernel_initializer='he_uniform')(flat1)\n",
    "drop1 = layers.Dropout(0.2)(class1)\n",
    "output = layers.Dense(11, activation='softmax')(drop1)\n",
    "# define new model\n",
    "transfer_model_D = models.Model(inputs=transfer_model_D.inputs, outputs=output)\n",
    "\n",
    "transfer_model_D.compile(optimizer=tf.keras.optimizers.Adam(lr=0.0008), loss='sparse_categorical_crossentropy', metrics=['accuracy'])\n",
    "transfer_model_D.summary()"
   ]
  },
  {
   "cell_type": "code",
   "execution_count": 24,
   "id": "0f0b02d7",
   "metadata": {},
   "outputs": [
    {
     "name": "stdout",
     "output_type": "stream",
     "text": [
      "Epoch 1/50\n",
      "7680/7680 [==============================] - 77s 10ms/step - loss: 1.4446 - accuracy: 0.4020 - val_loss: 1.2281 - val_accuracy: 0.5052\n",
      "Epoch 2/50\n",
      "7680/7680 [==============================] - 75s 10ms/step - loss: 1.2405 - accuracy: 0.4954 - val_loss: 1.1389 - val_accuracy: 0.5458\n",
      "Epoch 3/50\n",
      "7680/7680 [==============================] - 75s 10ms/step - loss: 1.1703 - accuracy: 0.5232 - val_loss: 1.0896 - val_accuracy: 0.5740\n",
      "Epoch 4/50\n",
      "7680/7680 [==============================] - 75s 10ms/step - loss: 1.1466 - accuracy: 0.5335 - val_loss: 1.1466 - val_accuracy: 0.5552\n",
      "Epoch 5/50\n",
      "7680/7680 [==============================] - 75s 10ms/step - loss: 1.1179 - accuracy: 0.5531 - val_loss: 1.0454 - val_accuracy: 0.5859\n",
      "Epoch 6/50\n",
      "7680/7680 [==============================] - 74s 10ms/step - loss: 1.1247 - accuracy: 0.5454 - val_loss: 1.0916 - val_accuracy: 0.5813\n",
      "Epoch 7/50\n",
      "7680/7680 [==============================] - 71s 9ms/step - loss: 1.1056 - accuracy: 0.5535 - val_loss: 1.0977 - val_accuracy: 0.5828\n",
      "Epoch 8/50\n",
      "7680/7680 [==============================] - 66s 9ms/step - loss: 1.0982 - accuracy: 0.5602 - val_loss: 1.1374 - val_accuracy: 0.5807\n",
      "Epoch 9/50\n",
      "7680/7680 [==============================] - 66s 9ms/step - loss: 1.0656 - accuracy: 0.5777 - val_loss: 1.1068 - val_accuracy: 0.5901\n",
      "Epoch 10/50\n",
      "7680/7680 [==============================] - 69s 9ms/step - loss: 1.0536 - accuracy: 0.5783 - val_loss: 1.0307 - val_accuracy: 0.6156\n",
      "Epoch 11/50\n",
      "7680/7680 [==============================] - 69s 9ms/step - loss: 1.0424 - accuracy: 0.5878 - val_loss: 1.1363 - val_accuracy: 0.5682\n",
      "Epoch 12/50\n",
      "7680/7680 [==============================] - 67s 9ms/step - loss: 1.0182 - accuracy: 0.6000 - val_loss: 1.1934 - val_accuracy: 0.5729\n",
      "Epoch 13/50\n",
      "7680/7680 [==============================] - 67s 9ms/step - loss: 1.0328 - accuracy: 0.5987 - val_loss: 1.2060 - val_accuracy: 0.5823\n",
      "Epoch 14/50\n",
      "7680/7680 [==============================] - 69s 9ms/step - loss: 1.0267 - accuracy: 0.6004 - val_loss: 1.0702 - val_accuracy: 0.6036\n",
      "Epoch 15/50\n",
      "7680/7680 [==============================] - 69s 9ms/step - loss: 1.0268 - accuracy: 0.6059 - val_loss: 1.0493 - val_accuracy: 0.6401\n"
     ]
    }
   ],
   "source": [
    "transfer_history_D = transfer_model_D.fit(x_train_transfer,D_train, \n",
    "                                            steps_per_epoch=len(x_train_transfer), \n",
    "                                            epochs=50,\n",
    "                                            validation_data=(x_val_transfer,D_val), \n",
    "                                            validation_steps=len(x_val_transfer), \n",
    "                                            callbacks = tf.keras.callbacks.EarlyStopping(monitor='val_loss', patience=5))"
   ]
  },
  {
   "cell_type": "code",
   "execution_count": 25,
   "id": "36b64412",
   "metadata": {},
   "outputs": [
    {
     "name": "stdout",
     "output_type": "stream",
     "text": [
      "75/75 [==============================] - 14s 134ms/step - loss: 1.0684 - accuracy: 0.6300\n"
     ]
    },
    {
     "data": {
      "text/plain": [
       "[1.0683971643447876, 0.6299999952316284]"
      ]
     },
     "execution_count": 25,
     "metadata": {},
     "output_type": "execute_result"
    }
   ],
   "source": [
    "transfer_model_D.evaluate(x_test_transfer,D_test)"
   ]
  },
  {
   "cell_type": "code",
   "execution_count": 40,
   "id": "721be325",
   "metadata": {},
   "outputs": [
    {
     "data": {
      "image/png": "[encoded data removed]",
      "text/plain": [
       "<Figure size 960x288 with 2 Axes>"
      ]
     },
     "metadata": {
      "needs_background": "light"
     },
     "output_type": "display_data"
    }
   ],
   "source": [
    "fig = plt.figure(figsize=plt.figaspect(0.3))\n",
    "\n",
    "ax = fig.add_subplot(1, 2, 1)\n",
    "ax.plot(transfer_history_D.history['loss'], label='Training loss')\n",
    "ax.plot(transfer_history_D.history['val_loss'], label = 'Val loss')\n",
    "plt.xlabel('Epoch')\n",
    "plt.ylabel('Loss')\n",
    "plt.legend()\n",
    "plt.title('Loss, Model D')\n",
    "\n",
    "ax = fig.add_subplot(1, 2, 2)\n",
    "ax.plot(transfer_history_D.history['accuracy'], label='Train')\n",
    "ax.plot(transfer_history_D.history['val_accuracy'], label = 'Val')\n",
    "plt.xlabel('Epoch')\n",
    "plt.ylabel('Accuracy')\n",
    "plt.legend()\n",
    "plt.title('Accuracy, Model D')\n",
    "\n",
    "plt.show()"
   ]
  },
  {
   "cell_type": "markdown",
   "id": "45ac6e03",
   "metadata": {
    "jp-MarkdownHeadingCollapsed": true,
    "tags": []
   },
   "source": [
    "## 2.3 Prefered CNN model"
   ]
  },
  {
   "cell_type": "code",
   "execution_count": null,
   "id": "25d6afa7",
   "metadata": {},
   "outputs": [],
   "source": []
  },
  {
   "cell_type": "markdown",
   "id": "1ddcfb1a",
   "metadata": {},
   "source": [
    "## Question 3"
   ]
  },
  {
   "cell_type": "markdown",
   "id": "319a3565",
   "metadata": {
    "jp-MarkdownHeadingCollapsed": true,
    "tags": []
   },
   "source": [
    "### 3.1 Visualization of activation maps"
   ]
  },
  {
   "cell_type": "code",
   "execution_count": null,
   "id": "c8c29945",
   "metadata": {},
   "outputs": [],
   "source": []
  },
  {
   "cell_type": "markdown",
   "id": "a5e5f284",
   "metadata": {
    "jp-MarkdownHeadingCollapsed": true,
    "tags": []
   },
   "source": [
    "### 3.2 Investigating model performance"
   ]
  },
  {
   "cell_type": "code",
   "execution_count": null,
   "id": "b1daf971",
   "metadata": {},
   "outputs": [],
   "source": []
  }
 ],
 "metadata": {
  "kernelspec": {
   "display_name": "Python 3 (ipykernel)",
   "language": "python",
   "name": "python3"
  },
  "language_info": {
   "codemirror_mode": {
    "name": "ipython",
    "version": 3
   },
   "file_extension": ".py",
   "mimetype": "text/x-python",
   "name": "python",
   "nbconvert_exporter": "python",
   "pygments_lexer": "ipython3",
   "version": "3.9.2"
  }
 },
 "nbformat": 4,
 "nbformat_minor": 5
}
