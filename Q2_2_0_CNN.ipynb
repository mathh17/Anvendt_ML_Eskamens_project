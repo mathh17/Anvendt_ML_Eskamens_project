{
 "cells": [
  {
   "cell_type": "markdown",
   "id": "92973f2c-f526-46aa-8962-77c2d998200f",
   "metadata": {
    "tags": []
   },
   "source": [
    "## Question 2.2, a base CNN model"
   ]
  },
  {
   "cell_type": "code",
   "execution_count": 1,
   "id": "9d1a81fc-dff3-4e2b-8a92-bb866bb36d19",
   "metadata": {},
   "outputs": [],
   "source": [
    "!conda activate DS807"
   ]
  },
  {
   "cell_type": "markdown",
   "id": "337e1863-340d-4542-a5a6-541494a76bd6",
   "metadata": {
    "tags": []
   },
   "source": [
    "### Import packages"
   ]
  },
  {
   "cell_type": "code",
   "execution_count": 2,
   "id": "b65478fd-f7e6-42ba-afde-65985da6f0c8",
   "metadata": {},
   "outputs": [],
   "source": [
    "import tensorflow as tf\n",
    "import data_loader as dl\n",
    "import numpy as np\n",
    "from numpy.random import seed\n",
    "import matplotlib.pyplot as plt"
   ]
  },
  {
   "cell_type": "markdown",
   "id": "32e64e45-5017-4b3d-aee7-06248fe85ede",
   "metadata": {
    "tags": []
   },
   "source": [
    "### Import data"
   ]
  },
  {
   "cell_type": "code",
   "execution_count": 3,
   "id": "8b9a7360-1a42-403f-804d-33f6ed05c6e0",
   "metadata": {},
   "outputs": [
    {
     "data": {
      "text/html": [
       "<div>\n",
       "<style scoped>\n",
       "    .dataframe tbody tr th:only-of-type {\n",
       "        vertical-align: middle;\n",
       "    }\n",
       "\n",
       "    .dataframe tbody tr th {\n",
       "        vertical-align: top;\n",
       "    }\n",
       "\n",
       "    .dataframe thead th {\n",
       "        text-align: right;\n",
       "    }\n",
       "</style>\n",
       "<table border=\"1\" class=\"dataframe\">\n",
       "  <thead>\n",
       "    <tr style=\"text-align: right;\">\n",
       "      <th></th>\n",
       "      <th>index</th>\n",
       "      <th>string</th>\n",
       "      <th>CC</th>\n",
       "      <th>D</th>\n",
       "      <th>Y</th>\n",
       "      <th>gray_value</th>\n",
       "      <th>filename</th>\n",
       "    </tr>\n",
       "  </thead>\n",
       "  <tbody>\n",
       "    <tr>\n",
       "      <th>0</th>\n",
       "      <td>1</td>\n",
       "      <td>1836</td>\n",
       "      <td>0</td>\n",
       "      <td>3</td>\n",
       "      <td>6</td>\n",
       "      <td>[[[166.0], [167.0], [166.0], [162.0], [164.0],...</td>\n",
       "      <td>1.jpg</td>\n",
       "    </tr>\n",
       "    <tr>\n",
       "      <th>1</th>\n",
       "      <td>2</td>\n",
       "      <td>1836</td>\n",
       "      <td>0</td>\n",
       "      <td>3</td>\n",
       "      <td>6</td>\n",
       "      <td>[[[169.0], [168.0], [169.0], [170.0], [166.0],...</td>\n",
       "      <td>2.jpg</td>\n",
       "    </tr>\n",
       "    <tr>\n",
       "      <th>2</th>\n",
       "      <td>3</td>\n",
       "      <td>1840</td>\n",
       "      <td>0</td>\n",
       "      <td>4</td>\n",
       "      <td>0</td>\n",
       "      <td>[[[167.0], [169.0], [169.0], [166.0], [165.0],...</td>\n",
       "      <td>3.jpg</td>\n",
       "    </tr>\n",
       "    <tr>\n",
       "      <th>3</th>\n",
       "      <td>4</td>\n",
       "      <td>1840</td>\n",
       "      <td>0</td>\n",
       "      <td>4</td>\n",
       "      <td>0</td>\n",
       "      <td>[[[167.0], [165.0], [165.0], [165.0], [163.0],...</td>\n",
       "      <td>4.jpg</td>\n",
       "    </tr>\n",
       "    <tr>\n",
       "      <th>4</th>\n",
       "      <td>5</td>\n",
       "      <td>1823</td>\n",
       "      <td>0</td>\n",
       "      <td>2</td>\n",
       "      <td>3</td>\n",
       "      <td>[[[62.0], [45.0], [45.0], [37.0], [40.0], [33....</td>\n",
       "      <td>5.jpg</td>\n",
       "    </tr>\n",
       "    <tr>\n",
       "      <th>...</th>\n",
       "      <td>...</td>\n",
       "      <td>...</td>\n",
       "      <td>...</td>\n",
       "      <td>...</td>\n",
       "      <td>...</td>\n",
       "      <td>...</td>\n",
       "      <td>...</td>\n",
       "    </tr>\n",
       "    <tr>\n",
       "      <th>11995</th>\n",
       "      <td>11996</td>\n",
       "      <td>1808</td>\n",
       "      <td>0</td>\n",
       "      <td>0</td>\n",
       "      <td>8</td>\n",
       "      <td>[[[88.0], [62.0], [60.0], [68.0], [61.0], [101...</td>\n",
       "      <td>11996.jpg</td>\n",
       "    </tr>\n",
       "    <tr>\n",
       "      <th>11996</th>\n",
       "      <td>11997</td>\n",
       "      <td>1809</td>\n",
       "      <td>0</td>\n",
       "      <td>0</td>\n",
       "      <td>9</td>\n",
       "      <td>[[[173.0], [171.0], [173.0], [175.0], [174.0],...</td>\n",
       "      <td>11997.jpg</td>\n",
       "    </tr>\n",
       "    <tr>\n",
       "      <th>11997</th>\n",
       "      <td>11998</td>\n",
       "      <td>1840</td>\n",
       "      <td>0</td>\n",
       "      <td>4</td>\n",
       "      <td>0</td>\n",
       "      <td>[[[189.0], [189.0], [189.0], [189.0], [189.0],...</td>\n",
       "      <td>11998.jpg</td>\n",
       "    </tr>\n",
       "    <tr>\n",
       "      <th>11998</th>\n",
       "      <td>11999</td>\n",
       "      <td>1840</td>\n",
       "      <td>0</td>\n",
       "      <td>4</td>\n",
       "      <td>0</td>\n",
       "      <td>[[[191.0], [192.0], [192.0], [192.0], [193.0],...</td>\n",
       "      <td>11999.jpg</td>\n",
       "    </tr>\n",
       "    <tr>\n",
       "      <th>11999</th>\n",
       "      <td>12000</td>\n",
       "      <td>1810</td>\n",
       "      <td>0</td>\n",
       "      <td>1</td>\n",
       "      <td>0</td>\n",
       "      <td>[[[175.0], [177.0], [177.0], [175.0], [174.0],...</td>\n",
       "      <td>12000.jpg</td>\n",
       "    </tr>\n",
       "  </tbody>\n",
       "</table>\n",
       "<p>12000 rows × 7 columns</p>\n",
       "</div>"
      ],
      "text/plain": [
       "       index string CC  D  Y  \\\n",
       "0          1   1836  0  3  6   \n",
       "1          2   1836  0  3  6   \n",
       "2          3   1840  0  4  0   \n",
       "3          4   1840  0  4  0   \n",
       "4          5   1823  0  2  3   \n",
       "...      ...    ... .. .. ..   \n",
       "11995  11996   1808  0  0  8   \n",
       "11996  11997   1809  0  0  9   \n",
       "11997  11998   1840  0  4  0   \n",
       "11998  11999   1840  0  4  0   \n",
       "11999  12000   1810  0  1  0   \n",
       "\n",
       "                                              gray_value   filename  \n",
       "0      [[[166.0], [167.0], [166.0], [162.0], [164.0],...      1.jpg  \n",
       "1      [[[169.0], [168.0], [169.0], [170.0], [166.0],...      2.jpg  \n",
       "2      [[[167.0], [169.0], [169.0], [166.0], [165.0],...      3.jpg  \n",
       "3      [[[167.0], [165.0], [165.0], [165.0], [163.0],...      4.jpg  \n",
       "4      [[[62.0], [45.0], [45.0], [37.0], [40.0], [33....      5.jpg  \n",
       "...                                                  ...        ...  \n",
       "11995  [[[88.0], [62.0], [60.0], [68.0], [61.0], [101...  11996.jpg  \n",
       "11996  [[[173.0], [171.0], [173.0], [175.0], [174.0],...  11997.jpg  \n",
       "11997  [[[189.0], [189.0], [189.0], [189.0], [189.0],...  11998.jpg  \n",
       "11998  [[[191.0], [192.0], [192.0], [192.0], [193.0],...  11999.jpg  \n",
       "11999  [[[175.0], [177.0], [177.0], [175.0], [174.0],...  12000.jpg  \n",
       "\n",
       "[12000 rows x 7 columns]"
      ]
     },
     "execution_count": 3,
     "metadata": {},
     "output_type": "execute_result"
    }
   ],
   "source": [
    "df = dl.load_1d_grays()\n",
    "df"
   ]
  },
  {
   "cell_type": "code",
   "execution_count": 4,
   "id": "386a92d9-4205-4dc9-90de-59dd90dd72aa",
   "metadata": {},
   "outputs": [
    {
     "data": {
      "text/plain": [
       "array([[[166.],\n",
       "        [167.],\n",
       "        [166.],\n",
       "        ...,\n",
       "        [172.],\n",
       "        [171.],\n",
       "        [167.]],\n",
       "\n",
       "       [[165.],\n",
       "        [164.],\n",
       "        [165.],\n",
       "        ...,\n",
       "        [165.],\n",
       "        [166.],\n",
       "        [166.]],\n",
       "\n",
       "       [[167.],\n",
       "        [165.],\n",
       "        [164.],\n",
       "        ...,\n",
       "        [164.],\n",
       "        [165.],\n",
       "        [167.]],\n",
       "\n",
       "       ...,\n",
       "\n",
       "       [[171.],\n",
       "        [171.],\n",
       "        [172.],\n",
       "        ...,\n",
       "        [162.],\n",
       "        [158.],\n",
       "        [161.]],\n",
       "\n",
       "       [[171.],\n",
       "        [171.],\n",
       "        [172.],\n",
       "        ...,\n",
       "        [164.],\n",
       "        [158.],\n",
       "        [158.]],\n",
       "\n",
       "       [[171.],\n",
       "        [171.],\n",
       "        [171.],\n",
       "        ...,\n",
       "        [167.],\n",
       "        [161.],\n",
       "        [149.]]], dtype=float32)"
      ]
     },
     "execution_count": 4,
     "metadata": {},
     "output_type": "execute_result"
    }
   ],
   "source": [
    "df['gray_value'][0]"
   ]
  },
  {
   "cell_type": "markdown",
   "id": "ea4e0412-ac36-4037-a682-dd6227a81e6c",
   "metadata": {
    "tags": []
   },
   "source": [
    "### Extract image grid values drom dataframe"
   ]
  },
  {
   "cell_type": "code",
   "execution_count": 4,
   "id": "6a49c216-5269-4e92-8d1c-959717917439",
   "metadata": {},
   "outputs": [
    {
     "data": {
      "text/plain": [
       "(12000, 56, 106, 1)"
      ]
     },
     "execution_count": 4,
     "metadata": {},
     "output_type": "execute_result"
    }
   ],
   "source": [
    "x_values = np.zeros(shape=(12000,56,106,1))\n",
    "i = 0\n",
    "while i < 12000:\n",
    "    x_values[i] = df['gray_value'][i]\n",
    "    i += 1\n",
    "x_values.shape"
   ]
  },
  {
   "cell_type": "markdown",
   "id": "4eb658ed-d4af-47ed-8a7c-e7cf2a69c8d9",
   "metadata": {
    "tags": []
   },
   "source": [
    "### Normalize image values and typecast labels for use in CNN"
   ]
  },
  {
   "cell_type": "code",
   "execution_count": 5,
   "id": "07e8df3d-ae42-4167-9693-6585ec50b9cb",
   "metadata": {},
   "outputs": [],
   "source": [
    "x_values = x_values/255\n",
    "cc_values = df['CC'].astype(np.uint8)\n",
    "d_values = df['D'].astype(np.uint8)\n",
    "y_values = df['Y'].astype(np.uint8)"
   ]
  },
  {
   "cell_type": "markdown",
   "id": "264ce330-9c32-4a9c-a07e-0d37f3c89c8f",
   "metadata": {
    "tags": []
   },
   "source": [
    "### Split data into training- test- and valdiation sets"
   ]
  },
  {
   "cell_type": "code",
   "execution_count": 6,
   "id": "ea376d82-608d-4bb9-beb6-7fae4c87fbd7",
   "metadata": {},
   "outputs": [
    {
     "name": "stdout",
     "output_type": "stream",
     "text": [
      "x shapes:\n",
      "(7680, 56, 106, 1) (1920, 56, 106, 1) (2400, 56, 106, 1)\n",
      "label shapes:\n",
      "(7680,) (1920,) (2400,)\n"
     ]
    }
   ],
   "source": [
    "from sklearn.model_selection import train_test_split\n",
    "\n",
    "xCC_train, xCC_test, yCC_train, yCC_test = train_test_split(x_values, cc_values, test_size=0.2, random_state=2022)\n",
    "xCC_train, xCC_val, yCC_train, yCC_val = train_test_split(xCC_train, yCC_train, test_size=0.2, random_state=2022)\n",
    "print('x shapes:')\n",
    "print(xCC_train.shape, xCC_val.shape, xCC_test.shape)\n",
    "print('label shapes:')\n",
    "print(yCC_train.shape, yCC_val.shape, yCC_test.shape)"
   ]
  },
  {
   "cell_type": "code",
   "execution_count": 31,
   "id": "96bad1a8-9109-4c35-9317-1458a53b94d7",
   "metadata": {},
   "outputs": [
    {
     "data": {
      "text/plain": [
       "481     False\n",
       "4203    False\n",
       "6110    False\n",
       "1680    False\n",
       "4810     True\n",
       "        ...  \n",
       "1150    False\n",
       "9719     True\n",
       "1764    False\n",
       "7920    False\n",
       "8270    False\n",
       "Length: 1920, dtype: bool"
      ]
     },
     "execution_count": 31,
     "metadata": {},
     "output_type": "execute_result"
    }
   ],
   "source": [
    "yD_val == yY_val"
   ]
  },
  {
   "cell_type": "code",
   "execution_count": 7,
   "id": "3958aa2d-ea0e-4841-87a0-1700afb86694",
   "metadata": {},
   "outputs": [
    {
     "name": "stdout",
     "output_type": "stream",
     "text": [
      "x shapes:\n",
      "(7680, 56, 106, 1) (1920, 56, 106, 1) (2400, 56, 106, 1)\n",
      "label shapes:\n",
      "(7680,) (1920,) (2400,)\n"
     ]
    }
   ],
   "source": [
    "xD_train, xD_test, yD_train, yD_test = train_test_split(x_values, d_values, test_size=0.2, random_state=2022)\n",
    "xD_train, xD_val, yD_train, yD_val = train_test_split(xD_train, yD_train, test_size=0.2, random_state=2022)\n",
    "print('x shapes:')\n",
    "print(xD_train.shape, xD_val.shape, xD_test.shape)\n",
    "print('label shapes:')\n",
    "print(yD_train.shape, yD_val.shape, yD_test.shape)"
   ]
  },
  {
   "cell_type": "code",
   "execution_count": 8,
   "id": "ae885e76-b62b-47af-a269-e9b2e9820de9",
   "metadata": {},
   "outputs": [
    {
     "name": "stdout",
     "output_type": "stream",
     "text": [
      "x shapes:\n",
      "(7680, 56, 106, 1) (1920, 56, 106, 1) (2400, 56, 106, 1)\n",
      "label shapes:\n",
      "(7680,) (1920,) (2400,)\n"
     ]
    }
   ],
   "source": [
    "xY_train, xY_test, yY_train, yY_test = train_test_split(x_values, y_values, test_size=0.2, random_state=2022)\n",
    "xY_train, xY_val, yY_train, yY_val = train_test_split(xY_train, yY_train, test_size=0.2, random_state=2022)\n",
    "print('x shapes:')\n",
    "print(xY_train.shape, xY_val.shape, xY_test.shape)\n",
    "print('label shapes:')\n",
    "print(yY_train.shape, yY_val.shape, yY_test.shape)"
   ]
  },
  {
   "cell_type": "code",
   "execution_count": 18,
   "id": "968e40a6-4419-4264-9ba1-9644e8a4090b",
   "metadata": {},
   "outputs": [
    {
     "data": {
      "text/plain": [
       "(2400,)"
      ]
     },
     "execution_count": 18,
     "metadata": {},
     "output_type": "execute_result"
    }
   ],
   "source": [
    "yCC_test.shape"
   ]
  },
  {
   "cell_type": "code",
   "execution_count": 17,
   "id": "529d189e-8215-4b2d-bf1b-99dd88cb1eca",
   "metadata": {},
   "outputs": [
    {
     "data": {
      "text/plain": [
       "pandas.core.series.Series"
      ]
     },
     "execution_count": 17,
     "metadata": {},
     "output_type": "execute_result"
    }
   ],
   "source": [
    "type(yCC_test)"
   ]
  },
  {
   "cell_type": "code",
   "execution_count": 21,
   "id": "a971386e-e303-4e78-a6b9-558c938ef8b6",
   "metadata": {},
   "outputs": [
    {
     "data": {
      "text/plain": [
       "numpy.uint8"
      ]
     },
     "execution_count": 21,
     "metadata": {},
     "output_type": "execute_result"
    }
   ],
   "source": [
    "type(yCC_test[6894])"
   ]
  },
  {
   "cell_type": "markdown",
   "id": "e31753a8-a6c2-419e-8b89-0a3840e035b2",
   "metadata": {
    "tags": []
   },
   "source": [
    "### A common CNN model architecture"
   ]
  },
  {
   "cell_type": "code",
   "execution_count": 20,
   "id": "70938d38-0349-4d88-bab1-ad019fbf23f7",
   "metadata": {},
   "outputs": [
    {
     "name": "stdout",
     "output_type": "stream",
     "text": [
      "Model: \"sequential_3\"\n",
      "_________________________________________________________________\n",
      "Layer (type)                 Output Shape              Param #   \n",
      "=================================================================\n",
      "conv2d_12 (Conv2D)           (None, 54, 104, 32)       320       \n",
      "_________________________________________________________________\n",
      "conv2d_13 (Conv2D)           (None, 52, 102, 64)       18496     \n",
      "_________________________________________________________________\n",
      "conv2d_14 (Conv2D)           (None, 50, 100, 128)      73856     \n",
      "_________________________________________________________________\n",
      "conv2d_15 (Conv2D)           (None, 48, 98, 256)       295168    \n",
      "_________________________________________________________________\n",
      "flatten_3 (Flatten)          (None, 1204224)           0         \n",
      "_________________________________________________________________\n",
      "dense_6 (Dense)              (None, 64)                77070400  \n",
      "_________________________________________________________________\n",
      "dense_7 (Dense)              (None, 11)                715       \n",
      "=================================================================\n",
      "Total params: 77,458,955\n",
      "Trainable params: 77,458,955\n",
      "Non-trainable params: 0\n",
      "_________________________________________________________________\n"
     ]
    }
   ],
   "source": [
    "model_multiclass = tf.keras.models.Sequential([\n",
    "    tf.keras.layers.Conv2D(filters=32, kernel_size=(3, 3), activation='relu', input_shape=(56, 106, 1)),\n",
    "    tf.keras.layers.Conv2D(filters=64, kernel_size=(3, 3), activation='relu'),\n",
    "    tf.keras.layers.Conv2D(filters=128, kernel_size=(3, 3), activation='relu'),\n",
    "    tf.keras.layers.Conv2D(filters=256, kernel_size=(3, 3), activation='relu'),\n",
    "    tf.keras.layers.Flatten(),\n",
    "    tf.keras.layers.Dense(64, activation='relu'),\n",
    "    tf.keras.layers.Dense(11, activation='softmax'),\n",
    "    ])\n",
    "\n",
    "model_multiclass.compile(\n",
    "    optimizer='adam',\n",
    "    loss= 'sparse_categorical_crossentropy',\n",
    "    metrics=['accuracy'],\n",
    "    ) \n",
    "\n",
    "model_multiclass.summary()"
   ]
  },
  {
   "cell_type": "code",
   "execution_count": 9,
   "id": "f24f2882-5a1f-4405-8b32-cfa9cbe3b3ff",
   "metadata": {},
   "outputs": [
    {
     "name": "stdout",
     "output_type": "stream",
     "text": [
      "Model: \"sequential\"\n",
      "_________________________________________________________________\n",
      "Layer (type)                 Output Shape              Param #   \n",
      "=================================================================\n",
      "conv2d (Conv2D)              (None, 54, 104, 32)       320       \n",
      "_________________________________________________________________\n",
      "conv2d_1 (Conv2D)            (None, 52, 102, 64)       18496     \n",
      "_________________________________________________________________\n",
      "conv2d_2 (Conv2D)            (None, 50, 100, 128)      73856     \n",
      "_________________________________________________________________\n",
      "conv2d_3 (Conv2D)            (None, 48, 98, 256)       295168    \n",
      "_________________________________________________________________\n",
      "flatten (Flatten)            (None, 1204224)           0         \n",
      "_________________________________________________________________\n",
      "dense (Dense)                (None, 64)                77070400  \n",
      "_________________________________________________________________\n",
      "dense_1 (Dense)              (None, 1)                 65        \n",
      "=================================================================\n",
      "Total params: 77,458,305\n",
      "Trainable params: 77,458,305\n",
      "Non-trainable params: 0\n",
      "_________________________________________________________________\n"
     ]
    }
   ],
   "source": [
    "model_CC = tf.keras.models.Sequential([\n",
    "    tf.keras.layers.Conv2D(filters=32, kernel_size=(3, 3), activation='relu', input_shape=(56, 106, 1)),\n",
    "    tf.keras.layers.Conv2D(filters=64, kernel_size=(3, 3), activation='relu'),\n",
    "    tf.keras.layers.Conv2D(filters=128, kernel_size=(3, 3), activation='relu'),\n",
    "    tf.keras.layers.Conv2D(filters=256, kernel_size=(3, 3), activation='relu'),\n",
    "    tf.keras.layers.Flatten(),\n",
    "    tf.keras.layers.Dense(64, activation='relu'),\n",
    "    tf.keras.layers.Dense(1, activation='sigmoid'),\n",
    "    ])\n",
    "\n",
    "model_CC.compile(\n",
    "    optimizer='adam',\n",
    "    loss= 'binary_crossentropy',\n",
    "    metrics=['accuracy'],\n",
    "    ) \n",
    "\n",
    "model_CC.summary()"
   ]
  },
  {
   "cell_type": "markdown",
   "id": "8090c9e5-ea10-4fc3-933d-15b0157eaa56",
   "metadata": {
    "tags": []
   },
   "source": [
    "### Fit the CNN - CC_labels"
   ]
  },
  {
   "cell_type": "code",
   "execution_count": 10,
   "id": "ac1ab068-64b3-4d9f-b618-7ca957daa9f7",
   "metadata": {
    "tags": []
   },
   "outputs": [
    {
     "name": "stdout",
     "output_type": "stream",
     "text": [
      "Epoch 1/5\n",
      "240/240 [==============================] - 10s 27ms/step - loss: 0.1831 - accuracy: 0.9608 - val_loss: 0.1519 - val_accuracy: 0.9667\n",
      "Epoch 2/5\n",
      "240/240 [==============================] - 6s 26ms/step - loss: 0.1500 - accuracy: 0.9680 - val_loss: 0.1381 - val_accuracy: 0.9667\n",
      "Epoch 3/5\n",
      "240/240 [==============================] - 6s 26ms/step - loss: 0.1304 - accuracy: 0.9680 - val_loss: 0.1390 - val_accuracy: 0.9667\n",
      "Epoch 4/5\n",
      "240/240 [==============================] - 6s 26ms/step - loss: 0.0997 - accuracy: 0.9727 - val_loss: 0.1080 - val_accuracy: 0.9677\n",
      "Epoch 5/5\n",
      "240/240 [==============================] - 6s 26ms/step - loss: 0.0891 - accuracy: 0.9743 - val_loss: 0.0906 - val_accuracy: 0.9745\n"
     ]
    }
   ],
   "source": [
    "history = model_CC.fit(xCC_train, yCC_train, validation_data=(xCC_val, yCC_val), epochs=5, verbose=1)"
   ]
  },
  {
   "cell_type": "markdown",
   "id": "6fc805bc-a665-4d8d-be15-01f9991b210d",
   "metadata": {
    "tags": []
   },
   "source": [
    "#### Plot CNN performance on loss and accuracy measures"
   ]
  },
  {
   "cell_type": "code",
   "execution_count": 11,
   "id": "57f8e9f1-6fd7-4d0e-bc8c-e49b3eb1c2e9",
   "metadata": {
    "tags": []
   },
   "outputs": [
    {
     "data": {
      "image/png": "[encoded data removed]",
      "text/plain": [
       "<Figure size 960x288 with 2 Axes>"
      ]
     },
     "metadata": {
      "needs_background": "light"
     },
     "output_type": "display_data"
    }
   ],
   "source": [
    "fig = plt.figure(figsize=plt.figaspect(0.3))\n",
    "\n",
    "ax = fig.add_subplot(1, 2, 1)\n",
    "ax.plot(history.history['loss'], label='Training loss')\n",
    "ax.plot(history.history['val_loss'], label='Val loss')\n",
    "plt.xlabel('Epoch')\n",
    "plt.ylabel('Loss')\n",
    "plt.legend()\n",
    "plt.title('Loss, Class CC')\n",
    "\n",
    "ax = fig.add_subplot(1, 2, 2)\n",
    "ax.plot(history.history['accuracy'], label='Training accuracy')\n",
    "ax.plot(history.history['val_accuracy'], label='Val accuracy')\n",
    "plt.xlabel('Epoch')\n",
    "plt.ylabel('Accuracy')\n",
    "plt.legend()\n",
    "plt.title('Accuracy, Class CC')\n",
    "\n",
    "plt.show()"
   ]
  },
  {
   "cell_type": "markdown",
   "id": "bfc8089d-d76e-4dac-b92c-1e2280984ecb",
   "metadata": {
    "tags": []
   },
   "source": [
    "### Fit the CNN - D_labels"
   ]
  },
  {
   "cell_type": "code",
   "execution_count": 21,
   "id": "864fadc8-4f78-4a51-8675-36d2b0aabbcb",
   "metadata": {
    "tags": []
   },
   "outputs": [
    {
     "name": "stdout",
     "output_type": "stream",
     "text": [
      "Epoch 1/10\n",
      "240/240 [==============================] - 9s 27ms/step - loss: 1.6012 - accuracy: 0.3436 - val_loss: 1.3244 - val_accuracy: 0.4844\n",
      "Epoch 2/10\n",
      "240/240 [==============================] - 6s 26ms/step - loss: 1.2520 - accuracy: 0.5242 - val_loss: 1.2079 - val_accuracy: 0.5516\n",
      "Epoch 3/10\n",
      "240/240 [==============================] - 6s 26ms/step - loss: 0.9515 - accuracy: 0.6518 - val_loss: 0.8605 - val_accuracy: 0.6948\n",
      "Epoch 4/10\n",
      "240/240 [==============================] - 6s 26ms/step - loss: 0.5819 - accuracy: 0.7939 - val_loss: 0.8067 - val_accuracy: 0.7229\n",
      "Epoch 5/10\n",
      "240/240 [==============================] - 6s 26ms/step - loss: 0.2598 - accuracy: 0.9083 - val_loss: 1.0966 - val_accuracy: 0.7078\n",
      "Epoch 6/10\n",
      "240/240 [==============================] - 6s 26ms/step - loss: 0.0909 - accuracy: 0.9702 - val_loss: 1.4210 - val_accuracy: 0.6849\n",
      "Epoch 7/10\n",
      "240/240 [==============================] - 6s 26ms/step - loss: 0.0536 - accuracy: 0.9844 - val_loss: 1.7301 - val_accuracy: 0.7115\n",
      "Epoch 8/10\n",
      "240/240 [==============================] - 6s 26ms/step - loss: 0.0262 - accuracy: 0.9921 - val_loss: 1.9840 - val_accuracy: 0.6911\n",
      "Epoch 9/10\n",
      "240/240 [==============================] - 6s 26ms/step - loss: 0.0374 - accuracy: 0.9891 - val_loss: 1.7481 - val_accuracy: 0.7104\n",
      "Epoch 10/10\n",
      "240/240 [==============================] - 6s 26ms/step - loss: 0.0492 - accuracy: 0.9850 - val_loss: 1.9864 - val_accuracy: 0.6891\n"
     ]
    }
   ],
   "source": [
    "history = model_multiclass.fit(xD_train, yD_train, validation_data=(xD_val, yD_val), epochs=10, verbose=1)"
   ]
  },
  {
   "cell_type": "markdown",
   "id": "47591eae-b613-4771-a9f9-6990f280d460",
   "metadata": {
    "tags": []
   },
   "source": [
    "#### Plot CNN performance on loss and accuracy measures"
   ]
  },
  {
   "cell_type": "code",
   "execution_count": 22,
   "id": "d28a7593-f706-4ff4-a30f-aeebcc427d9c",
   "metadata": {
    "tags": []
   },
   "outputs": [
    {
     "data": {
      "image/png": "[encoded data removed]",
      "text/plain": [
       "<Figure size 960x288 with 2 Axes>"
      ]
     },
     "metadata": {
      "needs_background": "light"
     },
     "output_type": "display_data"
    }
   ],
   "source": [
    "fig = plt.figure(figsize=plt.figaspect(0.3))\n",
    "\n",
    "ax = fig.add_subplot(1, 2, 1)\n",
    "ax.plot(history.history['loss'], label='Training loss')\n",
    "ax.plot(history.history['val_loss'], label='Val loss')\n",
    "plt.xlabel('Epoch')\n",
    "plt.ylabel('Loss')\n",
    "plt.legend()\n",
    "plt.title('Loss, Class D')\n",
    "\n",
    "ax = fig.add_subplot(1, 2, 2)\n",
    "ax.plot(history.history['accuracy'], label='Training accuracy')\n",
    "ax.plot(history.history['val_accuracy'], label='Val accuracy')\n",
    "plt.xlabel('Epoch')\n",
    "plt.ylabel('Accuracy')\n",
    "plt.legend()\n",
    "plt.title('Accuracy, Class D')\n",
    "\n",
    "plt.show()"
   ]
  },
  {
   "cell_type": "markdown",
   "id": "0abbd560-054c-4382-b7c4-e49f24995156",
   "metadata": {
    "tags": []
   },
   "source": [
    "### Fit the CNN - Y_labels"
   ]
  },
  {
   "cell_type": "code",
   "execution_count": 26,
   "id": "6680f5c3-6f18-4c0d-bae6-c23fed09f0f5",
   "metadata": {
    "tags": []
   },
   "outputs": [
    {
     "name": "stdout",
     "output_type": "stream",
     "text": [
      "Epoch 1/10\n",
      "240/240 [==============================] - 6s 26ms/step - loss: 2.3592 - accuracy: 0.1120 - val_loss: 2.3579 - val_accuracy: 0.1292\n",
      "Epoch 2/10\n",
      "240/240 [==============================] - 6s 26ms/step - loss: 2.3592 - accuracy: 0.1120 - val_loss: 2.3581 - val_accuracy: 0.1292\n",
      "Epoch 3/10\n",
      "240/240 [==============================] - 6s 26ms/step - loss: 2.3591 - accuracy: 0.1120 - val_loss: 2.3580 - val_accuracy: 0.1292\n",
      "Epoch 4/10\n",
      "240/240 [==============================] - 6s 26ms/step - loss: 2.3592 - accuracy: 0.1120 - val_loss: 2.3580 - val_accuracy: 0.1292\n",
      "Epoch 5/10\n",
      "240/240 [==============================] - 6s 26ms/step - loss: 2.3592 - accuracy: 0.1120 - val_loss: 2.3580 - val_accuracy: 0.1292\n",
      "Epoch 6/10\n",
      "240/240 [==============================] - 6s 26ms/step - loss: 2.3591 - accuracy: 0.1120 - val_loss: 2.3581 - val_accuracy: 0.1292\n",
      "Epoch 7/10\n",
      "240/240 [==============================] - 6s 26ms/step - loss: 2.3592 - accuracy: 0.1120 - val_loss: 2.3580 - val_accuracy: 0.1292\n",
      "Epoch 8/10\n",
      "240/240 [==============================] - 6s 26ms/step - loss: 2.3592 - accuracy: 0.1120 - val_loss: 2.3579 - val_accuracy: 0.1292\n",
      "Epoch 9/10\n",
      "240/240 [==============================] - 6s 26ms/step - loss: 2.3592 - accuracy: 0.1120 - val_loss: 2.3579 - val_accuracy: 0.1292\n",
      "Epoch 10/10\n",
      "240/240 [==============================] - 6s 26ms/step - loss: 2.3592 - accuracy: 0.1120 - val_loss: 2.3580 - val_accuracy: 0.1292\n"
     ]
    }
   ],
   "source": [
    "history = model_multiclass.fit(xY_train, yY_train, validation_data=(xY_val, yY_val), epochs=10, verbose=1)"
   ]
  },
  {
   "cell_type": "markdown",
   "id": "b616bf16-6c95-460c-95b2-ab28cee06d23",
   "metadata": {
    "tags": []
   },
   "source": [
    "#### Plot CNN performance on loss and accuracy measures"
   ]
  },
  {
   "cell_type": "code",
   "execution_count": 27,
   "id": "92c6d871-98d2-4d93-874c-7892fa0ca6b9",
   "metadata": {
    "tags": []
   },
   "outputs": [
    {
     "data": {
      "image/png": "[encoded data removed]",
      "text/plain": [
       "<Figure size 960x288 with 2 Axes>"
      ]
     },
     "metadata": {
      "needs_background": "light"
     },
     "output_type": "display_data"
    }
   ],
   "source": [
    "fig = plt.figure(figsize=plt.figaspect(0.3))\n",
    "\n",
    "ax = fig.add_subplot(1, 2, 1)\n",
    "ax.plot(history.history['loss'], label='Training loss')\n",
    "ax.plot(history.history['val_loss'], label='Val loss')\n",
    "plt.xlabel('Epoch')\n",
    "plt.ylabel('Loss')\n",
    "plt.legend()\n",
    "plt.title('Loss, Class Y')\n",
    "\n",
    "ax = fig.add_subplot(1, 2, 2)\n",
    "ax.plot(history.history['accuracy'], label='Training accuracy')\n",
    "ax.plot(history.history['val_accuracy'], label='Val accuracy')\n",
    "plt.xlabel('Epoch')\n",
    "plt.ylabel('Accuracy')\n",
    "plt.legend()\n",
    "plt.title('Accuracy, Class Y')\n",
    "\n",
    "plt.show()"
   ]
  }
 ],
 "metadata": {
  "kernelspec": {
   "display_name": "Python 3 (ipykernel)",
   "language": "python",
   "name": "python3"
  },
  "language_info": {
   "codemirror_mode": {
    "name": "ipython",
    "version": 3
   },
   "file_extension": ".py",
   "mimetype": "text/x-python",
   "name": "python",
   "nbconvert_exporter": "python",
   "pygments_lexer": "ipython3",
   "version": "3.9.7"
  }
 },
 "nbformat": 4,
 "nbformat_minor": 5
}
